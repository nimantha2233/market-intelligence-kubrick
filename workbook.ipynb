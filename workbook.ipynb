{
 "cells": [
  {
   "cell_type": "code",
   "execution_count": 4,
   "metadata": {},
   "outputs": [],
   "source": [
    "import pandas as pd\n",
    "import SupportFunctions\n",
    "company_dict = {'company_name':['Capgemini SE', 'AND Digital', 'Dufrain', 'FDM Group (Holdings) Ltd', 'Slalom', 'Tata Consultancy Services Limited', 'Wipro Limited', 'Infosys Limited', 'Credera', 'Infinite Lambda', 'Mesh AI', 'Sparta Global', 'Ten10', 'Fjord Consulting Group', 'BetterGov', 'Cambridge Consultants Limited', 'Capco Limited', 'Cognizant Technology Solutions Corporation', 'IQVIA Holdings Inc', 'Kubrick Group Limited'],\n",
    "        'company_url':['https://www.capgemini.com/','https://www.and.digital/','https://www.dufrain.co.uk/','https://www.fdmgroup.com/','https://www.slalom.com/','https://www.tcs.com','https://www.wipro.com/', 'https://www.infosys.com/', 'https://www.credera.com/en-gb', 'https://infinitelambda.com', 'https://www.mesh-ai.com/', 'https://www.spartaglobal.com', 'https://ten10.com', 'https://fjordconsultinggroup.com', 'https://www.bettergov.co.uk/', 'https://www.cambridgeconsultants.com/', 'https://www.capco.com', 'https://www.cognizant.com', 'https://jobs.iqvia.com/en', 'https://www.kubrickgroup.com'],\n",
    "        'status':['Public','Private','Private','Public','Private','Public','Public', 'Public', 'Private', 'Private', 'Private', 'Private', 'Private', 'Private', 'Private', 'Private', 'Private', 'Public', 'Public', 'Private'],\n",
    "        'ticker':['CAP.PA', '', '', 'FDM.L', '','TCS.BO','WIT', 'INFY', '', '', '', '', '', '', '', '', '', 'CTSH', 'IQV', ''],\n",
    "        'scraper':['scraper_capgemini','scraper_digital','scraper_dufrain','scraper_fdmgroup','scraper_slalom','scraper_tcs','scraper_wipro', 'scraper_infosys', 'scraper_credera', 'scraper_infinitelambda', 'scraper_meshai', 'scraper_spartaglobal', 'scraper_ten10', 'scraper_fjord', 'scraper_bettergov', 'scraper_cambridge', 'scraper_capco', 'scraper_cognizant', 'scraper_iqvia', 'scraper_kubrick']}\n",
    "\n",
    "company_df = pd.DataFrame(company_dict)\n",
    "file_path = r'C:\\Users\\Jack\\Documents\\VS Code\\market-intelligence-kubrick\\Kubrick MI Data.xlsx'\n",
    "excel_file_path = r'C:\\Users\\Jack\\Documents\\VS Code\\market-intelligence-kubrick\\Kubrick MI Diff.xlsx'\n",
    "template_file_path = r'C:\\Users\\Jack\\Documents\\VS Code\\market-intelligence-kubrick\\Template.xlsx'"
   ]
  },
  {
   "cell_type": "code",
   "execution_count": 4,
   "metadata": {},
   "outputs": [
    {
     "name": "stdout",
     "output_type": "stream",
     "text": [
      "Capgemini SE\n"
     ]
    },
    {
     "name": "stderr",
     "output_type": "stream",
     "text": [
      "C:\\Users\\Jack\\AppData\\Local\\Packages\\PythonSoftwareFoundation.Python.3.11_qbz5n2kfra8p0\\LocalCache\\local-packages\\Python311\\site-packages\\openpyxl\\workbook\\child.py:99: UserWarning: Title is more than 31 characters. Some applications may not be able to read the file\n",
      "  warnings.warn(\"Title is more than 31 characters. Some applications may not be able to read the file\")\n",
      "C:\\Users\\Jack\\AppData\\Local\\Packages\\PythonSoftwareFoundation.Python.3.11_qbz5n2kfra8p0\\LocalCache\\local-packages\\Python311\\site-packages\\openpyxl\\workbook\\child.py:99: UserWarning: Title is more than 31 characters. Some applications may not be able to read the file\n",
      "  warnings.warn(\"Title is more than 31 characters. Some applications may not be able to read the file\")\n"
     ]
    },
    {
     "name": "stdout",
     "output_type": "stream",
     "text": [
      "AND Digital\n"
     ]
    },
    {
     "name": "stderr",
     "output_type": "stream",
     "text": [
      "C:\\Users\\Jack\\AppData\\Local\\Packages\\PythonSoftwareFoundation.Python.3.11_qbz5n2kfra8p0\\LocalCache\\local-packages\\Python311\\site-packages\\openpyxl\\workbook\\child.py:99: UserWarning: Title is more than 31 characters. Some applications may not be able to read the file\n",
      "  warnings.warn(\"Title is more than 31 characters. Some applications may not be able to read the file\")\n"
     ]
    },
    {
     "name": "stdout",
     "output_type": "stream",
     "text": [
      "Dufrain\n"
     ]
    },
    {
     "name": "stderr",
     "output_type": "stream",
     "text": [
      "C:\\Users\\Jack\\AppData\\Local\\Packages\\PythonSoftwareFoundation.Python.3.11_qbz5n2kfra8p0\\LocalCache\\local-packages\\Python311\\site-packages\\openpyxl\\workbook\\child.py:99: UserWarning: Title is more than 31 characters. Some applications may not be able to read the file\n",
      "  warnings.warn(\"Title is more than 31 characters. Some applications may not be able to read the file\")\n"
     ]
    },
    {
     "name": "stdout",
     "output_type": "stream",
     "text": [
      "FDM Group (Holdings) Ltd\n"
     ]
    },
    {
     "name": "stderr",
     "output_type": "stream",
     "text": [
      "C:\\Users\\Jack\\AppData\\Local\\Packages\\PythonSoftwareFoundation.Python.3.11_qbz5n2kfra8p0\\LocalCache\\local-packages\\Python311\\site-packages\\openpyxl\\workbook\\child.py:99: UserWarning: Title is more than 31 characters. Some applications may not be able to read the file\n",
      "  warnings.warn(\"Title is more than 31 characters. Some applications may not be able to read the file\")\n"
     ]
    },
    {
     "name": "stdout",
     "output_type": "stream",
     "text": [
      "Slalom\n"
     ]
    },
    {
     "name": "stderr",
     "output_type": "stream",
     "text": [
      "C:\\Users\\Jack\\AppData\\Local\\Packages\\PythonSoftwareFoundation.Python.3.11_qbz5n2kfra8p0\\LocalCache\\local-packages\\Python311\\site-packages\\openpyxl\\workbook\\child.py:99: UserWarning: Title is more than 31 characters. Some applications may not be able to read the file\n",
      "  warnings.warn(\"Title is more than 31 characters. Some applications may not be able to read the file\")\n"
     ]
    },
    {
     "name": "stdout",
     "output_type": "stream",
     "text": [
      "Tata Consultancy Services Limited\n"
     ]
    },
    {
     "name": "stderr",
     "output_type": "stream",
     "text": [
      "C:\\Users\\Jack\\AppData\\Local\\Packages\\PythonSoftwareFoundation.Python.3.11_qbz5n2kfra8p0\\LocalCache\\local-packages\\Python311\\site-packages\\openpyxl\\workbook\\child.py:99: UserWarning: Title is more than 31 characters. Some applications may not be able to read the file\n",
      "  warnings.warn(\"Title is more than 31 characters. Some applications may not be able to read the file\")\n",
      "C:\\Users\\Jack\\AppData\\Local\\Packages\\PythonSoftwareFoundation.Python.3.11_qbz5n2kfra8p0\\LocalCache\\local-packages\\Python311\\site-packages\\openpyxl\\workbook\\child.py:99: UserWarning: Title is more than 31 characters. Some applications may not be able to read the file\n",
      "  warnings.warn(\"Title is more than 31 characters. Some applications may not be able to read the file\")\n"
     ]
    },
    {
     "name": "stdout",
     "output_type": "stream",
     "text": [
      "Wipro Limited\n"
     ]
    },
    {
     "name": "stderr",
     "output_type": "stream",
     "text": [
      "C:\\Users\\Jack\\AppData\\Local\\Packages\\PythonSoftwareFoundation.Python.3.11_qbz5n2kfra8p0\\LocalCache\\local-packages\\Python311\\site-packages\\openpyxl\\workbook\\child.py:99: UserWarning: Title is more than 31 characters. Some applications may not be able to read the file\n",
      "  warnings.warn(\"Title is more than 31 characters. Some applications may not be able to read the file\")\n",
      "C:\\Users\\Jack\\AppData\\Local\\Packages\\PythonSoftwareFoundation.Python.3.11_qbz5n2kfra8p0\\LocalCache\\local-packages\\Python311\\site-packages\\openpyxl\\workbook\\child.py:99: UserWarning: Title is more than 31 characters. Some applications may not be able to read the file\n",
      "  warnings.warn(\"Title is more than 31 characters. Some applications may not be able to read the file\")\n"
     ]
    },
    {
     "name": "stdout",
     "output_type": "stream",
     "text": [
      "Infosys Limited\n"
     ]
    },
    {
     "name": "stderr",
     "output_type": "stream",
     "text": [
      "C:\\Users\\Jack\\AppData\\Local\\Packages\\PythonSoftwareFoundation.Python.3.11_qbz5n2kfra8p0\\LocalCache\\local-packages\\Python311\\site-packages\\openpyxl\\workbook\\child.py:99: UserWarning: Title is more than 31 characters. Some applications may not be able to read the file\n",
      "  warnings.warn(\"Title is more than 31 characters. Some applications may not be able to read the file\")\n",
      "C:\\Users\\Jack\\AppData\\Local\\Packages\\PythonSoftwareFoundation.Python.3.11_qbz5n2kfra8p0\\LocalCache\\local-packages\\Python311\\site-packages\\openpyxl\\workbook\\child.py:99: UserWarning: Title is more than 31 characters. Some applications may not be able to read the file\n",
      "  warnings.warn(\"Title is more than 31 characters. Some applications may not be able to read the file\")\n"
     ]
    },
    {
     "name": "stdout",
     "output_type": "stream",
     "text": [
      "Credera\n"
     ]
    },
    {
     "name": "stderr",
     "output_type": "stream",
     "text": [
      "C:\\Users\\Jack\\AppData\\Local\\Packages\\PythonSoftwareFoundation.Python.3.11_qbz5n2kfra8p0\\LocalCache\\local-packages\\Python311\\site-packages\\openpyxl\\workbook\\child.py:99: UserWarning: Title is more than 31 characters. Some applications may not be able to read the file\n",
      "  warnings.warn(\"Title is more than 31 characters. Some applications may not be able to read the file\")\n"
     ]
    },
    {
     "name": "stdout",
     "output_type": "stream",
     "text": [
      "Infinite Lambda\n"
     ]
    },
    {
     "name": "stderr",
     "output_type": "stream",
     "text": [
      "C:\\Users\\Jack\\AppData\\Local\\Packages\\PythonSoftwareFoundation.Python.3.11_qbz5n2kfra8p0\\LocalCache\\local-packages\\Python311\\site-packages\\openpyxl\\workbook\\child.py:99: UserWarning: Title is more than 31 characters. Some applications may not be able to read the file\n",
      "  warnings.warn(\"Title is more than 31 characters. Some applications may not be able to read the file\")\n"
     ]
    },
    {
     "name": "stdout",
     "output_type": "stream",
     "text": [
      "Mesh AI\n"
     ]
    },
    {
     "name": "stderr",
     "output_type": "stream",
     "text": [
      "C:\\Users\\Jack\\AppData\\Local\\Packages\\PythonSoftwareFoundation.Python.3.11_qbz5n2kfra8p0\\LocalCache\\local-packages\\Python311\\site-packages\\openpyxl\\workbook\\child.py:99: UserWarning: Title is more than 31 characters. Some applications may not be able to read the file\n",
      "  warnings.warn(\"Title is more than 31 characters. Some applications may not be able to read the file\")\n"
     ]
    },
    {
     "name": "stdout",
     "output_type": "stream",
     "text": [
      "Sparta Global\n"
     ]
    },
    {
     "name": "stderr",
     "output_type": "stream",
     "text": [
      "C:\\Users\\Jack\\AppData\\Local\\Packages\\PythonSoftwareFoundation.Python.3.11_qbz5n2kfra8p0\\LocalCache\\local-packages\\Python311\\site-packages\\openpyxl\\workbook\\child.py:99: UserWarning: Title is more than 31 characters. Some applications may not be able to read the file\n",
      "  warnings.warn(\"Title is more than 31 characters. Some applications may not be able to read the file\")\n"
     ]
    },
    {
     "name": "stdout",
     "output_type": "stream",
     "text": [
      "Ten10\n"
     ]
    },
    {
     "name": "stderr",
     "output_type": "stream",
     "text": [
      "C:\\Users\\Jack\\AppData\\Local\\Packages\\PythonSoftwareFoundation.Python.3.11_qbz5n2kfra8p0\\LocalCache\\local-packages\\Python311\\site-packages\\openpyxl\\workbook\\child.py:99: UserWarning: Title is more than 31 characters. Some applications may not be able to read the file\n",
      "  warnings.warn(\"Title is more than 31 characters. Some applications may not be able to read the file\")\n"
     ]
    },
    {
     "name": "stdout",
     "output_type": "stream",
     "text": [
      "Fjord Consulting Group\n"
     ]
    },
    {
     "name": "stderr",
     "output_type": "stream",
     "text": [
      "C:\\Users\\Jack\\AppData\\Local\\Packages\\PythonSoftwareFoundation.Python.3.11_qbz5n2kfra8p0\\LocalCache\\local-packages\\Python311\\site-packages\\openpyxl\\workbook\\child.py:99: UserWarning: Title is more than 31 characters. Some applications may not be able to read the file\n",
      "  warnings.warn(\"Title is more than 31 characters. Some applications may not be able to read the file\")\n"
     ]
    },
    {
     "name": "stdout",
     "output_type": "stream",
     "text": [
      "BetterGov\n"
     ]
    },
    {
     "name": "stderr",
     "output_type": "stream",
     "text": [
      "C:\\Users\\Jack\\AppData\\Local\\Packages\\PythonSoftwareFoundation.Python.3.11_qbz5n2kfra8p0\\LocalCache\\local-packages\\Python311\\site-packages\\openpyxl\\workbook\\child.py:99: UserWarning: Title is more than 31 characters. Some applications may not be able to read the file\n",
      "  warnings.warn(\"Title is more than 31 characters. Some applications may not be able to read the file\")\n"
     ]
    },
    {
     "name": "stdout",
     "output_type": "stream",
     "text": [
      "Cambridge Consultants Limited\n"
     ]
    },
    {
     "name": "stderr",
     "output_type": "stream",
     "text": [
      "C:\\Users\\Jack\\AppData\\Local\\Packages\\PythonSoftwareFoundation.Python.3.11_qbz5n2kfra8p0\\LocalCache\\local-packages\\Python311\\site-packages\\openpyxl\\workbook\\child.py:99: UserWarning: Title is more than 31 characters. Some applications may not be able to read the file\n",
      "  warnings.warn(\"Title is more than 31 characters. Some applications may not be able to read the file\")\n"
     ]
    },
    {
     "name": "stdout",
     "output_type": "stream",
     "text": [
      "Capco Limited\n"
     ]
    },
    {
     "name": "stderr",
     "output_type": "stream",
     "text": [
      "C:\\Users\\Jack\\AppData\\Local\\Packages\\PythonSoftwareFoundation.Python.3.11_qbz5n2kfra8p0\\LocalCache\\local-packages\\Python311\\site-packages\\openpyxl\\workbook\\child.py:99: UserWarning: Title is more than 31 characters. Some applications may not be able to read the file\n",
      "  warnings.warn(\"Title is more than 31 characters. Some applications may not be able to read the file\")\n"
     ]
    },
    {
     "name": "stdout",
     "output_type": "stream",
     "text": [
      "Cognizant Technology Solutions Corporation\n"
     ]
    },
    {
     "name": "stderr",
     "output_type": "stream",
     "text": [
      "C:\\Users\\Jack\\AppData\\Local\\Packages\\PythonSoftwareFoundation.Python.3.11_qbz5n2kfra8p0\\LocalCache\\local-packages\\Python311\\site-packages\\openpyxl\\workbook\\child.py:99: UserWarning: Title is more than 31 characters. Some applications may not be able to read the file\n",
      "  warnings.warn(\"Title is more than 31 characters. Some applications may not be able to read the file\")\n",
      "C:\\Users\\Jack\\AppData\\Local\\Packages\\PythonSoftwareFoundation.Python.3.11_qbz5n2kfra8p0\\LocalCache\\local-packages\\Python311\\site-packages\\openpyxl\\workbook\\child.py:99: UserWarning: Title is more than 31 characters. Some applications may not be able to read the file\n",
      "  warnings.warn(\"Title is more than 31 characters. Some applications may not be able to read the file\")\n"
     ]
    },
    {
     "name": "stdout",
     "output_type": "stream",
     "text": [
      "IQVIA Holdings Inc\n"
     ]
    },
    {
     "name": "stderr",
     "output_type": "stream",
     "text": [
      "C:\\Users\\Jack\\AppData\\Local\\Packages\\PythonSoftwareFoundation.Python.3.11_qbz5n2kfra8p0\\LocalCache\\local-packages\\Python311\\site-packages\\openpyxl\\workbook\\child.py:99: UserWarning: Title is more than 31 characters. Some applications may not be able to read the file\n",
      "  warnings.warn(\"Title is more than 31 characters. Some applications may not be able to read the file\")\n",
      "C:\\Users\\Jack\\AppData\\Local\\Packages\\PythonSoftwareFoundation.Python.3.11_qbz5n2kfra8p0\\LocalCache\\local-packages\\Python311\\site-packages\\openpyxl\\workbook\\child.py:99: UserWarning: Title is more than 31 characters. Some applications may not be able to read the file\n",
      "  warnings.warn(\"Title is more than 31 characters. Some applications may not be able to read the file\")\n"
     ]
    },
    {
     "name": "stdout",
     "output_type": "stream",
     "text": [
      "Kubrick Group Limited\n"
     ]
    },
    {
     "name": "stderr",
     "output_type": "stream",
     "text": [
      "C:\\Users\\Jack\\AppData\\Local\\Packages\\PythonSoftwareFoundation.Python.3.11_qbz5n2kfra8p0\\LocalCache\\local-packages\\Python311\\site-packages\\openpyxl\\workbook\\child.py:99: UserWarning: Title is more than 31 characters. Some applications may not be able to read the file\n",
      "  warnings.warn(\"Title is more than 31 characters. Some applications may not be able to read the file\")\n"
     ]
    }
   ],
   "source": [
    "for company_name in company_dict['company_name']:\n",
    "    print(company_name)\n",
    "    company_url, scraper, status, ticker = SupportFunctions.get_company_metadata(company_name, company_df)\n",
    "\n",
    "    scraped_data = SupportFunctions.get_scraped_company_data(scraper)\n",
    "    yahoo_json = SupportFunctions.get_company_details2(status, ticker)\n",
    "    final_df = SupportFunctions.create_final_df2(company_name, company_url, status, yahoo_json, scraped_data, template_file_path)\n",
    "\n",
    "    old_df = SupportFunctions.read_from_excel(file_path, company_name, template_file_path)\n",
    "\n",
    "    SupportFunctions.log_new_and_modified_rows2(final_df, old_df, company_name, excel_file_path)\n",
    "    SupportFunctions.write_to_excel(final_df, file_path, company_name)\n",
    "\n",
    "    price_report_data=SupportFunctions.get_company_info_pricereport(company_name, ticker, file_path)\n",
    "    SupportFunctions.update_excel(price_report_data, file_path)"
   ]
  },
  {
   "cell_type": "code",
   "execution_count": 78,
   "metadata": {},
   "outputs": [
    {
     "data": {
      "text/html": [
       "<div>\n",
       "<style scoped>\n",
       "    .dataframe tbody tr th:only-of-type {\n",
       "        vertical-align: middle;\n",
       "    }\n",
       "\n",
       "    .dataframe tbody tr th {\n",
       "        vertical-align: top;\n",
       "    }\n",
       "\n",
       "    .dataframe thead th {\n",
       "        text-align: right;\n",
       "    }\n",
       "</style>\n",
       "<table border=\"1\" class=\"dataframe\">\n",
       "  <thead>\n",
       "    <tr style=\"text-align: right;\">\n",
       "      <th></th>\n",
       "      <th>Status</th>\n",
       "      <th>Date of Collection</th>\n",
       "      <th>Company Name</th>\n",
       "      <th>Website_URL</th>\n",
       "      <th>Public/Private</th>\n",
       "      <th>Practices</th>\n",
       "      <th>Practices_URL</th>\n",
       "      <th>Services</th>\n",
       "      <th>Services_URL</th>\n",
       "      <th>Solutions</th>\n",
       "      <th>...</th>\n",
       "      <th>Potential Threats</th>\n",
       "      <th>Long-term Strategy</th>\n",
       "      <th>Recent Activities</th>\n",
       "      <th>Market Responsiveness</th>\n",
       "      <th>Key Executives</th>\n",
       "      <th>Company Culture</th>\n",
       "      <th>Compliance Requirements</th>\n",
       "      <th>Legal Issues/Pending Litigations</th>\n",
       "      <th>Environmental Impact</th>\n",
       "      <th>Social Initiatives</th>\n",
       "    </tr>\n",
       "  </thead>\n",
       "  <tbody>\n",
       "  </tbody>\n",
       "</table>\n",
       "<p>0 rows × 53 columns</p>\n",
       "</div>"
      ],
      "text/plain": [
       "Empty DataFrame\n",
       "Columns: [Status, Date of Collection, Company Name, Website_URL, Public/Private, Practices, Practices_URL, Services, Services_URL, Solutions, Solutions_URL, Previous Close, 52 Week Range, Sector, Industry, Full Time Employees, Market Cap, Fiscal Year Ends, Revenue, EBITDA, Company NPS, Company Glassdoor, MI Summary, Competitive Threat Level, Market Share, Pricing Strategy, Target Market_1, Target Market_2, Channels-to-Market_1 (Social Media), Channels-to-Market_2 (Sales), Channels-to-Market_3 (Promotions/Sponsorship), Market Differentiation (USP), Revenue Trends, Profitability, Growth Rate, Revenue per Employee, Customer Satisfaction, Reviews & Ratings, Customer Complaints, Innovation, Tech Advancements, Patents & Intellectual Property, Emerging Trends, Potential Threats, Long-term Strategy, Recent Activities, Market Responsiveness, Key Executives, Company Culture, Compliance Requirements, Legal Issues/Pending Litigations, Environmental Impact, Social Initiatives]\n",
       "Index: []\n",
       "\n",
       "[0 rows x 53 columns]"
      ]
     },
     "execution_count": 78,
     "metadata": {},
     "output_type": "execute_result"
    }
   ],
   "source": [
    "df1 = final_df.copy()\n",
    "df2 = old_df.copy()\n",
    "\n",
    "cols = list(df1.columns)\n",
    "for column in cols:\n",
    "    df1[column] = df1[column].astype(str)\n",
    "\n",
    "df1['Status'] = 'Added'\n",
    "\n",
    "for column in cols:\n",
    "    df2[column] = df2[column].astype(str)\n",
    "\n",
    "df2['Status'] = 'Removed'\n",
    "\n",
    "new_df = pd.concat([df1, df2]).reset_index(drop=True)\n",
    "new_df.set_index('Status', inplace=True)\n",
    "new_df['Date of Collection'] = pd.to_datetime(new_df['Date of Collection'])\n",
    "#df = pd.DataFrame(new_df.groupby(cols).value_counts())\n",
    "\n",
    "new_df.drop_duplicates(subset=cols, keep=False,inplace=True)\n",
    "new_df.reset_index(inplace=True)\n",
    "new_df\n",
    "\n"
   ]
  },
  {
   "cell_type": "code",
   "execution_count": 1,
   "metadata": {},
   "outputs": [],
   "source": [
    "from collections import defaultdict\n",
    "import requests\n",
    "from bs4 import BeautifulSoup\n",
    "\n",
    "def clean_url(url, home_url):\n",
    "    if home_url in url:\n",
    "        return url\n",
    "    else:\n",
    "        return home_url + url\n",
    "    \n",
    "def scraper_slalom():\n",
    "    company_dict = defaultdict(list)\n",
    "    home_url = 'https://www.slalom.com'\n",
    "    url = 'https://www.slalom.com/gb/en/services'\n",
    "    r = requests.get(url)\n",
    "\n",
    "    soup = BeautifulSoup(r.content, 'html5lib') # If this line causes an error, run 'pip install html5lib' or install html5lib \n",
    "\n",
    "    table_practises = soup.find('div', attrs = {'id':'services-overview-deaa04af28'})\n",
    "    practises = [row.span.text for row in table_practises.findAll('a', attrs = {'class':'cmp-image__link'})]\n",
    "    links = [clean_url(row.get('href'), home_url) for row in table_practises.findAll('a', attrs = {'class':'cmp-image__link'})]\n",
    "\n",
    "    for i in range(len(practises)):\n",
    "        url = links[i]\n",
    "        r = requests.get(url)\n",
    "        print(url)\n",
    "        soup = BeautifulSoup(r.content, 'html5lib') # If this line causes an error, run 'pip install html5lib' or install html5lib \n",
    "        table_expertise = soup.find('div', attrs = {'id':'expertise'})\n",
    "        expertise = [row.text for row in table_expertise.findAll('h4')]\n",
    "        solution = [row.text for row in table_expertise.findAll('p')]\n",
    "        for j in range(len(expertise)):\n",
    "            company_dict['Practices'].append(practises[i])\n",
    "            company_dict['Practices_URL'].append(url)\n",
    "            company_dict['Services'].append(expertise[j])\n",
    "            company_dict['Services_URL'].append(url)\n",
    "            company_dict['Solutions'].append(solution[j])\n",
    "            company_dict['Solutions_URL'].append(url)\n",
    "\n",
    "    return pd.DataFrame(company_dict)"
   ]
  },
  {
   "cell_type": "code",
   "execution_count": 26,
   "metadata": {},
   "outputs": [
    {
     "name": "stdout",
     "output_type": "stream",
     "text": [
      "https://www.partnerbase.com/capgemini-consulting\n",
      "['MySQL', 'Hewlett Packard Enterprise', 'Salesforce', 'Amazon Web Services', 'Oracle', 'Google', 'Adobe', 'Microsoft', 'Red Hat', 'VMware', 'Dell', 'Stripe', 'IBM', 'Esri', 'Fortinet', 'Magento', 'SAP', 'SAS', 'Intel', 'Tenable', 'Nutanix', 'ServiceNow', 'Cisco', 'Snowflake', 'Qlik']\n",
      "https://www.partnerbase.com/fdm-group\n",
      "['Murex']\n",
      "https://www.partnerbase.com/slalom\n",
      "['Salesforce', 'Amazon Web Services', 'Google', 'Adobe', 'Microsoft', 'Facebook', 'Stripe', 'SAS', 'Snowflake', 'Qlik', 'Acquia', 'AgilOne', 'Netsuite', 'Tableau Software', 'Workday', 'Optimizely', 'Looker', 'MuleSoft', 'Docusign', 'Drupal', 'Sitecore', 'Tealium', 'Veeva Systems', 'Box', 'Alteryx']\n",
      "https://www.partnerbase.com/wipro-limited\n",
      "['MySQL', 'Hewlett Packard Enterprise', 'Salesforce', 'Amazon Web Services', 'Oracle', 'Google', 'HubSpot', 'Adobe', 'Microsoft', 'Red Hat', 'VMware', 'Dell', 'IBM', 'Esri', 'Fortinet', 'Magento', 'SAP', 'Symantec CloudSOC', 'SAS', 'Intel', 'Tenable', 'Nutanix', 'ServiceNow', 'Cisco', 'Snowflake']\n",
      "https://www.partnerbase.com/tata-consultancy-services-ltd\n",
      "['MySQL', 'Hewlett Packard Enterprise', 'Salesforce', 'Amazon Web Services', 'Oracle', 'Google', 'Adobe', 'Microsoft', 'Red Hat', 'VMware', 'Dell', 'IBM', 'Fortinet', 'Magento', 'SAP', 'Symantec CloudSOC', 'SAS', 'Zendesk', 'Nutanix', 'ServiceNow', 'Cisco', 'Snowflake', 'Siemens PLM', 'Qlik', 'Quest Software']\n"
     ]
    }
   ],
   "source": [
    "import requests\n",
    "from bs4 import BeautifulSoup\n",
    "company_names = ['Capgemini SE', 'FDM Group (Holdings) Ltd', 'Slalom', 'Tata Consultancy Services Limited', 'Wipro Limited']\n",
    "company_urls = ['https://www.capgemini.com/','https://www.fdmgroup.com/','https://www.slalom.com/','https://www.tcs.com','https://www.wipro.com/']\n",
    "glassdoor_reviews = ['3.8 on Glassdoor (66493 total reviews)','3.2 on Glassdoor (3350 total reviews)','3.9 on Glassdoor (2881 total reviews)','3.7 on Glassdoor (136742 total reviews)','3.7 on Glassdoor (57510 total reviews)']\n",
    "consultancy_rates = ['£312 a unit a day','£290 to £600 a unit a day','£636 to £1,938 a unit a day','£127 a unit a day','£120 to £1,300 a unit a day']\n",
    "my_dict = {}\n",
    "for url in ['https://www.partnerbase.com/capgemini-consulting','https://www.partnerbase.com/fdm-group','https://www.partnerbase.com/slalom','https://www.partnerbase.com/wipro-limited','https://www.partnerbase.com/tata-consultancy-services-ltd']:\n",
    "    r = requests.get(url)\n",
    "    soup = BeautifulSoup(r.content, 'html5lib') # If this line causes an error, run 'pip install html5lib' or install html5lib \n",
    "    table_partners = soup.findAll('td', attrs = {'class':'c-partnerships-table__company-cell'})\n",
    "    my_dict[url] = [partner.text.replace('  View Company ', '') for partner in table_partners]\n",
    "\n",
    "for key in my_dict.keys():\n",
    "    print(key)\n",
    "    print(my_dict[key])\n"
   ]
  },
  {
   "cell_type": "code",
   "execution_count": 73,
   "metadata": {},
   "outputs": [],
   "source": [
    "\n",
    "def company_intel_table(df, company_name, url, file_path=\"kubrick_mi_company_intel\"):\n",
    "    import os\n",
    "    from datetime import datetime\n",
    "    from collections import defaultdict\n",
    "    import numpy as np\n",
    "    if not os.path.exists(f'{file_path}.xlsx'):\n",
    "        empty_df = pd.DataFrame(columns=['Date Collected', 'Company Name', 'URL', 'Practice Ecosystems (Data, AI etc)', \n",
    "                                         'Practice List (delimited)', 'Training Program Duration', 'Tech Partnerships',\n",
    "                                         'Anecdotal Views of Quality', 'Consultant Pricing'])  # Assuming these are your column names\n",
    "        empty_df.to_excel(f'{file_path}.xlsx', engine='openpyxl', index=False)\n",
    "\n",
    "    #try:\n",
    "    data = pd.read_csv(f'{file_path}.csv', encoding='utf-8')\n",
    "    #except UnicodeDecodeError:\n",
    "    #    data = pd.read_csv(file_path, encoding='ISO-8859-1')\n",
    "\n",
    "    data_as_dict = defaultdict(list)\n",
    "\n",
    "    company_names_column = data.iloc[:, 1]\n",
    "    company_exists = company_name in company_names_column.values\n",
    "    #print(1)\n",
    "    data_as_dict[\"Date Collected\"].append(datetime.now().strftime(\"%Y-%m-%d\"))\n",
    "    data_as_dict[\"Company Name\"].append(company_name)\n",
    "    data_as_dict[\"URL\"].append(url)\n",
    "\n",
    "    col_list = ['Practices', 'Services', 'Solutions']\n",
    "    col_list2 = ['Practices', 'Services', 'Solutions']\n",
    "    ecosystems_string = ''\n",
    "    practices_string = ''\n",
    "    #print(2)\n",
    "    for column in col_list:\n",
    "        col_list2.pop(0)\n",
    "        set1 = set({data for data in df[column] if data != f'No {column} Data Available'})\n",
    "        if set1 != set():\n",
    "            ecosystems_list = list(set1)\n",
    "            ecosystems_string = ', '.join(ecosystems_list)\n",
    "            break\n",
    "    #print(3)\n",
    "    for column in col_list2:\n",
    "        set2 = set({data for data in df[column] if data != f'No {column} Data Available'})\n",
    "        #print(set2)\n",
    "        if set2 != set():\n",
    "            practices_list = list(set2)\n",
    "            practices_string = ', '.join(practices_list)\n",
    "            break\n",
    "    #print(4)\n",
    "    data_as_dict[\"Practice Ecosystems (Data, AI etc)\"].append(ecosystems_string)\n",
    "    data_as_dict[\"Practice List (delimited)\"].append(practices_string)\n",
    "\n",
    "    training_duration_index = data.columns.get_loc(\"Training Program Duration\")\n",
    "    #print(5)\n",
    "    if company_exists:\n",
    "\n",
    "        company_index = company_names_column[company_names_column == company_name].index[0]\n",
    "\n",
    "        for col in data.columns[training_duration_index:]:\n",
    "            data_as_dict[col].append(data.at[company_index, col])\n",
    "        \n",
    "        for key, value in data_as_dict.items():\n",
    "            #print(key)\n",
    "            #print(value)\n",
    "            data.at[company_index, key] = value[0]\n",
    "        \n",
    "    else:\n",
    "        for col in data.columns[training_duration_index:]:\n",
    "            if col not in data_as_dict:\n",
    "                data_as_dict[col].append(\"To be completed manually\")\n",
    "        \n",
    "        new_data = pd.DataFrame(data_as_dict)\n",
    "        data = pd.concat([data, new_data], ignore_index=True)\n",
    "    \n",
    "    for column in data.columns[3:]:\n",
    "        data[column] = [f'No {column} Available' if item in ('', ' ', None, 'nan', np.nan) else item for item in data[column]]\n",
    "    data.dropna(inplace=True)\n",
    "    data.reset_index(drop=True, inplace=True)\n",
    "    SupportFunctions.write_to_excel(data, f'{file_path}.xlsx', company_name)\n",
    "    \n",
    "    return"
   ]
  },
  {
   "cell_type": "code",
   "execution_count": 36,
   "metadata": {},
   "outputs": [],
   "source": [
    "company_intel_table(final_df, company_name, company_url)"
   ]
  },
  {
   "cell_type": "code",
   "execution_count": 74,
   "metadata": {},
   "outputs": [
    {
     "name": "stdout",
     "output_type": "stream",
     "text": [
      "Capgemini SE\n",
      "AND Digital\n"
     ]
    },
    {
     "name": "stderr",
     "output_type": "stream",
     "text": [
      "C:\\Users\\Jack\\AppData\\Local\\Temp\\ipykernel_285716\\3474794811.py:62: FutureWarning: Setting an item of incompatible dtype is deprecated and will raise an error in a future version of pandas. Value 'https://www.capgemini.com/' has dtype incompatible with float64, please explicitly cast to a compatible dtype first.\n",
      "  data.at[company_index, key] = value[0]\n",
      "C:\\Users\\Jack\\AppData\\Local\\Temp\\ipykernel_285716\\3474794811.py:62: FutureWarning: Setting an item of incompatible dtype is deprecated and will raise an error in a future version of pandas. Value 'Cloud, Customer first, Intelligent Industry, Enterprise management, Data and artificial intelligence, Cybersecurity, Sustainability' has dtype incompatible with float64, please explicitly cast to a compatible dtype first.\n",
      "  data.at[company_index, key] = value[0]\n",
      "C:\\Users\\Jack\\AppData\\Local\\Temp\\ipykernel_285716\\3474794811.py:62: FutureWarning: Setting an item of incompatible dtype is deprecated and will raise an error in a future version of pandas. Value 'ESG management and reporting, Sustainable technology, Sustainable operations, Commit, Cloud for intelligent industry, Digital core, Intelligent operations, Accelerate your industry, Protect, Cloud for customer first, Capgemini is platinum sponsor of the railway industry association’s innovation conference 2023, Enterprise Sustainability Proposition, Customer experience, Enterprise transformation, Continuous business reinvention, Intelligent business operations, Transform your organisation, Application development and management, Define, Sap Customer Experience (cx), Get the data-powered advantage, Cloud for enterprise management, People experience, Intelligent products and services, Generative AI, Defend, Sustainable products, Enterprise service management, Sustainability strategy and governance' has dtype incompatible with float64, please explicitly cast to a compatible dtype first.\n",
      "  data.at[company_index, key] = value[0]\n",
      "C:\\Users\\Jack\\AppData\\Local\\Packages\\PythonSoftwareFoundation.Python.3.11_qbz5n2kfra8p0\\LocalCache\\local-packages\\Python311\\site-packages\\openpyxl\\workbook\\child.py:99: UserWarning: Title is more than 31 characters. Some applications may not be able to read the file\n",
      "  warnings.warn(\"Title is more than 31 characters. Some applications may not be able to read the file\")\n",
      "C:\\Users\\Jack\\AppData\\Local\\Temp\\ipykernel_285716\\3474794811.py:62: FutureWarning: Setting an item of incompatible dtype is deprecated and will raise an error in a future version of pandas. Value 'https://www.and.digital/' has dtype incompatible with float64, please explicitly cast to a compatible dtype first.\n",
      "  data.at[company_index, key] = value[0]\n",
      "C:\\Users\\Jack\\AppData\\Local\\Temp\\ipykernel_285716\\3474794811.py:62: FutureWarning: Setting an item of incompatible dtype is deprecated and will raise an error in a future version of pandas. Value 'Mobile App Development, Experience Design, Product Strategy, Consulting, Software Engineering, Cloud, Data, AI & Tools, Equip, Public Sector' has dtype incompatible with float64, please explicitly cast to a compatible dtype first.\n",
      "  data.at[company_index, key] = value[0]\n",
      "C:\\Users\\Jack\\AppData\\Local\\Temp\\ipykernel_285716\\3474794811.py:62: FutureWarning: Setting an item of incompatible dtype is deprecated and will raise an error in a future version of pandas. Value 'Content design, Product-oriented ways of working, Quality assurance, Engineering data platforms for growth, Enablement, AI governance & security, Mobile app prototyping & design, Data-driven strategy & transformation, Websites & web apps, Performance engineering, Propositions, LLM & NLP training, Efficiency, API & middleware development, Prototyping & design, User experience prototyping, AI prototyping & proofs of concept, E-commerce, Cloud automation, Platform engineering, Mobile app interface design & build, Cloud migration, Machine learning, Service design, Cloud security, Business case development, User story creation, AI use case development, Data, Mobile app development (native & hybrid), Coding assistance, User interface design & build, Cloud strategy, Solution architecture, Customer & user testing, Delivery, Solution architecture & microservices, Agile data product development, Data insights that drive action, User research' has dtype incompatible with float64, please explicitly cast to a compatible dtype first.\n",
      "  data.at[company_index, key] = value[0]\n",
      "C:\\Users\\Jack\\AppData\\Local\\Packages\\PythonSoftwareFoundation.Python.3.11_qbz5n2kfra8p0\\LocalCache\\local-packages\\Python311\\site-packages\\openpyxl\\workbook\\child.py:99: UserWarning: Title is more than 31 characters. Some applications may not be able to read the file\n",
      "  warnings.warn(\"Title is more than 31 characters. Some applications may not be able to read the file\")\n"
     ]
    },
    {
     "name": "stdout",
     "output_type": "stream",
     "text": [
      "Dufrain\n",
      "FDM Group (Holdings) Ltd\n"
     ]
    },
    {
     "name": "stderr",
     "output_type": "stream",
     "text": [
      "C:\\Users\\Jack\\AppData\\Local\\Temp\\ipykernel_285716\\3474794811.py:62: FutureWarning: Setting an item of incompatible dtype is deprecated and will raise an error in a future version of pandas. Value 'https://www.dufrain.co.uk/' has dtype incompatible with float64, please explicitly cast to a compatible dtype first.\n",
      "  data.at[company_index, key] = value[0]\n",
      "C:\\Users\\Jack\\AppData\\Local\\Temp\\ipykernel_285716\\3474794811.py:62: FutureWarning: Setting an item of incompatible dtype is deprecated and will raise an error in a future version of pandas. Value 'Data Strategy & Architecture, Business Intelligence & Data Analytics Service, Data Management, Data Engineering, Migration & Cloud Adoption' has dtype incompatible with float64, please explicitly cast to a compatible dtype first.\n",
      "  data.at[company_index, key] = value[0]\n",
      "C:\\Users\\Jack\\AppData\\Local\\Temp\\ipykernel_285716\\3474794811.py:62: FutureWarning: Setting an item of incompatible dtype is deprecated and will raise an error in a future version of pandas. Value 'Data Strategy, SaS Training, Data Capability Assessment, BI Analytics, Cloud Data Engineering Services, Data Migration Services, Data Pipelines, Data Driven Culture, Data Architecture Consulting Services, Architecture, Data Strategy Consulting Solutions, Data Quality Management Solutions, BI Reporting Tool Implementation, Regulatory Projects, Data Dashboards & Visualisations, Big Data Storage Solutions, Automated Reporting in Azure, Analytics Maturity Assessment, Data Engineering, Data Governance Solutions, Inference and Advanced Analytics in AWS, Data Warehousing Solutions' has dtype incompatible with float64, please explicitly cast to a compatible dtype first.\n",
      "  data.at[company_index, key] = value[0]\n",
      "C:\\Users\\Jack\\AppData\\Local\\Packages\\PythonSoftwareFoundation.Python.3.11_qbz5n2kfra8p0\\LocalCache\\local-packages\\Python311\\site-packages\\openpyxl\\workbook\\child.py:99: UserWarning: Title is more than 31 characters. Some applications may not be able to read the file\n",
      "  warnings.warn(\"Title is more than 31 characters. Some applications may not be able to read the file\")\n",
      "C:\\Users\\Jack\\AppData\\Local\\Temp\\ipykernel_285716\\3474794811.py:62: FutureWarning: Setting an item of incompatible dtype is deprecated and will raise an error in a future version of pandas. Value 'https://www.fdmgroup.com/' has dtype incompatible with float64, please explicitly cast to a compatible dtype first.\n",
      "  data.at[company_index, key] = value[0]\n",
      "C:\\Users\\Jack\\AppData\\Local\\Temp\\ipykernel_285716\\3474794811.py:62: FutureWarning: Setting an item of incompatible dtype is deprecated and will raise an error in a future version of pandas. Value 'Risk, Regulation & Compliance, IT Operations, Change & Transformation, Software Engineering, Data & Analytics' has dtype incompatible with float64, please explicitly cast to a compatible dtype first.\n",
      "  data.at[company_index, key] = value[0]\n",
      "C:\\Users\\Jack\\AppData\\Local\\Temp\\ipykernel_285716\\3474794811.py:62: FutureWarning: Setting an item of incompatible dtype is deprecated and will raise an error in a future version of pandas. Value 'Business Intelligence, AWS, Data Governance, Portfolio, Programme & Project Management, Data Science, Technical Operations & Security Operations  , Regulatory Change Management, PMO, Development, Change Management, Agile Delivery, Quality Control & Assurance , SRE, Cloud Engineering, Software testing, Data Engineering, Risk Domain SME, DevOps, Business Analysis, Management, Operational Domain Holistic Analysis, Anti-Financial Crime, Product Management' has dtype incompatible with float64, please explicitly cast to a compatible dtype first.\n",
      "  data.at[company_index, key] = value[0]\n",
      "C:\\Users\\Jack\\AppData\\Local\\Packages\\PythonSoftwareFoundation.Python.3.11_qbz5n2kfra8p0\\LocalCache\\local-packages\\Python311\\site-packages\\openpyxl\\workbook\\child.py:99: UserWarning: Title is more than 31 characters. Some applications may not be able to read the file\n",
      "  warnings.warn(\"Title is more than 31 characters. Some applications may not be able to read the file\")\n"
     ]
    },
    {
     "name": "stdout",
     "output_type": "stream",
     "text": [
      "Slalom\n",
      "Tata Consultancy Services Limited\n"
     ]
    },
    {
     "name": "stderr",
     "output_type": "stream",
     "text": [
      "C:\\Users\\Jack\\AppData\\Local\\Temp\\ipykernel_285716\\3474794811.py:62: FutureWarning: Setting an item of incompatible dtype is deprecated and will raise an error in a future version of pandas. Value 'https://www.slalom.com/' has dtype incompatible with float64, please explicitly cast to a compatible dtype first.\n",
      "  data.at[company_index, key] = value[0]\n",
      "C:\\Users\\Jack\\AppData\\Local\\Temp\\ipykernel_285716\\3474794811.py:62: FutureWarning: Setting an item of incompatible dtype is deprecated and will raise an error in a future version of pandas. Value 'Strategy, Operations, Planning & delivery, Organizational change & talent, Experience strategy & design, Systems implementation, Cloud, Digital product building, Privacy & security, Data, Artificial Intelligence, Sustainability' has dtype incompatible with float64, please explicitly cast to a compatible dtype first.\n",
      "  data.at[company_index, key] = value[0]\n",
      "C:\\Users\\Jack\\AppData\\Local\\Temp\\ipykernel_285716\\3474794811.py:62: FutureWarning: Setting an item of incompatible dtype is deprecated and will raise an error in a future version of pandas. Value 'Risk & governance , Brand strategy, Agile delivery & coaching , Business applications, Data strategy, Strategy & impact tracking , Intelligent products , Technology strategy , Lean portfolio management , Literacy & analytics, Migration & modernization, ESG digital transformation , Customer & employee experience , Value chain decarbonization, Customer applications, Advertising & marketing transformation , Business strategy, Business transformation, Product strategy, design & innovation , Product engineering ,  Change management, Engineering & architecture, Infrastructure, Security, Generative AI , Service design, Contact center transformation, Machine learning , Optimization, Platform engineering , Mergers & acquisitions,  Customer strategy, Supply chain, manufacturing & procurement, Operating model design, Integration, Data privacy, Product management , Project & program management, Culture transformation, Data engineering & machine learning , Process improvement, Governance, risk & compliance, Innovation & emerging technology strategy , Management & governance, Talent development & learning' has dtype incompatible with float64, please explicitly cast to a compatible dtype first.\n",
      "  data.at[company_index, key] = value[0]\n",
      "C:\\Users\\Jack\\AppData\\Local\\Packages\\PythonSoftwareFoundation.Python.3.11_qbz5n2kfra8p0\\LocalCache\\local-packages\\Python311\\site-packages\\openpyxl\\workbook\\child.py:99: UserWarning: Title is more than 31 characters. Some applications may not be able to read the file\n",
      "  warnings.warn(\"Title is more than 31 characters. Some applications may not be able to read the file\")\n",
      "C:\\Users\\Jack\\AppData\\Local\\Temp\\ipykernel_285716\\3474794811.py:62: FutureWarning: Setting an item of incompatible dtype is deprecated and will raise an error in a future version of pandas. Value 'https://www.tcs.com' has dtype incompatible with float64, please explicitly cast to a compatible dtype first.\n",
      "  data.at[company_index, key] = value[0]\n",
      "C:\\Users\\Jack\\AppData\\Local\\Temp\\ipykernel_285716\\3474794811.py:62: FutureWarning: Setting an item of incompatible dtype is deprecated and will raise an error in a future version of pandas. Value 'TCS Interactive, IoT Digital Engineering, Consulting, Cybersecurity, Data & Analytics, Cloud, Enterprise Solutions, Sustainability Services, Cognitive Business Operations, Artificial Intelligence,  Network Solutions and Service' has dtype incompatible with float64, please explicitly cast to a compatible dtype first.\n",
      "  data.at[company_index, key] = value[0]\n",
      "C:\\Users\\Jack\\AppData\\Local\\Temp\\ipykernel_285716\\3474794811.py:62: FutureWarning: Setting an item of incompatible dtype is deprecated and will raise an error in a future version of pandas. Value 'Supply chain: Building agile and resilient businesses, 5G enterprise services, Telco cloud and orchestration services, Workspace: Creating intuitive and intelligent workspaces, Human resources: Redefining employee experiences, TCS Business Analytics Solutions, Digital thread, TCS Crystallus™ on SAP, Connected services, Digital experience , Next-gen enterprise transformation, TCS DigiFleet™, CIO advisory services, Connected plants, Cybersecurity advisory and consulting, Privacy and data protection, Networks: Building responsive networks to drive agility, AI-enabled measurement, TCS ConvertCore , Applications: Decoding operations to accelerate speed to market, Intelligent products, TCS Envirozone™, Data center: Building automated, secure, and green solutions, Experience-first commerce , Supply chain as a service, Unlock potential with responsible AI, Mergers and acquisitions, TCS Dexam™, Harness LLMs with GenAI agents for effective enterprise use , TCS Enterprise Navigator™, Network planning and engineering, Governance, risk and compliance   , Digital workplace security , Digital identity management, TCS Intelligent Power Plant, TCS Intelligent Urban Exchange™, Manufacturing powered by GenAI , Cyber-physical security, TCS Daezmo™, Next-gen OSS services, Marketing: Reimagining experiences to enhance engagement, Cognitive network operations, Tap into GenAI for banking, financial services and insurance, Incident response and rapid recovery, Customer experience: Crafting experiences to delight customers, Industrialized SD-WAN, TCS Datom™ , Iconic designs  , Enterprise Cloud, TCS Clever Energy™, Sustainable by Design, TCS Crystallus™ on Oracle Cloud, Enterprise security-as-a-service , TCS and AWS Cloud, TCS and Google Cloud, Finance: Powering strategic financial leadership, Risk and cybersecurity strategy, TCS Crystallus™ on Salesforce, Cloud Strategy and Transformation, Network testing and automation, Intelligent automotive, Insights-driven marketing  , TCS and Microsoft Cloud' has dtype incompatible with float64, please explicitly cast to a compatible dtype first.\n",
      "  data.at[company_index, key] = value[0]\n",
      "C:\\Users\\Jack\\AppData\\Local\\Packages\\PythonSoftwareFoundation.Python.3.11_qbz5n2kfra8p0\\LocalCache\\local-packages\\Python311\\site-packages\\openpyxl\\workbook\\child.py:99: UserWarning: Title is more than 31 characters. Some applications may not be able to read the file\n",
      "  warnings.warn(\"Title is more than 31 characters. Some applications may not be able to read the file\")\n"
     ]
    },
    {
     "name": "stdout",
     "output_type": "stream",
     "text": [
      "Wipro Limited\n",
      "Infosys Limited\n"
     ]
    },
    {
     "name": "stderr",
     "output_type": "stream",
     "text": [
      "C:\\Users\\Jack\\AppData\\Local\\Temp\\ipykernel_285716\\3474794811.py:62: FutureWarning: Setting an item of incompatible dtype is deprecated and will raise an error in a future version of pandas. Value 'https://www.wipro.com/' has dtype incompatible with float64, please explicitly cast to a compatible dtype first.\n",
      "  data.at[company_index, key] = value[0]\n",
      "C:\\Users\\Jack\\AppData\\Local\\Temp\\ipykernel_285716\\3474794811.py:62: FutureWarning: Setting an item of incompatible dtype is deprecated and will raise an error in a future version of pandas. Value 'Cloud, Digital Experiences, Consulting, Business Process, Applications' has dtype incompatible with float64, please explicitly cast to a compatible dtype first.\n",
      "  data.at[company_index, key] = value[0]\n",
      "C:\\Users\\Jack\\AppData\\Local\\Temp\\ipykernel_285716\\3474794811.py:62: FutureWarning: Setting an item of incompatible dtype is deprecated and will raise an error in a future version of pandas. Value 'Retail, Application Simplification, Adobe, Consumer Packaged Good, Life Sciences, Energy, Zuora, Digitalization and Automation, Integration, Telecom, Wipro Digital Experience Platform, Healthcare, Supply Chain Management \n",
      "  , Banking, Pega, Digital Experience, Next–Gen Application Management Services, Utilities, Cloud Business Applications, Finance & Accounting \n",
      "  ' has dtype incompatible with float64, please explicitly cast to a compatible dtype first.\n",
      "  data.at[company_index, key] = value[0]\n",
      "C:\\Users\\Jack\\AppData\\Local\\Packages\\PythonSoftwareFoundation.Python.3.11_qbz5n2kfra8p0\\LocalCache\\local-packages\\Python311\\site-packages\\openpyxl\\workbook\\child.py:99: UserWarning: Title is more than 31 characters. Some applications may not be able to read the file\n",
      "  warnings.warn(\"Title is more than 31 characters. Some applications may not be able to read the file\")\n",
      "C:\\Users\\Jack\\AppData\\Local\\Packages\\PythonSoftwareFoundation.Python.3.11_qbz5n2kfra8p0\\LocalCache\\local-packages\\Python311\\site-packages\\openpyxl\\workbook\\child.py:99: UserWarning: Title is more than 31 characters. Some applications may not be able to read the file\n",
      "  warnings.warn(\"Title is more than 31 characters. Some applications may not be able to read the file\")\n",
      "C:\\Users\\Jack\\AppData\\Local\\Temp\\ipykernel_285716\\3474794811.py:62: FutureWarning: Setting an item of incompatible dtype is deprecated and will raise an error in a future version of pandas. Value 'https://www.credera.com/en-gb' has dtype incompatible with float64, please explicitly cast to a compatible dtype first.\n",
      "  data.at[company_index, key] = value[0]\n",
      "C:\\Users\\Jack\\AppData\\Local\\Temp\\ipykernel_285716\\3474794811.py:62: FutureWarning: Setting an item of incompatible dtype is deprecated and will raise an error in a future version of pandas. Value 'Cloud & engineering, Experience design, Innovation, Management consulting, Data, MarTech, Artificial intelligence, Ecommerce' has dtype incompatible with float64, please explicitly cast to a compatible dtype first.\n",
      "  data.at[company_index, key] = value[0]\n",
      "C:\\Users\\Jack\\AppData\\Local\\Temp\\ipykernel_285716\\3474794811.py:62: FutureWarning: Setting an item of incompatible dtype is deprecated and will raise an error in a future version of pandas. Value 'Ecommerce optimization, Platform engineering, Innovation strategy, User experience strategy, Ecommerce strategy, Strategic alignment, Data democratization, Data strategy, AI everywhere, Data analytics, Data products, Operational excellence, AI models, Cloud data & AI, MarTech optimization, Ecommerce enablement, Cloud advisory, Data architecture, Product & service ideation, AI strategy, Front-end engineering, Cloud native development, Product management, Product & service incubation, Digital design, MarTech enablement, MarTech strategy, Business transformation, AI products, Cloud migration & app modernization' has dtype incompatible with float64, please explicitly cast to a compatible dtype first.\n",
      "  data.at[company_index, key] = value[0]\n",
      "C:\\Users\\Jack\\AppData\\Local\\Packages\\PythonSoftwareFoundation.Python.3.11_qbz5n2kfra8p0\\LocalCache\\local-packages\\Python311\\site-packages\\openpyxl\\workbook\\child.py:99: UserWarning: Title is more than 31 characters. Some applications may not be able to read the file\n",
      "  warnings.warn(\"Title is more than 31 characters. Some applications may not be able to read the file\")\n"
     ]
    },
    {
     "name": "stdout",
     "output_type": "stream",
     "text": [
      "Credera\n",
      "Infinite Lambda\n"
     ]
    },
    {
     "name": "stderr",
     "output_type": "stream",
     "text": [
      "C:\\Users\\Jack\\AppData\\Local\\Temp\\ipykernel_285716\\3474794811.py:62: FutureWarning: Setting an item of incompatible dtype is deprecated and will raise an error in a future version of pandas. Value 'https://infinitelambda.com' has dtype incompatible with float64, please explicitly cast to a compatible dtype first.\n",
      "  data.at[company_index, key] = value[0]\n",
      "C:\\Users\\Jack\\AppData\\Local\\Temp\\ipykernel_285716\\3474794811.py:62: FutureWarning: Setting an item of incompatible dtype is deprecated and will raise an error in a future version of pandas. Value 'Digital & Cloud Transformation, Data & Analytics' has dtype incompatible with float64, please explicitly cast to a compatible dtype first.\n",
      "  data.at[company_index, key] = value[0]\n",
      "C:\\Users\\Jack\\AppData\\Local\\Temp\\ipykernel_285716\\3474794811.py:62: FutureWarning: Setting an item of incompatible dtype is deprecated and will raise an error in a future version of pandas. Value '' has dtype incompatible with float64, please explicitly cast to a compatible dtype first.\n",
      "  data.at[company_index, key] = value[0]\n",
      "C:\\Users\\Jack\\AppData\\Local\\Packages\\PythonSoftwareFoundation.Python.3.11_qbz5n2kfra8p0\\LocalCache\\local-packages\\Python311\\site-packages\\openpyxl\\workbook\\child.py:99: UserWarning: Title is more than 31 characters. Some applications may not be able to read the file\n",
      "  warnings.warn(\"Title is more than 31 characters. Some applications may not be able to read the file\")\n",
      "C:\\Users\\Jack\\AppData\\Local\\Packages\\PythonSoftwareFoundation.Python.3.11_qbz5n2kfra8p0\\LocalCache\\local-packages\\Python311\\site-packages\\openpyxl\\workbook\\child.py:99: UserWarning: Title is more than 31 characters. Some applications may not be able to read the file\n",
      "  warnings.warn(\"Title is more than 31 characters. Some applications may not be able to read the file\")\n"
     ]
    },
    {
     "name": "stdout",
     "output_type": "stream",
     "text": [
      "Mesh AI\n",
      "Sparta Global\n"
     ]
    },
    {
     "name": "stderr",
     "output_type": "stream",
     "text": [
      "C:\\Users\\Jack\\AppData\\Local\\Temp\\ipykernel_285716\\3474794811.py:62: FutureWarning: Setting an item of incompatible dtype is deprecated and will raise an error in a future version of pandas. Value 'https://www.spartaglobal.com' has dtype incompatible with float64, please explicitly cast to a compatible dtype first.\n",
      "  data.at[company_index, key] = value[0]\n",
      "C:\\Users\\Jack\\AppData\\Local\\Temp\\ipykernel_285716\\3474794811.py:62: FutureWarning: Setting an item of incompatible dtype is deprecated and will raise an error in a future version of pandas. Value 'Project Management, Manual Test, Cybersecurity, Software Development, Devops, Data, Business Analysis, Test Engineering' has dtype incompatible with float64, please explicitly cast to a compatible dtype first.\n",
      "  data.at[company_index, key] = value[0]\n",
      "C:\\Users\\Jack\\AppData\\Local\\Temp\\ipykernel_285716\\3474794811.py:62: FutureWarning: Setting an item of incompatible dtype is deprecated and will raise an error in a future version of pandas. Value '' has dtype incompatible with float64, please explicitly cast to a compatible dtype first.\n",
      "  data.at[company_index, key] = value[0]\n",
      "C:\\Users\\Jack\\AppData\\Local\\Packages\\PythonSoftwareFoundation.Python.3.11_qbz5n2kfra8p0\\LocalCache\\local-packages\\Python311\\site-packages\\openpyxl\\workbook\\child.py:99: UserWarning: Title is more than 31 characters. Some applications may not be able to read the file\n",
      "  warnings.warn(\"Title is more than 31 characters. Some applications may not be able to read the file\")\n",
      "C:\\Users\\Jack\\AppData\\Local\\Temp\\ipykernel_285716\\3474794811.py:62: FutureWarning: Setting an item of incompatible dtype is deprecated and will raise an error in a future version of pandas. Value 'https://ten10.com' has dtype incompatible with float64, please explicitly cast to a compatible dtype first.\n",
      "  data.at[company_index, key] = value[0]\n",
      "C:\\Users\\Jack\\AppData\\Local\\Temp\\ipykernel_285716\\3474794811.py:62: FutureWarning: Setting an item of incompatible dtype is deprecated and will raise an error in a future version of pandas. Value 'Cloud & DevOps, RPA, Automation, Software Testing Services, Quality Engineering, Business Analysis' has dtype incompatible with float64, please explicitly cast to a compatible dtype first.\n",
      "  data.at[company_index, key] = value[0]\n",
      "C:\\Users\\Jack\\AppData\\Local\\Temp\\ipykernel_285716\\3474794811.py:62: FutureWarning: Setting an item of incompatible dtype is deprecated and will raise an error in a future version of pandas. Value 'Digital transformation roadmap, Device and Browser Compatibility Testing, Functional and Non-Functional Testing, Performance Test and Engineering, Data Testing, Quality and Test Advisory, Data Testing Solutions, Enterprise Agile delivery roadmap, Web Accessibility Testing, Cloud & DevOps Health Checks, Test Automation Health Check, FinOps review, Platform Team as a Service (PTaaS), Web Accessibility Testing Services, RPA Solutions, Cloud & DevOps Health Check, Quality and Test Leadership, Functional Test and Quality Engineering, Cloud Migration, Rapid Response, Device and Browser Compatability Testing, Complex product migration, Team in a Box, RPA Health Check, Pipeline review, Quality and Test Managed Services, Performance and Load Testing, Test Automation, Cloud & DevOps Solutions, Cloud governance review' has dtype incompatible with float64, please explicitly cast to a compatible dtype first.\n",
      "  data.at[company_index, key] = value[0]\n",
      "C:\\Users\\Jack\\AppData\\Local\\Packages\\PythonSoftwareFoundation.Python.3.11_qbz5n2kfra8p0\\LocalCache\\local-packages\\Python311\\site-packages\\openpyxl\\workbook\\child.py:99: UserWarning: Title is more than 31 characters. Some applications may not be able to read the file\n",
      "  warnings.warn(\"Title is more than 31 characters. Some applications may not be able to read the file\")\n"
     ]
    },
    {
     "name": "stdout",
     "output_type": "stream",
     "text": [
      "Ten10\n",
      "Fjord Consulting Group\n"
     ]
    },
    {
     "name": "stderr",
     "output_type": "stream",
     "text": [
      "C:\\Users\\Jack\\AppData\\Local\\Temp\\ipykernel_285716\\3474794811.py:62: FutureWarning: Setting an item of incompatible dtype is deprecated and will raise an error in a future version of pandas. Value 'https://fjordconsultinggroup.com' has dtype incompatible with float64, please explicitly cast to a compatible dtype first.\n",
      "  data.at[company_index, key] = value[0]\n",
      "C:\\Users\\Jack\\AppData\\Local\\Temp\\ipykernel_285716\\3474794811.py:62: FutureWarning: Setting an item of incompatible dtype is deprecated and will raise an error in a future version of pandas. Value 'Strategy & Operations, Digital and Tech Transformation, Due Diligence' has dtype incompatible with float64, please explicitly cast to a compatible dtype first.\n",
      "  data.at[company_index, key] = value[0]\n",
      "C:\\Users\\Jack\\AppData\\Local\\Temp\\ipykernel_285716\\3474794811.py:62: FutureWarning: Setting an item of incompatible dtype is deprecated and will raise an error in a future version of pandas. Value 'Cost Optimization, Digital Capabilities and Use Case Analysis, Digital Strategy and Advisory, Operating Model Support, Technology Evaluation and Vendor Selection Support, Tech and IT Strategy, Procurement Support, Financial Due Diligence, Customer Intelligence and Analytics, Product and Solution Strategy, Digital Experience, Corporate Growth Strategy, Business Capability and Process Improvement, Commercial Due Diligence' has dtype incompatible with float64, please explicitly cast to a compatible dtype first.\n",
      "  data.at[company_index, key] = value[0]\n",
      "C:\\Users\\Jack\\AppData\\Local\\Packages\\PythonSoftwareFoundation.Python.3.11_qbz5n2kfra8p0\\LocalCache\\local-packages\\Python311\\site-packages\\openpyxl\\workbook\\child.py:99: UserWarning: Title is more than 31 characters. Some applications may not be able to read the file\n",
      "  warnings.warn(\"Title is more than 31 characters. Some applications may not be able to read the file\")\n",
      "C:\\Users\\Jack\\AppData\\Local\\Temp\\ipykernel_285716\\3474794811.py:62: FutureWarning: Setting an item of incompatible dtype is deprecated and will raise an error in a future version of pandas. Value 'https://www.bettergov.co.uk/' has dtype incompatible with float64, please explicitly cast to a compatible dtype first.\n",
      "  data.at[company_index, key] = value[0]\n",
      "C:\\Users\\Jack\\AppData\\Local\\Temp\\ipykernel_285716\\3474794811.py:62: FutureWarning: Setting an item of incompatible dtype is deprecated and will raise an error in a future version of pandas. Value 'Technology Consulting, Digital Services, Information Security, System Implementation, Capability Development, Modernisation, Data & Analytics' has dtype incompatible with float64, please explicitly cast to a compatible dtype first.\n",
      "  data.at[company_index, key] = value[0]\n",
      "C:\\Users\\Jack\\AppData\\Local\\Temp\\ipykernel_285716\\3474794811.py:62: FutureWarning: Setting an item of incompatible dtype is deprecated and will raise an error in a future version of pandas. Value 'Change & Transformation Management, Leadership Development, Housing, Commercial & Procurement, HR & Finance, Optimise & Automate, Cloud Computing Migration, Digital Roadmapping, Modernising Legacy Systems, DevOps & Agile, Data Platforms, Build & Deliver, IT Governance, Building Communities of Practice, Penetration Testing, Social Care, Proof of Concept, Data Architecture, Data Engineering, Security Design & Architecture, Capability Development, Automation & AI, Discover & Define, Cloud Security Assessment & Audits, Secure Engineering & DevSecOps, Strategic Upskilling & Reskilling, Data Analytics and Visualisation, Education' has dtype incompatible with float64, please explicitly cast to a compatible dtype first.\n",
      "  data.at[company_index, key] = value[0]\n",
      "C:\\Users\\Jack\\AppData\\Local\\Packages\\PythonSoftwareFoundation.Python.3.11_qbz5n2kfra8p0\\LocalCache\\local-packages\\Python311\\site-packages\\openpyxl\\workbook\\child.py:99: UserWarning: Title is more than 31 characters. Some applications may not be able to read the file\n",
      "  warnings.warn(\"Title is more than 31 characters. Some applications may not be able to read the file\")\n"
     ]
    },
    {
     "name": "stdout",
     "output_type": "stream",
     "text": [
      "BetterGov\n",
      "Cambridge Consultants Limited\n"
     ]
    },
    {
     "name": "stderr",
     "output_type": "stream",
     "text": [
      "C:\\Users\\Jack\\AppData\\Local\\Packages\\PythonSoftwareFoundation.Python.3.11_qbz5n2kfra8p0\\LocalCache\\local-packages\\Python311\\site-packages\\openpyxl\\workbook\\child.py:99: UserWarning: Title is more than 31 characters. Some applications may not be able to read the file\n",
      "  warnings.warn(\"Title is more than 31 characters. Some applications may not be able to read the file\")\n",
      "C:\\Users\\Jack\\AppData\\Local\\Temp\\ipykernel_285716\\3474794811.py:62: FutureWarning: Setting an item of incompatible dtype is deprecated and will raise an error in a future version of pandas. Value 'https://www.capco.com' has dtype incompatible with float64, please explicitly cast to a compatible dtype first.\n",
      "  data.at[company_index, key] = value[0]\n",
      "C:\\Users\\Jack\\AppData\\Local\\Temp\\ipykernel_285716\\3474794811.py:62: FutureWarning: Setting an item of incompatible dtype is deprecated and will raise an error in a future version of pandas. Value 'Consulting, Technology, Digital' has dtype incompatible with float64, please explicitly cast to a compatible dtype first.\n",
      "  data.at[company_index, key] = value[0]\n",
      "C:\\Users\\Jack\\AppData\\Local\\Temp\\ipykernel_285716\\3474794811.py:62: FutureWarning: Setting an item of incompatible dtype is deprecated and will raise an error in a future version of pandas. Value 'TRANSFORMATION SERVICES, DIGITAL INNOVATION, TECHNOLOGY ADVISORY, STRATEGY, CHANGE SERVICES, DIGITAL ENGINEERING, SYSTEMS INTEGRATION, DATA & ANALYTICS, SECURITY SERVICES, RISK, REGULATORY & COMPLIANCE' has dtype incompatible with float64, please explicitly cast to a compatible dtype first.\n",
      "  data.at[company_index, key] = value[0]\n",
      "C:\\Users\\Jack\\AppData\\Local\\Packages\\PythonSoftwareFoundation.Python.3.11_qbz5n2kfra8p0\\LocalCache\\local-packages\\Python311\\site-packages\\openpyxl\\workbook\\child.py:99: UserWarning: Title is more than 31 characters. Some applications may not be able to read the file\n",
      "  warnings.warn(\"Title is more than 31 characters. Some applications may not be able to read the file\")\n"
     ]
    },
    {
     "name": "stdout",
     "output_type": "stream",
     "text": [
      "Capco Limited\n",
      "Cognizant Technology Solutions Corporation\n"
     ]
    },
    {
     "name": "stderr",
     "output_type": "stream",
     "text": [
      "C:\\Users\\Jack\\AppData\\Local\\Packages\\PythonSoftwareFoundation.Python.3.11_qbz5n2kfra8p0\\LocalCache\\local-packages\\Python311\\site-packages\\openpyxl\\workbook\\child.py:99: UserWarning: Title is more than 31 characters. Some applications may not be able to read the file\n",
      "  warnings.warn(\"Title is more than 31 characters. Some applications may not be able to read the file\")\n",
      "C:\\Users\\Jack\\AppData\\Local\\Temp\\ipykernel_285716\\3474794811.py:62: FutureWarning: Setting an item of incompatible dtype is deprecated and will raise an error in a future version of pandas. Value 'https://jobs.iqvia.com/en' has dtype incompatible with float64, please explicitly cast to a compatible dtype first.\n",
      "  data.at[company_index, key] = value[0]\n",
      "C:\\Users\\Jack\\AppData\\Local\\Temp\\ipykernel_285716\\3474794811.py:62: FutureWarning: Setting an item of incompatible dtype is deprecated and will raise an error in a future version of pandas. Value 'Public Health and Government, Digital Health, Rare Diseases, Virtual Research, Brand Strategy and Management, Genomics, Generics Manufacturers, Gastroenterology & Hepatology, Pricing and Market Access, Study Design, Commercial Compliance, Diabetes, Decentralized Trials, Pediatrics, MedTech, Drug Safety and Pharmacovigilance, Payers, Clinical Trials, ​Patient Associations, Biosimilars, Infectious Diseases and Vaccines, Real World & Health Data Sets, Pharmaceutical Manufacturers, Health Economics and Value, ​Regulatory and Safety, Evidence Networks, Patient Engagement and Support, Regulatory Compliance, Launch Strategy and Management, Central Nervous System, Emerging Biopharma, Healthcare Professional Engagement, Consulting, Information Partner Services, Promotional Strategy, Oncology, Quality Compliance, IQVIA Healthcare-grade AI™, Consumer Health, Functional Services' has dtype incompatible with float64, please explicitly cast to a compatible dtype first.\n",
      "  data.at[company_index, key] = value[0]\n",
      "C:\\Users\\Jack\\AppData\\Local\\Temp\\ipykernel_285716\\3474794811.py:62: FutureWarning: Setting an item of incompatible dtype is deprecated and will raise an error in a future version of pandas. Value 'Therapeutic expertise solutions, Commercialization solutions, New models and methods solutions, Real world evidence solutions, Industry segments solutions, Research and development solutions, Safety & regulatory compliance solutions' has dtype incompatible with float64, please explicitly cast to a compatible dtype first.\n",
      "  data.at[company_index, key] = value[0]\n",
      "C:\\Users\\Jack\\AppData\\Local\\Packages\\PythonSoftwareFoundation.Python.3.11_qbz5n2kfra8p0\\LocalCache\\local-packages\\Python311\\site-packages\\openpyxl\\workbook\\child.py:99: UserWarning: Title is more than 31 characters. Some applications may not be able to read the file\n",
      "  warnings.warn(\"Title is more than 31 characters. Some applications may not be able to read the file\")\n"
     ]
    },
    {
     "name": "stdout",
     "output_type": "stream",
     "text": [
      "IQVIA Holdings Inc\n",
      "Kubrick Group Limited\n"
     ]
    },
    {
     "name": "stderr",
     "output_type": "stream",
     "text": [
      "C:\\Users\\Jack\\AppData\\Local\\Packages\\PythonSoftwareFoundation.Python.3.11_qbz5n2kfra8p0\\LocalCache\\local-packages\\Python311\\site-packages\\openpyxl\\workbook\\child.py:99: UserWarning: Title is more than 31 characters. Some applications may not be able to read the file\n",
      "  warnings.warn(\"Title is more than 31 characters. Some applications may not be able to read the file\")\n"
     ]
    }
   ],
   "source": [
    "for company_name in company_dict['company_name']:\n",
    "    print(company_name)\n",
    "    company_url, scraper, status, ticker = SupportFunctions.get_company_metadata(company_name, company_df)\n",
    "\n",
    "    final_df = pd.read_excel(file_path, sheet_name=company_name)\n",
    "    company_intel_table(final_df, company_name, company_url)\n"
   ]
  },
  {
   "cell_type": "code",
   "execution_count": 41,
   "metadata": {},
   "outputs": [
    {
     "data": {
      "text/html": [
       "<div>\n",
       "<style scoped>\n",
       "    .dataframe tbody tr th:only-of-type {\n",
       "        vertical-align: middle;\n",
       "    }\n",
       "\n",
       "    .dataframe tbody tr th {\n",
       "        vertical-align: top;\n",
       "    }\n",
       "\n",
       "    .dataframe thead th {\n",
       "        text-align: right;\n",
       "    }\n",
       "</style>\n",
       "<table border=\"1\" class=\"dataframe\">\n",
       "  <thead>\n",
       "    <tr style=\"text-align: right;\">\n",
       "      <th></th>\n",
       "      <th>Date of Collection</th>\n",
       "      <th>Company Name</th>\n",
       "      <th>Website_URL</th>\n",
       "      <th>Public/Private</th>\n",
       "      <th>Practices</th>\n",
       "      <th>Practices_URL</th>\n",
       "      <th>Services</th>\n",
       "      <th>Services_URL</th>\n",
       "      <th>Solutions</th>\n",
       "      <th>Solutions_URL</th>\n",
       "      <th>...</th>\n",
       "      <th>Potential Threats</th>\n",
       "      <th>Long-term Strategy</th>\n",
       "      <th>Recent Activities</th>\n",
       "      <th>Market Responsiveness</th>\n",
       "      <th>Key Executives</th>\n",
       "      <th>Company Culture</th>\n",
       "      <th>Compliance Requirements</th>\n",
       "      <th>Legal Issues/Pending Litigations</th>\n",
       "      <th>Environmental Impact</th>\n",
       "      <th>Social Initiatives</th>\n",
       "    </tr>\n",
       "  </thead>\n",
       "  <tbody>\n",
       "    <tr>\n",
       "      <th>0</th>\n",
       "      <td>2024-05-30</td>\n",
       "      <td>Tata Consultancy Services Limited</td>\n",
       "      <td>https://www.tcs.com</td>\n",
       "      <td>Public</td>\n",
       "      <td>Network Solutions and Service</td>\n",
       "      <td>https://www.tcs.com/what-we-do/services/networ...</td>\n",
       "      <td>No Services Data Available</td>\n",
       "      <td>No Services URL Data Available</td>\n",
       "      <td>5G enterprise services</td>\n",
       "      <td>https://www.youtube-nocookie.com/embed/vmbAXyu...</td>\n",
       "      <td>...</td>\n",
       "      <td>No Potential Threats Data Available</td>\n",
       "      <td>No Long-term Strategy Data Available</td>\n",
       "      <td>No Recent Activities Data Available</td>\n",
       "      <td>No Market Responsiveness Data Available</td>\n",
       "      <td>No Key Executives Data Available</td>\n",
       "      <td>No Company Culture Data Available</td>\n",
       "      <td>No Compliance Requirements Data Available</td>\n",
       "      <td>No Legal Issues/Pending Litigations Data Avail...</td>\n",
       "      <td>No Environmental Impact Data Available</td>\n",
       "      <td>No Social Initiatives Data Available</td>\n",
       "    </tr>\n",
       "    <tr>\n",
       "      <th>1</th>\n",
       "      <td>2024-05-30</td>\n",
       "      <td>Tata Consultancy Services Limited</td>\n",
       "      <td>https://www.tcs.com</td>\n",
       "      <td>Public</td>\n",
       "      <td>Network Solutions and Service</td>\n",
       "      <td>https://www.tcs.com/what-we-do/services/networ...</td>\n",
       "      <td>No Services Data Available</td>\n",
       "      <td>No Services URL Data Available</td>\n",
       "      <td>Cognitive network operations</td>\n",
       "      <td>https://www.tcs.com/what-we-do/services/networ...</td>\n",
       "      <td>...</td>\n",
       "      <td>No Potential Threats Data Available</td>\n",
       "      <td>No Long-term Strategy Data Available</td>\n",
       "      <td>No Recent Activities Data Available</td>\n",
       "      <td>No Market Responsiveness Data Available</td>\n",
       "      <td>No Key Executives Data Available</td>\n",
       "      <td>No Company Culture Data Available</td>\n",
       "      <td>No Compliance Requirements Data Available</td>\n",
       "      <td>No Legal Issues/Pending Litigations Data Avail...</td>\n",
       "      <td>No Environmental Impact Data Available</td>\n",
       "      <td>No Social Initiatives Data Available</td>\n",
       "    </tr>\n",
       "    <tr>\n",
       "      <th>2</th>\n",
       "      <td>2024-05-30</td>\n",
       "      <td>Tata Consultancy Services Limited</td>\n",
       "      <td>https://www.tcs.com</td>\n",
       "      <td>Public</td>\n",
       "      <td>Network Solutions and Service</td>\n",
       "      <td>https://www.tcs.com/what-we-do/services/networ...</td>\n",
       "      <td>No Services Data Available</td>\n",
       "      <td>No Services URL Data Available</td>\n",
       "      <td>Industrialized SD-WAN</td>\n",
       "      <td>https://www.tcs.com/what-we-do/services/networ...</td>\n",
       "      <td>...</td>\n",
       "      <td>No Potential Threats Data Available</td>\n",
       "      <td>No Long-term Strategy Data Available</td>\n",
       "      <td>No Recent Activities Data Available</td>\n",
       "      <td>No Market Responsiveness Data Available</td>\n",
       "      <td>No Key Executives Data Available</td>\n",
       "      <td>No Company Culture Data Available</td>\n",
       "      <td>No Compliance Requirements Data Available</td>\n",
       "      <td>No Legal Issues/Pending Litigations Data Avail...</td>\n",
       "      <td>No Environmental Impact Data Available</td>\n",
       "      <td>No Social Initiatives Data Available</td>\n",
       "    </tr>\n",
       "    <tr>\n",
       "      <th>3</th>\n",
       "      <td>2024-05-30</td>\n",
       "      <td>Tata Consultancy Services Limited</td>\n",
       "      <td>https://www.tcs.com</td>\n",
       "      <td>Public</td>\n",
       "      <td>Network Solutions and Service</td>\n",
       "      <td>https://www.tcs.com/what-we-do/services/networ...</td>\n",
       "      <td>No Services Data Available</td>\n",
       "      <td>No Services URL Data Available</td>\n",
       "      <td>Network planning and engineering</td>\n",
       "      <td>https://www.tcs.com/what-we-do/services/networ...</td>\n",
       "      <td>...</td>\n",
       "      <td>No Potential Threats Data Available</td>\n",
       "      <td>No Long-term Strategy Data Available</td>\n",
       "      <td>No Recent Activities Data Available</td>\n",
       "      <td>No Market Responsiveness Data Available</td>\n",
       "      <td>No Key Executives Data Available</td>\n",
       "      <td>No Company Culture Data Available</td>\n",
       "      <td>No Compliance Requirements Data Available</td>\n",
       "      <td>No Legal Issues/Pending Litigations Data Avail...</td>\n",
       "      <td>No Environmental Impact Data Available</td>\n",
       "      <td>No Social Initiatives Data Available</td>\n",
       "    </tr>\n",
       "    <tr>\n",
       "      <th>4</th>\n",
       "      <td>2024-05-30</td>\n",
       "      <td>Tata Consultancy Services Limited</td>\n",
       "      <td>https://www.tcs.com</td>\n",
       "      <td>Public</td>\n",
       "      <td>Network Solutions and Service</td>\n",
       "      <td>https://www.tcs.com/what-we-do/services/networ...</td>\n",
       "      <td>No Services Data Available</td>\n",
       "      <td>No Services URL Data Available</td>\n",
       "      <td>Network testing and automation</td>\n",
       "      <td>https://www.tcs.com/what-we-do/services/networ...</td>\n",
       "      <td>...</td>\n",
       "      <td>No Potential Threats Data Available</td>\n",
       "      <td>No Long-term Strategy Data Available</td>\n",
       "      <td>No Recent Activities Data Available</td>\n",
       "      <td>No Market Responsiveness Data Available</td>\n",
       "      <td>No Key Executives Data Available</td>\n",
       "      <td>No Company Culture Data Available</td>\n",
       "      <td>No Compliance Requirements Data Available</td>\n",
       "      <td>No Legal Issues/Pending Litigations Data Avail...</td>\n",
       "      <td>No Environmental Impact Data Available</td>\n",
       "      <td>No Social Initiatives Data Available</td>\n",
       "    </tr>\n",
       "    <tr>\n",
       "      <th>...</th>\n",
       "      <td>...</td>\n",
       "      <td>...</td>\n",
       "      <td>...</td>\n",
       "      <td>...</td>\n",
       "      <td>...</td>\n",
       "      <td>...</td>\n",
       "      <td>...</td>\n",
       "      <td>...</td>\n",
       "      <td>...</td>\n",
       "      <td>...</td>\n",
       "      <td>...</td>\n",
       "      <td>...</td>\n",
       "      <td>...</td>\n",
       "      <td>...</td>\n",
       "      <td>...</td>\n",
       "      <td>...</td>\n",
       "      <td>...</td>\n",
       "      <td>...</td>\n",
       "      <td>...</td>\n",
       "      <td>...</td>\n",
       "      <td>...</td>\n",
       "    </tr>\n",
       "    <tr>\n",
       "      <th>58</th>\n",
       "      <td>2024-05-30</td>\n",
       "      <td>Tata Consultancy Services Limited</td>\n",
       "      <td>https://www.tcs.com</td>\n",
       "      <td>Public</td>\n",
       "      <td>TCS Interactive</td>\n",
       "      <td>https://www.tcs.com/what-we-do/services/tcs-in...</td>\n",
       "      <td>No Services Data Available</td>\n",
       "      <td>No Services URL Data Available</td>\n",
       "      <td>AI-enabled measurement</td>\n",
       "      <td>https://www.tcs.com/what-we-do/services/tcs-in...</td>\n",
       "      <td>...</td>\n",
       "      <td>No Potential Threats Data Available</td>\n",
       "      <td>No Long-term Strategy Data Available</td>\n",
       "      <td>No Recent Activities Data Available</td>\n",
       "      <td>No Market Responsiveness Data Available</td>\n",
       "      <td>No Key Executives Data Available</td>\n",
       "      <td>No Company Culture Data Available</td>\n",
       "      <td>No Compliance Requirements Data Available</td>\n",
       "      <td>No Legal Issues/Pending Litigations Data Avail...</td>\n",
       "      <td>No Environmental Impact Data Available</td>\n",
       "      <td>No Social Initiatives Data Available</td>\n",
       "    </tr>\n",
       "    <tr>\n",
       "      <th>59</th>\n",
       "      <td>2024-05-30</td>\n",
       "      <td>Tata Consultancy Services Limited</td>\n",
       "      <td>https://www.tcs.com</td>\n",
       "      <td>Public</td>\n",
       "      <td>TCS Interactive</td>\n",
       "      <td>https://www.tcs.com/what-we-do/services/tcs-in...</td>\n",
       "      <td>No Services Data Available</td>\n",
       "      <td>No Services URL Data Available</td>\n",
       "      <td>Digital experience</td>\n",
       "      <td>https://www.tcs.com/what-we-do/services/tcs-in...</td>\n",
       "      <td>...</td>\n",
       "      <td>No Potential Threats Data Available</td>\n",
       "      <td>No Long-term Strategy Data Available</td>\n",
       "      <td>No Recent Activities Data Available</td>\n",
       "      <td>No Market Responsiveness Data Available</td>\n",
       "      <td>No Key Executives Data Available</td>\n",
       "      <td>No Company Culture Data Available</td>\n",
       "      <td>No Compliance Requirements Data Available</td>\n",
       "      <td>No Legal Issues/Pending Litigations Data Avail...</td>\n",
       "      <td>No Environmental Impact Data Available</td>\n",
       "      <td>No Social Initiatives Data Available</td>\n",
       "    </tr>\n",
       "    <tr>\n",
       "      <th>60</th>\n",
       "      <td>2024-05-30</td>\n",
       "      <td>Tata Consultancy Services Limited</td>\n",
       "      <td>https://www.tcs.com</td>\n",
       "      <td>Public</td>\n",
       "      <td>TCS Interactive</td>\n",
       "      <td>https://www.tcs.com/what-we-do/services/tcs-in...</td>\n",
       "      <td>No Services Data Available</td>\n",
       "      <td>No Services URL Data Available</td>\n",
       "      <td>Experience-first commerce</td>\n",
       "      <td>https://www.tcs.com/what-we-do/services/tcs-in...</td>\n",
       "      <td>...</td>\n",
       "      <td>No Potential Threats Data Available</td>\n",
       "      <td>No Long-term Strategy Data Available</td>\n",
       "      <td>No Recent Activities Data Available</td>\n",
       "      <td>No Market Responsiveness Data Available</td>\n",
       "      <td>No Key Executives Data Available</td>\n",
       "      <td>No Company Culture Data Available</td>\n",
       "      <td>No Compliance Requirements Data Available</td>\n",
       "      <td>No Legal Issues/Pending Litigations Data Avail...</td>\n",
       "      <td>No Environmental Impact Data Available</td>\n",
       "      <td>No Social Initiatives Data Available</td>\n",
       "    </tr>\n",
       "    <tr>\n",
       "      <th>61</th>\n",
       "      <td>2024-05-30</td>\n",
       "      <td>Tata Consultancy Services Limited</td>\n",
       "      <td>https://www.tcs.com</td>\n",
       "      <td>Public</td>\n",
       "      <td>TCS Interactive</td>\n",
       "      <td>https://www.tcs.com/what-we-do/services/tcs-in...</td>\n",
       "      <td>No Services Data Available</td>\n",
       "      <td>No Services URL Data Available</td>\n",
       "      <td>Iconic designs</td>\n",
       "      <td>https://www.tcs.com/what-we-do/services/tcs-in...</td>\n",
       "      <td>...</td>\n",
       "      <td>No Potential Threats Data Available</td>\n",
       "      <td>No Long-term Strategy Data Available</td>\n",
       "      <td>No Recent Activities Data Available</td>\n",
       "      <td>No Market Responsiveness Data Available</td>\n",
       "      <td>No Key Executives Data Available</td>\n",
       "      <td>No Company Culture Data Available</td>\n",
       "      <td>No Compliance Requirements Data Available</td>\n",
       "      <td>No Legal Issues/Pending Litigations Data Avail...</td>\n",
       "      <td>No Environmental Impact Data Available</td>\n",
       "      <td>No Social Initiatives Data Available</td>\n",
       "    </tr>\n",
       "    <tr>\n",
       "      <th>62</th>\n",
       "      <td>2024-05-30</td>\n",
       "      <td>Tata Consultancy Services Limited</td>\n",
       "      <td>https://www.tcs.com</td>\n",
       "      <td>Public</td>\n",
       "      <td>TCS Interactive</td>\n",
       "      <td>https://www.tcs.com/what-we-do/services/tcs-in...</td>\n",
       "      <td>No Services Data Available</td>\n",
       "      <td>No Services URL Data Available</td>\n",
       "      <td>Insights-driven marketing</td>\n",
       "      <td>https://www.tcs.com/what-we-do/services/tcs-in...</td>\n",
       "      <td>...</td>\n",
       "      <td>No Potential Threats Data Available</td>\n",
       "      <td>No Long-term Strategy Data Available</td>\n",
       "      <td>No Recent Activities Data Available</td>\n",
       "      <td>No Market Responsiveness Data Available</td>\n",
       "      <td>No Key Executives Data Available</td>\n",
       "      <td>No Company Culture Data Available</td>\n",
       "      <td>No Compliance Requirements Data Available</td>\n",
       "      <td>No Legal Issues/Pending Litigations Data Avail...</td>\n",
       "      <td>No Environmental Impact Data Available</td>\n",
       "      <td>No Social Initiatives Data Available</td>\n",
       "    </tr>\n",
       "  </tbody>\n",
       "</table>\n",
       "<p>63 rows × 52 columns</p>\n",
       "</div>"
      ],
      "text/plain": [
       "   Date of Collection                       Company Name          Website_URL  \\\n",
       "0          2024-05-30  Tata Consultancy Services Limited  https://www.tcs.com   \n",
       "1          2024-05-30  Tata Consultancy Services Limited  https://www.tcs.com   \n",
       "2          2024-05-30  Tata Consultancy Services Limited  https://www.tcs.com   \n",
       "3          2024-05-30  Tata Consultancy Services Limited  https://www.tcs.com   \n",
       "4          2024-05-30  Tata Consultancy Services Limited  https://www.tcs.com   \n",
       "..                ...                                ...                  ...   \n",
       "58         2024-05-30  Tata Consultancy Services Limited  https://www.tcs.com   \n",
       "59         2024-05-30  Tata Consultancy Services Limited  https://www.tcs.com   \n",
       "60         2024-05-30  Tata Consultancy Services Limited  https://www.tcs.com   \n",
       "61         2024-05-30  Tata Consultancy Services Limited  https://www.tcs.com   \n",
       "62         2024-05-30  Tata Consultancy Services Limited  https://www.tcs.com   \n",
       "\n",
       "   Public/Private                       Practices  \\\n",
       "0          Public   Network Solutions and Service   \n",
       "1          Public   Network Solutions and Service   \n",
       "2          Public   Network Solutions and Service   \n",
       "3          Public   Network Solutions and Service   \n",
       "4          Public   Network Solutions and Service   \n",
       "..            ...                             ...   \n",
       "58         Public                 TCS Interactive   \n",
       "59         Public                 TCS Interactive   \n",
       "60         Public                 TCS Interactive   \n",
       "61         Public                 TCS Interactive   \n",
       "62         Public                 TCS Interactive   \n",
       "\n",
       "                                        Practices_URL  \\\n",
       "0   https://www.tcs.com/what-we-do/services/networ...   \n",
       "1   https://www.tcs.com/what-we-do/services/networ...   \n",
       "2   https://www.tcs.com/what-we-do/services/networ...   \n",
       "3   https://www.tcs.com/what-we-do/services/networ...   \n",
       "4   https://www.tcs.com/what-we-do/services/networ...   \n",
       "..                                                ...   \n",
       "58  https://www.tcs.com/what-we-do/services/tcs-in...   \n",
       "59  https://www.tcs.com/what-we-do/services/tcs-in...   \n",
       "60  https://www.tcs.com/what-we-do/services/tcs-in...   \n",
       "61  https://www.tcs.com/what-we-do/services/tcs-in...   \n",
       "62  https://www.tcs.com/what-we-do/services/tcs-in...   \n",
       "\n",
       "                      Services                    Services_URL  \\\n",
       "0   No Services Data Available  No Services URL Data Available   \n",
       "1   No Services Data Available  No Services URL Data Available   \n",
       "2   No Services Data Available  No Services URL Data Available   \n",
       "3   No Services Data Available  No Services URL Data Available   \n",
       "4   No Services Data Available  No Services URL Data Available   \n",
       "..                         ...                             ...   \n",
       "58  No Services Data Available  No Services URL Data Available   \n",
       "59  No Services Data Available  No Services URL Data Available   \n",
       "60  No Services Data Available  No Services URL Data Available   \n",
       "61  No Services Data Available  No Services URL Data Available   \n",
       "62  No Services Data Available  No Services URL Data Available   \n",
       "\n",
       "                           Solutions  \\\n",
       "0             5G enterprise services   \n",
       "1       Cognitive network operations   \n",
       "2              Industrialized SD-WAN   \n",
       "3   Network planning and engineering   \n",
       "4     Network testing and automation   \n",
       "..                               ...   \n",
       "58            AI-enabled measurement   \n",
       "59               Digital experience    \n",
       "60        Experience-first commerce    \n",
       "61                  Iconic designs     \n",
       "62       Insights-driven marketing     \n",
       "\n",
       "                                        Solutions_URL  ...  \\\n",
       "0   https://www.youtube-nocookie.com/embed/vmbAXyu...  ...   \n",
       "1   https://www.tcs.com/what-we-do/services/networ...  ...   \n",
       "2   https://www.tcs.com/what-we-do/services/networ...  ...   \n",
       "3   https://www.tcs.com/what-we-do/services/networ...  ...   \n",
       "4   https://www.tcs.com/what-we-do/services/networ...  ...   \n",
       "..                                                ...  ...   \n",
       "58  https://www.tcs.com/what-we-do/services/tcs-in...  ...   \n",
       "59  https://www.tcs.com/what-we-do/services/tcs-in...  ...   \n",
       "60  https://www.tcs.com/what-we-do/services/tcs-in...  ...   \n",
       "61  https://www.tcs.com/what-we-do/services/tcs-in...  ...   \n",
       "62  https://www.tcs.com/what-we-do/services/tcs-in...  ...   \n",
       "\n",
       "                      Potential Threats                    Long-term Strategy  \\\n",
       "0   No Potential Threats Data Available  No Long-term Strategy Data Available   \n",
       "1   No Potential Threats Data Available  No Long-term Strategy Data Available   \n",
       "2   No Potential Threats Data Available  No Long-term Strategy Data Available   \n",
       "3   No Potential Threats Data Available  No Long-term Strategy Data Available   \n",
       "4   No Potential Threats Data Available  No Long-term Strategy Data Available   \n",
       "..                                  ...                                   ...   \n",
       "58  No Potential Threats Data Available  No Long-term Strategy Data Available   \n",
       "59  No Potential Threats Data Available  No Long-term Strategy Data Available   \n",
       "60  No Potential Threats Data Available  No Long-term Strategy Data Available   \n",
       "61  No Potential Threats Data Available  No Long-term Strategy Data Available   \n",
       "62  No Potential Threats Data Available  No Long-term Strategy Data Available   \n",
       "\n",
       "                      Recent Activities  \\\n",
       "0   No Recent Activities Data Available   \n",
       "1   No Recent Activities Data Available   \n",
       "2   No Recent Activities Data Available   \n",
       "3   No Recent Activities Data Available   \n",
       "4   No Recent Activities Data Available   \n",
       "..                                  ...   \n",
       "58  No Recent Activities Data Available   \n",
       "59  No Recent Activities Data Available   \n",
       "60  No Recent Activities Data Available   \n",
       "61  No Recent Activities Data Available   \n",
       "62  No Recent Activities Data Available   \n",
       "\n",
       "                      Market Responsiveness                    Key Executives  \\\n",
       "0   No Market Responsiveness Data Available  No Key Executives Data Available   \n",
       "1   No Market Responsiveness Data Available  No Key Executives Data Available   \n",
       "2   No Market Responsiveness Data Available  No Key Executives Data Available   \n",
       "3   No Market Responsiveness Data Available  No Key Executives Data Available   \n",
       "4   No Market Responsiveness Data Available  No Key Executives Data Available   \n",
       "..                                      ...                               ...   \n",
       "58  No Market Responsiveness Data Available  No Key Executives Data Available   \n",
       "59  No Market Responsiveness Data Available  No Key Executives Data Available   \n",
       "60  No Market Responsiveness Data Available  No Key Executives Data Available   \n",
       "61  No Market Responsiveness Data Available  No Key Executives Data Available   \n",
       "62  No Market Responsiveness Data Available  No Key Executives Data Available   \n",
       "\n",
       "                      Company Culture  \\\n",
       "0   No Company Culture Data Available   \n",
       "1   No Company Culture Data Available   \n",
       "2   No Company Culture Data Available   \n",
       "3   No Company Culture Data Available   \n",
       "4   No Company Culture Data Available   \n",
       "..                                ...   \n",
       "58  No Company Culture Data Available   \n",
       "59  No Company Culture Data Available   \n",
       "60  No Company Culture Data Available   \n",
       "61  No Company Culture Data Available   \n",
       "62  No Company Culture Data Available   \n",
       "\n",
       "                      Compliance Requirements  \\\n",
       "0   No Compliance Requirements Data Available   \n",
       "1   No Compliance Requirements Data Available   \n",
       "2   No Compliance Requirements Data Available   \n",
       "3   No Compliance Requirements Data Available   \n",
       "4   No Compliance Requirements Data Available   \n",
       "..                                        ...   \n",
       "58  No Compliance Requirements Data Available   \n",
       "59  No Compliance Requirements Data Available   \n",
       "60  No Compliance Requirements Data Available   \n",
       "61  No Compliance Requirements Data Available   \n",
       "62  No Compliance Requirements Data Available   \n",
       "\n",
       "                     Legal Issues/Pending Litigations  \\\n",
       "0   No Legal Issues/Pending Litigations Data Avail...   \n",
       "1   No Legal Issues/Pending Litigations Data Avail...   \n",
       "2   No Legal Issues/Pending Litigations Data Avail...   \n",
       "3   No Legal Issues/Pending Litigations Data Avail...   \n",
       "4   No Legal Issues/Pending Litigations Data Avail...   \n",
       "..                                                ...   \n",
       "58  No Legal Issues/Pending Litigations Data Avail...   \n",
       "59  No Legal Issues/Pending Litigations Data Avail...   \n",
       "60  No Legal Issues/Pending Litigations Data Avail...   \n",
       "61  No Legal Issues/Pending Litigations Data Avail...   \n",
       "62  No Legal Issues/Pending Litigations Data Avail...   \n",
       "\n",
       "                      Environmental Impact  \\\n",
       "0   No Environmental Impact Data Available   \n",
       "1   No Environmental Impact Data Available   \n",
       "2   No Environmental Impact Data Available   \n",
       "3   No Environmental Impact Data Available   \n",
       "4   No Environmental Impact Data Available   \n",
       "..                                     ...   \n",
       "58  No Environmental Impact Data Available   \n",
       "59  No Environmental Impact Data Available   \n",
       "60  No Environmental Impact Data Available   \n",
       "61  No Environmental Impact Data Available   \n",
       "62  No Environmental Impact Data Available   \n",
       "\n",
       "                      Social Initiatives  \n",
       "0   No Social Initiatives Data Available  \n",
       "1   No Social Initiatives Data Available  \n",
       "2   No Social Initiatives Data Available  \n",
       "3   No Social Initiatives Data Available  \n",
       "4   No Social Initiatives Data Available  \n",
       "..                                   ...  \n",
       "58  No Social Initiatives Data Available  \n",
       "59  No Social Initiatives Data Available  \n",
       "60  No Social Initiatives Data Available  \n",
       "61  No Social Initiatives Data Available  \n",
       "62  No Social Initiatives Data Available  \n",
       "\n",
       "[63 rows x 52 columns]"
      ]
     },
     "execution_count": 41,
     "metadata": {},
     "output_type": "execute_result"
    }
   ],
   "source": [
    "pd.read_excel(file_path, sheet_name=company_name)"
   ]
  },
  {
   "cell_type": "code",
   "execution_count": 23,
   "metadata": {},
   "outputs": [
    {
     "data": {
      "text/plain": [
       "\"['Cloud & engineering', 'Experience design', 'Innovation', 'Management consulting', 'Data', 'MarTech', 'Artificial intelligence', 'Ecommerce']\""
      ]
     },
     "execution_count": 23,
     "metadata": {},
     "output_type": "execute_result"
    }
   ],
   "source": [
    "df = pd.read_csv(r'C:\\Users\\Jack\\Documents\\VS Code\\market-intelligence-kubrick\\kubrick_mi_company_intel.csv')\n",
    "df.set_index('Company Name', inplace=True)\n",
    "df.loc['Credera']['Practice Ecosystems (Data, AI etc)']\n"
   ]
  },
  {
   "cell_type": "code",
   "execution_count": 24,
   "metadata": {},
   "outputs": [
    {
     "data": {
      "text/plain": [
       "\"['Ecommerce optimization', 'Platform engineering', 'Innovation strategy', 'User experience strategy', 'Ecommerce strategy', 'Strategic alignment', 'Data democratization', 'Data strategy', 'AI everywhere', 'Data analytics', 'Data products', 'Operational excellence', 'AI models', 'Cloud data & AI', 'MarTech optimization', 'Ecommerce enablement', 'Cloud advisory', 'Data architecture', 'Product & service ideation', 'AI strategy', 'Front-end engineering', 'Cloud native development', 'Product management', 'Product & service incubation', 'Digital design', 'MarTech enablement', 'MarTech strategy', 'Business transformation', 'AI products', 'Cloud migration & app modernization']\""
      ]
     },
     "execution_count": 24,
     "metadata": {},
     "output_type": "execute_result"
    }
   ],
   "source": [
    "df.loc['Credera']['Practice List (delimited)']"
   ]
  },
  {
   "cell_type": "code",
   "execution_count": 76,
   "metadata": {},
   "outputs": [],
   "source": [
    "def import_and_merge_data(company_name: str, excel_file: str = \"Kubrick MI Data.xlsx\", intel_file: str = \"kubrick_mi_company_intel2.xlsx\") -> pd.DataFrame:\n",
    "    import os\n",
    "    from SupportFunctions import log_error\n",
    "    xl_columns_to_retain = [\"Date of Collection\", \"Company Name\", \"Website_URL\", \"Public/Private\", \"Practices\", \"Services\", \"Solutions\"]\n",
    "    final_columns = ['Date Collected', 'Company Name', 'URL', 'Public/Private', 'Practices', 'Services', 'Solutions', \n",
    "                     'Training Program Duration', 'Tech Partnerships', 'Anecdotal Views of Quality', 'Consultant Pricing']\n",
    "    intel_columns = [\"Training Program Duration\", \"Tech Partnerships\", \"Anecdotal Views of Quality\", \"Consultant Pricing\"]\n",
    "\n",
    "    if not os.path.exists(excel_file):\n",
    "        log_error(f\"File {excel_file} does not exists\")\n",
    "        return None\n",
    "\n",
    "    # Check if the sheet exists in the Excel file\n",
    "    excel_sheets = pd.ExcelFile(excel_file).sheet_names\n",
    "    if company_name not in excel_sheets:\n",
    "        log_error(f\"{company_name} does not have webscrape data. Make sure to run the webscrape function.\")\n",
    "        return None\n",
    "\n",
    "    excel_df = pd.read_excel(excel_file, sheet_name=company_name)\n",
    "    excel_df = excel_df[xl_columns_to_retain]\n",
    "\n",
    "    # Check if the Excel file for company intel exists\n",
    "    if not os.path.exists(intel_file):\n",
    "        # Create an empty DataFrame with the final columns and save it to create the file\n",
    "        with pd.ExcelWriter(intel_file) as writer:\n",
    "            empty_df = pd.DataFrame(columns=final_columns)\n",
    "            empty_df.to_excel(writer, index=False, sheet_name=company_name)\n",
    "\n",
    "    intel_sheets = pd.ExcelFile(intel_file).sheet_names\n",
    "\n",
    "    if company_name not in intel_sheets:\n",
    "        for col in intel_columns:\n",
    "            excel_df[col] = \"To be completed manually\"\n",
    "        \n",
    "        with pd.ExcelWriter(intel_file, mode='a', engine='openpyxl') as writer:\n",
    "            excel_df.to_excel(writer, index=False, sheet_name=company_name)\n",
    "\n",
    "    else:\n",
    "        company_df = pd.read_excel(intel_file, sheet_name=company_name)\n",
    "        intel_values = company_df.iloc[0][intel_columns].values\n",
    "        for i, col in enumerate(intel_columns):\n",
    "            excel_df[col] = intel_values[i]\n",
    "        with pd.ExcelWriter(intel_file, mode='a', engine='openpyxl') as writer:\n",
    "            writer.book.remove(writer.book[company_name])\n",
    "            excel_df.to_excel(writer, index=False, sheet_name=company_name)\n",
    "\n",
    "    return True"
   ]
  },
  {
   "cell_type": "code",
   "execution_count": 77,
   "metadata": {},
   "outputs": [
    {
     "name": "stdout",
     "output_type": "stream",
     "text": [
      "Capgemini SE\n"
     ]
    },
    {
     "ename": "IndexError",
     "evalue": "single positional indexer is out-of-bounds",
     "output_type": "error",
     "traceback": [
      "\u001b[1;31m---------------------------------------------------------------------------\u001b[0m",
      "\u001b[1;31mIndexError\u001b[0m                                Traceback (most recent call last)",
      "Cell \u001b[1;32mIn[77], line 3\u001b[0m\n\u001b[0;32m      1\u001b[0m \u001b[38;5;28;01mfor\u001b[39;00m company_name \u001b[38;5;129;01min\u001b[39;00m company_dict[\u001b[38;5;124m'\u001b[39m\u001b[38;5;124mcompany_name\u001b[39m\u001b[38;5;124m'\u001b[39m]:\n\u001b[0;32m      2\u001b[0m     \u001b[38;5;28mprint\u001b[39m(company_name)\n\u001b[1;32m----> 3\u001b[0m     \u001b[43mimport_and_merge_data\u001b[49m\u001b[43m(\u001b[49m\u001b[43mcompany_name\u001b[49m\u001b[43m)\u001b[49m\n",
      "Cell \u001b[1;32mIn[76], line 40\u001b[0m, in \u001b[0;36mimport_and_merge_data\u001b[1;34m(company_name, excel_file, intel_file)\u001b[0m\n\u001b[0;32m     38\u001b[0m \u001b[38;5;28;01melse\u001b[39;00m:\n\u001b[0;32m     39\u001b[0m     company_df \u001b[38;5;241m=\u001b[39m pd\u001b[38;5;241m.\u001b[39mread_excel(intel_file, sheet_name\u001b[38;5;241m=\u001b[39mcompany_name)\n\u001b[1;32m---> 40\u001b[0m     intel_values \u001b[38;5;241m=\u001b[39m \u001b[43mcompany_df\u001b[49m\u001b[38;5;241;43m.\u001b[39;49m\u001b[43miloc\u001b[49m\u001b[43m[\u001b[49m\u001b[38;5;241;43m0\u001b[39;49m\u001b[43m]\u001b[49m[intel_columns]\u001b[38;5;241m.\u001b[39mvalues\n\u001b[0;32m     41\u001b[0m     \u001b[38;5;28;01mfor\u001b[39;00m i, col \u001b[38;5;129;01min\u001b[39;00m \u001b[38;5;28menumerate\u001b[39m(intel_columns):\n\u001b[0;32m     42\u001b[0m         excel_df[col] \u001b[38;5;241m=\u001b[39m intel_values[i]\n",
      "File \u001b[1;32m~\\AppData\\Local\\Packages\\PythonSoftwareFoundation.Python.3.11_qbz5n2kfra8p0\\LocalCache\\local-packages\\Python311\\site-packages\\pandas\\core\\indexing.py:1191\u001b[0m, in \u001b[0;36m_LocationIndexer.__getitem__\u001b[1;34m(self, key)\u001b[0m\n\u001b[0;32m   1189\u001b[0m maybe_callable \u001b[38;5;241m=\u001b[39m com\u001b[38;5;241m.\u001b[39mapply_if_callable(key, \u001b[38;5;28mself\u001b[39m\u001b[38;5;241m.\u001b[39mobj)\n\u001b[0;32m   1190\u001b[0m maybe_callable \u001b[38;5;241m=\u001b[39m \u001b[38;5;28mself\u001b[39m\u001b[38;5;241m.\u001b[39m_check_deprecated_callable_usage(key, maybe_callable)\n\u001b[1;32m-> 1191\u001b[0m \u001b[38;5;28;01mreturn\u001b[39;00m \u001b[38;5;28;43mself\u001b[39;49m\u001b[38;5;241;43m.\u001b[39;49m\u001b[43m_getitem_axis\u001b[49m\u001b[43m(\u001b[49m\u001b[43mmaybe_callable\u001b[49m\u001b[43m,\u001b[49m\u001b[43m \u001b[49m\u001b[43maxis\u001b[49m\u001b[38;5;241;43m=\u001b[39;49m\u001b[43maxis\u001b[49m\u001b[43m)\u001b[49m\n",
      "File \u001b[1;32m~\\AppData\\Local\\Packages\\PythonSoftwareFoundation.Python.3.11_qbz5n2kfra8p0\\LocalCache\\local-packages\\Python311\\site-packages\\pandas\\core\\indexing.py:1752\u001b[0m, in \u001b[0;36m_iLocIndexer._getitem_axis\u001b[1;34m(self, key, axis)\u001b[0m\n\u001b[0;32m   1749\u001b[0m     \u001b[38;5;28;01mraise\u001b[39;00m \u001b[38;5;167;01mTypeError\u001b[39;00m(\u001b[38;5;124m\"\u001b[39m\u001b[38;5;124mCannot index by location index with a non-integer key\u001b[39m\u001b[38;5;124m\"\u001b[39m)\n\u001b[0;32m   1751\u001b[0m \u001b[38;5;66;03m# validate the location\u001b[39;00m\n\u001b[1;32m-> 1752\u001b[0m \u001b[38;5;28;43mself\u001b[39;49m\u001b[38;5;241;43m.\u001b[39;49m\u001b[43m_validate_integer\u001b[49m\u001b[43m(\u001b[49m\u001b[43mkey\u001b[49m\u001b[43m,\u001b[49m\u001b[43m \u001b[49m\u001b[43maxis\u001b[49m\u001b[43m)\u001b[49m\n\u001b[0;32m   1754\u001b[0m \u001b[38;5;28;01mreturn\u001b[39;00m \u001b[38;5;28mself\u001b[39m\u001b[38;5;241m.\u001b[39mobj\u001b[38;5;241m.\u001b[39m_ixs(key, axis\u001b[38;5;241m=\u001b[39maxis)\n",
      "File \u001b[1;32m~\\AppData\\Local\\Packages\\PythonSoftwareFoundation.Python.3.11_qbz5n2kfra8p0\\LocalCache\\local-packages\\Python311\\site-packages\\pandas\\core\\indexing.py:1685\u001b[0m, in \u001b[0;36m_iLocIndexer._validate_integer\u001b[1;34m(self, key, axis)\u001b[0m\n\u001b[0;32m   1683\u001b[0m len_axis \u001b[38;5;241m=\u001b[39m \u001b[38;5;28mlen\u001b[39m(\u001b[38;5;28mself\u001b[39m\u001b[38;5;241m.\u001b[39mobj\u001b[38;5;241m.\u001b[39m_get_axis(axis))\n\u001b[0;32m   1684\u001b[0m \u001b[38;5;28;01mif\u001b[39;00m key \u001b[38;5;241m>\u001b[39m\u001b[38;5;241m=\u001b[39m len_axis \u001b[38;5;129;01mor\u001b[39;00m key \u001b[38;5;241m<\u001b[39m \u001b[38;5;241m-\u001b[39mlen_axis:\n\u001b[1;32m-> 1685\u001b[0m     \u001b[38;5;28;01mraise\u001b[39;00m \u001b[38;5;167;01mIndexError\u001b[39;00m(\u001b[38;5;124m\"\u001b[39m\u001b[38;5;124msingle positional indexer is out-of-bounds\u001b[39m\u001b[38;5;124m\"\u001b[39m)\n",
      "\u001b[1;31mIndexError\u001b[0m: single positional indexer is out-of-bounds"
     ]
    }
   ],
   "source": [
    "for company_name in company_dict['company_name']:\n",
    "    print(company_name)\n",
    "    import_and_merge_data(company_name)\n",
    "    "
   ]
  }
 ],
 "metadata": {
  "kernelspec": {
   "display_name": "Python 3",
   "language": "python",
   "name": "python3"
  },
  "language_info": {
   "codemirror_mode": {
    "name": "ipython",
    "version": 3
   },
   "file_extension": ".py",
   "mimetype": "text/x-python",
   "name": "python",
   "nbconvert_exporter": "python",
   "pygments_lexer": "ipython3",
   "version": "3.11.9"
  }
 },
 "nbformat": 4,
 "nbformat_minor": 2
}
