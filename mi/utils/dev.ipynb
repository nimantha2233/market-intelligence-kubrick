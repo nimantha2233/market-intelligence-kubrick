{
 "cells": [
  {
   "cell_type": "code",
   "execution_count": 22,
   "metadata": {},
   "outputs": [],
   "source": [
    "import requests\n",
    "import pandas as pd\n",
    "from bs4 import BeautifulSoup \n",
    "import yahoo_finance"
   ]
  },
  {
   "cell_type": "code",
   "execution_count": 3,
   "metadata": {},
   "outputs": [],
   "source": [
    "def produce_soup_from_url(url : str):\n",
    "\n",
    "    r = requests.get(url)\n",
    "    \n",
    "    return BeautifulSoup(r.content,'html5lib')"
   ]
  },
  {
   "cell_type": "code",
   "execution_count": 23,
   "metadata": {},
   "outputs": [],
   "source": [
    "def dataframe_builder(profile_dict : dict):\n",
    "\n",
    "    return pd.DataFrame({'practises' : profile_dict['practises'], 'services' : profile_dict['services']})\n",
    "\n",
    "    \n"
   ]
  },
  {
   "cell_type": "code",
   "execution_count": 31,
   "metadata": {},
   "outputs": [],
   "source": [
    "def df_to_csv(df : pd.DataFrame, filename : str):\n",
    "    # df.to_csv(path_or_buf=r'...\\database')\n",
    "    return df.to_csv(path_or_buf=fr'..\\..\\database\\{filename}.csv', index=False)"
   ]
  },
  {
   "cell_type": "code",
   "execution_count": 7,
   "metadata": {},
   "outputs": [
    {
     "data": {
      "text/html": [
       "<div>\n",
       "<style scoped>\n",
       "    .dataframe tbody tr th:only-of-type {\n",
       "        vertical-align: middle;\n",
       "    }\n",
       "\n",
       "    .dataframe tbody tr th {\n",
       "        vertical-align: top;\n",
       "    }\n",
       "\n",
       "    .dataframe thead th {\n",
       "        text-align: right;\n",
       "    }\n",
       "</style>\n",
       "<table border=\"1\" class=\"dataframe\">\n",
       "  <thead>\n",
       "    <tr style=\"text-align: right;\">\n",
       "      <th></th>\n",
       "      <th>practises</th>\n",
       "      <th>services</th>\n",
       "    </tr>\n",
       "  </thead>\n",
       "  <tbody>\n",
       "    <tr>\n",
       "      <th>0</th>\n",
       "      <td>System Implementation</td>\n",
       "      <td>Social Care</td>\n",
       "    </tr>\n",
       "    <tr>\n",
       "      <th>1</th>\n",
       "      <td>System Implementation</td>\n",
       "      <td>Education</td>\n",
       "    </tr>\n",
       "    <tr>\n",
       "      <th>2</th>\n",
       "      <td>System Implementation</td>\n",
       "      <td>Housing</td>\n",
       "    </tr>\n",
       "    <tr>\n",
       "      <th>3</th>\n",
       "      <td>System Implementation</td>\n",
       "      <td>HR &amp; Finance</td>\n",
       "    </tr>\n",
       "    <tr>\n",
       "      <th>4</th>\n",
       "      <td>Technology Consulting</td>\n",
       "      <td>Digital Roadmapping</td>\n",
       "    </tr>\n",
       "    <tr>\n",
       "      <th>5</th>\n",
       "      <td>Technology Consulting</td>\n",
       "      <td>IT Governance</td>\n",
       "    </tr>\n",
       "    <tr>\n",
       "      <th>6</th>\n",
       "      <td>Technology Consulting</td>\n",
       "      <td>Change &amp; Transformation Management</td>\n",
       "    </tr>\n",
       "    <tr>\n",
       "      <th>7</th>\n",
       "      <td>Technology Consulting</td>\n",
       "      <td>Commercial &amp; Procurement</td>\n",
       "    </tr>\n",
       "    <tr>\n",
       "      <th>8</th>\n",
       "      <td>Data &amp; Analytics</td>\n",
       "      <td>Data Architecture</td>\n",
       "    </tr>\n",
       "    <tr>\n",
       "      <th>9</th>\n",
       "      <td>Data &amp; Analytics</td>\n",
       "      <td>Data Analytics and Visualisation</td>\n",
       "    </tr>\n",
       "    <tr>\n",
       "      <th>10</th>\n",
       "      <td>Data &amp; Analytics</td>\n",
       "      <td>Data Platforms</td>\n",
       "    </tr>\n",
       "    <tr>\n",
       "      <th>11</th>\n",
       "      <td>Data &amp; Analytics</td>\n",
       "      <td>Data Engineering</td>\n",
       "    </tr>\n",
       "    <tr>\n",
       "      <th>12</th>\n",
       "      <td>Capability Development</td>\n",
       "      <td>Strategic Upskilling &amp; Reskilling</td>\n",
       "    </tr>\n",
       "    <tr>\n",
       "      <th>13</th>\n",
       "      <td>Capability Development</td>\n",
       "      <td>Leadership Development</td>\n",
       "    </tr>\n",
       "    <tr>\n",
       "      <th>14</th>\n",
       "      <td>Capability Development</td>\n",
       "      <td>Building Communities of Practice</td>\n",
       "    </tr>\n",
       "    <tr>\n",
       "      <th>15</th>\n",
       "      <td>Capability Development</td>\n",
       "      <td>Capability Development</td>\n",
       "    </tr>\n",
       "    <tr>\n",
       "      <th>16</th>\n",
       "      <td>Modernisation</td>\n",
       "      <td>Automation &amp; AI</td>\n",
       "    </tr>\n",
       "    <tr>\n",
       "      <th>17</th>\n",
       "      <td>Modernisation</td>\n",
       "      <td>Modernising Legacy Systems</td>\n",
       "    </tr>\n",
       "    <tr>\n",
       "      <th>18</th>\n",
       "      <td>Modernisation</td>\n",
       "      <td>Cloud Computing Migration</td>\n",
       "    </tr>\n",
       "    <tr>\n",
       "      <th>19</th>\n",
       "      <td>Modernisation</td>\n",
       "      <td>DevOps &amp; Agile</td>\n",
       "    </tr>\n",
       "    <tr>\n",
       "      <th>20</th>\n",
       "      <td>Information Security</td>\n",
       "      <td>Security Design &amp; Architecture</td>\n",
       "    </tr>\n",
       "    <tr>\n",
       "      <th>21</th>\n",
       "      <td>Information Security</td>\n",
       "      <td>Cloud Security Assessment &amp; Audits</td>\n",
       "    </tr>\n",
       "    <tr>\n",
       "      <th>22</th>\n",
       "      <td>Information Security</td>\n",
       "      <td>Secure Engineering &amp; DevSecOps</td>\n",
       "    </tr>\n",
       "    <tr>\n",
       "      <th>23</th>\n",
       "      <td>Information Security</td>\n",
       "      <td>Penetration Testing</td>\n",
       "    </tr>\n",
       "    <tr>\n",
       "      <th>24</th>\n",
       "      <td>Digital Services</td>\n",
       "      <td>Discover &amp; Define</td>\n",
       "    </tr>\n",
       "    <tr>\n",
       "      <th>25</th>\n",
       "      <td>Digital Services</td>\n",
       "      <td>Proof of Concept</td>\n",
       "    </tr>\n",
       "    <tr>\n",
       "      <th>26</th>\n",
       "      <td>Digital Services</td>\n",
       "      <td>Build &amp; Deliver</td>\n",
       "    </tr>\n",
       "    <tr>\n",
       "      <th>27</th>\n",
       "      <td>Digital Services</td>\n",
       "      <td>Optimise &amp; Automate</td>\n",
       "    </tr>\n",
       "  </tbody>\n",
       "</table>\n",
       "</div>"
      ],
      "text/plain": [
       "                 practises                            services\n",
       "0    System Implementation                         Social Care\n",
       "1    System Implementation                           Education\n",
       "2    System Implementation                             Housing\n",
       "3    System Implementation                        HR & Finance\n",
       "4    Technology Consulting                 Digital Roadmapping\n",
       "5    Technology Consulting                       IT Governance\n",
       "6    Technology Consulting  Change & Transformation Management\n",
       "7    Technology Consulting            Commercial & Procurement\n",
       "8         Data & Analytics                   Data Architecture\n",
       "9         Data & Analytics    Data Analytics and Visualisation\n",
       "10        Data & Analytics                      Data Platforms\n",
       "11        Data & Analytics                    Data Engineering\n",
       "12  Capability Development   Strategic Upskilling & Reskilling\n",
       "13  Capability Development              Leadership Development\n",
       "14  Capability Development    Building Communities of Practice\n",
       "15  Capability Development              Capability Development\n",
       "16           Modernisation                     Automation & AI\n",
       "17           Modernisation          Modernising Legacy Systems\n",
       "18           Modernisation           Cloud Computing Migration\n",
       "19           Modernisation                      DevOps & Agile\n",
       "20    Information Security      Security Design & Architecture\n",
       "21    Information Security  Cloud Security Assessment & Audits\n",
       "22    Information Security      Secure Engineering & DevSecOps\n",
       "23    Information Security                 Penetration Testing\n",
       "24        Digital Services                   Discover & Define\n",
       "25        Digital Services                    Proof of Concept\n",
       "26        Digital Services                     Build & Deliver\n",
       "27        Digital Services                 Optimise & Automate"
      ]
     },
     "metadata": {},
     "output_type": "display_data"
    },
    {
     "data": {
      "text/plain": [
       "0"
      ]
     },
     "execution_count": 7,
     "metadata": {},
     "output_type": "execute_result"
    }
   ],
   "source": [
    "# BetterGov URL : https://www.bettergov.co.uk/\n",
    "\n",
    "profile_dict = {'practises_url': [r'https://www.bettergov.co.uk/'], 'practises': [], 'services_url': [], 'services': []}\n",
    "\n",
    "soup = produce_soup_from_url(profile_dict['practises_url'][0])\n",
    "html = soup.find_all(lambda tag: tag.name == 'a' and tag.has_attr('href') and r'https://www.bettergov.co.uk/better-' in tag['href'] and tag.find('span'))\n",
    "html = list(set(html))\n",
    "\n",
    "for row_i in html:\n",
    "    \n",
    "    service_url = row_i['href']\n",
    "    profile_dict['services_url'].append(service_url)\n",
    "\n",
    "    service_soup = produce_soup_from_url(service_url)\n",
    "\n",
    "    services = service_soup.find_all('h5')[1::]\n",
    "    \n",
    "    for row_j in services:\n",
    "        profile_dict['services'].append(row_j.text)\n",
    "        profile_dict['practises'].append(row_i.find('span', attrs = {'class': \"nectar-menu-label nectar-pseudo-expand\"}).text)\n",
    "\n",
    "\n",
    "dataframe_builder(profile_dict)"
   ]
  },
  {
   "cell_type": "code",
   "execution_count": 6,
   "metadata": {},
   "outputs": [],
   "source": [
    "# Cambridge Consultants URL : https://www.cambridgeconsultants.com/\n",
    "\n",
    "\n",
    "profile_dict = {'practises_url': ['https://www.cambridgeconsultants.com/'], 'practises': [], 'services_url': [], 'services': []}\n",
    "\n",
    "soup = produce_soup_from_url(r'https://www.cambridgeconsultants.com/')\n",
    "\n",
    "filtered_html = soup.find_all('ul', attrs = {'id' : 'menu-deep-tech'})[0].select('a') # extracts all rows with links correspondong to dropdown menu \"deep tech\"\n",
    "\n",
    "for row_i in filtered_html:\n",
    "\n",
    "    service_url = row_i['href']\n",
    "    profile_dict['services_url'].append(service_url)\n",
    "    # profile_dict['practises'].append(row.text)\n",
    "\n",
    "    service_soup = produce_soup_from_url(service_url)\n",
    "\n",
    "    # service_soup.find_all('div', attrs = {'class' : \"et_pb_row et_pb_row_15\"})\n",
    "\n",
    "    raw_html = service_soup.find_all('ul', attrs = {'class' : \"et_pb_tabs_controls clearfix\"})[0].select('li') # using the initial attrs means we can access the specific children we need to as\n",
    "\n",
    "    for row_j in raw_html:\n",
    "\n",
    "        profile_dict['practises'].append(row_i.text)\n",
    "        profile_dict['services'].append(row_j.text)\n",
    "\n",
    "\n"
   ]
  },
  {
   "cell_type": "code",
   "execution_count": 32,
   "metadata": {},
   "outputs": [],
   "source": [
    "\n",
    "df = dataframe_builder(profile_dict)\n",
    "df_to_csv(df,filename='cambridge_consultants')"
   ]
  },
  {
   "cell_type": "code",
   "execution_count": 60,
   "metadata": {},
   "outputs": [],
   "source": [
    "# Capco URL: https://www.capco.com/Services\n",
    "\n",
    "profile_dict = {'practises_url': ['https://www.capco.com'], 'practises': [], 'services_url': [], 'services': []}\n",
    "\n",
    "soup = produce_soup_from_url(r'https://www.capco.com')\n",
    "services_html = soup.find_all(lambda tag: tag.name == 'a' and '/Services/' in tag['href'] )\n",
    "\n",
    "for row_i in services_html:\n",
    "\n",
    "    service_url = profile_dict['practises_url'][0] + row_i['href']\n",
    "    # print(service_url)\n",
    "    profile_dict['services_url'].append(service_url)\n",
    "\n",
    "    service_soup = produce_soup_from_url(service_url)\n",
    "\n",
    "\n",
    "    exclude_list = ['/Services/digital/knowable','/Services/digital/Further-Swiss-Solutions']\n",
    "    services_list = []\n",
    "    # service_soup = produce_soup_from_url(profile_dict['services_url'][0])\n",
    "\n",
    "\n",
    "    html = service_soup.find_all('div', attrs = {'class' : 'article-content'})\n",
    "\n",
    "    for row_j in html:\n",
    "\n",
    "        if row_j.find('h2'):\n",
    "            if row_j.find('a')['href'] not in exclude_list:\n",
    "                services_list.append(row_j.find('h2').text)\n",
    "                # profile_dict['practises'].append(row_i.text)\n",
    "\n",
    "    services_list = list(set(services_list))\n",
    "    profile_dict['practises'] += [row_i.text]*len(services_list)\n",
    "    # print([row_i.text]*len(services_list))\n",
    "\n",
    "\n",
    "    profile_dict['services'] += services_list\n",
    "    # print(profile_dict)"
   ]
  },
  {
   "cell_type": "code",
   "execution_count": 63,
   "metadata": {},
   "outputs": [],
   "source": [
    "df = dataframe_builder(profile_dict)\n",
    "df_to_csv(df, 'capco')"
   ]
  },
  {
   "cell_type": "code",
   "execution_count": 44,
   "metadata": {},
   "outputs": [
    {
     "name": "stdout",
     "output_type": "stream",
     "text": [
      "Before\n",
      "[' STRATEGY', ' SECURITY SERVICES', ' DATA & ANALYTICS', ' SYSTEMS INTEGRATION', ' DIGITAL ENGINEERING', ' TECHNOLOGY ADVISORY', ' RISK, REGULATORY & COMPLIANCE', ' TRANSFORMATION SERVICES', ' DIGITAL INNOVATION', ' CHANGE SERVICES', ' DATA & ANALYTICS', ' DIGITAL INNOVATION', ' DIGITAL ENGINEERING', ' DIGITAL ENGINEERING', ' DIGITAL INNOVATION', ' DATA & ANALYTICS']\n",
      "After\n",
      "[' STRATEGY', ' SECURITY SERVICES', ' SYSTEMS INTEGRATION', ' DATA & ANALYTICS', ' DIGITAL ENGINEERING', ' TECHNOLOGY ADVISORY', ' RISK, REGULATORY & COMPLIANCE', ' TRANSFORMATION SERVICES', ' DIGITAL INNOVATION', ' CHANGE SERVICES']\n"
     ]
    }
   ],
   "source": [
    "exclude_list = ['/Services/digital/knowable','/Services/digital/Further-Swiss-Solutions']\n",
    "services_list = []\n",
    "\n",
    "service_soup = produce_soup_from_url(profile_dict['services_url'][0])\n",
    "\n",
    "\n",
    "html = service_soup.find_all('div', attrs = {'class' : 'article-content'})\n",
    "\n",
    "\n",
    "for row in html:\n",
    "\n",
    "    if row.find('h2'):\n",
    "        if row.find('a')['href'] not in exclude_list:\n",
    "            services_list.append(row.find('h2').text)\n",
    "            \n",
    "            # print(row.find('a')['href'])\n",
    "    \n",
    "    services_list = list(set(services_list))\n",
    "    # row.find('a')['href']\n",
    "\n",
    "\n",
    "print('Before')\n",
    "print(profile_dict['services'])\n",
    "profile_dict['services'] = list(set(profile_dict['services']))\n",
    "print('After')\n",
    "print(profile_dict['services'])"
   ]
  },
  {
   "cell_type": "code",
   "execution_count": 45,
   "metadata": {},
   "outputs": [
    {
     "data": {
      "text/plain": [
       "[1, 2, 3, 4, 1]"
      ]
     },
     "execution_count": 45,
     "metadata": {},
     "output_type": "execute_result"
    }
   ],
   "source": [
    "[1,2,3,4] + [1]"
   ]
  },
  {
   "cell_type": "code",
   "execution_count": 108,
   "metadata": {},
   "outputs": [
    {
     "data": {
      "text/plain": [
       "[<div class=\"article-content\">\n",
       "           <h2> DATA &amp; ANALYTICS</h2>\n",
       "             <a class=\"article-button article-button-hover\" href=\"/Services/digital/data-and-analytics\" style=\" \">\n",
       "               Read more\n",
       "             </a>\n",
       " \n",
       "         </div>,\n",
       " <div class=\"article-content\">\n",
       "           <h2> DIGITAL INNOVATION</h2>\n",
       "             <a class=\"article-button article-button-hover\" href=\"/Services/digital/digital-innovation\" style=\" \">\n",
       "               Read more\n",
       "             </a>\n",
       " \n",
       "         </div>,\n",
       " <div class=\"article-content\">\n",
       "           <h2> DIGITAL ENGINEERING</h2>\n",
       "             <a class=\"article-button article-button-hover\" href=\"/Services/digital/digital-engineering\" style=\" \">\n",
       "               Read more\n",
       "             </a>\n",
       " \n",
       "         </div>,\n",
       " <div class=\"article-content\">\n",
       "           <h2> knowable: Switzerland’s Digital Portal and AI Platform</h2>\n",
       "             <a class=\"article-button article-button-hover\" href=\"/Services/digital/knowable\" style=\" \">\n",
       "               Read more\n",
       "             </a>\n",
       " \n",
       "         </div>,\n",
       " <div class=\"article-content\">\n",
       "           <h2> Further Swiss Solutions</h2>\n",
       "             <a class=\"article-button article-button-hover\" href=\"/Services/digital/Further-Swiss-Solutions\" style=\" \">\n",
       "               Read more\n",
       "             </a>\n",
       " \n",
       "         </div>,\n",
       " <div class=\"article-content\">\n",
       "           <h2> DIGITAL ENGINEERING</h2>\n",
       "             <a class=\"article-button article-button-hover\" href=\"/Services/digital/digital-engineering\" style=\" \">\n",
       "               Read more\n",
       "             </a>\n",
       " \n",
       "         </div>,\n",
       " <div class=\"article-content\">\n",
       "           <h2> DIGITAL INNOVATION</h2>\n",
       "             <a class=\"article-button article-button-hover\" href=\"/Services/digital/digital-innovation\" style=\" \">\n",
       "               Read more\n",
       "             </a>\n",
       " \n",
       "         </div>,\n",
       " <div class=\"article-content\">\n",
       "           <h2> DATA &amp; ANALYTICS</h2>\n",
       "             <a class=\"article-button article-button-hover\" href=\"/Services/digital/data-and-analytics\" style=\" \">\n",
       "               Read more\n",
       "             </a>\n",
       " \n",
       "         </div>,\n",
       " <div class=\"article-content\">\n",
       "               <h5 class=\"article-date\"></h5>\n",
       "             <h3 class=\"article-title\">FOSTERING DIGITAL OPERATIONAL RESILIENCE IN THE FINANCIAL SERVICES SECTOR IN EUROPE (DORA COMPLIANCE)</h3>\n",
       "               <p class=\"article-text u-font-helvetica-lt-cn\"></p><p><span style=\"color: #c00000;\"> </span></p>\n",
       " <p><span style=\"color: #c00000;\">ALEXANDRE VANDEPUT </span></p><p></p>\n",
       "           </div>,\n",
       " <div class=\"article-content\">\n",
       "               <h5 class=\"article-date\">06 October 2023</h5>\n",
       "             <h3 class=\"article-title\">SHOULD BANKS KEEP AI INNOVATION IN-HOUSE OR PARTNER WITH A THIRD-PARTY VENDOR? </h3>\n",
       "               <p class=\"article-text u-font-helvetica-lt-cn\">There are pros and cons to using external vendors, but when it comes to eliminating AI bias, it is best to partner with an expert.</p>\n",
       "           </div>,\n",
       " <div class=\"article-content\">\n",
       "               <h5 class=\"article-date\">27 September 2023</h5>\n",
       "             <h3 class=\"article-title\">MICROSERVICES CODE FACTORY: GENERATIVE AI’S POTENTIAL FOR END-TO-END AUTOMATION OF BANKING LEGACY SYSTEMS REFACTORING</h3>\n",
       "               <p class=\"article-text u-font-helvetica-lt-cn\">With Generative AI, legacy banking applications refactoring can be automated end-to-end. Our Microservices Code Factory reliably creates quality code within hours vs months. </p>\n",
       "           </div>]"
      ]
     },
     "execution_count": 108,
     "metadata": {},
     "output_type": "execute_result"
    }
   ],
   "source": [
    "\n",
    "# soup = produce_soup_from_url(profile_dict['services_url'][0])\n",
    "# # Find the div with class \"article-content\"\n",
    "# article_divs = soup.find_all('div', class_='article-content')\n",
    "\n",
    "# for article_div in article_divs:\n",
    "#     # Find the h2 tag within the div\n",
    "#     heading = article_div.find('h2')\n",
    "#     if heading:\n",
    "#         print(\"Heading:\", heading.text.strip())\n",
    "\n",
    "#     # Find the link (a tag) within the div\n",
    "#     link = article_div.find('a')\n",
    "#     if link:\n",
    "#         print(\"Link URL:\", link['href'])\n",
    "\n",
    "#         # If you want to extract the text \"Read more\", you can use link.text.strip()\n",
    "#     print()\n",
    "html"
   ]
  },
  {
   "cell_type": "code",
   "execution_count": 109,
   "metadata": {},
   "outputs": [
    {
     "data": {
      "text/plain": [
       "[<h2> DATA &amp; ANALYTICS</h2>,\n",
       " <h2> DIGITAL INNOVATION</h2>,\n",
       " <h2> DIGITAL ENGINEERING</h2>,\n",
       " <h2> knowable: Switzerland’s Digital Portal and AI Platform</h2>,\n",
       " <h2> Further Swiss Solutions</h2>,\n",
       " <h2> DIGITAL ENGINEERING</h2>,\n",
       " <h2> DIGITAL INNOVATION</h2>,\n",
       " <h2> DATA &amp; ANALYTICS</h2>,\n",
       " <h2>How Capco launched a new business for NatWest: Mettle</h2>,\n",
       " <h2>HOW WE BUILT A DIGITAL BANK FOR MILLENNIALS</h2>]"
      ]
     },
     "execution_count": 109,
     "metadata": {},
     "output_type": "execute_result"
    }
   ],
   "source": []
  },
  {
   "cell_type": "code",
   "execution_count": 33,
   "metadata": {},
   "outputs": [],
   "source": [
    "r = requests.get(profile_dict['services_url'][0])"
   ]
  },
  {
   "cell_type": "code",
   "execution_count": 17,
   "metadata": {},
   "outputs": [
    {
     "data": {
      "text/plain": [
       "{'practises_url': ['https://www.capco.com/Services'],\n",
       " 'practises': ['Digital', 'Consulting', 'Technology'],\n",
       " 'services_url': ['/Services/digital',\n",
       "  '/Services/consulting',\n",
       "  '/Services/technology'],\n",
       " 'services': []}"
      ]
     },
     "execution_count": 17,
     "metadata": {},
     "output_type": "execute_result"
    }
   ],
   "source": [
    "services_html\n",
    "profile_dict"
   ]
  },
  {
   "cell_type": "code",
   "execution_count": 20,
   "metadata": {},
   "outputs": [],
   "source": [
    "url = 'https://www.capco.com'\n",
    "soup = produce_soup_from_url(url)"
   ]
  },
  {
   "cell_type": "code",
   "execution_count": 22,
   "metadata": {},
   "outputs": [
    {
     "name": "stdout",
     "output_type": "stream",
     "text": [
      "Digital\n",
      "Consulting\n",
      "Technology\n"
     ]
    }
   ],
   "source": [
    "html = soup.find_all(lambda tag: tag.name == 'a' and '/Services/' in tag['href'] )\n",
    "\n",
    "for row in html:\n",
    "    print(row.text)"
   ]
  },
  {
   "cell_type": "code",
   "execution_count": 43,
   "metadata": {},
   "outputs": [
    {
     "data": {
      "text/plain": [
       "[<a href=\"/Services/digital\">Digital</a>,\n",
       " <a href=\"/Services/consulting\">Consulting</a>,\n",
       " <a href=\"/Services/technology\">Technology</a>]"
      ]
     },
     "execution_count": 43,
     "metadata": {},
     "output_type": "execute_result"
    }
   ],
   "source": [
    "soup.find_all(lambda tag: tag.has_attr('href') and \"/Services/\" in tag['href'] and not tag.has_attr('class'))"
   ]
  },
  {
   "cell_type": "code",
   "execution_count": 6,
   "metadata": {},
   "outputs": [],
   "source": []
  },
  {
   "cell_type": "code",
   "execution_count": 14,
   "metadata": {},
   "outputs": [],
   "source": [
    "df = read_template()"
   ]
  },
  {
   "cell_type": "code",
   "execution_count": 15,
   "metadata": {},
   "outputs": [
    {
     "data": {
      "text/html": [
       "<div>\n",
       "<style scoped>\n",
       "    .dataframe tbody tr th:only-of-type {\n",
       "        vertical-align: middle;\n",
       "    }\n",
       "\n",
       "    .dataframe tbody tr th {\n",
       "        vertical-align: top;\n",
       "    }\n",
       "\n",
       "    .dataframe thead th {\n",
       "        text-align: right;\n",
       "    }\n",
       "</style>\n",
       "<table border=\"1\" class=\"dataframe\">\n",
       "  <thead>\n",
       "    <tr style=\"text-align: right;\">\n",
       "      <th></th>\n",
       "      <th>Date of Collection</th>\n",
       "      <th>Company Name</th>\n",
       "      <th>Website_URL</th>\n",
       "      <th>Public/Private</th>\n",
       "      <th>Practices</th>\n",
       "      <th>Practices_URL</th>\n",
       "      <th>Services</th>\n",
       "      <th>Services_URL</th>\n",
       "      <th>Solutions</th>\n",
       "      <th>Solutions_URL</th>\n",
       "      <th>...</th>\n",
       "      <th>Potential Threats</th>\n",
       "      <th>Long-term Strategy</th>\n",
       "      <th>Recent Activities</th>\n",
       "      <th>Market Responsiveness</th>\n",
       "      <th>Key Executives</th>\n",
       "      <th>Company Culture</th>\n",
       "      <th>Compliance Requirements</th>\n",
       "      <th>Legal Issues/Pending Litigations</th>\n",
       "      <th>Environmental Impact</th>\n",
       "      <th>Social Initiatives</th>\n",
       "    </tr>\n",
       "  </thead>\n",
       "  <tbody>\n",
       "  </tbody>\n",
       "</table>\n",
       "<p>0 rows × 52 columns</p>\n",
       "</div>"
      ],
      "text/plain": [
       "Empty DataFrame\n",
       "Columns: [Date of Collection, Company Name, Website_URL, Public/Private, Practices, Practices_URL, Services, Services_URL, Solutions, Solutions_URL, Previous Close, 52 Week Range, Sector, Industry, Full Time Employees, Market Cap, Fiscal Year Ends, Revenue, EBITDA, Company NPS, Company Glassdoor, MI Summary, Competitive Threat Level, Market Share, Pricing Strategy, Target Market_1, Target Market_2, Channels-to-Market_1 (Social Media), Channels-to-Market_2 (Sales), Channels-to-Market_3 (Promotions/Sponsorship), Market Differentiation (USP), Revenue Trends, Profitability, Growth Rate, Revenue per Employee, Customer Satisfaction, Reviews & Ratings, Customer Complaints, Innovation, Tech Advancements, Patents & Intellectual Property, Emerging Trends, Potential Threats, Long-term Strategy, Recent Activities, Market Responsiveness, Key Executives, Company Culture, Compliance Requirements, Legal Issues/Pending Litigations, Environmental Impact, Social Initiatives]\n",
       "Index: []\n",
       "\n",
       "[0 rows x 52 columns]"
      ]
     },
     "execution_count": 15,
     "metadata": {},
     "output_type": "execute_result"
    }
   ],
   "source": [
    "yahoo_finance."
   ]
  }
 ],
 "metadata": {
  "kernelspec": {
   "display_name": "Python 3",
   "language": "python",
   "name": "python3"
  },
  "language_info": {
   "codemirror_mode": {
    "name": "ipython",
    "version": 3
   },
   "file_extension": ".py",
   "mimetype": "text/x-python",
   "name": "python",
   "nbconvert_exporter": "python",
   "pygments_lexer": "ipython3",
   "version": "3.10.11"
  }
 },
 "nbformat": 4,
 "nbformat_minor": 2
}
