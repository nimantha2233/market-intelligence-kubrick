{
 "cells": [
  {
   "cell_type": "code",
   "execution_count": 1,
   "metadata": {},
   "outputs": [],
   "source": [
    "import pandas as pd\n",
    "import SupportFunctions\n",
    "company_dict = {'company_name':['Capgemini SE', 'AND Digital', 'Dufrain', 'FDM Group (Holdings) Ltd', 'Slalom', 'Tata Consultancy Services Limited', 'Wipro Limited', 'Infosys Limited', 'Credera', 'Infinite Lambda', 'Mesh AI', 'Sparta Global', 'Ten10', 'Fjord Consulting Group', 'BetterGov', 'Cambridge Consultants Limited', 'Capco Limited', 'Cognizant Technology Solutions Corporation', 'IQVIA Holdings Inc', 'Kubrick Group Limited'],\n",
    "        'company_url':['https://www.capgemini.com/','https://www.and.digital/','https://www.dufrain.co.uk/','https://www.fdmgroup.com/','https://www.slalom.com/','https://www.tcs.com','https://www.wipro.com/', 'https://www.infosys.com/', 'https://www.credera.com/en-gb', 'https://infinitelambda.com', 'https://www.mesh-ai.com/', 'https://www.spartaglobal.com', 'https://ten10.com', 'https://fjordconsultinggroup.com', 'https://www.bettergov.co.uk/', 'https://www.cambridgeconsultants.com/', 'https://www.capco.com', 'https://www.cognizant.com', 'https://jobs.iqvia.com/en', 'https://www.kubrickgroup.com'],\n",
    "        'status':['Public','Private','Private','Public','Private','Public','Public', 'Public', 'Private', 'Private', 'Private', 'Private', 'Private', 'Private', 'Private', 'Private', 'Private', 'Public', 'Public', 'Private'],\n",
    "        'ticker':['CAP.PA', '', '', 'FDM.L', '','TCS.BO','WIT', 'INFY', '', '', '', '', '', '', '', '', '', 'CTSH', 'IQV', ''],\n",
    "        'scraper':['scraper_capgemini','scraper_digital','scraper_dufrain','scraper_fdmgroup','scraper_slalom','scraper_tcs','scraper_wipro', 'scraper_infosys', 'scraper_credera', 'scraper_infinitelambda', 'scraper_meshai', 'scraper_spartaglobal', 'scraper_ten10', 'scraper_fjord', 'scraper_bettergov', 'scraper_cambridge', 'scraper_capco', 'scraper_cognizant', 'scraper_iqvia', 'scraper_kubrick']}\n",
    "\n",
    "company_df = pd.DataFrame(company_dict)\n",
    "file_path = r'C:\\Users\\Jack\\Documents\\VS Code\\market-intelligence-kubrick\\Kubrick MI Data.xlsx'\n",
    "excel_file_path = r'C:\\Users\\Jack\\Documents\\VS Code\\market-intelligence-kubrick\\Kubrick MI Diff.xlsx'\n",
    "template_file_path = r'C:\\Users\\Jack\\Documents\\VS Code\\market-intelligence-kubrick\\Template.xlsx'"
   ]
  },
  {
   "cell_type": "code",
   "execution_count": 4,
   "metadata": {},
   "outputs": [
    {
     "name": "stdout",
     "output_type": "stream",
     "text": [
      "Capgemini SE\n"
     ]
    },
    {
     "name": "stderr",
     "output_type": "stream",
     "text": [
      "C:\\Users\\Jack\\AppData\\Local\\Packages\\PythonSoftwareFoundation.Python.3.11_qbz5n2kfra8p0\\LocalCache\\local-packages\\Python311\\site-packages\\openpyxl\\workbook\\child.py:99: UserWarning: Title is more than 31 characters. Some applications may not be able to read the file\n",
      "  warnings.warn(\"Title is more than 31 characters. Some applications may not be able to read the file\")\n",
      "C:\\Users\\Jack\\AppData\\Local\\Packages\\PythonSoftwareFoundation.Python.3.11_qbz5n2kfra8p0\\LocalCache\\local-packages\\Python311\\site-packages\\openpyxl\\workbook\\child.py:99: UserWarning: Title is more than 31 characters. Some applications may not be able to read the file\n",
      "  warnings.warn(\"Title is more than 31 characters. Some applications may not be able to read the file\")\n"
     ]
    },
    {
     "name": "stdout",
     "output_type": "stream",
     "text": [
      "AND Digital\n"
     ]
    },
    {
     "name": "stderr",
     "output_type": "stream",
     "text": [
      "C:\\Users\\Jack\\AppData\\Local\\Packages\\PythonSoftwareFoundation.Python.3.11_qbz5n2kfra8p0\\LocalCache\\local-packages\\Python311\\site-packages\\openpyxl\\workbook\\child.py:99: UserWarning: Title is more than 31 characters. Some applications may not be able to read the file\n",
      "  warnings.warn(\"Title is more than 31 characters. Some applications may not be able to read the file\")\n"
     ]
    },
    {
     "name": "stdout",
     "output_type": "stream",
     "text": [
      "Dufrain\n"
     ]
    },
    {
     "name": "stderr",
     "output_type": "stream",
     "text": [
      "C:\\Users\\Jack\\AppData\\Local\\Packages\\PythonSoftwareFoundation.Python.3.11_qbz5n2kfra8p0\\LocalCache\\local-packages\\Python311\\site-packages\\openpyxl\\workbook\\child.py:99: UserWarning: Title is more than 31 characters. Some applications may not be able to read the file\n",
      "  warnings.warn(\"Title is more than 31 characters. Some applications may not be able to read the file\")\n"
     ]
    },
    {
     "name": "stdout",
     "output_type": "stream",
     "text": [
      "FDM Group (Holdings) Ltd\n"
     ]
    },
    {
     "name": "stderr",
     "output_type": "stream",
     "text": [
      "C:\\Users\\Jack\\AppData\\Local\\Packages\\PythonSoftwareFoundation.Python.3.11_qbz5n2kfra8p0\\LocalCache\\local-packages\\Python311\\site-packages\\openpyxl\\workbook\\child.py:99: UserWarning: Title is more than 31 characters. Some applications may not be able to read the file\n",
      "  warnings.warn(\"Title is more than 31 characters. Some applications may not be able to read the file\")\n"
     ]
    },
    {
     "name": "stdout",
     "output_type": "stream",
     "text": [
      "Slalom\n"
     ]
    },
    {
     "name": "stderr",
     "output_type": "stream",
     "text": [
      "C:\\Users\\Jack\\AppData\\Local\\Packages\\PythonSoftwareFoundation.Python.3.11_qbz5n2kfra8p0\\LocalCache\\local-packages\\Python311\\site-packages\\openpyxl\\workbook\\child.py:99: UserWarning: Title is more than 31 characters. Some applications may not be able to read the file\n",
      "  warnings.warn(\"Title is more than 31 characters. Some applications may not be able to read the file\")\n"
     ]
    },
    {
     "name": "stdout",
     "output_type": "stream",
     "text": [
      "Tata Consultancy Services Limited\n"
     ]
    },
    {
     "name": "stderr",
     "output_type": "stream",
     "text": [
      "C:\\Users\\Jack\\AppData\\Local\\Packages\\PythonSoftwareFoundation.Python.3.11_qbz5n2kfra8p0\\LocalCache\\local-packages\\Python311\\site-packages\\openpyxl\\workbook\\child.py:99: UserWarning: Title is more than 31 characters. Some applications may not be able to read the file\n",
      "  warnings.warn(\"Title is more than 31 characters. Some applications may not be able to read the file\")\n",
      "C:\\Users\\Jack\\AppData\\Local\\Packages\\PythonSoftwareFoundation.Python.3.11_qbz5n2kfra8p0\\LocalCache\\local-packages\\Python311\\site-packages\\openpyxl\\workbook\\child.py:99: UserWarning: Title is more than 31 characters. Some applications may not be able to read the file\n",
      "  warnings.warn(\"Title is more than 31 characters. Some applications may not be able to read the file\")\n"
     ]
    },
    {
     "name": "stdout",
     "output_type": "stream",
     "text": [
      "Wipro Limited\n"
     ]
    },
    {
     "name": "stderr",
     "output_type": "stream",
     "text": [
      "C:\\Users\\Jack\\AppData\\Local\\Packages\\PythonSoftwareFoundation.Python.3.11_qbz5n2kfra8p0\\LocalCache\\local-packages\\Python311\\site-packages\\openpyxl\\workbook\\child.py:99: UserWarning: Title is more than 31 characters. Some applications may not be able to read the file\n",
      "  warnings.warn(\"Title is more than 31 characters. Some applications may not be able to read the file\")\n",
      "C:\\Users\\Jack\\AppData\\Local\\Packages\\PythonSoftwareFoundation.Python.3.11_qbz5n2kfra8p0\\LocalCache\\local-packages\\Python311\\site-packages\\openpyxl\\workbook\\child.py:99: UserWarning: Title is more than 31 characters. Some applications may not be able to read the file\n",
      "  warnings.warn(\"Title is more than 31 characters. Some applications may not be able to read the file\")\n"
     ]
    },
    {
     "name": "stdout",
     "output_type": "stream",
     "text": [
      "Infosys Limited\n"
     ]
    },
    {
     "name": "stderr",
     "output_type": "stream",
     "text": [
      "C:\\Users\\Jack\\AppData\\Local\\Packages\\PythonSoftwareFoundation.Python.3.11_qbz5n2kfra8p0\\LocalCache\\local-packages\\Python311\\site-packages\\openpyxl\\workbook\\child.py:99: UserWarning: Title is more than 31 characters. Some applications may not be able to read the file\n",
      "  warnings.warn(\"Title is more than 31 characters. Some applications may not be able to read the file\")\n",
      "C:\\Users\\Jack\\AppData\\Local\\Packages\\PythonSoftwareFoundation.Python.3.11_qbz5n2kfra8p0\\LocalCache\\local-packages\\Python311\\site-packages\\openpyxl\\workbook\\child.py:99: UserWarning: Title is more than 31 characters. Some applications may not be able to read the file\n",
      "  warnings.warn(\"Title is more than 31 characters. Some applications may not be able to read the file\")\n"
     ]
    },
    {
     "name": "stdout",
     "output_type": "stream",
     "text": [
      "Credera\n"
     ]
    },
    {
     "name": "stderr",
     "output_type": "stream",
     "text": [
      "C:\\Users\\Jack\\AppData\\Local\\Packages\\PythonSoftwareFoundation.Python.3.11_qbz5n2kfra8p0\\LocalCache\\local-packages\\Python311\\site-packages\\openpyxl\\workbook\\child.py:99: UserWarning: Title is more than 31 characters. Some applications may not be able to read the file\n",
      "  warnings.warn(\"Title is more than 31 characters. Some applications may not be able to read the file\")\n"
     ]
    },
    {
     "name": "stdout",
     "output_type": "stream",
     "text": [
      "Infinite Lambda\n"
     ]
    },
    {
     "name": "stderr",
     "output_type": "stream",
     "text": [
      "C:\\Users\\Jack\\AppData\\Local\\Packages\\PythonSoftwareFoundation.Python.3.11_qbz5n2kfra8p0\\LocalCache\\local-packages\\Python311\\site-packages\\openpyxl\\workbook\\child.py:99: UserWarning: Title is more than 31 characters. Some applications may not be able to read the file\n",
      "  warnings.warn(\"Title is more than 31 characters. Some applications may not be able to read the file\")\n"
     ]
    },
    {
     "name": "stdout",
     "output_type": "stream",
     "text": [
      "Mesh AI\n"
     ]
    },
    {
     "name": "stderr",
     "output_type": "stream",
     "text": [
      "C:\\Users\\Jack\\AppData\\Local\\Packages\\PythonSoftwareFoundation.Python.3.11_qbz5n2kfra8p0\\LocalCache\\local-packages\\Python311\\site-packages\\openpyxl\\workbook\\child.py:99: UserWarning: Title is more than 31 characters. Some applications may not be able to read the file\n",
      "  warnings.warn(\"Title is more than 31 characters. Some applications may not be able to read the file\")\n"
     ]
    },
    {
     "name": "stdout",
     "output_type": "stream",
     "text": [
      "Sparta Global\n"
     ]
    },
    {
     "name": "stderr",
     "output_type": "stream",
     "text": [
      "C:\\Users\\Jack\\AppData\\Local\\Packages\\PythonSoftwareFoundation.Python.3.11_qbz5n2kfra8p0\\LocalCache\\local-packages\\Python311\\site-packages\\openpyxl\\workbook\\child.py:99: UserWarning: Title is more than 31 characters. Some applications may not be able to read the file\n",
      "  warnings.warn(\"Title is more than 31 characters. Some applications may not be able to read the file\")\n"
     ]
    },
    {
     "name": "stdout",
     "output_type": "stream",
     "text": [
      "Ten10\n"
     ]
    },
    {
     "name": "stderr",
     "output_type": "stream",
     "text": [
      "C:\\Users\\Jack\\AppData\\Local\\Packages\\PythonSoftwareFoundation.Python.3.11_qbz5n2kfra8p0\\LocalCache\\local-packages\\Python311\\site-packages\\openpyxl\\workbook\\child.py:99: UserWarning: Title is more than 31 characters. Some applications may not be able to read the file\n",
      "  warnings.warn(\"Title is more than 31 characters. Some applications may not be able to read the file\")\n"
     ]
    },
    {
     "name": "stdout",
     "output_type": "stream",
     "text": [
      "Fjord Consulting Group\n"
     ]
    },
    {
     "name": "stderr",
     "output_type": "stream",
     "text": [
      "C:\\Users\\Jack\\AppData\\Local\\Packages\\PythonSoftwareFoundation.Python.3.11_qbz5n2kfra8p0\\LocalCache\\local-packages\\Python311\\site-packages\\openpyxl\\workbook\\child.py:99: UserWarning: Title is more than 31 characters. Some applications may not be able to read the file\n",
      "  warnings.warn(\"Title is more than 31 characters. Some applications may not be able to read the file\")\n"
     ]
    },
    {
     "name": "stdout",
     "output_type": "stream",
     "text": [
      "BetterGov\n"
     ]
    },
    {
     "name": "stderr",
     "output_type": "stream",
     "text": [
      "C:\\Users\\Jack\\AppData\\Local\\Packages\\PythonSoftwareFoundation.Python.3.11_qbz5n2kfra8p0\\LocalCache\\local-packages\\Python311\\site-packages\\openpyxl\\workbook\\child.py:99: UserWarning: Title is more than 31 characters. Some applications may not be able to read the file\n",
      "  warnings.warn(\"Title is more than 31 characters. Some applications may not be able to read the file\")\n"
     ]
    },
    {
     "name": "stdout",
     "output_type": "stream",
     "text": [
      "Cambridge Consultants Limited\n"
     ]
    },
    {
     "name": "stderr",
     "output_type": "stream",
     "text": [
      "C:\\Users\\Jack\\AppData\\Local\\Packages\\PythonSoftwareFoundation.Python.3.11_qbz5n2kfra8p0\\LocalCache\\local-packages\\Python311\\site-packages\\openpyxl\\workbook\\child.py:99: UserWarning: Title is more than 31 characters. Some applications may not be able to read the file\n",
      "  warnings.warn(\"Title is more than 31 characters. Some applications may not be able to read the file\")\n"
     ]
    },
    {
     "name": "stdout",
     "output_type": "stream",
     "text": [
      "Capco Limited\n"
     ]
    },
    {
     "name": "stderr",
     "output_type": "stream",
     "text": [
      "C:\\Users\\Jack\\AppData\\Local\\Packages\\PythonSoftwareFoundation.Python.3.11_qbz5n2kfra8p0\\LocalCache\\local-packages\\Python311\\site-packages\\openpyxl\\workbook\\child.py:99: UserWarning: Title is more than 31 characters. Some applications may not be able to read the file\n",
      "  warnings.warn(\"Title is more than 31 characters. Some applications may not be able to read the file\")\n"
     ]
    },
    {
     "name": "stdout",
     "output_type": "stream",
     "text": [
      "Cognizant Technology Solutions Corporation\n"
     ]
    },
    {
     "name": "stderr",
     "output_type": "stream",
     "text": [
      "C:\\Users\\Jack\\AppData\\Local\\Packages\\PythonSoftwareFoundation.Python.3.11_qbz5n2kfra8p0\\LocalCache\\local-packages\\Python311\\site-packages\\openpyxl\\workbook\\child.py:99: UserWarning: Title is more than 31 characters. Some applications may not be able to read the file\n",
      "  warnings.warn(\"Title is more than 31 characters. Some applications may not be able to read the file\")\n",
      "C:\\Users\\Jack\\AppData\\Local\\Packages\\PythonSoftwareFoundation.Python.3.11_qbz5n2kfra8p0\\LocalCache\\local-packages\\Python311\\site-packages\\openpyxl\\workbook\\child.py:99: UserWarning: Title is more than 31 characters. Some applications may not be able to read the file\n",
      "  warnings.warn(\"Title is more than 31 characters. Some applications may not be able to read the file\")\n"
     ]
    },
    {
     "name": "stdout",
     "output_type": "stream",
     "text": [
      "IQVIA Holdings Inc\n"
     ]
    },
    {
     "name": "stderr",
     "output_type": "stream",
     "text": [
      "C:\\Users\\Jack\\AppData\\Local\\Packages\\PythonSoftwareFoundation.Python.3.11_qbz5n2kfra8p0\\LocalCache\\local-packages\\Python311\\site-packages\\openpyxl\\workbook\\child.py:99: UserWarning: Title is more than 31 characters. Some applications may not be able to read the file\n",
      "  warnings.warn(\"Title is more than 31 characters. Some applications may not be able to read the file\")\n",
      "C:\\Users\\Jack\\AppData\\Local\\Packages\\PythonSoftwareFoundation.Python.3.11_qbz5n2kfra8p0\\LocalCache\\local-packages\\Python311\\site-packages\\openpyxl\\workbook\\child.py:99: UserWarning: Title is more than 31 characters. Some applications may not be able to read the file\n",
      "  warnings.warn(\"Title is more than 31 characters. Some applications may not be able to read the file\")\n"
     ]
    },
    {
     "name": "stdout",
     "output_type": "stream",
     "text": [
      "Kubrick Group Limited\n"
     ]
    },
    {
     "name": "stderr",
     "output_type": "stream",
     "text": [
      "C:\\Users\\Jack\\AppData\\Local\\Packages\\PythonSoftwareFoundation.Python.3.11_qbz5n2kfra8p0\\LocalCache\\local-packages\\Python311\\site-packages\\openpyxl\\workbook\\child.py:99: UserWarning: Title is more than 31 characters. Some applications may not be able to read the file\n",
      "  warnings.warn(\"Title is more than 31 characters. Some applications may not be able to read the file\")\n"
     ]
    }
   ],
   "source": [
    "for company_name in company_dict['company_name']:\n",
    "    print(company_name)\n",
    "    company_url, scraper, status, ticker = SupportFunctions.get_company_metadata(company_name, company_df)\n",
    "\n",
    "    scraped_data = SupportFunctions.get_scraped_company_data(scraper)\n",
    "    yahoo_json = SupportFunctions.get_company_details2(status, ticker)\n",
    "    final_df = SupportFunctions.create_final_df2(company_name, company_url, status, yahoo_json, scraped_data, template_file_path)\n",
    "\n",
    "    old_df = SupportFunctions.read_from_excel(file_path, company_name, template_file_path)\n",
    "\n",
    "    SupportFunctions.log_new_and_modified_rows2(final_df, old_df, company_name, excel_file_path)\n",
    "    SupportFunctions.write_to_excel(final_df, file_path, company_name)\n",
    "\n",
    "    price_report_data=SupportFunctions.get_company_info_pricereport(company_name, ticker, file_path)\n",
    "    SupportFunctions.update_excel(price_report_data, file_path)"
   ]
  },
  {
   "cell_type": "code",
   "execution_count": 78,
   "metadata": {},
   "outputs": [
    {
     "data": {
      "text/html": [
       "<div>\n",
       "<style scoped>\n",
       "    .dataframe tbody tr th:only-of-type {\n",
       "        vertical-align: middle;\n",
       "    }\n",
       "\n",
       "    .dataframe tbody tr th {\n",
       "        vertical-align: top;\n",
       "    }\n",
       "\n",
       "    .dataframe thead th {\n",
       "        text-align: right;\n",
       "    }\n",
       "</style>\n",
       "<table border=\"1\" class=\"dataframe\">\n",
       "  <thead>\n",
       "    <tr style=\"text-align: right;\">\n",
       "      <th></th>\n",
       "      <th>Status</th>\n",
       "      <th>Date of Collection</th>\n",
       "      <th>Company Name</th>\n",
       "      <th>Website_URL</th>\n",
       "      <th>Public/Private</th>\n",
       "      <th>Practices</th>\n",
       "      <th>Practices_URL</th>\n",
       "      <th>Services</th>\n",
       "      <th>Services_URL</th>\n",
       "      <th>Solutions</th>\n",
       "      <th>...</th>\n",
       "      <th>Potential Threats</th>\n",
       "      <th>Long-term Strategy</th>\n",
       "      <th>Recent Activities</th>\n",
       "      <th>Market Responsiveness</th>\n",
       "      <th>Key Executives</th>\n",
       "      <th>Company Culture</th>\n",
       "      <th>Compliance Requirements</th>\n",
       "      <th>Legal Issues/Pending Litigations</th>\n",
       "      <th>Environmental Impact</th>\n",
       "      <th>Social Initiatives</th>\n",
       "    </tr>\n",
       "  </thead>\n",
       "  <tbody>\n",
       "  </tbody>\n",
       "</table>\n",
       "<p>0 rows × 53 columns</p>\n",
       "</div>"
      ],
      "text/plain": [
       "Empty DataFrame\n",
       "Columns: [Status, Date of Collection, Company Name, Website_URL, Public/Private, Practices, Practices_URL, Services, Services_URL, Solutions, Solutions_URL, Previous Close, 52 Week Range, Sector, Industry, Full Time Employees, Market Cap, Fiscal Year Ends, Revenue, EBITDA, Company NPS, Company Glassdoor, MI Summary, Competitive Threat Level, Market Share, Pricing Strategy, Target Market_1, Target Market_2, Channels-to-Market_1 (Social Media), Channels-to-Market_2 (Sales), Channels-to-Market_3 (Promotions/Sponsorship), Market Differentiation (USP), Revenue Trends, Profitability, Growth Rate, Revenue per Employee, Customer Satisfaction, Reviews & Ratings, Customer Complaints, Innovation, Tech Advancements, Patents & Intellectual Property, Emerging Trends, Potential Threats, Long-term Strategy, Recent Activities, Market Responsiveness, Key Executives, Company Culture, Compliance Requirements, Legal Issues/Pending Litigations, Environmental Impact, Social Initiatives]\n",
       "Index: []\n",
       "\n",
       "[0 rows x 53 columns]"
      ]
     },
     "execution_count": 78,
     "metadata": {},
     "output_type": "execute_result"
    }
   ],
   "source": [
    "df1 = final_df.copy()\n",
    "df2 = old_df.copy()\n",
    "\n",
    "cols = list(df1.columns)\n",
    "for column in cols:\n",
    "    df1[column] = df1[column].astype(str)\n",
    "\n",
    "df1['Status'] = 'Added'\n",
    "\n",
    "for column in cols:\n",
    "    df2[column] = df2[column].astype(str)\n",
    "\n",
    "df2['Status'] = 'Removed'\n",
    "\n",
    "new_df = pd.concat([df1, df2]).reset_index(drop=True)\n",
    "new_df.set_index('Status', inplace=True)\n",
    "new_df['Date of Collection'] = pd.to_datetime(new_df['Date of Collection'])\n",
    "#df = pd.DataFrame(new_df.groupby(cols).value_counts())\n",
    "\n",
    "new_df.drop_duplicates(subset=cols, keep=False,inplace=True)\n",
    "new_df.reset_index(inplace=True)\n",
    "new_df\n",
    "\n"
   ]
  },
  {
   "cell_type": "code",
   "execution_count": 1,
   "metadata": {},
   "outputs": [],
   "source": [
    "from collections import defaultdict\n",
    "import requests\n",
    "from bs4 import BeautifulSoup\n",
    "\n",
    "def clean_url(url, home_url):\n",
    "    if home_url in url:\n",
    "        return url\n",
    "    else:\n",
    "        return home_url + url\n",
    "    \n",
    "def scraper_slalom():\n",
    "    company_dict = defaultdict(list)\n",
    "    home_url = 'https://www.slalom.com'\n",
    "    url = 'https://www.slalom.com/gb/en/services'\n",
    "    r = requests.get(url)\n",
    "\n",
    "    soup = BeautifulSoup(r.content, 'html5lib') # If this line causes an error, run 'pip install html5lib' or install html5lib \n",
    "\n",
    "    table_practises = soup.find('div', attrs = {'id':'services-overview-deaa04af28'})\n",
    "    practises = [row.span.text for row in table_practises.findAll('a', attrs = {'class':'cmp-image__link'})]\n",
    "    links = [clean_url(row.get('href'), home_url) for row in table_practises.findAll('a', attrs = {'class':'cmp-image__link'})]\n",
    "\n",
    "    for i in range(len(practises)):\n",
    "        url = links[i]\n",
    "        r = requests.get(url)\n",
    "        print(url)\n",
    "        soup = BeautifulSoup(r.content, 'html5lib') # If this line causes an error, run 'pip install html5lib' or install html5lib \n",
    "        table_expertise = soup.find('div', attrs = {'id':'expertise'})\n",
    "        expertise = [row.text for row in table_expertise.findAll('h4')]\n",
    "        solution = [row.text for row in table_expertise.findAll('p')]\n",
    "        for j in range(len(expertise)):\n",
    "            company_dict['Practices'].append(practises[i])\n",
    "            company_dict['Practices_URL'].append(url)\n",
    "            company_dict['Services'].append(expertise[j])\n",
    "            company_dict['Services_URL'].append(url)\n",
    "            company_dict['Solutions'].append(solution[j])\n",
    "            company_dict['Solutions_URL'].append(url)\n",
    "\n",
    "    return pd.DataFrame(company_dict)"
   ]
  },
  {
   "cell_type": "code",
   "execution_count": 26,
   "metadata": {},
   "outputs": [
    {
     "name": "stdout",
     "output_type": "stream",
     "text": [
      "https://www.partnerbase.com/capgemini-consulting\n",
      "['MySQL', 'Hewlett Packard Enterprise', 'Salesforce', 'Amazon Web Services', 'Oracle', 'Google', 'Adobe', 'Microsoft', 'Red Hat', 'VMware', 'Dell', 'Stripe', 'IBM', 'Esri', 'Fortinet', 'Magento', 'SAP', 'SAS', 'Intel', 'Tenable', 'Nutanix', 'ServiceNow', 'Cisco', 'Snowflake', 'Qlik']\n",
      "https://www.partnerbase.com/fdm-group\n",
      "['Murex']\n",
      "https://www.partnerbase.com/slalom\n",
      "['Salesforce', 'Amazon Web Services', 'Google', 'Adobe', 'Microsoft', 'Facebook', 'Stripe', 'SAS', 'Snowflake', 'Qlik', 'Acquia', 'AgilOne', 'Netsuite', 'Tableau Software', 'Workday', 'Optimizely', 'Looker', 'MuleSoft', 'Docusign', 'Drupal', 'Sitecore', 'Tealium', 'Veeva Systems', 'Box', 'Alteryx']\n",
      "https://www.partnerbase.com/wipro-limited\n",
      "['MySQL', 'Hewlett Packard Enterprise', 'Salesforce', 'Amazon Web Services', 'Oracle', 'Google', 'HubSpot', 'Adobe', 'Microsoft', 'Red Hat', 'VMware', 'Dell', 'IBM', 'Esri', 'Fortinet', 'Magento', 'SAP', 'Symantec CloudSOC', 'SAS', 'Intel', 'Tenable', 'Nutanix', 'ServiceNow', 'Cisco', 'Snowflake']\n",
      "https://www.partnerbase.com/tata-consultancy-services-ltd\n",
      "['MySQL', 'Hewlett Packard Enterprise', 'Salesforce', 'Amazon Web Services', 'Oracle', 'Google', 'Adobe', 'Microsoft', 'Red Hat', 'VMware', 'Dell', 'IBM', 'Fortinet', 'Magento', 'SAP', 'Symantec CloudSOC', 'SAS', 'Zendesk', 'Nutanix', 'ServiceNow', 'Cisco', 'Snowflake', 'Siemens PLM', 'Qlik', 'Quest Software']\n"
     ]
    }
   ],
   "source": [
    "import requests\n",
    "from bs4 import BeautifulSoup\n",
    "company_names = ['Capgemini SE', 'FDM Group (Holdings) Ltd', 'Slalom', 'Tata Consultancy Services Limited', 'Wipro Limited']\n",
    "company_urls = ['https://www.capgemini.com/','https://www.fdmgroup.com/','https://www.slalom.com/','https://www.tcs.com','https://www.wipro.com/']\n",
    "glassdoor_reviews = ['3.8 on Glassdoor (66493 total reviews)','3.2 on Glassdoor (3350 total reviews)','3.9 on Glassdoor (2881 total reviews)','3.7 on Glassdoor (136742 total reviews)','3.7 on Glassdoor (57510 total reviews)']\n",
    "consultancy_rates = ['£312 a unit a day','£290 to £600 a unit a day','£636 to £1,938 a unit a day','£127 a unit a day','£120 to £1,300 a unit a day']\n",
    "my_dict = {}\n",
    "for url in ['https://www.partnerbase.com/capgemini-consulting','https://www.partnerbase.com/fdm-group','https://www.partnerbase.com/slalom','https://www.partnerbase.com/wipro-limited','https://www.partnerbase.com/tata-consultancy-services-ltd']:\n",
    "    r = requests.get(url)\n",
    "    soup = BeautifulSoup(r.content, 'html5lib') # If this line causes an error, run 'pip install html5lib' or install html5lib \n",
    "    table_partners = soup.findAll('td', attrs = {'class':'c-partnerships-table__company-cell'})\n",
    "    my_dict[url] = [partner.text.replace('  View Company ', '') for partner in table_partners]\n",
    "\n",
    "for key in my_dict.keys():\n",
    "    print(key)\n",
    "    print(my_dict[key])\n"
   ]
  },
  {
   "cell_type": "code",
   "execution_count": 73,
   "metadata": {},
   "outputs": [],
   "source": [
    "\n",
    "def company_intel_table(df, company_name, url, file_path=\"kubrick_mi_company_intel\"):\n",
    "    import os\n",
    "    from datetime import datetime\n",
    "    from collections import defaultdict\n",
    "    import numpy as np\n",
    "    if not os.path.exists(f'{file_path}.xlsx'):\n",
    "        empty_df = pd.DataFrame(columns=['Date Collected', 'Company Name', 'URL', 'Practice Ecosystems (Data, AI etc)', \n",
    "                                         'Practice List (delimited)', 'Training Program Duration', 'Tech Partnerships',\n",
    "                                         'Anecdotal Views of Quality', 'Consultant Pricing'])  # Assuming these are your column names\n",
    "        empty_df.to_excel(f'{file_path}.xlsx', engine='openpyxl', index=False)\n",
    "\n",
    "    #try:\n",
    "    data = pd.read_csv(f'{file_path}.csv', encoding='utf-8')\n",
    "    #except UnicodeDecodeError:\n",
    "    #    data = pd.read_csv(file_path, encoding='ISO-8859-1')\n",
    "\n",
    "    data_as_dict = defaultdict(list)\n",
    "\n",
    "    company_names_column = data.iloc[:, 1]\n",
    "    company_exists = company_name in company_names_column.values\n",
    "    #print(1)\n",
    "    data_as_dict[\"Date Collected\"].append(datetime.now().strftime(\"%Y-%m-%d\"))\n",
    "    data_as_dict[\"Company Name\"].append(company_name)\n",
    "    data_as_dict[\"URL\"].append(url)\n",
    "\n",
    "    col_list = ['Practices', 'Services', 'Solutions']\n",
    "    col_list2 = ['Practices', 'Services', 'Solutions']\n",
    "    ecosystems_string = ''\n",
    "    practices_string = ''\n",
    "    #print(2)\n",
    "    for column in col_list:\n",
    "        col_list2.pop(0)\n",
    "        set1 = set({data for data in df[column] if data != f'No {column} Data Available'})\n",
    "        if set1 != set():\n",
    "            ecosystems_list = list(set1)\n",
    "            ecosystems_string = ', '.join(ecosystems_list)\n",
    "            break\n",
    "    #print(3)\n",
    "    for column in col_list2:\n",
    "        set2 = set({data for data in df[column] if data != f'No {column} Data Available'})\n",
    "        #print(set2)\n",
    "        if set2 != set():\n",
    "            practices_list = list(set2)\n",
    "            practices_string = ', '.join(practices_list)\n",
    "            break\n",
    "    #print(4)\n",
    "    data_as_dict[\"Practice Ecosystems (Data, AI etc)\"].append(ecosystems_string)\n",
    "    data_as_dict[\"Practice List (delimited)\"].append(practices_string)\n",
    "\n",
    "    training_duration_index = data.columns.get_loc(\"Training Program Duration\")\n",
    "    #print(5)\n",
    "    if company_exists:\n",
    "\n",
    "        company_index = company_names_column[company_names_column == company_name].index[0]\n",
    "\n",
    "        for col in data.columns[training_duration_index:]:\n",
    "            data_as_dict[col].append(data.at[company_index, col])\n",
    "        \n",
    "        for key, value in data_as_dict.items():\n",
    "            #print(key)\n",
    "            #print(value)\n",
    "            data.at[company_index, key] = value[0]\n",
    "        \n",
    "    else:\n",
    "        for col in data.columns[training_duration_index:]:\n",
    "            if col not in data_as_dict:\n",
    "                data_as_dict[col].append(\"To be completed manually\")\n",
    "        \n",
    "        new_data = pd.DataFrame(data_as_dict)\n",
    "        data = pd.concat([data, new_data], ignore_index=True)\n",
    "    \n",
    "    for column in data.columns[3:]:\n",
    "        data[column] = [f'No {column} Available' if item in ('', ' ', None, 'nan', np.nan) else item for item in data[column]]\n",
    "    data.dropna(inplace=True)\n",
    "    data.reset_index(drop=True, inplace=True)\n",
    "    SupportFunctions.write_to_excel(data, f'{file_path}.xlsx', company_name)\n",
    "    \n",
    "    return"
   ]
  },
  {
   "cell_type": "code",
   "execution_count": 36,
   "metadata": {},
   "outputs": [],
   "source": [
    "company_intel_table(final_df, company_name, company_url)"
   ]
  },
  {
   "cell_type": "code",
   "execution_count": 74,
   "metadata": {},
   "outputs": [
    {
     "name": "stdout",
     "output_type": "stream",
     "text": [
      "Capgemini SE\n",
      "AND Digital\n"
     ]
    },
    {
     "name": "stderr",
     "output_type": "stream",
     "text": [
      "C:\\Users\\Jack\\AppData\\Local\\Temp\\ipykernel_285716\\3474794811.py:62: FutureWarning: Setting an item of incompatible dtype is deprecated and will raise an error in a future version of pandas. Value 'https://www.capgemini.com/' has dtype incompatible with float64, please explicitly cast to a compatible dtype first.\n",
      "  data.at[company_index, key] = value[0]\n",
      "C:\\Users\\Jack\\AppData\\Local\\Temp\\ipykernel_285716\\3474794811.py:62: FutureWarning: Setting an item of incompatible dtype is deprecated and will raise an error in a future version of pandas. Value 'Cloud, Customer first, Intelligent Industry, Enterprise management, Data and artificial intelligence, Cybersecurity, Sustainability' has dtype incompatible with float64, please explicitly cast to a compatible dtype first.\n",
      "  data.at[company_index, key] = value[0]\n",
      "C:\\Users\\Jack\\AppData\\Local\\Temp\\ipykernel_285716\\3474794811.py:62: FutureWarning: Setting an item of incompatible dtype is deprecated and will raise an error in a future version of pandas. Value 'ESG management and reporting, Sustainable technology, Sustainable operations, Commit, Cloud for intelligent industry, Digital core, Intelligent operations, Accelerate your industry, Protect, Cloud for customer first, Capgemini is platinum sponsor of the railway industry association’s innovation conference 2023, Enterprise Sustainability Proposition, Customer experience, Enterprise transformation, Continuous business reinvention, Intelligent business operations, Transform your organisation, Application development and management, Define, Sap Customer Experience (cx), Get the data-powered advantage, Cloud for enterprise management, People experience, Intelligent products and services, Generative AI, Defend, Sustainable products, Enterprise service management, Sustainability strategy and governance' has dtype incompatible with float64, please explicitly cast to a compatible dtype first.\n",
      "  data.at[company_index, key] = value[0]\n",
      "C:\\Users\\Jack\\AppData\\Local\\Packages\\PythonSoftwareFoundation.Python.3.11_qbz5n2kfra8p0\\LocalCache\\local-packages\\Python311\\site-packages\\openpyxl\\workbook\\child.py:99: UserWarning: Title is more than 31 characters. Some applications may not be able to read the file\n",
      "  warnings.warn(\"Title is more than 31 characters. Some applications may not be able to read the file\")\n",
      "C:\\Users\\Jack\\AppData\\Local\\Temp\\ipykernel_285716\\3474794811.py:62: FutureWarning: Setting an item of incompatible dtype is deprecated and will raise an error in a future version of pandas. Value 'https://www.and.digital/' has dtype incompatible with float64, please explicitly cast to a compatible dtype first.\n",
      "  data.at[company_index, key] = value[0]\n",
      "C:\\Users\\Jack\\AppData\\Local\\Temp\\ipykernel_285716\\3474794811.py:62: FutureWarning: Setting an item of incompatible dtype is deprecated and will raise an error in a future version of pandas. Value 'Mobile App Development, Experience Design, Product Strategy, Consulting, Software Engineering, Cloud, Data, AI & Tools, Equip, Public Sector' has dtype incompatible with float64, please explicitly cast to a compatible dtype first.\n",
      "  data.at[company_index, key] = value[0]\n",
      "C:\\Users\\Jack\\AppData\\Local\\Temp\\ipykernel_285716\\3474794811.py:62: FutureWarning: Setting an item of incompatible dtype is deprecated and will raise an error in a future version of pandas. Value 'Content design, Product-oriented ways of working, Quality assurance, Engineering data platforms for growth, Enablement, AI governance & security, Mobile app prototyping & design, Data-driven strategy & transformation, Websites & web apps, Performance engineering, Propositions, LLM & NLP training, Efficiency, API & middleware development, Prototyping & design, User experience prototyping, AI prototyping & proofs of concept, E-commerce, Cloud automation, Platform engineering, Mobile app interface design & build, Cloud migration, Machine learning, Service design, Cloud security, Business case development, User story creation, AI use case development, Data, Mobile app development (native & hybrid), Coding assistance, User interface design & build, Cloud strategy, Solution architecture, Customer & user testing, Delivery, Solution architecture & microservices, Agile data product development, Data insights that drive action, User research' has dtype incompatible with float64, please explicitly cast to a compatible dtype first.\n",
      "  data.at[company_index, key] = value[0]\n",
      "C:\\Users\\Jack\\AppData\\Local\\Packages\\PythonSoftwareFoundation.Python.3.11_qbz5n2kfra8p0\\LocalCache\\local-packages\\Python311\\site-packages\\openpyxl\\workbook\\child.py:99: UserWarning: Title is more than 31 characters. Some applications may not be able to read the file\n",
      "  warnings.warn(\"Title is more than 31 characters. Some applications may not be able to read the file\")\n"
     ]
    },
    {
     "name": "stdout",
     "output_type": "stream",
     "text": [
      "Dufrain\n",
      "FDM Group (Holdings) Ltd\n"
     ]
    },
    {
     "name": "stderr",
     "output_type": "stream",
     "text": [
      "C:\\Users\\Jack\\AppData\\Local\\Temp\\ipykernel_285716\\3474794811.py:62: FutureWarning: Setting an item of incompatible dtype is deprecated and will raise an error in a future version of pandas. Value 'https://www.dufrain.co.uk/' has dtype incompatible with float64, please explicitly cast to a compatible dtype first.\n",
      "  data.at[company_index, key] = value[0]\n",
      "C:\\Users\\Jack\\AppData\\Local\\Temp\\ipykernel_285716\\3474794811.py:62: FutureWarning: Setting an item of incompatible dtype is deprecated and will raise an error in a future version of pandas. Value 'Data Strategy & Architecture, Business Intelligence & Data Analytics Service, Data Management, Data Engineering, Migration & Cloud Adoption' has dtype incompatible with float64, please explicitly cast to a compatible dtype first.\n",
      "  data.at[company_index, key] = value[0]\n",
      "C:\\Users\\Jack\\AppData\\Local\\Temp\\ipykernel_285716\\3474794811.py:62: FutureWarning: Setting an item of incompatible dtype is deprecated and will raise an error in a future version of pandas. Value 'Data Strategy, SaS Training, Data Capability Assessment, BI Analytics, Cloud Data Engineering Services, Data Migration Services, Data Pipelines, Data Driven Culture, Data Architecture Consulting Services, Architecture, Data Strategy Consulting Solutions, Data Quality Management Solutions, BI Reporting Tool Implementation, Regulatory Projects, Data Dashboards & Visualisations, Big Data Storage Solutions, Automated Reporting in Azure, Analytics Maturity Assessment, Data Engineering, Data Governance Solutions, Inference and Advanced Analytics in AWS, Data Warehousing Solutions' has dtype incompatible with float64, please explicitly cast to a compatible dtype first.\n",
      "  data.at[company_index, key] = value[0]\n",
      "C:\\Users\\Jack\\AppData\\Local\\Packages\\PythonSoftwareFoundation.Python.3.11_qbz5n2kfra8p0\\LocalCache\\local-packages\\Python311\\site-packages\\openpyxl\\workbook\\child.py:99: UserWarning: Title is more than 31 characters. Some applications may not be able to read the file\n",
      "  warnings.warn(\"Title is more than 31 characters. Some applications may not be able to read the file\")\n",
      "C:\\Users\\Jack\\AppData\\Local\\Temp\\ipykernel_285716\\3474794811.py:62: FutureWarning: Setting an item of incompatible dtype is deprecated and will raise an error in a future version of pandas. Value 'https://www.fdmgroup.com/' has dtype incompatible with float64, please explicitly cast to a compatible dtype first.\n",
      "  data.at[company_index, key] = value[0]\n",
      "C:\\Users\\Jack\\AppData\\Local\\Temp\\ipykernel_285716\\3474794811.py:62: FutureWarning: Setting an item of incompatible dtype is deprecated and will raise an error in a future version of pandas. Value 'Risk, Regulation & Compliance, IT Operations, Change & Transformation, Software Engineering, Data & Analytics' has dtype incompatible with float64, please explicitly cast to a compatible dtype first.\n",
      "  data.at[company_index, key] = value[0]\n",
      "C:\\Users\\Jack\\AppData\\Local\\Temp\\ipykernel_285716\\3474794811.py:62: FutureWarning: Setting an item of incompatible dtype is deprecated and will raise an error in a future version of pandas. Value 'Business Intelligence, AWS, Data Governance, Portfolio, Programme & Project Management, Data Science, Technical Operations & Security Operations  , Regulatory Change Management, PMO, Development, Change Management, Agile Delivery, Quality Control & Assurance , SRE, Cloud Engineering, Software testing, Data Engineering, Risk Domain SME, DevOps, Business Analysis, Management, Operational Domain Holistic Analysis, Anti-Financial Crime, Product Management' has dtype incompatible with float64, please explicitly cast to a compatible dtype first.\n",
      "  data.at[company_index, key] = value[0]\n",
      "C:\\Users\\Jack\\AppData\\Local\\Packages\\PythonSoftwareFoundation.Python.3.11_qbz5n2kfra8p0\\LocalCache\\local-packages\\Python311\\site-packages\\openpyxl\\workbook\\child.py:99: UserWarning: Title is more than 31 characters. Some applications may not be able to read the file\n",
      "  warnings.warn(\"Title is more than 31 characters. Some applications may not be able to read the file\")\n"
     ]
    },
    {
     "name": "stdout",
     "output_type": "stream",
     "text": [
      "Slalom\n",
      "Tata Consultancy Services Limited\n"
     ]
    },
    {
     "name": "stderr",
     "output_type": "stream",
     "text": [
      "C:\\Users\\Jack\\AppData\\Local\\Temp\\ipykernel_285716\\3474794811.py:62: FutureWarning: Setting an item of incompatible dtype is deprecated and will raise an error in a future version of pandas. Value 'https://www.slalom.com/' has dtype incompatible with float64, please explicitly cast to a compatible dtype first.\n",
      "  data.at[company_index, key] = value[0]\n",
      "C:\\Users\\Jack\\AppData\\Local\\Temp\\ipykernel_285716\\3474794811.py:62: FutureWarning: Setting an item of incompatible dtype is deprecated and will raise an error in a future version of pandas. Value 'Strategy, Operations, Planning & delivery, Organizational change & talent, Experience strategy & design, Systems implementation, Cloud, Digital product building, Privacy & security, Data, Artificial Intelligence, Sustainability' has dtype incompatible with float64, please explicitly cast to a compatible dtype first.\n",
      "  data.at[company_index, key] = value[0]\n",
      "C:\\Users\\Jack\\AppData\\Local\\Temp\\ipykernel_285716\\3474794811.py:62: FutureWarning: Setting an item of incompatible dtype is deprecated and will raise an error in a future version of pandas. Value 'Risk & governance , Brand strategy, Agile delivery & coaching , Business applications, Data strategy, Strategy & impact tracking , Intelligent products , Technology strategy , Lean portfolio management , Literacy & analytics, Migration & modernization, ESG digital transformation , Customer & employee experience , Value chain decarbonization, Customer applications, Advertising & marketing transformation , Business strategy, Business transformation, Product strategy, design & innovation , Product engineering ,  Change management, Engineering & architecture, Infrastructure, Security, Generative AI , Service design, Contact center transformation, Machine learning , Optimization, Platform engineering , Mergers & acquisitions,  Customer strategy, Supply chain, manufacturing & procurement, Operating model design, Integration, Data privacy, Product management , Project & program management, Culture transformation, Data engineering & machine learning , Process improvement, Governance, risk & compliance, Innovation & emerging technology strategy , Management & governance, Talent development & learning' has dtype incompatible with float64, please explicitly cast to a compatible dtype first.\n",
      "  data.at[company_index, key] = value[0]\n",
      "C:\\Users\\Jack\\AppData\\Local\\Packages\\PythonSoftwareFoundation.Python.3.11_qbz5n2kfra8p0\\LocalCache\\local-packages\\Python311\\site-packages\\openpyxl\\workbook\\child.py:99: UserWarning: Title is more than 31 characters. Some applications may not be able to read the file\n",
      "  warnings.warn(\"Title is more than 31 characters. Some applications may not be able to read the file\")\n",
      "C:\\Users\\Jack\\AppData\\Local\\Temp\\ipykernel_285716\\3474794811.py:62: FutureWarning: Setting an item of incompatible dtype is deprecated and will raise an error in a future version of pandas. Value 'https://www.tcs.com' has dtype incompatible with float64, please explicitly cast to a compatible dtype first.\n",
      "  data.at[company_index, key] = value[0]\n",
      "C:\\Users\\Jack\\AppData\\Local\\Temp\\ipykernel_285716\\3474794811.py:62: FutureWarning: Setting an item of incompatible dtype is deprecated and will raise an error in a future version of pandas. Value 'TCS Interactive, IoT Digital Engineering, Consulting, Cybersecurity, Data & Analytics, Cloud, Enterprise Solutions, Sustainability Services, Cognitive Business Operations, Artificial Intelligence,  Network Solutions and Service' has dtype incompatible with float64, please explicitly cast to a compatible dtype first.\n",
      "  data.at[company_index, key] = value[0]\n",
      "C:\\Users\\Jack\\AppData\\Local\\Temp\\ipykernel_285716\\3474794811.py:62: FutureWarning: Setting an item of incompatible dtype is deprecated and will raise an error in a future version of pandas. Value 'Supply chain: Building agile and resilient businesses, 5G enterprise services, Telco cloud and orchestration services, Workspace: Creating intuitive and intelligent workspaces, Human resources: Redefining employee experiences, TCS Business Analytics Solutions, Digital thread, TCS Crystallus™ on SAP, Connected services, Digital experience , Next-gen enterprise transformation, TCS DigiFleet™, CIO advisory services, Connected plants, Cybersecurity advisory and consulting, Privacy and data protection, Networks: Building responsive networks to drive agility, AI-enabled measurement, TCS ConvertCore , Applications: Decoding operations to accelerate speed to market, Intelligent products, TCS Envirozone™, Data center: Building automated, secure, and green solutions, Experience-first commerce , Supply chain as a service, Unlock potential with responsible AI, Mergers and acquisitions, TCS Dexam™, Harness LLMs with GenAI agents for effective enterprise use , TCS Enterprise Navigator™, Network planning and engineering, Governance, risk and compliance   , Digital workplace security , Digital identity management, TCS Intelligent Power Plant, TCS Intelligent Urban Exchange™, Manufacturing powered by GenAI , Cyber-physical security, TCS Daezmo™, Next-gen OSS services, Marketing: Reimagining experiences to enhance engagement, Cognitive network operations, Tap into GenAI for banking, financial services and insurance, Incident response and rapid recovery, Customer experience: Crafting experiences to delight customers, Industrialized SD-WAN, TCS Datom™ , Iconic designs  , Enterprise Cloud, TCS Clever Energy™, Sustainable by Design, TCS Crystallus™ on Oracle Cloud, Enterprise security-as-a-service , TCS and AWS Cloud, TCS and Google Cloud, Finance: Powering strategic financial leadership, Risk and cybersecurity strategy, TCS Crystallus™ on Salesforce, Cloud Strategy and Transformation, Network testing and automation, Intelligent automotive, Insights-driven marketing  , TCS and Microsoft Cloud' has dtype incompatible with float64, please explicitly cast to a compatible dtype first.\n",
      "  data.at[company_index, key] = value[0]\n",
      "C:\\Users\\Jack\\AppData\\Local\\Packages\\PythonSoftwareFoundation.Python.3.11_qbz5n2kfra8p0\\LocalCache\\local-packages\\Python311\\site-packages\\openpyxl\\workbook\\child.py:99: UserWarning: Title is more than 31 characters. Some applications may not be able to read the file\n",
      "  warnings.warn(\"Title is more than 31 characters. Some applications may not be able to read the file\")\n"
     ]
    },
    {
     "name": "stdout",
     "output_type": "stream",
     "text": [
      "Wipro Limited\n",
      "Infosys Limited\n"
     ]
    },
    {
     "name": "stderr",
     "output_type": "stream",
     "text": [
      "C:\\Users\\Jack\\AppData\\Local\\Temp\\ipykernel_285716\\3474794811.py:62: FutureWarning: Setting an item of incompatible dtype is deprecated and will raise an error in a future version of pandas. Value 'https://www.wipro.com/' has dtype incompatible with float64, please explicitly cast to a compatible dtype first.\n",
      "  data.at[company_index, key] = value[0]\n",
      "C:\\Users\\Jack\\AppData\\Local\\Temp\\ipykernel_285716\\3474794811.py:62: FutureWarning: Setting an item of incompatible dtype is deprecated and will raise an error in a future version of pandas. Value 'Cloud, Digital Experiences, Consulting, Business Process, Applications' has dtype incompatible with float64, please explicitly cast to a compatible dtype first.\n",
      "  data.at[company_index, key] = value[0]\n",
      "C:\\Users\\Jack\\AppData\\Local\\Temp\\ipykernel_285716\\3474794811.py:62: FutureWarning: Setting an item of incompatible dtype is deprecated and will raise an error in a future version of pandas. Value 'Retail, Application Simplification, Adobe, Consumer Packaged Good, Life Sciences, Energy, Zuora, Digitalization and Automation, Integration, Telecom, Wipro Digital Experience Platform, Healthcare, Supply Chain Management \n",
      "  , Banking, Pega, Digital Experience, Next–Gen Application Management Services, Utilities, Cloud Business Applications, Finance & Accounting \n",
      "  ' has dtype incompatible with float64, please explicitly cast to a compatible dtype first.\n",
      "  data.at[company_index, key] = value[0]\n",
      "C:\\Users\\Jack\\AppData\\Local\\Packages\\PythonSoftwareFoundation.Python.3.11_qbz5n2kfra8p0\\LocalCache\\local-packages\\Python311\\site-packages\\openpyxl\\workbook\\child.py:99: UserWarning: Title is more than 31 characters. Some applications may not be able to read the file\n",
      "  warnings.warn(\"Title is more than 31 characters. Some applications may not be able to read the file\")\n",
      "C:\\Users\\Jack\\AppData\\Local\\Packages\\PythonSoftwareFoundation.Python.3.11_qbz5n2kfra8p0\\LocalCache\\local-packages\\Python311\\site-packages\\openpyxl\\workbook\\child.py:99: UserWarning: Title is more than 31 characters. Some applications may not be able to read the file\n",
      "  warnings.warn(\"Title is more than 31 characters. Some applications may not be able to read the file\")\n",
      "C:\\Users\\Jack\\AppData\\Local\\Temp\\ipykernel_285716\\3474794811.py:62: FutureWarning: Setting an item of incompatible dtype is deprecated and will raise an error in a future version of pandas. Value 'https://www.credera.com/en-gb' has dtype incompatible with float64, please explicitly cast to a compatible dtype first.\n",
      "  data.at[company_index, key] = value[0]\n",
      "C:\\Users\\Jack\\AppData\\Local\\Temp\\ipykernel_285716\\3474794811.py:62: FutureWarning: Setting an item of incompatible dtype is deprecated and will raise an error in a future version of pandas. Value 'Cloud & engineering, Experience design, Innovation, Management consulting, Data, MarTech, Artificial intelligence, Ecommerce' has dtype incompatible with float64, please explicitly cast to a compatible dtype first.\n",
      "  data.at[company_index, key] = value[0]\n",
      "C:\\Users\\Jack\\AppData\\Local\\Temp\\ipykernel_285716\\3474794811.py:62: FutureWarning: Setting an item of incompatible dtype is deprecated and will raise an error in a future version of pandas. Value 'Ecommerce optimization, Platform engineering, Innovation strategy, User experience strategy, Ecommerce strategy, Strategic alignment, Data democratization, Data strategy, AI everywhere, Data analytics, Data products, Operational excellence, AI models, Cloud data & AI, MarTech optimization, Ecommerce enablement, Cloud advisory, Data architecture, Product & service ideation, AI strategy, Front-end engineering, Cloud native development, Product management, Product & service incubation, Digital design, MarTech enablement, MarTech strategy, Business transformation, AI products, Cloud migration & app modernization' has dtype incompatible with float64, please explicitly cast to a compatible dtype first.\n",
      "  data.at[company_index, key] = value[0]\n",
      "C:\\Users\\Jack\\AppData\\Local\\Packages\\PythonSoftwareFoundation.Python.3.11_qbz5n2kfra8p0\\LocalCache\\local-packages\\Python311\\site-packages\\openpyxl\\workbook\\child.py:99: UserWarning: Title is more than 31 characters. Some applications may not be able to read the file\n",
      "  warnings.warn(\"Title is more than 31 characters. Some applications may not be able to read the file\")\n"
     ]
    },
    {
     "name": "stdout",
     "output_type": "stream",
     "text": [
      "Credera\n",
      "Infinite Lambda\n"
     ]
    },
    {
     "name": "stderr",
     "output_type": "stream",
     "text": [
      "C:\\Users\\Jack\\AppData\\Local\\Temp\\ipykernel_285716\\3474794811.py:62: FutureWarning: Setting an item of incompatible dtype is deprecated and will raise an error in a future version of pandas. Value 'https://infinitelambda.com' has dtype incompatible with float64, please explicitly cast to a compatible dtype first.\n",
      "  data.at[company_index, key] = value[0]\n",
      "C:\\Users\\Jack\\AppData\\Local\\Temp\\ipykernel_285716\\3474794811.py:62: FutureWarning: Setting an item of incompatible dtype is deprecated and will raise an error in a future version of pandas. Value 'Digital & Cloud Transformation, Data & Analytics' has dtype incompatible with float64, please explicitly cast to a compatible dtype first.\n",
      "  data.at[company_index, key] = value[0]\n",
      "C:\\Users\\Jack\\AppData\\Local\\Temp\\ipykernel_285716\\3474794811.py:62: FutureWarning: Setting an item of incompatible dtype is deprecated and will raise an error in a future version of pandas. Value '' has dtype incompatible with float64, please explicitly cast to a compatible dtype first.\n",
      "  data.at[company_index, key] = value[0]\n",
      "C:\\Users\\Jack\\AppData\\Local\\Packages\\PythonSoftwareFoundation.Python.3.11_qbz5n2kfra8p0\\LocalCache\\local-packages\\Python311\\site-packages\\openpyxl\\workbook\\child.py:99: UserWarning: Title is more than 31 characters. Some applications may not be able to read the file\n",
      "  warnings.warn(\"Title is more than 31 characters. Some applications may not be able to read the file\")\n",
      "C:\\Users\\Jack\\AppData\\Local\\Packages\\PythonSoftwareFoundation.Python.3.11_qbz5n2kfra8p0\\LocalCache\\local-packages\\Python311\\site-packages\\openpyxl\\workbook\\child.py:99: UserWarning: Title is more than 31 characters. Some applications may not be able to read the file\n",
      "  warnings.warn(\"Title is more than 31 characters. Some applications may not be able to read the file\")\n"
     ]
    },
    {
     "name": "stdout",
     "output_type": "stream",
     "text": [
      "Mesh AI\n",
      "Sparta Global\n"
     ]
    },
    {
     "name": "stderr",
     "output_type": "stream",
     "text": [
      "C:\\Users\\Jack\\AppData\\Local\\Temp\\ipykernel_285716\\3474794811.py:62: FutureWarning: Setting an item of incompatible dtype is deprecated and will raise an error in a future version of pandas. Value 'https://www.spartaglobal.com' has dtype incompatible with float64, please explicitly cast to a compatible dtype first.\n",
      "  data.at[company_index, key] = value[0]\n",
      "C:\\Users\\Jack\\AppData\\Local\\Temp\\ipykernel_285716\\3474794811.py:62: FutureWarning: Setting an item of incompatible dtype is deprecated and will raise an error in a future version of pandas. Value 'Project Management, Manual Test, Cybersecurity, Software Development, Devops, Data, Business Analysis, Test Engineering' has dtype incompatible with float64, please explicitly cast to a compatible dtype first.\n",
      "  data.at[company_index, key] = value[0]\n",
      "C:\\Users\\Jack\\AppData\\Local\\Temp\\ipykernel_285716\\3474794811.py:62: FutureWarning: Setting an item of incompatible dtype is deprecated and will raise an error in a future version of pandas. Value '' has dtype incompatible with float64, please explicitly cast to a compatible dtype first.\n",
      "  data.at[company_index, key] = value[0]\n",
      "C:\\Users\\Jack\\AppData\\Local\\Packages\\PythonSoftwareFoundation.Python.3.11_qbz5n2kfra8p0\\LocalCache\\local-packages\\Python311\\site-packages\\openpyxl\\workbook\\child.py:99: UserWarning: Title is more than 31 characters. Some applications may not be able to read the file\n",
      "  warnings.warn(\"Title is more than 31 characters. Some applications may not be able to read the file\")\n",
      "C:\\Users\\Jack\\AppData\\Local\\Temp\\ipykernel_285716\\3474794811.py:62: FutureWarning: Setting an item of incompatible dtype is deprecated and will raise an error in a future version of pandas. Value 'https://ten10.com' has dtype incompatible with float64, please explicitly cast to a compatible dtype first.\n",
      "  data.at[company_index, key] = value[0]\n",
      "C:\\Users\\Jack\\AppData\\Local\\Temp\\ipykernel_285716\\3474794811.py:62: FutureWarning: Setting an item of incompatible dtype is deprecated and will raise an error in a future version of pandas. Value 'Cloud & DevOps, RPA, Automation, Software Testing Services, Quality Engineering, Business Analysis' has dtype incompatible with float64, please explicitly cast to a compatible dtype first.\n",
      "  data.at[company_index, key] = value[0]\n",
      "C:\\Users\\Jack\\AppData\\Local\\Temp\\ipykernel_285716\\3474794811.py:62: FutureWarning: Setting an item of incompatible dtype is deprecated and will raise an error in a future version of pandas. Value 'Digital transformation roadmap, Device and Browser Compatibility Testing, Functional and Non-Functional Testing, Performance Test and Engineering, Data Testing, Quality and Test Advisory, Data Testing Solutions, Enterprise Agile delivery roadmap, Web Accessibility Testing, Cloud & DevOps Health Checks, Test Automation Health Check, FinOps review, Platform Team as a Service (PTaaS), Web Accessibility Testing Services, RPA Solutions, Cloud & DevOps Health Check, Quality and Test Leadership, Functional Test and Quality Engineering, Cloud Migration, Rapid Response, Device and Browser Compatability Testing, Complex product migration, Team in a Box, RPA Health Check, Pipeline review, Quality and Test Managed Services, Performance and Load Testing, Test Automation, Cloud & DevOps Solutions, Cloud governance review' has dtype incompatible with float64, please explicitly cast to a compatible dtype first.\n",
      "  data.at[company_index, key] = value[0]\n",
      "C:\\Users\\Jack\\AppData\\Local\\Packages\\PythonSoftwareFoundation.Python.3.11_qbz5n2kfra8p0\\LocalCache\\local-packages\\Python311\\site-packages\\openpyxl\\workbook\\child.py:99: UserWarning: Title is more than 31 characters. Some applications may not be able to read the file\n",
      "  warnings.warn(\"Title is more than 31 characters. Some applications may not be able to read the file\")\n"
     ]
    },
    {
     "name": "stdout",
     "output_type": "stream",
     "text": [
      "Ten10\n",
      "Fjord Consulting Group\n"
     ]
    },
    {
     "name": "stderr",
     "output_type": "stream",
     "text": [
      "C:\\Users\\Jack\\AppData\\Local\\Temp\\ipykernel_285716\\3474794811.py:62: FutureWarning: Setting an item of incompatible dtype is deprecated and will raise an error in a future version of pandas. Value 'https://fjordconsultinggroup.com' has dtype incompatible with float64, please explicitly cast to a compatible dtype first.\n",
      "  data.at[company_index, key] = value[0]\n",
      "C:\\Users\\Jack\\AppData\\Local\\Temp\\ipykernel_285716\\3474794811.py:62: FutureWarning: Setting an item of incompatible dtype is deprecated and will raise an error in a future version of pandas. Value 'Strategy & Operations, Digital and Tech Transformation, Due Diligence' has dtype incompatible with float64, please explicitly cast to a compatible dtype first.\n",
      "  data.at[company_index, key] = value[0]\n",
      "C:\\Users\\Jack\\AppData\\Local\\Temp\\ipykernel_285716\\3474794811.py:62: FutureWarning: Setting an item of incompatible dtype is deprecated and will raise an error in a future version of pandas. Value 'Cost Optimization, Digital Capabilities and Use Case Analysis, Digital Strategy and Advisory, Operating Model Support, Technology Evaluation and Vendor Selection Support, Tech and IT Strategy, Procurement Support, Financial Due Diligence, Customer Intelligence and Analytics, Product and Solution Strategy, Digital Experience, Corporate Growth Strategy, Business Capability and Process Improvement, Commercial Due Diligence' has dtype incompatible with float64, please explicitly cast to a compatible dtype first.\n",
      "  data.at[company_index, key] = value[0]\n",
      "C:\\Users\\Jack\\AppData\\Local\\Packages\\PythonSoftwareFoundation.Python.3.11_qbz5n2kfra8p0\\LocalCache\\local-packages\\Python311\\site-packages\\openpyxl\\workbook\\child.py:99: UserWarning: Title is more than 31 characters. Some applications may not be able to read the file\n",
      "  warnings.warn(\"Title is more than 31 characters. Some applications may not be able to read the file\")\n",
      "C:\\Users\\Jack\\AppData\\Local\\Temp\\ipykernel_285716\\3474794811.py:62: FutureWarning: Setting an item of incompatible dtype is deprecated and will raise an error in a future version of pandas. Value 'https://www.bettergov.co.uk/' has dtype incompatible with float64, please explicitly cast to a compatible dtype first.\n",
      "  data.at[company_index, key] = value[0]\n",
      "C:\\Users\\Jack\\AppData\\Local\\Temp\\ipykernel_285716\\3474794811.py:62: FutureWarning: Setting an item of incompatible dtype is deprecated and will raise an error in a future version of pandas. Value 'Technology Consulting, Digital Services, Information Security, System Implementation, Capability Development, Modernisation, Data & Analytics' has dtype incompatible with float64, please explicitly cast to a compatible dtype first.\n",
      "  data.at[company_index, key] = value[0]\n",
      "C:\\Users\\Jack\\AppData\\Local\\Temp\\ipykernel_285716\\3474794811.py:62: FutureWarning: Setting an item of incompatible dtype is deprecated and will raise an error in a future version of pandas. Value 'Change & Transformation Management, Leadership Development, Housing, Commercial & Procurement, HR & Finance, Optimise & Automate, Cloud Computing Migration, Digital Roadmapping, Modernising Legacy Systems, DevOps & Agile, Data Platforms, Build & Deliver, IT Governance, Building Communities of Practice, Penetration Testing, Social Care, Proof of Concept, Data Architecture, Data Engineering, Security Design & Architecture, Capability Development, Automation & AI, Discover & Define, Cloud Security Assessment & Audits, Secure Engineering & DevSecOps, Strategic Upskilling & Reskilling, Data Analytics and Visualisation, Education' has dtype incompatible with float64, please explicitly cast to a compatible dtype first.\n",
      "  data.at[company_index, key] = value[0]\n",
      "C:\\Users\\Jack\\AppData\\Local\\Packages\\PythonSoftwareFoundation.Python.3.11_qbz5n2kfra8p0\\LocalCache\\local-packages\\Python311\\site-packages\\openpyxl\\workbook\\child.py:99: UserWarning: Title is more than 31 characters. Some applications may not be able to read the file\n",
      "  warnings.warn(\"Title is more than 31 characters. Some applications may not be able to read the file\")\n"
     ]
    },
    {
     "name": "stdout",
     "output_type": "stream",
     "text": [
      "BetterGov\n",
      "Cambridge Consultants Limited\n"
     ]
    },
    {
     "name": "stderr",
     "output_type": "stream",
     "text": [
      "C:\\Users\\Jack\\AppData\\Local\\Packages\\PythonSoftwareFoundation.Python.3.11_qbz5n2kfra8p0\\LocalCache\\local-packages\\Python311\\site-packages\\openpyxl\\workbook\\child.py:99: UserWarning: Title is more than 31 characters. Some applications may not be able to read the file\n",
      "  warnings.warn(\"Title is more than 31 characters. Some applications may not be able to read the file\")\n",
      "C:\\Users\\Jack\\AppData\\Local\\Temp\\ipykernel_285716\\3474794811.py:62: FutureWarning: Setting an item of incompatible dtype is deprecated and will raise an error in a future version of pandas. Value 'https://www.capco.com' has dtype incompatible with float64, please explicitly cast to a compatible dtype first.\n",
      "  data.at[company_index, key] = value[0]\n",
      "C:\\Users\\Jack\\AppData\\Local\\Temp\\ipykernel_285716\\3474794811.py:62: FutureWarning: Setting an item of incompatible dtype is deprecated and will raise an error in a future version of pandas. Value 'Consulting, Technology, Digital' has dtype incompatible with float64, please explicitly cast to a compatible dtype first.\n",
      "  data.at[company_index, key] = value[0]\n",
      "C:\\Users\\Jack\\AppData\\Local\\Temp\\ipykernel_285716\\3474794811.py:62: FutureWarning: Setting an item of incompatible dtype is deprecated and will raise an error in a future version of pandas. Value 'TRANSFORMATION SERVICES, DIGITAL INNOVATION, TECHNOLOGY ADVISORY, STRATEGY, CHANGE SERVICES, DIGITAL ENGINEERING, SYSTEMS INTEGRATION, DATA & ANALYTICS, SECURITY SERVICES, RISK, REGULATORY & COMPLIANCE' has dtype incompatible with float64, please explicitly cast to a compatible dtype first.\n",
      "  data.at[company_index, key] = value[0]\n",
      "C:\\Users\\Jack\\AppData\\Local\\Packages\\PythonSoftwareFoundation.Python.3.11_qbz5n2kfra8p0\\LocalCache\\local-packages\\Python311\\site-packages\\openpyxl\\workbook\\child.py:99: UserWarning: Title is more than 31 characters. Some applications may not be able to read the file\n",
      "  warnings.warn(\"Title is more than 31 characters. Some applications may not be able to read the file\")\n"
     ]
    },
    {
     "name": "stdout",
     "output_type": "stream",
     "text": [
      "Capco Limited\n",
      "Cognizant Technology Solutions Corporation\n"
     ]
    },
    {
     "name": "stderr",
     "output_type": "stream",
     "text": [
      "C:\\Users\\Jack\\AppData\\Local\\Packages\\PythonSoftwareFoundation.Python.3.11_qbz5n2kfra8p0\\LocalCache\\local-packages\\Python311\\site-packages\\openpyxl\\workbook\\child.py:99: UserWarning: Title is more than 31 characters. Some applications may not be able to read the file\n",
      "  warnings.warn(\"Title is more than 31 characters. Some applications may not be able to read the file\")\n",
      "C:\\Users\\Jack\\AppData\\Local\\Temp\\ipykernel_285716\\3474794811.py:62: FutureWarning: Setting an item of incompatible dtype is deprecated and will raise an error in a future version of pandas. Value 'https://jobs.iqvia.com/en' has dtype incompatible with float64, please explicitly cast to a compatible dtype first.\n",
      "  data.at[company_index, key] = value[0]\n",
      "C:\\Users\\Jack\\AppData\\Local\\Temp\\ipykernel_285716\\3474794811.py:62: FutureWarning: Setting an item of incompatible dtype is deprecated and will raise an error in a future version of pandas. Value 'Public Health and Government, Digital Health, Rare Diseases, Virtual Research, Brand Strategy and Management, Genomics, Generics Manufacturers, Gastroenterology & Hepatology, Pricing and Market Access, Study Design, Commercial Compliance, Diabetes, Decentralized Trials, Pediatrics, MedTech, Drug Safety and Pharmacovigilance, Payers, Clinical Trials, ​Patient Associations, Biosimilars, Infectious Diseases and Vaccines, Real World & Health Data Sets, Pharmaceutical Manufacturers, Health Economics and Value, ​Regulatory and Safety, Evidence Networks, Patient Engagement and Support, Regulatory Compliance, Launch Strategy and Management, Central Nervous System, Emerging Biopharma, Healthcare Professional Engagement, Consulting, Information Partner Services, Promotional Strategy, Oncology, Quality Compliance, IQVIA Healthcare-grade AI™, Consumer Health, Functional Services' has dtype incompatible with float64, please explicitly cast to a compatible dtype first.\n",
      "  data.at[company_index, key] = value[0]\n",
      "C:\\Users\\Jack\\AppData\\Local\\Temp\\ipykernel_285716\\3474794811.py:62: FutureWarning: Setting an item of incompatible dtype is deprecated and will raise an error in a future version of pandas. Value 'Therapeutic expertise solutions, Commercialization solutions, New models and methods solutions, Real world evidence solutions, Industry segments solutions, Research and development solutions, Safety & regulatory compliance solutions' has dtype incompatible with float64, please explicitly cast to a compatible dtype first.\n",
      "  data.at[company_index, key] = value[0]\n",
      "C:\\Users\\Jack\\AppData\\Local\\Packages\\PythonSoftwareFoundation.Python.3.11_qbz5n2kfra8p0\\LocalCache\\local-packages\\Python311\\site-packages\\openpyxl\\workbook\\child.py:99: UserWarning: Title is more than 31 characters. Some applications may not be able to read the file\n",
      "  warnings.warn(\"Title is more than 31 characters. Some applications may not be able to read the file\")\n"
     ]
    },
    {
     "name": "stdout",
     "output_type": "stream",
     "text": [
      "IQVIA Holdings Inc\n",
      "Kubrick Group Limited\n"
     ]
    },
    {
     "name": "stderr",
     "output_type": "stream",
     "text": [
      "C:\\Users\\Jack\\AppData\\Local\\Packages\\PythonSoftwareFoundation.Python.3.11_qbz5n2kfra8p0\\LocalCache\\local-packages\\Python311\\site-packages\\openpyxl\\workbook\\child.py:99: UserWarning: Title is more than 31 characters. Some applications may not be able to read the file\n",
      "  warnings.warn(\"Title is more than 31 characters. Some applications may not be able to read the file\")\n"
     ]
    }
   ],
   "source": [
    "for company_name in company_dict['company_name']:\n",
    "    print(company_name)\n",
    "    company_url, scraper, status, ticker = SupportFunctions.get_company_metadata(company_name, company_df)\n",
    "\n",
    "    final_df = pd.read_excel(file_path, sheet_name=company_name)\n",
    "    company_intel_table(final_df, company_name, company_url)\n"
   ]
  },
  {
   "cell_type": "code",
   "execution_count": 41,
   "metadata": {},
   "outputs": [
    {
     "data": {
      "text/html": [
       "<div>\n",
       "<style scoped>\n",
       "    .dataframe tbody tr th:only-of-type {\n",
       "        vertical-align: middle;\n",
       "    }\n",
       "\n",
       "    .dataframe tbody tr th {\n",
       "        vertical-align: top;\n",
       "    }\n",
       "\n",
       "    .dataframe thead th {\n",
       "        text-align: right;\n",
       "    }\n",
       "</style>\n",
       "<table border=\"1\" class=\"dataframe\">\n",
       "  <thead>\n",
       "    <tr style=\"text-align: right;\">\n",
       "      <th></th>\n",
       "      <th>Date of Collection</th>\n",
       "      <th>Company Name</th>\n",
       "      <th>Website_URL</th>\n",
       "      <th>Public/Private</th>\n",
       "      <th>Practices</th>\n",
       "      <th>Practices_URL</th>\n",
       "      <th>Services</th>\n",
       "      <th>Services_URL</th>\n",
       "      <th>Solutions</th>\n",
       "      <th>Solutions_URL</th>\n",
       "      <th>...</th>\n",
       "      <th>Potential Threats</th>\n",
       "      <th>Long-term Strategy</th>\n",
       "      <th>Recent Activities</th>\n",
       "      <th>Market Responsiveness</th>\n",
       "      <th>Key Executives</th>\n",
       "      <th>Company Culture</th>\n",
       "      <th>Compliance Requirements</th>\n",
       "      <th>Legal Issues/Pending Litigations</th>\n",
       "      <th>Environmental Impact</th>\n",
       "      <th>Social Initiatives</th>\n",
       "    </tr>\n",
       "  </thead>\n",
       "  <tbody>\n",
       "    <tr>\n",
       "      <th>0</th>\n",
       "      <td>2024-05-30</td>\n",
       "      <td>Tata Consultancy Services Limited</td>\n",
       "      <td>https://www.tcs.com</td>\n",
       "      <td>Public</td>\n",
       "      <td>Network Solutions and Service</td>\n",
       "      <td>https://www.tcs.com/what-we-do/services/networ...</td>\n",
       "      <td>No Services Data Available</td>\n",
       "      <td>No Services URL Data Available</td>\n",
       "      <td>5G enterprise services</td>\n",
       "      <td>https://www.youtube-nocookie.com/embed/vmbAXyu...</td>\n",
       "      <td>...</td>\n",
       "      <td>No Potential Threats Data Available</td>\n",
       "      <td>No Long-term Strategy Data Available</td>\n",
       "      <td>No Recent Activities Data Available</td>\n",
       "      <td>No Market Responsiveness Data Available</td>\n",
       "      <td>No Key Executives Data Available</td>\n",
       "      <td>No Company Culture Data Available</td>\n",
       "      <td>No Compliance Requirements Data Available</td>\n",
       "      <td>No Legal Issues/Pending Litigations Data Avail...</td>\n",
       "      <td>No Environmental Impact Data Available</td>\n",
       "      <td>No Social Initiatives Data Available</td>\n",
       "    </tr>\n",
       "    <tr>\n",
       "      <th>1</th>\n",
       "      <td>2024-05-30</td>\n",
       "      <td>Tata Consultancy Services Limited</td>\n",
       "      <td>https://www.tcs.com</td>\n",
       "      <td>Public</td>\n",
       "      <td>Network Solutions and Service</td>\n",
       "      <td>https://www.tcs.com/what-we-do/services/networ...</td>\n",
       "      <td>No Services Data Available</td>\n",
       "      <td>No Services URL Data Available</td>\n",
       "      <td>Cognitive network operations</td>\n",
       "      <td>https://www.tcs.com/what-we-do/services/networ...</td>\n",
       "      <td>...</td>\n",
       "      <td>No Potential Threats Data Available</td>\n",
       "      <td>No Long-term Strategy Data Available</td>\n",
       "      <td>No Recent Activities Data Available</td>\n",
       "      <td>No Market Responsiveness Data Available</td>\n",
       "      <td>No Key Executives Data Available</td>\n",
       "      <td>No Company Culture Data Available</td>\n",
       "      <td>No Compliance Requirements Data Available</td>\n",
       "      <td>No Legal Issues/Pending Litigations Data Avail...</td>\n",
       "      <td>No Environmental Impact Data Available</td>\n",
       "      <td>No Social Initiatives Data Available</td>\n",
       "    </tr>\n",
       "    <tr>\n",
       "      <th>2</th>\n",
       "      <td>2024-05-30</td>\n",
       "      <td>Tata Consultancy Services Limited</td>\n",
       "      <td>https://www.tcs.com</td>\n",
       "      <td>Public</td>\n",
       "      <td>Network Solutions and Service</td>\n",
       "      <td>https://www.tcs.com/what-we-do/services/networ...</td>\n",
       "      <td>No Services Data Available</td>\n",
       "      <td>No Services URL Data Available</td>\n",
       "      <td>Industrialized SD-WAN</td>\n",
       "      <td>https://www.tcs.com/what-we-do/services/networ...</td>\n",
       "      <td>...</td>\n",
       "      <td>No Potential Threats Data Available</td>\n",
       "      <td>No Long-term Strategy Data Available</td>\n",
       "      <td>No Recent Activities Data Available</td>\n",
       "      <td>No Market Responsiveness Data Available</td>\n",
       "      <td>No Key Executives Data Available</td>\n",
       "      <td>No Company Culture Data Available</td>\n",
       "      <td>No Compliance Requirements Data Available</td>\n",
       "      <td>No Legal Issues/Pending Litigations Data Avail...</td>\n",
       "      <td>No Environmental Impact Data Available</td>\n",
       "      <td>No Social Initiatives Data Available</td>\n",
       "    </tr>\n",
       "    <tr>\n",
       "      <th>3</th>\n",
       "      <td>2024-05-30</td>\n",
       "      <td>Tata Consultancy Services Limited</td>\n",
       "      <td>https://www.tcs.com</td>\n",
       "      <td>Public</td>\n",
       "      <td>Network Solutions and Service</td>\n",
       "      <td>https://www.tcs.com/what-we-do/services/networ...</td>\n",
       "      <td>No Services Data Available</td>\n",
       "      <td>No Services URL Data Available</td>\n",
       "      <td>Network planning and engineering</td>\n",
       "      <td>https://www.tcs.com/what-we-do/services/networ...</td>\n",
       "      <td>...</td>\n",
       "      <td>No Potential Threats Data Available</td>\n",
       "      <td>No Long-term Strategy Data Available</td>\n",
       "      <td>No Recent Activities Data Available</td>\n",
       "      <td>No Market Responsiveness Data Available</td>\n",
       "      <td>No Key Executives Data Available</td>\n",
       "      <td>No Company Culture Data Available</td>\n",
       "      <td>No Compliance Requirements Data Available</td>\n",
       "      <td>No Legal Issues/Pending Litigations Data Avail...</td>\n",
       "      <td>No Environmental Impact Data Available</td>\n",
       "      <td>No Social Initiatives Data Available</td>\n",
       "    </tr>\n",
       "    <tr>\n",
       "      <th>4</th>\n",
       "      <td>2024-05-30</td>\n",
       "      <td>Tata Consultancy Services Limited</td>\n",
       "      <td>https://www.tcs.com</td>\n",
       "      <td>Public</td>\n",
       "      <td>Network Solutions and Service</td>\n",
       "      <td>https://www.tcs.com/what-we-do/services/networ...</td>\n",
       "      <td>No Services Data Available</td>\n",
       "      <td>No Services URL Data Available</td>\n",
       "      <td>Network testing and automation</td>\n",
       "      <td>https://www.tcs.com/what-we-do/services/networ...</td>\n",
       "      <td>...</td>\n",
       "      <td>No Potential Threats Data Available</td>\n",
       "      <td>No Long-term Strategy Data Available</td>\n",
       "      <td>No Recent Activities Data Available</td>\n",
       "      <td>No Market Responsiveness Data Available</td>\n",
       "      <td>No Key Executives Data Available</td>\n",
       "      <td>No Company Culture Data Available</td>\n",
       "      <td>No Compliance Requirements Data Available</td>\n",
       "      <td>No Legal Issues/Pending Litigations Data Avail...</td>\n",
       "      <td>No Environmental Impact Data Available</td>\n",
       "      <td>No Social Initiatives Data Available</td>\n",
       "    </tr>\n",
       "    <tr>\n",
       "      <th>...</th>\n",
       "      <td>...</td>\n",
       "      <td>...</td>\n",
       "      <td>...</td>\n",
       "      <td>...</td>\n",
       "      <td>...</td>\n",
       "      <td>...</td>\n",
       "      <td>...</td>\n",
       "      <td>...</td>\n",
       "      <td>...</td>\n",
       "      <td>...</td>\n",
       "      <td>...</td>\n",
       "      <td>...</td>\n",
       "      <td>...</td>\n",
       "      <td>...</td>\n",
       "      <td>...</td>\n",
       "      <td>...</td>\n",
       "      <td>...</td>\n",
       "      <td>...</td>\n",
       "      <td>...</td>\n",
       "      <td>...</td>\n",
       "      <td>...</td>\n",
       "    </tr>\n",
       "    <tr>\n",
       "      <th>58</th>\n",
       "      <td>2024-05-30</td>\n",
       "      <td>Tata Consultancy Services Limited</td>\n",
       "      <td>https://www.tcs.com</td>\n",
       "      <td>Public</td>\n",
       "      <td>TCS Interactive</td>\n",
       "      <td>https://www.tcs.com/what-we-do/services/tcs-in...</td>\n",
       "      <td>No Services Data Available</td>\n",
       "      <td>No Services URL Data Available</td>\n",
       "      <td>AI-enabled measurement</td>\n",
       "      <td>https://www.tcs.com/what-we-do/services/tcs-in...</td>\n",
       "      <td>...</td>\n",
       "      <td>No Potential Threats Data Available</td>\n",
       "      <td>No Long-term Strategy Data Available</td>\n",
       "      <td>No Recent Activities Data Available</td>\n",
       "      <td>No Market Responsiveness Data Available</td>\n",
       "      <td>No Key Executives Data Available</td>\n",
       "      <td>No Company Culture Data Available</td>\n",
       "      <td>No Compliance Requirements Data Available</td>\n",
       "      <td>No Legal Issues/Pending Litigations Data Avail...</td>\n",
       "      <td>No Environmental Impact Data Available</td>\n",
       "      <td>No Social Initiatives Data Available</td>\n",
       "    </tr>\n",
       "    <tr>\n",
       "      <th>59</th>\n",
       "      <td>2024-05-30</td>\n",
       "      <td>Tata Consultancy Services Limited</td>\n",
       "      <td>https://www.tcs.com</td>\n",
       "      <td>Public</td>\n",
       "      <td>TCS Interactive</td>\n",
       "      <td>https://www.tcs.com/what-we-do/services/tcs-in...</td>\n",
       "      <td>No Services Data Available</td>\n",
       "      <td>No Services URL Data Available</td>\n",
       "      <td>Digital experience</td>\n",
       "      <td>https://www.tcs.com/what-we-do/services/tcs-in...</td>\n",
       "      <td>...</td>\n",
       "      <td>No Potential Threats Data Available</td>\n",
       "      <td>No Long-term Strategy Data Available</td>\n",
       "      <td>No Recent Activities Data Available</td>\n",
       "      <td>No Market Responsiveness Data Available</td>\n",
       "      <td>No Key Executives Data Available</td>\n",
       "      <td>No Company Culture Data Available</td>\n",
       "      <td>No Compliance Requirements Data Available</td>\n",
       "      <td>No Legal Issues/Pending Litigations Data Avail...</td>\n",
       "      <td>No Environmental Impact Data Available</td>\n",
       "      <td>No Social Initiatives Data Available</td>\n",
       "    </tr>\n",
       "    <tr>\n",
       "      <th>60</th>\n",
       "      <td>2024-05-30</td>\n",
       "      <td>Tata Consultancy Services Limited</td>\n",
       "      <td>https://www.tcs.com</td>\n",
       "      <td>Public</td>\n",
       "      <td>TCS Interactive</td>\n",
       "      <td>https://www.tcs.com/what-we-do/services/tcs-in...</td>\n",
       "      <td>No Services Data Available</td>\n",
       "      <td>No Services URL Data Available</td>\n",
       "      <td>Experience-first commerce</td>\n",
       "      <td>https://www.tcs.com/what-we-do/services/tcs-in...</td>\n",
       "      <td>...</td>\n",
       "      <td>No Potential Threats Data Available</td>\n",
       "      <td>No Long-term Strategy Data Available</td>\n",
       "      <td>No Recent Activities Data Available</td>\n",
       "      <td>No Market Responsiveness Data Available</td>\n",
       "      <td>No Key Executives Data Available</td>\n",
       "      <td>No Company Culture Data Available</td>\n",
       "      <td>No Compliance Requirements Data Available</td>\n",
       "      <td>No Legal Issues/Pending Litigations Data Avail...</td>\n",
       "      <td>No Environmental Impact Data Available</td>\n",
       "      <td>No Social Initiatives Data Available</td>\n",
       "    </tr>\n",
       "    <tr>\n",
       "      <th>61</th>\n",
       "      <td>2024-05-30</td>\n",
       "      <td>Tata Consultancy Services Limited</td>\n",
       "      <td>https://www.tcs.com</td>\n",
       "      <td>Public</td>\n",
       "      <td>TCS Interactive</td>\n",
       "      <td>https://www.tcs.com/what-we-do/services/tcs-in...</td>\n",
       "      <td>No Services Data Available</td>\n",
       "      <td>No Services URL Data Available</td>\n",
       "      <td>Iconic designs</td>\n",
       "      <td>https://www.tcs.com/what-we-do/services/tcs-in...</td>\n",
       "      <td>...</td>\n",
       "      <td>No Potential Threats Data Available</td>\n",
       "      <td>No Long-term Strategy Data Available</td>\n",
       "      <td>No Recent Activities Data Available</td>\n",
       "      <td>No Market Responsiveness Data Available</td>\n",
       "      <td>No Key Executives Data Available</td>\n",
       "      <td>No Company Culture Data Available</td>\n",
       "      <td>No Compliance Requirements Data Available</td>\n",
       "      <td>No Legal Issues/Pending Litigations Data Avail...</td>\n",
       "      <td>No Environmental Impact Data Available</td>\n",
       "      <td>No Social Initiatives Data Available</td>\n",
       "    </tr>\n",
       "    <tr>\n",
       "      <th>62</th>\n",
       "      <td>2024-05-30</td>\n",
       "      <td>Tata Consultancy Services Limited</td>\n",
       "      <td>https://www.tcs.com</td>\n",
       "      <td>Public</td>\n",
       "      <td>TCS Interactive</td>\n",
       "      <td>https://www.tcs.com/what-we-do/services/tcs-in...</td>\n",
       "      <td>No Services Data Available</td>\n",
       "      <td>No Services URL Data Available</td>\n",
       "      <td>Insights-driven marketing</td>\n",
       "      <td>https://www.tcs.com/what-we-do/services/tcs-in...</td>\n",
       "      <td>...</td>\n",
       "      <td>No Potential Threats Data Available</td>\n",
       "      <td>No Long-term Strategy Data Available</td>\n",
       "      <td>No Recent Activities Data Available</td>\n",
       "      <td>No Market Responsiveness Data Available</td>\n",
       "      <td>No Key Executives Data Available</td>\n",
       "      <td>No Company Culture Data Available</td>\n",
       "      <td>No Compliance Requirements Data Available</td>\n",
       "      <td>No Legal Issues/Pending Litigations Data Avail...</td>\n",
       "      <td>No Environmental Impact Data Available</td>\n",
       "      <td>No Social Initiatives Data Available</td>\n",
       "    </tr>\n",
       "  </tbody>\n",
       "</table>\n",
       "<p>63 rows × 52 columns</p>\n",
       "</div>"
      ],
      "text/plain": [
       "   Date of Collection                       Company Name          Website_URL  \\\n",
       "0          2024-05-30  Tata Consultancy Services Limited  https://www.tcs.com   \n",
       "1          2024-05-30  Tata Consultancy Services Limited  https://www.tcs.com   \n",
       "2          2024-05-30  Tata Consultancy Services Limited  https://www.tcs.com   \n",
       "3          2024-05-30  Tata Consultancy Services Limited  https://www.tcs.com   \n",
       "4          2024-05-30  Tata Consultancy Services Limited  https://www.tcs.com   \n",
       "..                ...                                ...                  ...   \n",
       "58         2024-05-30  Tata Consultancy Services Limited  https://www.tcs.com   \n",
       "59         2024-05-30  Tata Consultancy Services Limited  https://www.tcs.com   \n",
       "60         2024-05-30  Tata Consultancy Services Limited  https://www.tcs.com   \n",
       "61         2024-05-30  Tata Consultancy Services Limited  https://www.tcs.com   \n",
       "62         2024-05-30  Tata Consultancy Services Limited  https://www.tcs.com   \n",
       "\n",
       "   Public/Private                       Practices  \\\n",
       "0          Public   Network Solutions and Service   \n",
       "1          Public   Network Solutions and Service   \n",
       "2          Public   Network Solutions and Service   \n",
       "3          Public   Network Solutions and Service   \n",
       "4          Public   Network Solutions and Service   \n",
       "..            ...                             ...   \n",
       "58         Public                 TCS Interactive   \n",
       "59         Public                 TCS Interactive   \n",
       "60         Public                 TCS Interactive   \n",
       "61         Public                 TCS Interactive   \n",
       "62         Public                 TCS Interactive   \n",
       "\n",
       "                                        Practices_URL  \\\n",
       "0   https://www.tcs.com/what-we-do/services/networ...   \n",
       "1   https://www.tcs.com/what-we-do/services/networ...   \n",
       "2   https://www.tcs.com/what-we-do/services/networ...   \n",
       "3   https://www.tcs.com/what-we-do/services/networ...   \n",
       "4   https://www.tcs.com/what-we-do/services/networ...   \n",
       "..                                                ...   \n",
       "58  https://www.tcs.com/what-we-do/services/tcs-in...   \n",
       "59  https://www.tcs.com/what-we-do/services/tcs-in...   \n",
       "60  https://www.tcs.com/what-we-do/services/tcs-in...   \n",
       "61  https://www.tcs.com/what-we-do/services/tcs-in...   \n",
       "62  https://www.tcs.com/what-we-do/services/tcs-in...   \n",
       "\n",
       "                      Services                    Services_URL  \\\n",
       "0   No Services Data Available  No Services URL Data Available   \n",
       "1   No Services Data Available  No Services URL Data Available   \n",
       "2   No Services Data Available  No Services URL Data Available   \n",
       "3   No Services Data Available  No Services URL Data Available   \n",
       "4   No Services Data Available  No Services URL Data Available   \n",
       "..                         ...                             ...   \n",
       "58  No Services Data Available  No Services URL Data Available   \n",
       "59  No Services Data Available  No Services URL Data Available   \n",
       "60  No Services Data Available  No Services URL Data Available   \n",
       "61  No Services Data Available  No Services URL Data Available   \n",
       "62  No Services Data Available  No Services URL Data Available   \n",
       "\n",
       "                           Solutions  \\\n",
       "0             5G enterprise services   \n",
       "1       Cognitive network operations   \n",
       "2              Industrialized SD-WAN   \n",
       "3   Network planning and engineering   \n",
       "4     Network testing and automation   \n",
       "..                               ...   \n",
       "58            AI-enabled measurement   \n",
       "59               Digital experience    \n",
       "60        Experience-first commerce    \n",
       "61                  Iconic designs     \n",
       "62       Insights-driven marketing     \n",
       "\n",
       "                                        Solutions_URL  ...  \\\n",
       "0   https://www.youtube-nocookie.com/embed/vmbAXyu...  ...   \n",
       "1   https://www.tcs.com/what-we-do/services/networ...  ...   \n",
       "2   https://www.tcs.com/what-we-do/services/networ...  ...   \n",
       "3   https://www.tcs.com/what-we-do/services/networ...  ...   \n",
       "4   https://www.tcs.com/what-we-do/services/networ...  ...   \n",
       "..                                                ...  ...   \n",
       "58  https://www.tcs.com/what-we-do/services/tcs-in...  ...   \n",
       "59  https://www.tcs.com/what-we-do/services/tcs-in...  ...   \n",
       "60  https://www.tcs.com/what-we-do/services/tcs-in...  ...   \n",
       "61  https://www.tcs.com/what-we-do/services/tcs-in...  ...   \n",
       "62  https://www.tcs.com/what-we-do/services/tcs-in...  ...   \n",
       "\n",
       "                      Potential Threats                    Long-term Strategy  \\\n",
       "0   No Potential Threats Data Available  No Long-term Strategy Data Available   \n",
       "1   No Potential Threats Data Available  No Long-term Strategy Data Available   \n",
       "2   No Potential Threats Data Available  No Long-term Strategy Data Available   \n",
       "3   No Potential Threats Data Available  No Long-term Strategy Data Available   \n",
       "4   No Potential Threats Data Available  No Long-term Strategy Data Available   \n",
       "..                                  ...                                   ...   \n",
       "58  No Potential Threats Data Available  No Long-term Strategy Data Available   \n",
       "59  No Potential Threats Data Available  No Long-term Strategy Data Available   \n",
       "60  No Potential Threats Data Available  No Long-term Strategy Data Available   \n",
       "61  No Potential Threats Data Available  No Long-term Strategy Data Available   \n",
       "62  No Potential Threats Data Available  No Long-term Strategy Data Available   \n",
       "\n",
       "                      Recent Activities  \\\n",
       "0   No Recent Activities Data Available   \n",
       "1   No Recent Activities Data Available   \n",
       "2   No Recent Activities Data Available   \n",
       "3   No Recent Activities Data Available   \n",
       "4   No Recent Activities Data Available   \n",
       "..                                  ...   \n",
       "58  No Recent Activities Data Available   \n",
       "59  No Recent Activities Data Available   \n",
       "60  No Recent Activities Data Available   \n",
       "61  No Recent Activities Data Available   \n",
       "62  No Recent Activities Data Available   \n",
       "\n",
       "                      Market Responsiveness                    Key Executives  \\\n",
       "0   No Market Responsiveness Data Available  No Key Executives Data Available   \n",
       "1   No Market Responsiveness Data Available  No Key Executives Data Available   \n",
       "2   No Market Responsiveness Data Available  No Key Executives Data Available   \n",
       "3   No Market Responsiveness Data Available  No Key Executives Data Available   \n",
       "4   No Market Responsiveness Data Available  No Key Executives Data Available   \n",
       "..                                      ...                               ...   \n",
       "58  No Market Responsiveness Data Available  No Key Executives Data Available   \n",
       "59  No Market Responsiveness Data Available  No Key Executives Data Available   \n",
       "60  No Market Responsiveness Data Available  No Key Executives Data Available   \n",
       "61  No Market Responsiveness Data Available  No Key Executives Data Available   \n",
       "62  No Market Responsiveness Data Available  No Key Executives Data Available   \n",
       "\n",
       "                      Company Culture  \\\n",
       "0   No Company Culture Data Available   \n",
       "1   No Company Culture Data Available   \n",
       "2   No Company Culture Data Available   \n",
       "3   No Company Culture Data Available   \n",
       "4   No Company Culture Data Available   \n",
       "..                                ...   \n",
       "58  No Company Culture Data Available   \n",
       "59  No Company Culture Data Available   \n",
       "60  No Company Culture Data Available   \n",
       "61  No Company Culture Data Available   \n",
       "62  No Company Culture Data Available   \n",
       "\n",
       "                      Compliance Requirements  \\\n",
       "0   No Compliance Requirements Data Available   \n",
       "1   No Compliance Requirements Data Available   \n",
       "2   No Compliance Requirements Data Available   \n",
       "3   No Compliance Requirements Data Available   \n",
       "4   No Compliance Requirements Data Available   \n",
       "..                                        ...   \n",
       "58  No Compliance Requirements Data Available   \n",
       "59  No Compliance Requirements Data Available   \n",
       "60  No Compliance Requirements Data Available   \n",
       "61  No Compliance Requirements Data Available   \n",
       "62  No Compliance Requirements Data Available   \n",
       "\n",
       "                     Legal Issues/Pending Litigations  \\\n",
       "0   No Legal Issues/Pending Litigations Data Avail...   \n",
       "1   No Legal Issues/Pending Litigations Data Avail...   \n",
       "2   No Legal Issues/Pending Litigations Data Avail...   \n",
       "3   No Legal Issues/Pending Litigations Data Avail...   \n",
       "4   No Legal Issues/Pending Litigations Data Avail...   \n",
       "..                                                ...   \n",
       "58  No Legal Issues/Pending Litigations Data Avail...   \n",
       "59  No Legal Issues/Pending Litigations Data Avail...   \n",
       "60  No Legal Issues/Pending Litigations Data Avail...   \n",
       "61  No Legal Issues/Pending Litigations Data Avail...   \n",
       "62  No Legal Issues/Pending Litigations Data Avail...   \n",
       "\n",
       "                      Environmental Impact  \\\n",
       "0   No Environmental Impact Data Available   \n",
       "1   No Environmental Impact Data Available   \n",
       "2   No Environmental Impact Data Available   \n",
       "3   No Environmental Impact Data Available   \n",
       "4   No Environmental Impact Data Available   \n",
       "..                                     ...   \n",
       "58  No Environmental Impact Data Available   \n",
       "59  No Environmental Impact Data Available   \n",
       "60  No Environmental Impact Data Available   \n",
       "61  No Environmental Impact Data Available   \n",
       "62  No Environmental Impact Data Available   \n",
       "\n",
       "                      Social Initiatives  \n",
       "0   No Social Initiatives Data Available  \n",
       "1   No Social Initiatives Data Available  \n",
       "2   No Social Initiatives Data Available  \n",
       "3   No Social Initiatives Data Available  \n",
       "4   No Social Initiatives Data Available  \n",
       "..                                   ...  \n",
       "58  No Social Initiatives Data Available  \n",
       "59  No Social Initiatives Data Available  \n",
       "60  No Social Initiatives Data Available  \n",
       "61  No Social Initiatives Data Available  \n",
       "62  No Social Initiatives Data Available  \n",
       "\n",
       "[63 rows x 52 columns]"
      ]
     },
     "execution_count": 41,
     "metadata": {},
     "output_type": "execute_result"
    }
   ],
   "source": [
    "pd.read_excel(file_path, sheet_name=company_name)"
   ]
  },
  {
   "cell_type": "code",
   "execution_count": 23,
   "metadata": {},
   "outputs": [
    {
     "data": {
      "text/plain": [
       "\"['Cloud & engineering', 'Experience design', 'Innovation', 'Management consulting', 'Data', 'MarTech', 'Artificial intelligence', 'Ecommerce']\""
      ]
     },
     "execution_count": 23,
     "metadata": {},
     "output_type": "execute_result"
    }
   ],
   "source": [
    "df = pd.read_csv(r'C:\\Users\\Jack\\Documents\\VS Code\\market-intelligence-kubrick\\kubrick_mi_company_intel.csv')\n",
    "df.set_index('Company Name', inplace=True)\n",
    "df.loc['Credera']['Practice Ecosystems (Data, AI etc)']\n"
   ]
  },
  {
   "cell_type": "code",
   "execution_count": 24,
   "metadata": {},
   "outputs": [
    {
     "data": {
      "text/plain": [
       "\"['Ecommerce optimization', 'Platform engineering', 'Innovation strategy', 'User experience strategy', 'Ecommerce strategy', 'Strategic alignment', 'Data democratization', 'Data strategy', 'AI everywhere', 'Data analytics', 'Data products', 'Operational excellence', 'AI models', 'Cloud data & AI', 'MarTech optimization', 'Ecommerce enablement', 'Cloud advisory', 'Data architecture', 'Product & service ideation', 'AI strategy', 'Front-end engineering', 'Cloud native development', 'Product management', 'Product & service incubation', 'Digital design', 'MarTech enablement', 'MarTech strategy', 'Business transformation', 'AI products', 'Cloud migration & app modernization']\""
      ]
     },
     "execution_count": 24,
     "metadata": {},
     "output_type": "execute_result"
    }
   ],
   "source": [
    "df.loc['Credera']['Practice List (delimited)']"
   ]
  },
  {
   "cell_type": "code",
   "execution_count": 3,
   "metadata": {},
   "outputs": [],
   "source": [
    "def import_and_merge_data(company_name: str, excel_file: str = \"Kubrick MI Data.xlsx\", intel_file: str = \"kubrick_mi_company_intel2.xlsx\") -> pd.DataFrame:\n",
    "    import os\n",
    "    from SupportFunctions import log_error\n",
    "    xl_columns_to_retain = [\"Date of Collection\", \"Company Name\", \"Website_URL\", \"Public/Private\", \"Practices\", \"Services\", \"Solutions\"]\n",
    "    final_columns = ['Date Collected', 'Company Name', 'URL', 'Public/Private', 'Practices', 'Services', 'Solutions', \n",
    "                     'Training Program Duration', 'Tech Partnerships', 'Anecdotal Views of Quality', 'Consultant Pricing']\n",
    "    intel_columns = [\"Training Program Duration\", \"Tech Partnerships\", \"Anecdotal Views of Quality\", \"Consultant Pricing\"]\n",
    "\n",
    "    if not os.path.exists(excel_file):\n",
    "        log_error(f\"File {excel_file} does not exists\")\n",
    "        return None\n",
    "\n",
    "    # Check if the sheet exists in the Excel file\n",
    "    excel_sheets = pd.ExcelFile(excel_file).sheet_names\n",
    "    if company_name not in excel_sheets:\n",
    "        log_error(f\"{company_name} does not have webscrape data. Make sure to run the webscrape function.\")\n",
    "        return None\n",
    "\n",
    "    excel_df = pd.read_excel(excel_file, sheet_name=company_name)\n",
    "    excel_df = excel_df[xl_columns_to_retain]\n",
    "    #display(excel_df)\n",
    "\n",
    "    # Check if the Excel file for company intel exists\n",
    "    if not os.path.exists(intel_file):\n",
    "        # Create an empty DataFrame with the final columns and save it to create the file\n",
    "        with pd.ExcelWriter(intel_file) as writer:\n",
    "            empty_df = pd.DataFrame(columns=final_columns)\n",
    "            empty_df.to_excel(writer, index=False)\n",
    "\n",
    "    intel_sheets = pd.ExcelFile(intel_file).sheet_names\n",
    "\n",
    "    if company_name not in intel_sheets:\n",
    "        for col in intel_columns:\n",
    "            excel_df[col] = \"To be completed manually\"\n",
    "        \n",
    "        with pd.ExcelWriter(intel_file, mode='a', engine='openpyxl') as writer:\n",
    "            excel_df.to_excel(writer, index=False, sheet_name=company_name)\n",
    "\n",
    "    else:\n",
    "        company_df = pd.read_excel(intel_file, sheet_name=company_name)\n",
    "        intel_values = company_df.iloc[0][intel_columns].values\n",
    "        for i, col in enumerate(intel_columns):\n",
    "            excel_df[col] = intel_values[i]\n",
    "        with pd.ExcelWriter(intel_file, mode='a', engine='openpyxl') as writer:\n",
    "            writer.book.remove(writer.book[company_name])\n",
    "            excel_df.to_excel(writer, index=False, sheet_name=company_name)\n",
    "\n",
    "    return True"
   ]
  },
  {
   "cell_type": "code",
   "execution_count": 6,
   "metadata": {},
   "outputs": [
    {
     "name": "stdout",
     "output_type": "stream",
     "text": [
      "AND Digital\n"
     ]
    },
    {
     "name": "stderr",
     "output_type": "stream",
     "text": [
      "C:\\Users\\Jack\\AppData\\Local\\Packages\\PythonSoftwareFoundation.Python.3.11_qbz5n2kfra8p0\\LocalCache\\local-packages\\Python311\\site-packages\\openpyxl\\workbook\\child.py:99: UserWarning: Title is more than 31 characters. Some applications may not be able to read the file\n",
      "  warnings.warn(\"Title is more than 31 characters. Some applications may not be able to read the file\")\n"
     ]
    },
    {
     "name": "stdout",
     "output_type": "stream",
     "text": [
      "BetterGov\n"
     ]
    },
    {
     "name": "stderr",
     "output_type": "stream",
     "text": [
      "C:\\Users\\Jack\\AppData\\Local\\Packages\\PythonSoftwareFoundation.Python.3.11_qbz5n2kfra8p0\\LocalCache\\local-packages\\Python311\\site-packages\\openpyxl\\workbook\\child.py:99: UserWarning: Title is more than 31 characters. Some applications may not be able to read the file\n",
      "  warnings.warn(\"Title is more than 31 characters. Some applications may not be able to read the file\")\n"
     ]
    },
    {
     "name": "stdout",
     "output_type": "stream",
     "text": [
      "Cambridge Consultants Limited\n"
     ]
    },
    {
     "name": "stderr",
     "output_type": "stream",
     "text": [
      "C:\\Users\\Jack\\AppData\\Local\\Packages\\PythonSoftwareFoundation.Python.3.11_qbz5n2kfra8p0\\LocalCache\\local-packages\\Python311\\site-packages\\openpyxl\\workbook\\child.py:99: UserWarning: Title is more than 31 characters. Some applications may not be able to read the file\n",
      "  warnings.warn(\"Title is more than 31 characters. Some applications may not be able to read the file\")\n"
     ]
    },
    {
     "name": "stdout",
     "output_type": "stream",
     "text": [
      "Capco Limited\n"
     ]
    },
    {
     "name": "stderr",
     "output_type": "stream",
     "text": [
      "C:\\Users\\Jack\\AppData\\Local\\Packages\\PythonSoftwareFoundation.Python.3.11_qbz5n2kfra8p0\\LocalCache\\local-packages\\Python311\\site-packages\\openpyxl\\workbook\\child.py:99: UserWarning: Title is more than 31 characters. Some applications may not be able to read the file\n",
      "  warnings.warn(\"Title is more than 31 characters. Some applications may not be able to read the file\")\n"
     ]
    },
    {
     "name": "stdout",
     "output_type": "stream",
     "text": [
      "Capgemini SE\n"
     ]
    },
    {
     "name": "stderr",
     "output_type": "stream",
     "text": [
      "C:\\Users\\Jack\\AppData\\Local\\Packages\\PythonSoftwareFoundation.Python.3.11_qbz5n2kfra8p0\\LocalCache\\local-packages\\Python311\\site-packages\\openpyxl\\workbook\\child.py:99: UserWarning: Title is more than 31 characters. Some applications may not be able to read the file\n",
      "  warnings.warn(\"Title is more than 31 characters. Some applications may not be able to read the file\")\n"
     ]
    },
    {
     "name": "stdout",
     "output_type": "stream",
     "text": [
      "Cognizant Technology Solutions Corporation\n"
     ]
    },
    {
     "name": "stderr",
     "output_type": "stream",
     "text": [
      "C:\\Users\\Jack\\AppData\\Local\\Packages\\PythonSoftwareFoundation.Python.3.11_qbz5n2kfra8p0\\LocalCache\\local-packages\\Python311\\site-packages\\openpyxl\\workbook\\child.py:99: UserWarning: Title is more than 31 characters. Some applications may not be able to read the file\n",
      "  warnings.warn(\"Title is more than 31 characters. Some applications may not be able to read the file\")\n"
     ]
    },
    {
     "name": "stdout",
     "output_type": "stream",
     "text": [
      "Credera\n"
     ]
    },
    {
     "name": "stderr",
     "output_type": "stream",
     "text": [
      "C:\\Users\\Jack\\AppData\\Local\\Packages\\PythonSoftwareFoundation.Python.3.11_qbz5n2kfra8p0\\LocalCache\\local-packages\\Python311\\site-packages\\openpyxl\\workbook\\child.py:99: UserWarning: Title is more than 31 characters. Some applications may not be able to read the file\n",
      "  warnings.warn(\"Title is more than 31 characters. Some applications may not be able to read the file\")\n"
     ]
    },
    {
     "name": "stdout",
     "output_type": "stream",
     "text": [
      "Dufrain\n"
     ]
    },
    {
     "name": "stderr",
     "output_type": "stream",
     "text": [
      "C:\\Users\\Jack\\AppData\\Local\\Packages\\PythonSoftwareFoundation.Python.3.11_qbz5n2kfra8p0\\LocalCache\\local-packages\\Python311\\site-packages\\openpyxl\\workbook\\child.py:99: UserWarning: Title is more than 31 characters. Some applications may not be able to read the file\n",
      "  warnings.warn(\"Title is more than 31 characters. Some applications may not be able to read the file\")\n"
     ]
    },
    {
     "name": "stdout",
     "output_type": "stream",
     "text": [
      "FDM Group (Holdings) Ltd\n"
     ]
    },
    {
     "name": "stderr",
     "output_type": "stream",
     "text": [
      "C:\\Users\\Jack\\AppData\\Local\\Packages\\PythonSoftwareFoundation.Python.3.11_qbz5n2kfra8p0\\LocalCache\\local-packages\\Python311\\site-packages\\openpyxl\\workbook\\child.py:99: UserWarning: Title is more than 31 characters. Some applications may not be able to read the file\n",
      "  warnings.warn(\"Title is more than 31 characters. Some applications may not be able to read the file\")\n"
     ]
    },
    {
     "name": "stdout",
     "output_type": "stream",
     "text": [
      "Fjord Consulting Group\n"
     ]
    },
    {
     "name": "stderr",
     "output_type": "stream",
     "text": [
      "C:\\Users\\Jack\\AppData\\Local\\Packages\\PythonSoftwareFoundation.Python.3.11_qbz5n2kfra8p0\\LocalCache\\local-packages\\Python311\\site-packages\\openpyxl\\workbook\\child.py:99: UserWarning: Title is more than 31 characters. Some applications may not be able to read the file\n",
      "  warnings.warn(\"Title is more than 31 characters. Some applications may not be able to read the file\")\n"
     ]
    },
    {
     "name": "stdout",
     "output_type": "stream",
     "text": [
      "IQVIA Holdings Inc\n"
     ]
    },
    {
     "name": "stderr",
     "output_type": "stream",
     "text": [
      "C:\\Users\\Jack\\AppData\\Local\\Packages\\PythonSoftwareFoundation.Python.3.11_qbz5n2kfra8p0\\LocalCache\\local-packages\\Python311\\site-packages\\openpyxl\\workbook\\child.py:99: UserWarning: Title is more than 31 characters. Some applications may not be able to read the file\n",
      "  warnings.warn(\"Title is more than 31 characters. Some applications may not be able to read the file\")\n"
     ]
    },
    {
     "name": "stdout",
     "output_type": "stream",
     "text": [
      "Infinite Lambda\n"
     ]
    },
    {
     "name": "stderr",
     "output_type": "stream",
     "text": [
      "C:\\Users\\Jack\\AppData\\Local\\Packages\\PythonSoftwareFoundation.Python.3.11_qbz5n2kfra8p0\\LocalCache\\local-packages\\Python311\\site-packages\\openpyxl\\workbook\\child.py:99: UserWarning: Title is more than 31 characters. Some applications may not be able to read the file\n",
      "  warnings.warn(\"Title is more than 31 characters. Some applications may not be able to read the file\")\n"
     ]
    },
    {
     "name": "stdout",
     "output_type": "stream",
     "text": [
      "Infosys Limited\n"
     ]
    },
    {
     "name": "stderr",
     "output_type": "stream",
     "text": [
      "C:\\Users\\Jack\\AppData\\Local\\Packages\\PythonSoftwareFoundation.Python.3.11_qbz5n2kfra8p0\\LocalCache\\local-packages\\Python311\\site-packages\\openpyxl\\workbook\\child.py:99: UserWarning: Title is more than 31 characters. Some applications may not be able to read the file\n",
      "  warnings.warn(\"Title is more than 31 characters. Some applications may not be able to read the file\")\n"
     ]
    },
    {
     "name": "stdout",
     "output_type": "stream",
     "text": [
      "Kubrick Group Limited\n"
     ]
    },
    {
     "name": "stderr",
     "output_type": "stream",
     "text": [
      "C:\\Users\\Jack\\AppData\\Local\\Packages\\PythonSoftwareFoundation.Python.3.11_qbz5n2kfra8p0\\LocalCache\\local-packages\\Python311\\site-packages\\openpyxl\\workbook\\child.py:99: UserWarning: Title is more than 31 characters. Some applications may not be able to read the file\n",
      "  warnings.warn(\"Title is more than 31 characters. Some applications may not be able to read the file\")\n"
     ]
    },
    {
     "name": "stdout",
     "output_type": "stream",
     "text": [
      "Mesh AI\n"
     ]
    },
    {
     "name": "stderr",
     "output_type": "stream",
     "text": [
      "C:\\Users\\Jack\\AppData\\Local\\Packages\\PythonSoftwareFoundation.Python.3.11_qbz5n2kfra8p0\\LocalCache\\local-packages\\Python311\\site-packages\\openpyxl\\workbook\\child.py:99: UserWarning: Title is more than 31 characters. Some applications may not be able to read the file\n",
      "  warnings.warn(\"Title is more than 31 characters. Some applications may not be able to read the file\")\n"
     ]
    },
    {
     "name": "stdout",
     "output_type": "stream",
     "text": [
      "Slalom\n"
     ]
    },
    {
     "name": "stderr",
     "output_type": "stream",
     "text": [
      "C:\\Users\\Jack\\AppData\\Local\\Packages\\PythonSoftwareFoundation.Python.3.11_qbz5n2kfra8p0\\LocalCache\\local-packages\\Python311\\site-packages\\openpyxl\\workbook\\child.py:99: UserWarning: Title is more than 31 characters. Some applications may not be able to read the file\n",
      "  warnings.warn(\"Title is more than 31 characters. Some applications may not be able to read the file\")\n"
     ]
    },
    {
     "name": "stdout",
     "output_type": "stream",
     "text": [
      "Sparta Global\n"
     ]
    },
    {
     "name": "stderr",
     "output_type": "stream",
     "text": [
      "C:\\Users\\Jack\\AppData\\Local\\Packages\\PythonSoftwareFoundation.Python.3.11_qbz5n2kfra8p0\\LocalCache\\local-packages\\Python311\\site-packages\\openpyxl\\workbook\\child.py:99: UserWarning: Title is more than 31 characters. Some applications may not be able to read the file\n",
      "  warnings.warn(\"Title is more than 31 characters. Some applications may not be able to read the file\")\n"
     ]
    },
    {
     "name": "stdout",
     "output_type": "stream",
     "text": [
      "Tata Consultancy Services Limited\n"
     ]
    },
    {
     "name": "stderr",
     "output_type": "stream",
     "text": [
      "C:\\Users\\Jack\\AppData\\Local\\Packages\\PythonSoftwareFoundation.Python.3.11_qbz5n2kfra8p0\\LocalCache\\local-packages\\Python311\\site-packages\\openpyxl\\workbook\\child.py:99: UserWarning: Title is more than 31 characters. Some applications may not be able to read the file\n",
      "  warnings.warn(\"Title is more than 31 characters. Some applications may not be able to read the file\")\n"
     ]
    },
    {
     "name": "stdout",
     "output_type": "stream",
     "text": [
      "Ten10\n"
     ]
    },
    {
     "name": "stderr",
     "output_type": "stream",
     "text": [
      "C:\\Users\\Jack\\AppData\\Local\\Packages\\PythonSoftwareFoundation.Python.3.11_qbz5n2kfra8p0\\LocalCache\\local-packages\\Python311\\site-packages\\openpyxl\\workbook\\child.py:99: UserWarning: Title is more than 31 characters. Some applications may not be able to read the file\n",
      "  warnings.warn(\"Title is more than 31 characters. Some applications may not be able to read the file\")\n"
     ]
    },
    {
     "name": "stdout",
     "output_type": "stream",
     "text": [
      "Wipro Limited\n"
     ]
    },
    {
     "name": "stderr",
     "output_type": "stream",
     "text": [
      "C:\\Users\\Jack\\AppData\\Local\\Packages\\PythonSoftwareFoundation.Python.3.11_qbz5n2kfra8p0\\LocalCache\\local-packages\\Python311\\site-packages\\openpyxl\\workbook\\child.py:99: UserWarning: Title is more than 31 characters. Some applications may not be able to read the file\n",
      "  warnings.warn(\"Title is more than 31 characters. Some applications may not be able to read the file\")\n"
     ]
    }
   ],
   "source": [
    "company_dict['company_name'].sort()\n",
    "for company_name in company_dict['company_name']:\n",
    "    print(company_name)\n",
    "    import_and_merge_data(company_name)"
   ]
  },
  {
   "cell_type": "code",
   "execution_count": 28,
   "metadata": {},
   "outputs": [
    {
     "data": {
      "text/html": [
       "<div>\n",
       "<style scoped>\n",
       "    .dataframe tbody tr th:only-of-type {\n",
       "        vertical-align: middle;\n",
       "    }\n",
       "\n",
       "    .dataframe tbody tr th {\n",
       "        vertical-align: top;\n",
       "    }\n",
       "\n",
       "    .dataframe thead th {\n",
       "        text-align: right;\n",
       "    }\n",
       "</style>\n",
       "<table border=\"1\" class=\"dataframe\">\n",
       "  <thead>\n",
       "    <tr style=\"text-align: right;\">\n",
       "      <th></th>\n",
       "      <th>Date of Collection</th>\n",
       "      <th>Company Name</th>\n",
       "      <th>Website_URL</th>\n",
       "      <th>Public/Private</th>\n",
       "      <th>Practices</th>\n",
       "      <th>Services</th>\n",
       "      <th>Solutions</th>\n",
       "      <th>Training Program Duration</th>\n",
       "      <th>Tech Partnerships</th>\n",
       "      <th>Anecdotal Views of Quality</th>\n",
       "      <th>Consultant Pricing</th>\n",
       "    </tr>\n",
       "  </thead>\n",
       "  <tbody>\n",
       "    <tr>\n",
       "      <th>0</th>\n",
       "      <td>1970-01-01 01:00:45.442</td>\n",
       "      <td>AND Digital</td>\n",
       "      <td>https://www.and.digital/</td>\n",
       "      <td>Private</td>\n",
       "      <td>AI &amp; Tools</td>\n",
       "      <td>AI governance &amp; security</td>\n",
       "      <td>Establish the policies, standards, and practic...</td>\n",
       "      <td>13 days/year for innovation and upskilling wit...</td>\n",
       "      <td>Cloud: AWS; MS; GCP. SaaS Partners: commerceto...</td>\n",
       "      <td>Glassdoor: 3.4/5</td>\n",
       "      <td>No data found</td>\n",
       "    </tr>\n",
       "  </tbody>\n",
       "</table>\n",
       "</div>"
      ],
      "text/plain": [
       "       Date of Collection Company Name               Website_URL  \\\n",
       "0 1970-01-01 01:00:45.442  AND Digital  https://www.and.digital/   \n",
       "\n",
       "  Public/Private   Practices                  Services  \\\n",
       "0        Private  AI & Tools  AI governance & security   \n",
       "\n",
       "                                           Solutions  \\\n",
       "0  Establish the policies, standards, and practic...   \n",
       "\n",
       "                           Training Program Duration  \\\n",
       "0  13 days/year for innovation and upskilling wit...   \n",
       "\n",
       "                                   Tech Partnerships  \\\n",
       "0  Cloud: AWS; MS; GCP. SaaS Partners: commerceto...   \n",
       "\n",
       "  Anecdotal Views of Quality Consultant Pricing  \n",
       "0           Glassdoor: 3.4/5      No data found  "
      ]
     },
     "metadata": {},
     "output_type": "display_data"
    },
    {
     "name": "stderr",
     "output_type": "stream",
     "text": [
      "C:\\Users\\Jack\\AppData\\Local\\Temp\\ipykernel_304852\\3657027416.py:7: FutureWarning: The behavior of DataFrame concatenation with empty or all-NA entries is deprecated. In a future version, this will no longer exclude empty or all-NA columns when determining the result dtypes. To retain the old behavior, exclude the relevant entries before the concat operation.\n",
      "  company_df_full = pd.concat([company_df_full, company_df])\n"
     ]
    },
    {
     "data": {
      "text/html": [
       "<div>\n",
       "<style scoped>\n",
       "    .dataframe tbody tr th:only-of-type {\n",
       "        vertical-align: middle;\n",
       "    }\n",
       "\n",
       "    .dataframe tbody tr th {\n",
       "        vertical-align: top;\n",
       "    }\n",
       "\n",
       "    .dataframe thead th {\n",
       "        text-align: right;\n",
       "    }\n",
       "</style>\n",
       "<table border=\"1\" class=\"dataframe\">\n",
       "  <thead>\n",
       "    <tr style=\"text-align: right;\">\n",
       "      <th></th>\n",
       "      <th>Date of Collection</th>\n",
       "      <th>Company Name</th>\n",
       "      <th>Website_URL</th>\n",
       "      <th>Public/Private</th>\n",
       "      <th>Practices</th>\n",
       "      <th>Services</th>\n",
       "      <th>Solutions</th>\n",
       "      <th>Training Program Duration</th>\n",
       "      <th>Tech Partnerships</th>\n",
       "      <th>Anecdotal Views of Quality</th>\n",
       "      <th>Consultant Pricing</th>\n",
       "    </tr>\n",
       "  </thead>\n",
       "  <tbody>\n",
       "    <tr>\n",
       "      <th>0</th>\n",
       "      <td>1970-01-01 01:00:45.442</td>\n",
       "      <td>BetterGov</td>\n",
       "      <td>https://www.bettergov.co.uk/</td>\n",
       "      <td>Private</td>\n",
       "      <td>No Practices Data Available</td>\n",
       "      <td>Capability Development</td>\n",
       "      <td>Building Communities of Practice</td>\n",
       "      <td>No Training information found</td>\n",
       "      <td>Cabinet Office; NHS; Lancashire County Council...</td>\n",
       "      <td>Public Sector specialist; Glassdoor 5/5 (1 vote)</td>\n",
       "      <td>https://www.applytosupply.digitalmarketplace.s...</td>\n",
       "    </tr>\n",
       "  </tbody>\n",
       "</table>\n",
       "</div>"
      ],
      "text/plain": [
       "       Date of Collection Company Name                   Website_URL  \\\n",
       "0 1970-01-01 01:00:45.442    BetterGov  https://www.bettergov.co.uk/   \n",
       "\n",
       "  Public/Private                    Practices                Services  \\\n",
       "0        Private  No Practices Data Available  Capability Development   \n",
       "\n",
       "                          Solutions      Training Program Duration  \\\n",
       "0  Building Communities of Practice  No Training information found   \n",
       "\n",
       "                                   Tech Partnerships  \\\n",
       "0  Cabinet Office; NHS; Lancashire County Council...   \n",
       "\n",
       "                         Anecdotal Views of Quality  \\\n",
       "0  Public Sector specialist; Glassdoor 5/5 (1 vote)   \n",
       "\n",
       "                                  Consultant Pricing  \n",
       "0  https://www.applytosupply.digitalmarketplace.s...  "
      ]
     },
     "metadata": {},
     "output_type": "display_data"
    },
    {
     "data": {
      "text/html": [
       "<div>\n",
       "<style scoped>\n",
       "    .dataframe tbody tr th:only-of-type {\n",
       "        vertical-align: middle;\n",
       "    }\n",
       "\n",
       "    .dataframe tbody tr th {\n",
       "        vertical-align: top;\n",
       "    }\n",
       "\n",
       "    .dataframe thead th {\n",
       "        text-align: right;\n",
       "    }\n",
       "</style>\n",
       "<table border=\"1\" class=\"dataframe\">\n",
       "  <thead>\n",
       "    <tr style=\"text-align: right;\">\n",
       "      <th></th>\n",
       "      <th>Date of Collection</th>\n",
       "      <th>Company Name</th>\n",
       "      <th>Website_URL</th>\n",
       "      <th>Public/Private</th>\n",
       "      <th>Practices</th>\n",
       "      <th>Services</th>\n",
       "      <th>Solutions</th>\n",
       "      <th>Training Program Duration</th>\n",
       "      <th>Tech Partnerships</th>\n",
       "      <th>Anecdotal Views of Quality</th>\n",
       "      <th>Consultant Pricing</th>\n",
       "    </tr>\n",
       "  </thead>\n",
       "  <tbody>\n",
       "    <tr>\n",
       "      <th>0</th>\n",
       "      <td>1970-01-01 01:00:45.442</td>\n",
       "      <td>Cambridge Consultants Limited</td>\n",
       "      <td>https://www.cambridgeconsultants.com/</td>\n",
       "      <td>Private</td>\n",
       "      <td>No Practices Data Available</td>\n",
       "      <td>5G and wireless connectivity</td>\n",
       "      <td>AI and analytics</td>\n",
       "      <td>No Training information found</td>\n",
       "      <td>CC is part of Capegemini Invent so may have sa...</td>\n",
       "      <td>4.2/5 (Glassdoor)</td>\n",
       "      <td>No data found</td>\n",
       "    </tr>\n",
       "  </tbody>\n",
       "</table>\n",
       "</div>"
      ],
      "text/plain": [
       "       Date of Collection                   Company Name  \\\n",
       "0 1970-01-01 01:00:45.442  Cambridge Consultants Limited   \n",
       "\n",
       "                             Website_URL Public/Private  \\\n",
       "0  https://www.cambridgeconsultants.com/        Private   \n",
       "\n",
       "                     Practices                      Services  \\\n",
       "0  No Practices Data Available  5G and wireless connectivity   \n",
       "\n",
       "          Solutions      Training Program Duration  \\\n",
       "0  AI and analytics  No Training information found   \n",
       "\n",
       "                                   Tech Partnerships  \\\n",
       "0  CC is part of Capegemini Invent so may have sa...   \n",
       "\n",
       "  Anecdotal Views of Quality Consultant Pricing  \n",
       "0          4.2/5 (Glassdoor)      No data found  "
      ]
     },
     "metadata": {},
     "output_type": "display_data"
    },
    {
     "data": {
      "text/html": [
       "<div>\n",
       "<style scoped>\n",
       "    .dataframe tbody tr th:only-of-type {\n",
       "        vertical-align: middle;\n",
       "    }\n",
       "\n",
       "    .dataframe tbody tr th {\n",
       "        vertical-align: top;\n",
       "    }\n",
       "\n",
       "    .dataframe thead th {\n",
       "        text-align: right;\n",
       "    }\n",
       "</style>\n",
       "<table border=\"1\" class=\"dataframe\">\n",
       "  <thead>\n",
       "    <tr style=\"text-align: right;\">\n",
       "      <th></th>\n",
       "      <th>Date of Collection</th>\n",
       "      <th>Company Name</th>\n",
       "      <th>Website_URL</th>\n",
       "      <th>Public/Private</th>\n",
       "      <th>Practices</th>\n",
       "      <th>Services</th>\n",
       "      <th>Solutions</th>\n",
       "      <th>Training Program Duration</th>\n",
       "      <th>Tech Partnerships</th>\n",
       "      <th>Anecdotal Views of Quality</th>\n",
       "      <th>Consultant Pricing</th>\n",
       "    </tr>\n",
       "  </thead>\n",
       "  <tbody>\n",
       "    <tr>\n",
       "      <th>0</th>\n",
       "      <td>1970-01-01 01:00:45.442</td>\n",
       "      <td>Capco Limited</td>\n",
       "      <td>https://www.capco.com</td>\n",
       "      <td>Private</td>\n",
       "      <td>Consulting</td>\n",
       "      <td>CHANGE SERVICES</td>\n",
       "      <td>Business Agility</td>\n",
       "      <td>2-week programme - \"Capco’s induction course i...</td>\n",
       "      <td>APTUS.AI; AUSTRIAN BLOCKCHAIN CENTER; ACTIVEVI...</td>\n",
       "      <td>Glassdoor 3.7/5 (3.4 Reviews); Indeed 3.1/5 (5...</td>\n",
       "      <td>No data found</td>\n",
       "    </tr>\n",
       "  </tbody>\n",
       "</table>\n",
       "</div>"
      ],
      "text/plain": [
       "       Date of Collection   Company Name            Website_URL  \\\n",
       "0 1970-01-01 01:00:45.442  Capco Limited  https://www.capco.com   \n",
       "\n",
       "  Public/Private   Practices         Services         Solutions  \\\n",
       "0        Private  Consulting  CHANGE SERVICES  Business Agility   \n",
       "\n",
       "                           Training Program Duration  \\\n",
       "0  2-week programme - \"Capco’s induction course i...   \n",
       "\n",
       "                                   Tech Partnerships  \\\n",
       "0  APTUS.AI; AUSTRIAN BLOCKCHAIN CENTER; ACTIVEVI...   \n",
       "\n",
       "                          Anecdotal Views of Quality Consultant Pricing  \n",
       "0  Glassdoor 3.7/5 (3.4 Reviews); Indeed 3.1/5 (5...      No data found  "
      ]
     },
     "metadata": {},
     "output_type": "display_data"
    },
    {
     "data": {
      "text/html": [
       "<div>\n",
       "<style scoped>\n",
       "    .dataframe tbody tr th:only-of-type {\n",
       "        vertical-align: middle;\n",
       "    }\n",
       "\n",
       "    .dataframe tbody tr th {\n",
       "        vertical-align: top;\n",
       "    }\n",
       "\n",
       "    .dataframe thead th {\n",
       "        text-align: right;\n",
       "    }\n",
       "</style>\n",
       "<table border=\"1\" class=\"dataframe\">\n",
       "  <thead>\n",
       "    <tr style=\"text-align: right;\">\n",
       "      <th></th>\n",
       "      <th>Date of Collection</th>\n",
       "      <th>Company Name</th>\n",
       "      <th>Website_URL</th>\n",
       "      <th>Public/Private</th>\n",
       "      <th>Practices</th>\n",
       "      <th>Services</th>\n",
       "      <th>Solutions</th>\n",
       "      <th>Training Program Duration</th>\n",
       "      <th>Tech Partnerships</th>\n",
       "      <th>Anecdotal Views of Quality</th>\n",
       "      <th>Consultant Pricing</th>\n",
       "    </tr>\n",
       "  </thead>\n",
       "  <tbody>\n",
       "    <tr>\n",
       "      <th>0</th>\n",
       "      <td>1970-01-01 01:00:45.442</td>\n",
       "      <td>Capgemini SE</td>\n",
       "      <td>https://www.capgemini.com/</td>\n",
       "      <td>Public</td>\n",
       "      <td>Cloud</td>\n",
       "      <td>Cloud for customer first</td>\n",
       "      <td>Give your employees access to any app, on any ...</td>\n",
       "      <td>2 year graduate programme with training</td>\n",
       "      <td>MySQL', 'Hewlett Packard Enterprise', 'Salesfo...</td>\n",
       "      <td>3.8 on Glassdoor (66493 total reviews)'</td>\n",
       "      <td>£312 a unit a day</td>\n",
       "    </tr>\n",
       "  </tbody>\n",
       "</table>\n",
       "</div>"
      ],
      "text/plain": [
       "       Date of Collection  Company Name                 Website_URL  \\\n",
       "0 1970-01-01 01:00:45.442  Capgemini SE  https://www.capgemini.com/   \n",
       "\n",
       "  Public/Private Practices                  Services  \\\n",
       "0         Public     Cloud  Cloud for customer first   \n",
       "\n",
       "                                           Solutions  \\\n",
       "0  Give your employees access to any app, on any ...   \n",
       "\n",
       "                 Training Program Duration  \\\n",
       "0  2 year graduate programme with training   \n",
       "\n",
       "                                   Tech Partnerships  \\\n",
       "0  MySQL', 'Hewlett Packard Enterprise', 'Salesfo...   \n",
       "\n",
       "                Anecdotal Views of Quality Consultant Pricing  \n",
       "0  3.8 on Glassdoor (66493 total reviews)'  £312 a unit a day  "
      ]
     },
     "metadata": {},
     "output_type": "display_data"
    },
    {
     "data": {
      "text/html": [
       "<div>\n",
       "<style scoped>\n",
       "    .dataframe tbody tr th:only-of-type {\n",
       "        vertical-align: middle;\n",
       "    }\n",
       "\n",
       "    .dataframe tbody tr th {\n",
       "        vertical-align: top;\n",
       "    }\n",
       "\n",
       "    .dataframe thead th {\n",
       "        text-align: right;\n",
       "    }\n",
       "</style>\n",
       "<table border=\"1\" class=\"dataframe\">\n",
       "  <thead>\n",
       "    <tr style=\"text-align: right;\">\n",
       "      <th></th>\n",
       "      <th>Date of Collection</th>\n",
       "      <th>Company Name</th>\n",
       "      <th>Website_URL</th>\n",
       "      <th>Public/Private</th>\n",
       "      <th>Practices</th>\n",
       "      <th>Services</th>\n",
       "      <th>Solutions</th>\n",
       "      <th>Training Program Duration</th>\n",
       "      <th>Tech Partnerships</th>\n",
       "      <th>Anecdotal Views of Quality</th>\n",
       "      <th>Consultant Pricing</th>\n",
       "    </tr>\n",
       "  </thead>\n",
       "  <tbody>\n",
       "    <tr>\n",
       "      <th>0</th>\n",
       "      <td>1970-01-01 01:00:45.442</td>\n",
       "      <td>Cognizant Technology Solutions Corporation</td>\n",
       "      <td>https://www.cognizant.com</td>\n",
       "      <td>Public</td>\n",
       "      <td>No Practices Data Available</td>\n",
       "      <td>Application Services</td>\n",
       "      <td>Application management</td>\n",
       "      <td>12-14 weeks</td>\n",
       "      <td>adobe,aws,cast,cisco,cloudera,cyberark,dell te...</td>\n",
       "      <td>3.8/5 (Glassdoor)Top Score in Human Rights Cam...</td>\n",
       "      <td>400-2100 per unit per day</td>\n",
       "    </tr>\n",
       "  </tbody>\n",
       "</table>\n",
       "</div>"
      ],
      "text/plain": [
       "       Date of Collection                                Company Name  \\\n",
       "0 1970-01-01 01:00:45.442  Cognizant Technology Solutions Corporation   \n",
       "\n",
       "                 Website_URL Public/Private                    Practices  \\\n",
       "0  https://www.cognizant.com         Public  No Practices Data Available   \n",
       "\n",
       "               Services               Solutions Training Program Duration  \\\n",
       "0  Application Services  Application management               12-14 weeks   \n",
       "\n",
       "                                   Tech Partnerships  \\\n",
       "0  adobe,aws,cast,cisco,cloudera,cyberark,dell te...   \n",
       "\n",
       "                          Anecdotal Views of Quality  \\\n",
       "0  3.8/5 (Glassdoor)Top Score in Human Rights Cam...   \n",
       "\n",
       "          Consultant Pricing  \n",
       "0  400-2100 per unit per day  "
      ]
     },
     "metadata": {},
     "output_type": "display_data"
    },
    {
     "data": {
      "text/html": [
       "<div>\n",
       "<style scoped>\n",
       "    .dataframe tbody tr th:only-of-type {\n",
       "        vertical-align: middle;\n",
       "    }\n",
       "\n",
       "    .dataframe tbody tr th {\n",
       "        vertical-align: top;\n",
       "    }\n",
       "\n",
       "    .dataframe thead th {\n",
       "        text-align: right;\n",
       "    }\n",
       "</style>\n",
       "<table border=\"1\" class=\"dataframe\">\n",
       "  <thead>\n",
       "    <tr style=\"text-align: right;\">\n",
       "      <th></th>\n",
       "      <th>Date of Collection</th>\n",
       "      <th>Company Name</th>\n",
       "      <th>Website_URL</th>\n",
       "      <th>Public/Private</th>\n",
       "      <th>Practices</th>\n",
       "      <th>Services</th>\n",
       "      <th>Solutions</th>\n",
       "      <th>Training Program Duration</th>\n",
       "      <th>Tech Partnerships</th>\n",
       "      <th>Anecdotal Views of Quality</th>\n",
       "      <th>Consultant Pricing</th>\n",
       "    </tr>\n",
       "  </thead>\n",
       "  <tbody>\n",
       "    <tr>\n",
       "      <th>0</th>\n",
       "      <td>1970-01-01 01:00:45.442</td>\n",
       "      <td>Credera</td>\n",
       "      <td>https://www.credera.com/en-gb</td>\n",
       "      <td>Private</td>\n",
       "      <td>Artificial intelligence</td>\n",
       "      <td>AI everywhere</td>\n",
       "      <td>AI customer support</td>\n",
       "      <td>10 weeks: Credera brings together students fro...</td>\n",
       "      <td>Acquia; Adobe; AWS; Google Cloud; Pega; Salesf...</td>\n",
       "      <td>Glassdoor 3.7/5 (621 Reviews); Indeed 3.9 (10 ...</td>\n",
       "      <td>£510.00 to £2,195.00 a unit a day</td>\n",
       "    </tr>\n",
       "  </tbody>\n",
       "</table>\n",
       "</div>"
      ],
      "text/plain": [
       "       Date of Collection Company Name                    Website_URL  \\\n",
       "0 1970-01-01 01:00:45.442      Credera  https://www.credera.com/en-gb   \n",
       "\n",
       "  Public/Private                Practices       Services  \\\n",
       "0        Private  Artificial intelligence  AI everywhere   \n",
       "\n",
       "              Solutions                          Training Program Duration  \\\n",
       "0  AI customer support   10 weeks: Credera brings together students fro...   \n",
       "\n",
       "                                   Tech Partnerships  \\\n",
       "0  Acquia; Adobe; AWS; Google Cloud; Pega; Salesf...   \n",
       "\n",
       "                          Anecdotal Views of Quality  \\\n",
       "0  Glassdoor 3.7/5 (621 Reviews); Indeed 3.9 (10 ...   \n",
       "\n",
       "                  Consultant Pricing  \n",
       "0  £510.00 to £2,195.00 a unit a day  "
      ]
     },
     "metadata": {},
     "output_type": "display_data"
    },
    {
     "data": {
      "text/html": [
       "<div>\n",
       "<style scoped>\n",
       "    .dataframe tbody tr th:only-of-type {\n",
       "        vertical-align: middle;\n",
       "    }\n",
       "\n",
       "    .dataframe tbody tr th {\n",
       "        vertical-align: top;\n",
       "    }\n",
       "\n",
       "    .dataframe thead th {\n",
       "        text-align: right;\n",
       "    }\n",
       "</style>\n",
       "<table border=\"1\" class=\"dataframe\">\n",
       "  <thead>\n",
       "    <tr style=\"text-align: right;\">\n",
       "      <th></th>\n",
       "      <th>Date of Collection</th>\n",
       "      <th>Company Name</th>\n",
       "      <th>Website_URL</th>\n",
       "      <th>Public/Private</th>\n",
       "      <th>Practices</th>\n",
       "      <th>Services</th>\n",
       "      <th>Solutions</th>\n",
       "      <th>Training Program Duration</th>\n",
       "      <th>Tech Partnerships</th>\n",
       "      <th>Anecdotal Views of Quality</th>\n",
       "      <th>Consultant Pricing</th>\n",
       "    </tr>\n",
       "  </thead>\n",
       "  <tbody>\n",
       "    <tr>\n",
       "      <th>0</th>\n",
       "      <td>1970-01-01 01:00:45.442</td>\n",
       "      <td>Dufrain</td>\n",
       "      <td>https://www.dufrain.co.uk/</td>\n",
       "      <td>Private</td>\n",
       "      <td>Business Intelligence &amp; Data Analytics Service</td>\n",
       "      <td>No Services Data Available</td>\n",
       "      <td>Analytics Maturity Assessment</td>\n",
       "      <td>No Training information found</td>\n",
       "      <td>Microsoft, Tableau, Scottish Financial Enterpr...</td>\n",
       "      <td>Glassdoor 3/5; Highly Commended for ‘Consultan...</td>\n",
       "      <td>No data found</td>\n",
       "    </tr>\n",
       "  </tbody>\n",
       "</table>\n",
       "</div>"
      ],
      "text/plain": [
       "       Date of Collection Company Name                 Website_URL  \\\n",
       "0 1970-01-01 01:00:45.442      Dufrain  https://www.dufrain.co.uk/   \n",
       "\n",
       "  Public/Private                                       Practices  \\\n",
       "0        Private  Business Intelligence & Data Analytics Service   \n",
       "\n",
       "                     Services                      Solutions  \\\n",
       "0  No Services Data Available  Analytics Maturity Assessment   \n",
       "\n",
       "       Training Program Duration  \\\n",
       "0  No Training information found   \n",
       "\n",
       "                                   Tech Partnerships  \\\n",
       "0  Microsoft, Tableau, Scottish Financial Enterpr...   \n",
       "\n",
       "                          Anecdotal Views of Quality Consultant Pricing  \n",
       "0  Glassdoor 3/5; Highly Commended for ‘Consultan...      No data found  "
      ]
     },
     "metadata": {},
     "output_type": "display_data"
    },
    {
     "data": {
      "text/html": [
       "<div>\n",
       "<style scoped>\n",
       "    .dataframe tbody tr th:only-of-type {\n",
       "        vertical-align: middle;\n",
       "    }\n",
       "\n",
       "    .dataframe tbody tr th {\n",
       "        vertical-align: top;\n",
       "    }\n",
       "\n",
       "    .dataframe thead th {\n",
       "        text-align: right;\n",
       "    }\n",
       "</style>\n",
       "<table border=\"1\" class=\"dataframe\">\n",
       "  <thead>\n",
       "    <tr style=\"text-align: right;\">\n",
       "      <th></th>\n",
       "      <th>Date of Collection</th>\n",
       "      <th>Company Name</th>\n",
       "      <th>Website_URL</th>\n",
       "      <th>Public/Private</th>\n",
       "      <th>Practices</th>\n",
       "      <th>Services</th>\n",
       "      <th>Solutions</th>\n",
       "      <th>Training Program Duration</th>\n",
       "      <th>Tech Partnerships</th>\n",
       "      <th>Anecdotal Views of Quality</th>\n",
       "      <th>Consultant Pricing</th>\n",
       "    </tr>\n",
       "  </thead>\n",
       "  <tbody>\n",
       "    <tr>\n",
       "      <th>0</th>\n",
       "      <td>1970-01-01 01:00:45.442</td>\n",
       "      <td>FDM Group (Holdings) Ltd</td>\n",
       "      <td>https://www.fdmgroup.com/</td>\n",
       "      <td>Public</td>\n",
       "      <td>Change &amp; Transformation</td>\n",
       "      <td>Agile Delivery</td>\n",
       "      <td>No Solutions Data Available</td>\n",
       "      <td>7-12 weeks training</td>\n",
       "      <td>Murex</td>\n",
       "      <td>3.2 on Glassdoor (3350 total reviews)</td>\n",
       "      <td>£290 to £600 a unit a day</td>\n",
       "    </tr>\n",
       "  </tbody>\n",
       "</table>\n",
       "</div>"
      ],
      "text/plain": [
       "       Date of Collection              Company Name  \\\n",
       "0 1970-01-01 01:00:45.442  FDM Group (Holdings) Ltd   \n",
       "\n",
       "                 Website_URL Public/Private                Practices  \\\n",
       "0  https://www.fdmgroup.com/         Public  Change & Transformation   \n",
       "\n",
       "         Services                    Solutions Training Program Duration  \\\n",
       "0  Agile Delivery  No Solutions Data Available       7-12 weeks training   \n",
       "\n",
       "  Tech Partnerships             Anecdotal Views of Quality  \\\n",
       "0             Murex  3.2 on Glassdoor (3350 total reviews)   \n",
       "\n",
       "          Consultant Pricing  \n",
       "0  £290 to £600 a unit a day  "
      ]
     },
     "metadata": {},
     "output_type": "display_data"
    },
    {
     "data": {
      "text/html": [
       "<div>\n",
       "<style scoped>\n",
       "    .dataframe tbody tr th:only-of-type {\n",
       "        vertical-align: middle;\n",
       "    }\n",
       "\n",
       "    .dataframe tbody tr th {\n",
       "        vertical-align: top;\n",
       "    }\n",
       "\n",
       "    .dataframe thead th {\n",
       "        text-align: right;\n",
       "    }\n",
       "</style>\n",
       "<table border=\"1\" class=\"dataframe\">\n",
       "  <thead>\n",
       "    <tr style=\"text-align: right;\">\n",
       "      <th></th>\n",
       "      <th>Date of Collection</th>\n",
       "      <th>Company Name</th>\n",
       "      <th>Website_URL</th>\n",
       "      <th>Public/Private</th>\n",
       "      <th>Practices</th>\n",
       "      <th>Services</th>\n",
       "      <th>Solutions</th>\n",
       "      <th>Training Program Duration</th>\n",
       "      <th>Tech Partnerships</th>\n",
       "      <th>Anecdotal Views of Quality</th>\n",
       "      <th>Consultant Pricing</th>\n",
       "    </tr>\n",
       "  </thead>\n",
       "  <tbody>\n",
       "    <tr>\n",
       "      <th>0</th>\n",
       "      <td>1970-01-01 01:00:45.442</td>\n",
       "      <td>Fjord Consulting Group</td>\n",
       "      <td>https://fjordconsultinggroup.com</td>\n",
       "      <td>Private</td>\n",
       "      <td>Digital and Tech Transformation</td>\n",
       "      <td>Digital Capabilities and Use Case Analysis</td>\n",
       "      <td>No Solutions Data Available</td>\n",
       "      <td>No Training information found</td>\n",
       "      <td>No information found</td>\n",
       "      <td>No data found</td>\n",
       "      <td>No data found</td>\n",
       "    </tr>\n",
       "  </tbody>\n",
       "</table>\n",
       "</div>"
      ],
      "text/plain": [
       "       Date of Collection            Company Name  \\\n",
       "0 1970-01-01 01:00:45.442  Fjord Consulting Group   \n",
       "\n",
       "                        Website_URL Public/Private  \\\n",
       "0  https://fjordconsultinggroup.com        Private   \n",
       "\n",
       "                         Practices  \\\n",
       "0  Digital and Tech Transformation   \n",
       "\n",
       "                                     Services                    Solutions  \\\n",
       "0  Digital Capabilities and Use Case Analysis  No Solutions Data Available   \n",
       "\n",
       "       Training Program Duration     Tech Partnerships  \\\n",
       "0  No Training information found  No information found   \n",
       "\n",
       "  Anecdotal Views of Quality Consultant Pricing  \n",
       "0              No data found      No data found  "
      ]
     },
     "metadata": {},
     "output_type": "display_data"
    },
    {
     "data": {
      "text/html": [
       "<div>\n",
       "<style scoped>\n",
       "    .dataframe tbody tr th:only-of-type {\n",
       "        vertical-align: middle;\n",
       "    }\n",
       "\n",
       "    .dataframe tbody tr th {\n",
       "        vertical-align: top;\n",
       "    }\n",
       "\n",
       "    .dataframe thead th {\n",
       "        text-align: right;\n",
       "    }\n",
       "</style>\n",
       "<table border=\"1\" class=\"dataframe\">\n",
       "  <thead>\n",
       "    <tr style=\"text-align: right;\">\n",
       "      <th></th>\n",
       "      <th>Date of Collection</th>\n",
       "      <th>Company Name</th>\n",
       "      <th>Website_URL</th>\n",
       "      <th>Public/Private</th>\n",
       "      <th>Practices</th>\n",
       "      <th>Services</th>\n",
       "      <th>Solutions</th>\n",
       "      <th>Training Program Duration</th>\n",
       "      <th>Tech Partnerships</th>\n",
       "      <th>Anecdotal Views of Quality</th>\n",
       "      <th>Consultant Pricing</th>\n",
       "    </tr>\n",
       "  </thead>\n",
       "  <tbody>\n",
       "    <tr>\n",
       "      <th>0</th>\n",
       "      <td>1970-01-01 01:00:45.442</td>\n",
       "      <td>IQVIA Holdings Inc</td>\n",
       "      <td>https://jobs.iqvia.com/en</td>\n",
       "      <td>Public</td>\n",
       "      <td>No Practices Data Available</td>\n",
       "      <td>Biosimilars</td>\n",
       "      <td>Therapeutic expertise solutions</td>\n",
       "      <td>No Training information found</td>\n",
       "      <td>aprimo,AsynchAPI,Avenga,Box,Customertimes,Docu...</td>\n",
       "      <td>3.9/5 (Glassdoor);“Best AI-based Solution for ...</td>\n",
       "      <td>1,200 to 1,500 a unit a day</td>\n",
       "    </tr>\n",
       "  </tbody>\n",
       "</table>\n",
       "</div>"
      ],
      "text/plain": [
       "       Date of Collection        Company Name                Website_URL  \\\n",
       "0 1970-01-01 01:00:45.442  IQVIA Holdings Inc  https://jobs.iqvia.com/en   \n",
       "\n",
       "  Public/Private                    Practices     Services  \\\n",
       "0         Public  No Practices Data Available  Biosimilars   \n",
       "\n",
       "                         Solutions      Training Program Duration  \\\n",
       "0  Therapeutic expertise solutions  No Training information found   \n",
       "\n",
       "                                   Tech Partnerships  \\\n",
       "0  aprimo,AsynchAPI,Avenga,Box,Customertimes,Docu...   \n",
       "\n",
       "                          Anecdotal Views of Quality  \\\n",
       "0  3.9/5 (Glassdoor);“Best AI-based Solution for ...   \n",
       "\n",
       "            Consultant Pricing  \n",
       "0  1,200 to 1,500 a unit a day  "
      ]
     },
     "metadata": {},
     "output_type": "display_data"
    },
    {
     "data": {
      "text/html": [
       "<div>\n",
       "<style scoped>\n",
       "    .dataframe tbody tr th:only-of-type {\n",
       "        vertical-align: middle;\n",
       "    }\n",
       "\n",
       "    .dataframe tbody tr th {\n",
       "        vertical-align: top;\n",
       "    }\n",
       "\n",
       "    .dataframe thead th {\n",
       "        text-align: right;\n",
       "    }\n",
       "</style>\n",
       "<table border=\"1\" class=\"dataframe\">\n",
       "  <thead>\n",
       "    <tr style=\"text-align: right;\">\n",
       "      <th></th>\n",
       "      <th>Date of Collection</th>\n",
       "      <th>Company Name</th>\n",
       "      <th>Website_URL</th>\n",
       "      <th>Public/Private</th>\n",
       "      <th>Practices</th>\n",
       "      <th>Services</th>\n",
       "      <th>Solutions</th>\n",
       "      <th>Training Program Duration</th>\n",
       "      <th>Tech Partnerships</th>\n",
       "      <th>Anecdotal Views of Quality</th>\n",
       "      <th>Consultant Pricing</th>\n",
       "    </tr>\n",
       "  </thead>\n",
       "  <tbody>\n",
       "    <tr>\n",
       "      <th>0</th>\n",
       "      <td>1970-01-01 01:00:45.442</td>\n",
       "      <td>Infinite Lambda</td>\n",
       "      <td>https://infinitelambda.com</td>\n",
       "      <td>Private</td>\n",
       "      <td>Data &amp; Analytics</td>\n",
       "      <td>No Services Data Available</td>\n",
       "      <td>No Solutions Data Available</td>\n",
       "      <td>3 months: \"3 months of intensive training in t...</td>\n",
       "      <td>Snowflake; dbt Labs; VaultSpeed; AWS</td>\n",
       "      <td>Glassdoor 4.2/50 (13 Reviews); 2022 dbt Labs P...</td>\n",
       "      <td>£350 to £1,400 a unit a day</td>\n",
       "    </tr>\n",
       "  </tbody>\n",
       "</table>\n",
       "</div>"
      ],
      "text/plain": [
       "       Date of Collection     Company Name                 Website_URL  \\\n",
       "0 1970-01-01 01:00:45.442  Infinite Lambda  https://infinitelambda.com   \n",
       "\n",
       "  Public/Private         Practices                    Services  \\\n",
       "0        Private  Data & Analytics  No Services Data Available   \n",
       "\n",
       "                     Solutions  \\\n",
       "0  No Solutions Data Available   \n",
       "\n",
       "                           Training Program Duration  \\\n",
       "0  3 months: \"3 months of intensive training in t...   \n",
       "\n",
       "                      Tech Partnerships  \\\n",
       "0  Snowflake; dbt Labs; VaultSpeed; AWS   \n",
       "\n",
       "                          Anecdotal Views of Quality  \\\n",
       "0  Glassdoor 4.2/50 (13 Reviews); 2022 dbt Labs P...   \n",
       "\n",
       "            Consultant Pricing  \n",
       "0  £350 to £1,400 a unit a day  "
      ]
     },
     "metadata": {},
     "output_type": "display_data"
    },
    {
     "data": {
      "text/html": [
       "<div>\n",
       "<style scoped>\n",
       "    .dataframe tbody tr th:only-of-type {\n",
       "        vertical-align: middle;\n",
       "    }\n",
       "\n",
       "    .dataframe tbody tr th {\n",
       "        vertical-align: top;\n",
       "    }\n",
       "\n",
       "    .dataframe thead th {\n",
       "        text-align: right;\n",
       "    }\n",
       "</style>\n",
       "<table border=\"1\" class=\"dataframe\">\n",
       "  <thead>\n",
       "    <tr style=\"text-align: right;\">\n",
       "      <th></th>\n",
       "      <th>Date of Collection</th>\n",
       "      <th>Company Name</th>\n",
       "      <th>Website_URL</th>\n",
       "      <th>Public/Private</th>\n",
       "      <th>Practices</th>\n",
       "      <th>Services</th>\n",
       "      <th>Solutions</th>\n",
       "      <th>Training Program Duration</th>\n",
       "      <th>Tech Partnerships</th>\n",
       "      <th>Anecdotal Views of Quality</th>\n",
       "      <th>Consultant Pricing</th>\n",
       "    </tr>\n",
       "  </thead>\n",
       "  <tbody>\n",
       "    <tr>\n",
       "      <th>0</th>\n",
       "      <td>1970-01-01 01:00:45.442</td>\n",
       "      <td>Infosys Limited</td>\n",
       "      <td>https://www.infosys.com/</td>\n",
       "      <td>Public</td>\n",
       "      <td>No Practices Data Available</td>\n",
       "      <td>API Economy &amp; Microservices</td>\n",
       "      <td>API Speed Layer for agility in digital data, p...</td>\n",
       "      <td>3-6 months</td>\n",
       "      <td>Ab Initio, Acquia, Actifio, Adexao, Adobe, Aer...</td>\n",
       "      <td>3.7/5 (Glassdoor); Infosys awarded the Global ...</td>\n",
       "      <td>369 to 1,167 a unit a day</td>\n",
       "    </tr>\n",
       "  </tbody>\n",
       "</table>\n",
       "</div>"
      ],
      "text/plain": [
       "       Date of Collection     Company Name               Website_URL  \\\n",
       "0 1970-01-01 01:00:45.442  Infosys Limited  https://www.infosys.com/   \n",
       "\n",
       "  Public/Private                    Practices                     Services  \\\n",
       "0         Public  No Practices Data Available  API Economy & Microservices   \n",
       "\n",
       "                                           Solutions  \\\n",
       "0  API Speed Layer for agility in digital data, p...   \n",
       "\n",
       "  Training Program Duration  \\\n",
       "0                3-6 months   \n",
       "\n",
       "                                   Tech Partnerships  \\\n",
       "0  Ab Initio, Acquia, Actifio, Adexao, Adobe, Aer...   \n",
       "\n",
       "                          Anecdotal Views of Quality  \\\n",
       "0  3.7/5 (Glassdoor); Infosys awarded the Global ...   \n",
       "\n",
       "          Consultant Pricing  \n",
       "0  369 to 1,167 a unit a day  "
      ]
     },
     "metadata": {},
     "output_type": "display_data"
    },
    {
     "data": {
      "text/html": [
       "<div>\n",
       "<style scoped>\n",
       "    .dataframe tbody tr th:only-of-type {\n",
       "        vertical-align: middle;\n",
       "    }\n",
       "\n",
       "    .dataframe tbody tr th {\n",
       "        vertical-align: top;\n",
       "    }\n",
       "\n",
       "    .dataframe thead th {\n",
       "        text-align: right;\n",
       "    }\n",
       "</style>\n",
       "<table border=\"1\" class=\"dataframe\">\n",
       "  <thead>\n",
       "    <tr style=\"text-align: right;\">\n",
       "      <th></th>\n",
       "      <th>Date of Collection</th>\n",
       "      <th>Company Name</th>\n",
       "      <th>Website_URL</th>\n",
       "      <th>Public/Private</th>\n",
       "      <th>Practices</th>\n",
       "      <th>Services</th>\n",
       "      <th>Solutions</th>\n",
       "      <th>Training Program Duration</th>\n",
       "      <th>Tech Partnerships</th>\n",
       "      <th>Anecdotal Views of Quality</th>\n",
       "      <th>Consultant Pricing</th>\n",
       "    </tr>\n",
       "  </thead>\n",
       "  <tbody>\n",
       "    <tr>\n",
       "      <th>0</th>\n",
       "      <td>1970-01-01 01:00:45.442</td>\n",
       "      <td>Kubrick Group Limited</td>\n",
       "      <td>https://www.kubrickgroup.com</td>\n",
       "      <td>Private</td>\n",
       "      <td>Advanced Analytics</td>\n",
       "      <td>No Services Data Available</td>\n",
       "      <td>Advanced Data Visualisation</td>\n",
       "      <td>15 weeks</td>\n",
       "      <td>aws,tableau,collibra,alteryx, dataiku, neo4j, ...</td>\n",
       "      <td>3.4/5 (Glassdoor); Kubrick Named in the Fast G...</td>\n",
       "      <td>350 a unit per day</td>\n",
       "    </tr>\n",
       "  </tbody>\n",
       "</table>\n",
       "</div>"
      ],
      "text/plain": [
       "       Date of Collection           Company Name  \\\n",
       "0 1970-01-01 01:00:45.442  Kubrick Group Limited   \n",
       "\n",
       "                    Website_URL Public/Private           Practices  \\\n",
       "0  https://www.kubrickgroup.com        Private  Advanced Analytics   \n",
       "\n",
       "                     Services                    Solutions  \\\n",
       "0  No Services Data Available  Advanced Data Visualisation   \n",
       "\n",
       "  Training Program Duration  \\\n",
       "0                  15 weeks   \n",
       "\n",
       "                                   Tech Partnerships  \\\n",
       "0  aws,tableau,collibra,alteryx, dataiku, neo4j, ...   \n",
       "\n",
       "                          Anecdotal Views of Quality  Consultant Pricing  \n",
       "0  3.4/5 (Glassdoor); Kubrick Named in the Fast G...  350 a unit per day  "
      ]
     },
     "metadata": {},
     "output_type": "display_data"
    },
    {
     "data": {
      "text/html": [
       "<div>\n",
       "<style scoped>\n",
       "    .dataframe tbody tr th:only-of-type {\n",
       "        vertical-align: middle;\n",
       "    }\n",
       "\n",
       "    .dataframe tbody tr th {\n",
       "        vertical-align: top;\n",
       "    }\n",
       "\n",
       "    .dataframe thead th {\n",
       "        text-align: right;\n",
       "    }\n",
       "</style>\n",
       "<table border=\"1\" class=\"dataframe\">\n",
       "  <thead>\n",
       "    <tr style=\"text-align: right;\">\n",
       "      <th></th>\n",
       "      <th>Date of Collection</th>\n",
       "      <th>Company Name</th>\n",
       "      <th>Website_URL</th>\n",
       "      <th>Public/Private</th>\n",
       "      <th>Practices</th>\n",
       "      <th>Services</th>\n",
       "      <th>Solutions</th>\n",
       "      <th>Training Program Duration</th>\n",
       "      <th>Tech Partnerships</th>\n",
       "      <th>Anecdotal Views of Quality</th>\n",
       "      <th>Consultant Pricing</th>\n",
       "    </tr>\n",
       "  </thead>\n",
       "  <tbody>\n",
       "    <tr>\n",
       "      <th>0</th>\n",
       "      <td>1970-01-01 01:00:25.569</td>\n",
       "      <td>Mesh AI</td>\n",
       "      <td>https://www.mesh-ai.com/</td>\n",
       "      <td>Private</td>\n",
       "      <td>Artificial Intelligence</td>\n",
       "      <td>Build complete data foundations for further AI...</td>\n",
       "      <td>No Solutions Data Available</td>\n",
       "      <td>Annual training allowance is £2k + 5 training ...</td>\n",
       "      <td>AWS, Azure, Google Cloud.</td>\n",
       "      <td>Glassdoor: 4/5; Sunday Times Best Places to Wo...</td>\n",
       "      <td>No data found</td>\n",
       "    </tr>\n",
       "  </tbody>\n",
       "</table>\n",
       "</div>"
      ],
      "text/plain": [
       "       Date of Collection Company Name               Website_URL  \\\n",
       "0 1970-01-01 01:00:25.569      Mesh AI  https://www.mesh-ai.com/   \n",
       "\n",
       "  Public/Private                Practices  \\\n",
       "0        Private  Artificial Intelligence   \n",
       "\n",
       "                                            Services  \\\n",
       "0  Build complete data foundations for further AI...   \n",
       "\n",
       "                     Solutions  \\\n",
       "0  No Solutions Data Available   \n",
       "\n",
       "                           Training Program Duration  \\\n",
       "0  Annual training allowance is £2k + 5 training ...   \n",
       "\n",
       "           Tech Partnerships  \\\n",
       "0  AWS, Azure, Google Cloud.   \n",
       "\n",
       "                          Anecdotal Views of Quality Consultant Pricing  \n",
       "0  Glassdoor: 4/5; Sunday Times Best Places to Wo...      No data found  "
      ]
     },
     "metadata": {},
     "output_type": "display_data"
    },
    {
     "data": {
      "text/html": [
       "<div>\n",
       "<style scoped>\n",
       "    .dataframe tbody tr th:only-of-type {\n",
       "        vertical-align: middle;\n",
       "    }\n",
       "\n",
       "    .dataframe tbody tr th {\n",
       "        vertical-align: top;\n",
       "    }\n",
       "\n",
       "    .dataframe thead th {\n",
       "        text-align: right;\n",
       "    }\n",
       "</style>\n",
       "<table border=\"1\" class=\"dataframe\">\n",
       "  <thead>\n",
       "    <tr style=\"text-align: right;\">\n",
       "      <th></th>\n",
       "      <th>Date of Collection</th>\n",
       "      <th>Company Name</th>\n",
       "      <th>Website_URL</th>\n",
       "      <th>Public/Private</th>\n",
       "      <th>Practices</th>\n",
       "      <th>Services</th>\n",
       "      <th>Solutions</th>\n",
       "      <th>Training Program Duration</th>\n",
       "      <th>Tech Partnerships</th>\n",
       "      <th>Anecdotal Views of Quality</th>\n",
       "      <th>Consultant Pricing</th>\n",
       "    </tr>\n",
       "  </thead>\n",
       "  <tbody>\n",
       "    <tr>\n",
       "      <th>0</th>\n",
       "      <td>1970-01-01 01:00:25.569</td>\n",
       "      <td>Slalom</td>\n",
       "      <td>https://www.slalom.com/</td>\n",
       "      <td>Private</td>\n",
       "      <td>Artificial Intelligence</td>\n",
       "      <td>Generative AI</td>\n",
       "      <td>With generative AI, we’re using artificial int...</td>\n",
       "      <td>No Training information found</td>\n",
       "      <td>Salesforce', 'Amazon Web Services', 'Google', ...</td>\n",
       "      <td>3.9 on Glassdoor (2881 total reviews)</td>\n",
       "      <td>£636 to £1,938 a unit a day</td>\n",
       "    </tr>\n",
       "  </tbody>\n",
       "</table>\n",
       "</div>"
      ],
      "text/plain": [
       "       Date of Collection Company Name              Website_URL  \\\n",
       "0 1970-01-01 01:00:25.569       Slalom  https://www.slalom.com/   \n",
       "\n",
       "  Public/Private                Practices        Services  \\\n",
       "0        Private  Artificial Intelligence  Generative AI    \n",
       "\n",
       "                                           Solutions  \\\n",
       "0  With generative AI, we’re using artificial int...   \n",
       "\n",
       "       Training Program Duration  \\\n",
       "0  No Training information found   \n",
       "\n",
       "                                   Tech Partnerships  \\\n",
       "0  Salesforce', 'Amazon Web Services', 'Google', ...   \n",
       "\n",
       "              Anecdotal Views of Quality           Consultant Pricing  \n",
       "0  3.9 on Glassdoor (2881 total reviews)  £636 to £1,938 a unit a day  "
      ]
     },
     "metadata": {},
     "output_type": "display_data"
    },
    {
     "data": {
      "text/html": [
       "<div>\n",
       "<style scoped>\n",
       "    .dataframe tbody tr th:only-of-type {\n",
       "        vertical-align: middle;\n",
       "    }\n",
       "\n",
       "    .dataframe tbody tr th {\n",
       "        vertical-align: top;\n",
       "    }\n",
       "\n",
       "    .dataframe thead th {\n",
       "        text-align: right;\n",
       "    }\n",
       "</style>\n",
       "<table border=\"1\" class=\"dataframe\">\n",
       "  <thead>\n",
       "    <tr style=\"text-align: right;\">\n",
       "      <th></th>\n",
       "      <th>Date of Collection</th>\n",
       "      <th>Company Name</th>\n",
       "      <th>Website_URL</th>\n",
       "      <th>Public/Private</th>\n",
       "      <th>Practices</th>\n",
       "      <th>Services</th>\n",
       "      <th>Solutions</th>\n",
       "      <th>Training Program Duration</th>\n",
       "      <th>Tech Partnerships</th>\n",
       "      <th>Anecdotal Views of Quality</th>\n",
       "      <th>Consultant Pricing</th>\n",
       "    </tr>\n",
       "  </thead>\n",
       "  <tbody>\n",
       "    <tr>\n",
       "      <th>0</th>\n",
       "      <td>1970-01-01 01:00:25.569</td>\n",
       "      <td>Sparta Global</td>\n",
       "      <td>https://www.spartaglobal.com</td>\n",
       "      <td>Private</td>\n",
       "      <td>Business Analysis</td>\n",
       "      <td>No Services Data Available</td>\n",
       "      <td>No Solutions Data Available</td>\n",
       "      <td>8-10 weeks: \"The first 8-10 weeks of your empl...</td>\n",
       "      <td>ServiceNow Placement Partner Program; SAP; SFI...</td>\n",
       "      <td>Glassdoor 3.7/5 (489 Reviews); Indeed 3.2/5 (3...</td>\n",
       "      <td>£250 to £1,100 a unit a day</td>\n",
       "    </tr>\n",
       "  </tbody>\n",
       "</table>\n",
       "</div>"
      ],
      "text/plain": [
       "       Date of Collection   Company Name                   Website_URL  \\\n",
       "0 1970-01-01 01:00:25.569  Sparta Global  https://www.spartaglobal.com   \n",
       "\n",
       "  Public/Private          Practices                    Services  \\\n",
       "0        Private  Business Analysis  No Services Data Available   \n",
       "\n",
       "                     Solutions  \\\n",
       "0  No Solutions Data Available   \n",
       "\n",
       "                           Training Program Duration  \\\n",
       "0  8-10 weeks: \"The first 8-10 weeks of your empl...   \n",
       "\n",
       "                                   Tech Partnerships  \\\n",
       "0  ServiceNow Placement Partner Program; SAP; SFI...   \n",
       "\n",
       "                          Anecdotal Views of Quality  \\\n",
       "0  Glassdoor 3.7/5 (489 Reviews); Indeed 3.2/5 (3...   \n",
       "\n",
       "            Consultant Pricing  \n",
       "0  £250 to £1,100 a unit a day  "
      ]
     },
     "metadata": {},
     "output_type": "display_data"
    },
    {
     "data": {
      "text/html": [
       "<div>\n",
       "<style scoped>\n",
       "    .dataframe tbody tr th:only-of-type {\n",
       "        vertical-align: middle;\n",
       "    }\n",
       "\n",
       "    .dataframe tbody tr th {\n",
       "        vertical-align: top;\n",
       "    }\n",
       "\n",
       "    .dataframe thead th {\n",
       "        text-align: right;\n",
       "    }\n",
       "</style>\n",
       "<table border=\"1\" class=\"dataframe\">\n",
       "  <thead>\n",
       "    <tr style=\"text-align: right;\">\n",
       "      <th></th>\n",
       "      <th>Date of Collection</th>\n",
       "      <th>Company Name</th>\n",
       "      <th>Website_URL</th>\n",
       "      <th>Public/Private</th>\n",
       "      <th>Practices</th>\n",
       "      <th>Services</th>\n",
       "      <th>Solutions</th>\n",
       "      <th>Training Program Duration</th>\n",
       "      <th>Tech Partnerships</th>\n",
       "      <th>Anecdotal Views of Quality</th>\n",
       "      <th>Consultant Pricing</th>\n",
       "    </tr>\n",
       "  </thead>\n",
       "  <tbody>\n",
       "    <tr>\n",
       "      <th>0</th>\n",
       "      <td>1970-01-01 01:00:25.569</td>\n",
       "      <td>Tata Consultancy Services Limited</td>\n",
       "      <td>https://www.tcs.com</td>\n",
       "      <td>Public</td>\n",
       "      <td>Network Solutions and Service</td>\n",
       "      <td>No Services Data Available</td>\n",
       "      <td>5G enterprise services</td>\n",
       "      <td>No Training information found</td>\n",
       "      <td>MySQL', 'Hewlett Packard Enterprise', 'Salesfo...</td>\n",
       "      <td>3.7 on Glassdoor (136742 total reviews)</td>\n",
       "      <td>£127 a unit a day</td>\n",
       "    </tr>\n",
       "  </tbody>\n",
       "</table>\n",
       "</div>"
      ],
      "text/plain": [
       "       Date of Collection                       Company Name  \\\n",
       "0 1970-01-01 01:00:25.569  Tata Consultancy Services Limited   \n",
       "\n",
       "           Website_URL Public/Private                       Practices  \\\n",
       "0  https://www.tcs.com         Public   Network Solutions and Service   \n",
       "\n",
       "                     Services               Solutions  \\\n",
       "0  No Services Data Available  5G enterprise services   \n",
       "\n",
       "       Training Program Duration  \\\n",
       "0  No Training information found   \n",
       "\n",
       "                                   Tech Partnerships  \\\n",
       "0  MySQL', 'Hewlett Packard Enterprise', 'Salesfo...   \n",
       "\n",
       "                Anecdotal Views of Quality Consultant Pricing  \n",
       "0  3.7 on Glassdoor (136742 total reviews)  £127 a unit a day  "
      ]
     },
     "metadata": {},
     "output_type": "display_data"
    },
    {
     "data": {
      "text/html": [
       "<div>\n",
       "<style scoped>\n",
       "    .dataframe tbody tr th:only-of-type {\n",
       "        vertical-align: middle;\n",
       "    }\n",
       "\n",
       "    .dataframe tbody tr th {\n",
       "        vertical-align: top;\n",
       "    }\n",
       "\n",
       "    .dataframe thead th {\n",
       "        text-align: right;\n",
       "    }\n",
       "</style>\n",
       "<table border=\"1\" class=\"dataframe\">\n",
       "  <thead>\n",
       "    <tr style=\"text-align: right;\">\n",
       "      <th></th>\n",
       "      <th>Date of Collection</th>\n",
       "      <th>Company Name</th>\n",
       "      <th>Website_URL</th>\n",
       "      <th>Public/Private</th>\n",
       "      <th>Practices</th>\n",
       "      <th>Services</th>\n",
       "      <th>Solutions</th>\n",
       "      <th>Training Program Duration</th>\n",
       "      <th>Tech Partnerships</th>\n",
       "      <th>Anecdotal Views of Quality</th>\n",
       "      <th>Consultant Pricing</th>\n",
       "    </tr>\n",
       "  </thead>\n",
       "  <tbody>\n",
       "    <tr>\n",
       "      <th>0</th>\n",
       "      <td>1970-01-01 01:00:25.569</td>\n",
       "      <td>Ten10</td>\n",
       "      <td>https://ten10.com</td>\n",
       "      <td>Private</td>\n",
       "      <td>Automation</td>\n",
       "      <td>Cloud &amp; DevOps Health Checks</td>\n",
       "      <td>No Solutions Data Available</td>\n",
       "      <td>6-week + Unspecified role based training: \"Aft...</td>\n",
       "      <td>No information found</td>\n",
       "      <td>Glassdoor 4.1/5 (152 Reviews), Indeed 3.6/5 (9...</td>\n",
       "      <td>£285 to £1,155 a unit a day</td>\n",
       "    </tr>\n",
       "  </tbody>\n",
       "</table>\n",
       "</div>"
      ],
      "text/plain": [
       "       Date of Collection Company Name        Website_URL Public/Private  \\\n",
       "0 1970-01-01 01:00:25.569        Ten10  https://ten10.com        Private   \n",
       "\n",
       "    Practices                      Services                    Solutions  \\\n",
       "0  Automation  Cloud & DevOps Health Checks  No Solutions Data Available   \n",
       "\n",
       "                           Training Program Duration     Tech Partnerships  \\\n",
       "0  6-week + Unspecified role based training: \"Aft...  No information found   \n",
       "\n",
       "                          Anecdotal Views of Quality  \\\n",
       "0  Glassdoor 4.1/5 (152 Reviews), Indeed 3.6/5 (9...   \n",
       "\n",
       "            Consultant Pricing  \n",
       "0  £285 to £1,155 a unit a day  "
      ]
     },
     "metadata": {},
     "output_type": "display_data"
    },
    {
     "data": {
      "text/html": [
       "<div>\n",
       "<style scoped>\n",
       "    .dataframe tbody tr th:only-of-type {\n",
       "        vertical-align: middle;\n",
       "    }\n",
       "\n",
       "    .dataframe tbody tr th {\n",
       "        vertical-align: top;\n",
       "    }\n",
       "\n",
       "    .dataframe thead th {\n",
       "        text-align: right;\n",
       "    }\n",
       "</style>\n",
       "<table border=\"1\" class=\"dataframe\">\n",
       "  <thead>\n",
       "    <tr style=\"text-align: right;\">\n",
       "      <th></th>\n",
       "      <th>Date of Collection</th>\n",
       "      <th>Company Name</th>\n",
       "      <th>Website_URL</th>\n",
       "      <th>Public/Private</th>\n",
       "      <th>Practices</th>\n",
       "      <th>Services</th>\n",
       "      <th>Solutions</th>\n",
       "      <th>Training Program Duration</th>\n",
       "      <th>Tech Partnerships</th>\n",
       "      <th>Anecdotal Views of Quality</th>\n",
       "      <th>Consultant Pricing</th>\n",
       "    </tr>\n",
       "  </thead>\n",
       "  <tbody>\n",
       "    <tr>\n",
       "      <th>0</th>\n",
       "      <td>1970-01-01 01:00:25.569</td>\n",
       "      <td>Wipro Limited</td>\n",
       "      <td>https://www.wipro.com/</td>\n",
       "      <td>Public</td>\n",
       "      <td>Applications</td>\n",
       "      <td>Next–Gen Application Management Services</td>\n",
       "      <td>4M Delivery Framework</td>\n",
       "      <td>15 monthsleadership training, including 3 mont...</td>\n",
       "      <td>MySQL', 'Hewlett Packard Enterprise', 'Salesfo...</td>\n",
       "      <td>No data found</td>\n",
       "      <td>£120 to £1,300 a unit a day</td>\n",
       "    </tr>\n",
       "  </tbody>\n",
       "</table>\n",
       "</div>"
      ],
      "text/plain": [
       "       Date of Collection   Company Name             Website_URL  \\\n",
       "0 1970-01-01 01:00:25.569  Wipro Limited  https://www.wipro.com/   \n",
       "\n",
       "  Public/Private     Practices                                  Services  \\\n",
       "0         Public  Applications  Next–Gen Application Management Services   \n",
       "\n",
       "                Solutions                          Training Program Duration  \\\n",
       "0  4M Delivery Framework   15 monthsleadership training, including 3 mont...   \n",
       "\n",
       "                                   Tech Partnerships  \\\n",
       "0  MySQL', 'Hewlett Packard Enterprise', 'Salesfo...   \n",
       "\n",
       "  Anecdotal Views of Quality           Consultant Pricing  \n",
       "0              No data found  £120 to £1,300 a unit a day  "
      ]
     },
     "metadata": {},
     "output_type": "display_data"
    }
   ],
   "source": [
    "company_df_full = pd.read_excel(io=r\"C:\\Users\\Jack\\Documents\\VS Code\\market-intelligence-kubrick\\kubrick_mi_company_intel2.xlsx\", sheet_name='Sheet1')\n",
    "columns = ['Date of Collection', 'Company Name', 'Website_URL', 'Training Program Duration', 'Anecdotal Views of Quality', 'Consultant Pricing']\n",
    "\n",
    "for company_name in company_dict['company_name']:\n",
    "    company_df = pd.read_excel(io=r\"C:\\Users\\Jack\\Documents\\VS Code\\market-intelligence-kubrick\\kubrick_mi_company_intel2.xlsx\", sheet_name=company_name).head(1)\n",
    "    display(company_df)\n",
    "    company_df_full = pd.concat([company_df_full, company_df])\n",
    "\n",
    "company_df_final = company_df_full.reset_index()\n"
   ]
  },
  {
   "cell_type": "code",
   "execution_count": 31,
   "metadata": {},
   "outputs": [
    {
     "name": "stdout",
     "output_type": "stream",
     "text": [
      "1970-01-01 01:00:25.569000\n",
      "Sparta Global\n",
      "https://www.spartaglobal.com\n",
      "8-10 weeks: \"The first 8-10 weeks of your employment will be 8-10 weeks of training in your chosen specialism.\"\n",
      "Glassdoor 3.7/5 (489 Reviews); Indeed 3.2/5 (30 Reviews); King's Award for Enterprise; Certified B Corporation; TOP 75 Employer Index 2022; Youth Verified; BEST EMPLOYER FOR TRAINING; BEST TECH EMPLOYER (OVER 500 EMPLOYEES)\n",
      "£250 to £1,100 a unit a day\n"
     ]
    }
   ],
   "source": [
    "for column in columns:\n",
    "    print(company_df_final[column].iloc[16])"
   ]
  },
  {
   "cell_type": "code",
   "execution_count": 85,
   "metadata": {},
   "outputs": [
    {
     "data": {
      "text/plain": [
       "['AND Digital',\n",
       " 'BetterGov',\n",
       " 'Cambridge Consultants Limited',\n",
       " 'Capco Limited',\n",
       " 'Capgemini SE',\n",
       " 'Cognizant Technology Solutions Corporation',\n",
       " 'Credera',\n",
       " 'Dufrain',\n",
       " 'FDM Group (Holdings) Ltd',\n",
       " 'Fjord Consulting Group',\n",
       " 'IQVIA Holdings Inc',\n",
       " 'Infinite Lambda',\n",
       " 'Infosys Limited',\n",
       " 'Kubrick Group Limited',\n",
       " 'Mesh AI',\n",
       " 'Slalom',\n",
       " 'Sparta Global',\n",
       " 'Tata Consultancy Services Limited',\n",
       " 'Ten10',\n",
       " 'Wipro Limited']"
      ]
     },
     "execution_count": 85,
     "metadata": {},
     "output_type": "execute_result"
    }
   ],
   "source": [
    "from selenium import webdriver\n",
    "import time\n",
    "\n",
    "url = \"https://www.reuters.com/search/news?blob=soybean&sortBy=date&dateRange=all\"\n",
    "driver = webdriver.PhantomJS()\n",
    "driver.get(url)\n",
    "html = driver.page_source.encode('utf-8')\n",
    "page_num = 0\n",
    "\n",
    "while driver.find_elements_by_css_selector('.search-result-more-txt'):\n",
    "    driver.find_element_by_css_selector('.search-result-more-txt').click()\n",
    "    page_num += 1\n",
    "    print(\"getting page number \"+str(page_num))\n",
    "    time.sleep(1)\n"
   ]
  },
  {
   "cell_type": "code",
   "execution_count": 44,
   "metadata": {},
   "outputs": [
    {
     "name": "stdout",
     "output_type": "stream",
     "text": [
      "hello\n",
      "hello\n",
      "hello\n",
      "hello\n",
      "hello\n"
     ]
    }
   ],
   "source": [
    "from tkinter import *\n",
    "from threading import Thread\n",
    "running = True  # Global flag\n",
    "\n",
    "def scanning():\n",
    "    if running:  # Only do this if the Stop button has not been clicked\n",
    "        print(\"hello\")\n",
    "\n",
    "    # After 1 second, call scanning again (create a recursive loop)\n",
    "    root.after(1000, scanning)\n",
    "\n",
    "def start():\n",
    "    \"\"\"Enable scanning by setting the global flag to True.\"\"\"\n",
    "    global running\n",
    "    running = True\n",
    "\n",
    "def stop():\n",
    "    \"\"\"Stop scanning by setting the global flag to False.\"\"\"\n",
    "    global running\n",
    "    running = False\n",
    "\n",
    "def close_window():\n",
    "    root.destroy()\n",
    "\n",
    "root = Tk()\n",
    "root.title(\"Title\")\n",
    "root.geometry(\"500x500\")\n",
    "\n",
    "app = Frame(root)\n",
    "app.grid()\n",
    "\n",
    "start = Button(app, text=\"Start Scan\", command=start)\n",
    "button = Button(root, text=\"Force Stop\", command=close_window)\n",
    "\n",
    "start.grid()\n",
    "button.grid()\n",
    "\n",
    "root.after(1000, scanning)  # After 1 second, call scanning\n",
    "root.mainloop()"
   ]
  },
  {
   "cell_type": "code",
   "execution_count": 55,
   "metadata": {},
   "outputs": [
    {
     "name": "stdout",
     "output_type": "stream",
     "text": [
      "Requirement already satisfied: idna in c:\\users\\jack\\appdata\\local\\packages\\pythonsoftwarefoundation.python.3.11_qbz5n2kfra8p0\\localcache\\local-packages\\python311\\site-packages (3.6)\n"
     ]
    },
    {
     "name": "stderr",
     "output_type": "stream",
     "text": [
      "\n",
      "[notice] A new release of pip is available: 23.3.1 -> 24.0\n",
      "[notice] To update, run: C:\\Users\\Jack\\AppData\\Local\\Microsoft\\WindowsApps\\PythonSoftwareFoundation.Python.3.11_qbz5n2kfra8p0\\python.exe -m pip install --upgrade pip\n"
     ]
    }
   ],
   "source": [
    "!pip install idna"
   ]
  }
 ],
 "metadata": {
  "kernelspec": {
   "display_name": "Python 3",
   "language": "python",
   "name": "python3"
  },
  "language_info": {
   "codemirror_mode": {
    "name": "ipython",
    "version": 3
   },
   "file_extension": ".py",
   "mimetype": "text/x-python",
   "name": "python",
   "nbconvert_exporter": "python",
   "pygments_lexer": "ipython3",
   "version": "3.11.9"
  }
 },
 "nbformat": 4,
 "nbformat_minor": 2
}
