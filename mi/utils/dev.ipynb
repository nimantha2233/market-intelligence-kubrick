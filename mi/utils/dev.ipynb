{
 "cells": [
  {
   "cell_type": "code",
   "execution_count": 1,
   "metadata": {},
   "outputs": [],
   "source": [
    "import requests\n",
    "import pandas as pd\n",
    "from bs4 import BeautifulSoup \n",
    "import yahoo_finance"
   ]
  },
  {
   "cell_type": "code",
   "execution_count": 2,
   "metadata": {},
   "outputs": [],
   "source": [
    "def produce_soup_from_url(url : str):\n",
    "\n",
    "    r = requests.get(url)\n",
    "    \n",
    "    return BeautifulSoup(r.content,'html5lib')"
   ]
  },
  {
   "cell_type": "code",
   "execution_count": 3,
   "metadata": {},
   "outputs": [],
   "source": [
    "def dataframe_builder(profile_dict : dict):\n",
    "\n",
    "    return pd.DataFrame({'practices' : profile_dict['practices'], 'services' : profile_dict['services']})\n",
    "\n",
    "    \n"
   ]
  },
  {
   "cell_type": "code",
   "execution_count": 4,
   "metadata": {},
   "outputs": [],
   "source": [
    "def df_to_csv(df : pd.DataFrame, filename : str):\n",
    "    # df.to_csv(path_or_buf=r'...\\database')\n",
    "    return df.to_csv(path_or_buf=fr'..\\..\\database\\{filename}.csv', index=False)"
   ]
  },
  {
   "cell_type": "code",
   "execution_count": 28,
   "metadata": {},
   "outputs": [],
   "source": [
    "# BetterGov URL : https://www.bettergov.co.uk/\n",
    "\n",
    "profile_dict = {'Practises_URL': [r'https://www.bettergov.co.uk/'], 'Practises': [], 'Services_URL': [], 'Services': []}\n",
    "\n",
    "soup = produce_soup_from_url(profile_dict['Practises_URL'][0])\n",
    "html = soup.find_all(lambda tag: tag.name == 'a' and tag.has_attr('href') and r'https://www.bettergov.co.uk/better-' in tag['href'] and tag.find('span'))\n",
    "html = list(set(html))\n",
    "\n",
    "for row_i in html:\n",
    "    \n",
    "    service_url = row_i['href']\n",
    "    # profile_dict['Services_URL'].append(service_url)\n",
    "\n",
    "    service_soup = produce_soup_from_url(service_url)\n",
    "\n",
    "    services = service_soup.find_all('h5')[1::]\n",
    "    \n",
    "    for row_j in services:\n",
    "        profile_dict['Services'].append(row_j.text)\n",
    "        profile_dict['Practises'].append(row_i.find('span', attrs = {'class': \"nectar-menu-label nectar-pseudo-expand\"}).text)\n",
    "        profile_dict['Services_URL'].append(service_url)\n",
    "\n",
    "\n",
    "# dataframe_builder(profile_dict)"
   ]
  },
  {
   "cell_type": "code",
   "execution_count": 33,
   "metadata": {},
   "outputs": [],
   "source": []
  },
  {
   "cell_type": "code",
   "execution_count": 32,
   "metadata": {},
   "outputs": [
    {
     "data": {
      "text/plain": [
       "[1, 1, 1, 1, 1]"
      ]
     },
     "execution_count": 32,
     "metadata": {},
     "output_type": "execute_result"
    }
   ],
   "source": [
    "5*[1]"
   ]
  },
  {
   "cell_type": "code",
   "execution_count": 34,
   "metadata": {},
   "outputs": [
    {
     "name": "stdout",
     "output_type": "stream",
     "text": [
      "Practises_URL ---- length: 28\n",
      "Practises ---- length: 28\n",
      "Services_URL ---- length: 28\n",
      "Services ---- length: 28\n"
     ]
    }
   ],
   "source": [
    "for k,v in profile_dict.items():\n",
    "    print(f'{k} ---- length: {len(v)}')"
   ]
  },
  {
   "cell_type": "code",
   "execution_count": 6,
   "metadata": {},
   "outputs": [],
   "source": [
    "# Cambridge Consultants URL : https://www.cambridgeconsultants.com/\n",
    "\n",
    "\n",
    "profile_dict = {'practises_url': ['https://www.cambridgeconsultants.com/'], 'practises': [], 'services_url': [], 'services': []}\n",
    "\n",
    "soup = produce_soup_from_url(r'https://www.cambridgeconsultants.com/')\n",
    "\n",
    "filtered_html = soup.find_all('ul', attrs = {'id' : 'menu-deep-tech'})[0].select('a') # extracts all rows with links correspondong to dropdown menu \"deep tech\"\n",
    "\n",
    "for row_i in filtered_html:\n",
    "\n",
    "    service_url = row_i['href']\n",
    "    profile_dict['services_url'].append(service_url)\n",
    "    # profile_dict['practises'].append(row.text)\n",
    "\n",
    "    service_soup = produce_soup_from_url(service_url)\n",
    "\n",
    "    # service_soup.find_all('div', attrs = {'class' : \"et_pb_row et_pb_row_15\"})\n",
    "\n",
    "    raw_html = service_soup.find_all('ul', attrs = {'class' : \"et_pb_tabs_controls clearfix\"})[0].select('li') # using the initial attrs means we can access the specific children we need to as\n",
    "\n",
    "    for row_j in raw_html:\n",
    "\n",
    "        profile_dict['practises'].append(row_i.text)\n",
    "        profile_dict['services'].append(row_j.text)\n",
    "\n",
    "\n"
   ]
  },
  {
   "cell_type": "code",
   "execution_count": 32,
   "metadata": {},
   "outputs": [],
   "source": [
    "\n",
    "df = dataframe_builder(profile_dict)\n",
    "df_to_csv(df,filename='cambridge_consultants')"
   ]
  },
  {
   "cell_type": "code",
   "execution_count": 60,
   "metadata": {},
   "outputs": [],
   "source": [
    "# Capco URL: https://www.capco.com/Services\n",
    "\n",
    "profile_dict = {'practises_url': ['https://www.capco.com'], 'practises': [], 'services_url': [], 'services': []}\n",
    "\n",
    "soup = produce_soup_from_url(r'https://www.capco.com')\n",
    "services_html = soup.find_all(lambda tag: tag.name == 'a' and '/Services/' in tag['href'] )\n",
    "\n",
    "for row_i in services_html:\n",
    "\n",
    "    service_url = profile_dict['practises_url'][0] + row_i['href']\n",
    "    # print(service_url)\n",
    "    profile_dict['services_url'].append(service_url)\n",
    "\n",
    "    service_soup = produce_soup_from_url(service_url)\n",
    "\n",
    "\n",
    "    exclude_list = ['/Services/digital/knowable','/Services/digital/Further-Swiss-Solutions']\n",
    "    services_list = []\n",
    "    # service_soup = produce_soup_from_url(profile_dict['services_url'][0])\n",
    "\n",
    "\n",
    "    html = service_soup.find_all('div', attrs = {'class' : 'article-content'})\n",
    "\n",
    "    for row_j in html:\n",
    "\n",
    "        if row_j.find('h2'):\n",
    "            if row_j.find('a')['href'] not in exclude_list:\n",
    "                services_list.append(row_j.find('h2').text)\n",
    "                # profile_dict['practises'].append(row_i.text)\n",
    "\n",
    "    services_list = list(set(services_list))\n",
    "    profile_dict['practises'] += [row_i.text]*len(services_list)\n",
    "    # print([row_i.text]*len(services_list))\n",
    "\n",
    "\n",
    "    profile_dict['services'] += services_list\n",
    "    # print(profile_dict)"
   ]
  },
  {
   "cell_type": "code",
   "execution_count": 63,
   "metadata": {},
   "outputs": [],
   "source": [
    "df = dataframe_builder(profile_dict)\n",
    "df_to_csv(df, 'capco')"
   ]
  },
  {
   "cell_type": "code",
   "execution_count": 41,
   "metadata": {},
   "outputs": [
    {
     "name": "stdout",
     "output_type": "stream",
     "text": [
      "/uk/en/services/application-services\n",
      "/uk/en/services/ai\n",
      "/uk/en/services/business-process-services\n",
      "/uk/en/services/cloud-solutions\n",
      "/uk/en/services/core-application-modernization\n",
      "/uk/en/services/digital-strategy\n",
      "/uk/en/services/enterprise-platform-services\n",
      "/uk/en/services/experience-services\n",
      "/uk/en/services/infrastructure-services\n",
      "/uk/en/services/intelligent-process-automation\n",
      "/uk/en/services/iot-solutions\n",
      "/uk/en/services/enterprise-quality-engineering-assurance\n",
      "/uk/en/services/cybersecurity-services\n",
      "/uk/en/services/software-engineering-services\n",
      "/uk/en/services/sustainability-services\n",
      "/uk/en/services/consulting\n"
     ]
    }
   ],
   "source": [
    "# Cognizant Technology Solutions Corp\n",
    "\n",
    "profile_dict = {'practises_url': ['https://www.cognizant.com'], 'practises': [], 'services_url': [], 'services': []}\n",
    "\n",
    "soup = produce_soup_from_url(r'https://www.cognizant.com')\n",
    "practises_html = soup.find_all('a', href = lambda href: href and \"/uk/en/services/\" in href, target = True, class_ = False) #<a class=\"p-half d-block fw-normal text-white cog-header__megamenu-item\" href=\"/uk/en/services/ai\" role=\"link\" aria-label=\"Data & AI\" target=\"_self\" data-cmp-data-layer=\"{\"dropDownMenuTag-c33be6f82d\":{\"xdm:trackingType\":\"dropDownMenuTag\",\"xdm:location\":\"Header\",\"dc:title\":\"Data & AI\",\"xdm:linkURL\":\"/content/cognizant-dot-com/uk/en/services/ai\"}}\" data-cmp-clickable>\n",
    "\n",
    "\n",
    "for row_i in practises_html:\n",
    "\n",
    "    profile_dict['services_url'].append(row_i['href'])\n",
    "\n",
    "    services_soup = produce_soup_from_url(profile_dict['practises_url'][0] + row_i['href'])\n",
    "    services_html = services_soup.find_all('span', attrs = {'class' : 'cmp-accordion__title'})\n",
    "\n",
    "    for row_j in services_html:\n",
    "        \n",
    "        profile_dict['services'].append(row_j.text)\n",
    "        profile_dict['practises'].append(row_i.text.strip())\n",
    "\n",
    "\n",
    "df = dataframe_builder(profile_dict)\n",
    "df_to_csv(df,filename='cognizant')\n"
   ]
  },
  {
   "cell_type": "code",
   "execution_count": 6,
   "metadata": {},
   "outputs": [],
   "source": [
    "# Infosys\n",
    "\n",
    "profile_dict = {'practises_url': ['https://www.infosys.com/services/'], 'practises': [], 'services_url': [], 'services': []}\n",
    "soup = produce_soup_from_url(r'https://www.infosys.com/services/')\n",
    "practises_html = soup.find_all('li', attrs = {'class' : \"col-lg-4 col-md-4 col-sm-4 col-xs-12\"})\n",
    "practises_list = []\n",
    "\n",
    "for row_i in practises_html:\n",
    "    for row_j in row_i.find_all('a'):\n",
    "        \n",
    "        service_url = profile_dict['practises_url'][0][:-10] + row_j['href']\n",
    "        profile_dict['services_url'].append(service_url)\n",
    "\n",
    "        services_soup = produce_soup_from_url(profile_dict['practises_url'][0][:-10] + row_j['href'])\n",
    "\n",
    "        soup.find_all('p', attrs = {'class' : 'offering-title'})\n",
    "        services_html = services_soup.find_all('div', attrs = {'class' : \"offerings-row clearfix\"})\n",
    "\n",
    "\n",
    "        for offering in services_html:\n",
    "            for service in offering.find_all('a'):\n",
    "                profile_dict['services'].append(service.text.strip())\n",
    "                profile_dict['practises'].append(row_j.text.strip())"
   ]
  },
  {
   "cell_type": "code",
   "execution_count": 7,
   "metadata": {},
   "outputs": [],
   "source": [
    "df = dataframe_builder(profile_dict)\n",
    "df_to_csv(df,filename='infosys')"
   ]
  },
  {
   "cell_type": "code",
   "execution_count": 6,
   "metadata": {},
   "outputs": [
    {
     "data": {
      "text/plain": [
       "[]"
      ]
     },
     "execution_count": 6,
     "metadata": {},
     "output_type": "execute_result"
    }
   ],
   "source": [
    "# IQVIA Holdings Inc\n",
    "\n",
    "\n",
    "profile_dict = {'practises_url': ['https://www.infosys.com/services/'], 'practises': [], 'services_url': [], 'services': []}\n",
    "soup = produce_soup_from_url(r'https://www.infosys.com/services/')\n",
    "practises_html = soup.find_all('h3', attrs = {'class' : \"headline\"})\n",
    "practises_html\n"
   ]
  },
  {
   "cell_type": "code",
   "execution_count": 18,
   "metadata": {},
   "outputs": [
    {
     "ename": "NameError",
     "evalue": "name 'produce_soup_from_url' is not defined",
     "output_type": "error",
     "traceback": [
      "\u001b[1;31m---------------------------------------------------------------------------\u001b[0m",
      "\u001b[1;31mNameError\u001b[0m                                 Traceback (most recent call last)",
      "Cell \u001b[1;32mIn[18], line 4\u001b[0m\n\u001b[0;32m      1\u001b[0m \u001b[38;5;66;03m# Kubrick Group\u001b[39;00m\n\u001b[0;32m      3\u001b[0m profile_dict \u001b[38;5;241m=\u001b[39m {\u001b[38;5;124m'\u001b[39m\u001b[38;5;124mpractices_url\u001b[39m\u001b[38;5;124m'\u001b[39m: [\u001b[38;5;124mr\u001b[39m\u001b[38;5;124m'\u001b[39m\u001b[38;5;124mhttps://www.kubrickgroup.com/uk/what-we-do\u001b[39m\u001b[38;5;124m'\u001b[39m], \u001b[38;5;124m'\u001b[39m\u001b[38;5;124mpractices\u001b[39m\u001b[38;5;124m'\u001b[39m: [], \u001b[38;5;124m'\u001b[39m\u001b[38;5;124mservices_url\u001b[39m\u001b[38;5;124m'\u001b[39m: [], \u001b[38;5;124m'\u001b[39m\u001b[38;5;124mservices\u001b[39m\u001b[38;5;124m'\u001b[39m: []}\n\u001b[1;32m----> 4\u001b[0m soup \u001b[38;5;241m=\u001b[39m \u001b[43mproduce_soup_from_url\u001b[49m(profile_dict[\u001b[38;5;124m'\u001b[39m\u001b[38;5;124mpractices_url\u001b[39m\u001b[38;5;124m'\u001b[39m][\u001b[38;5;241m0\u001b[39m])\n\u001b[0;32m      5\u001b[0m practices_html_block \u001b[38;5;241m=\u001b[39m soup\u001b[38;5;241m.\u001b[39mfind_all(\u001b[38;5;124m'\u001b[39m\u001b[38;5;124msection\u001b[39m\u001b[38;5;124m'\u001b[39m, attrs \u001b[38;5;241m=\u001b[39m {\u001b[38;5;124m'\u001b[39m\u001b[38;5;124mid\u001b[39m\u001b[38;5;124m'\u001b[39m : \u001b[38;5;124m\"\u001b[39m\u001b[38;5;124mour-practices\u001b[39m\u001b[38;5;124m\"\u001b[39m})[\u001b[38;5;241m0\u001b[39m]\n\u001b[0;32m      7\u001b[0m \u001b[38;5;66;03m# Each element of list is a practices' html\u001b[39;00m\n",
      "\u001b[1;31mNameError\u001b[0m: name 'produce_soup_from_url' is not defined"
     ]
    }
   ],
   "source": [
    "# Kubrick Group\n",
    "\n",
    "profile_dict = {'practices_url': [r'https://www.kubrickgroup.com/uk/what-we-do'], 'practices': [], 'services_url': [], 'services': []}\n",
    "soup = produce_soup_from_url(profile_dict['practices_url'][0])\n",
    "practices_html_block = soup.find_all('section', attrs = {'id' : \"our-practices\"})[0]\n",
    "\n",
    "# Each element of list is a practices' html\n",
    "practices_html = [div for div in practices_html_block.find_all('div', attrs={'class': 'col-12'}) if div.find('p')]\n",
    "\n",
    "for practice in practices_html:\n",
    "    for service in practice.find_all('li'):\n",
    "        profile_dict['practices'].append(practice.find_all('h3')[0].text)\n",
    "        profile_dict['services'].append(service.text)\n",
    "        # print(f\"{practice.find_all('h3')[0].text} ------- {service.text}\")\n",
    "\n"
   ]
  },
  {
   "cell_type": "code",
   "execution_count": 135,
   "metadata": {},
   "outputs": [
    {
     "data": {
      "text/plain": [
       "[<li>Business Analysis &amp; Business Process Mining</li>,\n",
       " <li>Requirements Engineering</li>,\n",
       " <li>Agile Product Management</li>,\n",
       " <li>Change &amp; Risk Management</li>,\n",
       " <li>Data Product Testing &amp; Validation</li>,\n",
       " <li>Data Product Launch &amp; Deployment</li>,\n",
       " <li>Data Product Lifecycle Management</li>]"
      ]
     },
     "execution_count": 135,
     "metadata": {},
     "output_type": "execute_result"
    }
   ],
   "source": [
    "practices_html[0].find_all('li')"
   ]
  },
  {
   "cell_type": "code",
   "execution_count": 142,
   "metadata": {},
   "outputs": [
    {
     "name": "stdout",
     "output_type": "stream",
     "text": [
      "Data Product Management ------- Business Analysis & Business Process Mining\n",
      "Data Product Management ------- Requirements Engineering\n",
      "Data Product Management ------- Agile Product Management\n",
      "Data Product Management ------- Change & Risk Management\n",
      "Data Product Management ------- Data Product Testing & Validation\n",
      "Data Product Management ------- Data Product Launch & Deployment\n",
      "Data Product Management ------- Data Product Lifecycle Management\n",
      "Data Engineering ------- Modern Data Architecture & Data Modelling\n",
      "Data Engineering ------- Data Connectivity and Integration\n",
      "Data Engineering ------- Cloud Data Warehouse and Lake Development\n",
      "Data Engineering ------- DataOps\n",
      "Data Engineering ------- Data Orchestration\n",
      "Data Engineering ------- Data Streaming​\n",
      "Data Engineering ------- Scalability & Performance Optimisation\n",
      "Data Engineering ------- Database Design & Development​\n",
      "Data & AI Governance ------- Data Governance Frameworks & Policy\n",
      "Data & AI Governance ------- Policy-as-Code\n",
      "Data & AI Governance ------- Master Data & Reference Data Management\n",
      "Data & AI Governance ------- Data Quality Management\n",
      "Data & AI Governance ------- Data Cataloging & Lineage\n",
      "Data & AI Governance ------- Data Privacy & Compliance\n",
      "Data & AI Governance ------- Data Domain Modelling\n",
      "Advanced Analytics ------- Data Analysis & Insights​\n",
      "Advanced Analytics ------- Advanced Data Visualisation\n",
      "Advanced Analytics ------- Decision Intelligence​\n",
      "Advanced Analytics ------- Knowledge Graph Development​\n",
      "Advanced Analytics ------- Digital Twins​\n",
      "Advanced Analytics ------- Data Storytelling​\n",
      "Advanced Analytics ------- Self-service Enablement\n",
      "GenAI & MLOps ------- Feature Engineering​\n",
      "GenAI & MLOps ------- Model Development​\n",
      "GenAI & MLOps ------- ML Engineering ​\n",
      "GenAI & MLOps ------- LLMOps​\n",
      "GenAI & MLOps ------- LLM Integration & Fine Tuning​\n",
      "GenAI & MLOps ------- Prompt Engineering​\n",
      "GenAI & MLOps ------- AI Ethics & Compliance\n",
      "Cloud ------- Cloud Design & Deployment​\n",
      "Cloud ------- Cloud Migration​\n",
      "Cloud ------- Cloud Infra Optimization​\n",
      "Cloud ------- CI/CD​\n",
      "Cloud ------- FinOps & Sustainability​\n",
      "Cloud ------- Cloud Security & Compliance​\n",
      "Cloud ------- SRE\n"
     ]
    }
   ],
   "source": [
    "practices_html_block = soup.find_all('section', attrs = {'id' : \"our-practices\"})[0]\n",
    "\n",
    "# Each element of list is a practices' html\n",
    "practices_html = [div for div in practices_html_block.find_all('div', attrs={'class': 'col-12'}) if div.find('p')]\n",
    "\n",
    "for practice in practices_html:\n",
    "    for service in practice.find_all('li'):\n",
    "        print(f\"{practice.find_all('h3')[0].text} ------- {service.text}\")"
   ]
  },
  {
   "cell_type": "code",
   "execution_count": 141,
   "metadata": {},
   "outputs": [
    {
     "name": "stdout",
     "output_type": "stream",
     "text": [
      "[<li>Business Analysis &amp; Business Process Mining</li>, <li>Requirements Engineering</li>, <li>Agile Product Management</li>, <li>Change &amp; Risk Management</li>, <li>Data Product Testing &amp; Validation</li>, <li>Data Product Launch &amp; Deployment</li>, <li>Data Product Lifecycle Management</li>]\n",
      "Business Analysis & Business Process Mining\n",
      "Requirements Engineering\n",
      "Agile Product Management\n",
      "Change & Risk Management\n",
      "Data Product Testing & Validation\n",
      "Data Product Launch & Deployment\n",
      "Data Product Lifecycle Management\n",
      "[<li>Modern Data Architecture &amp; Data Modelling</li>, <li>Data Connectivity and Integration</li>, <li>Cloud Data Warehouse and Lake Development</li>, <li>DataOps</li>, <li>Data Orchestration</li>, <li>Data Streaming​</li>, <li>Scalability &amp; Performance Optimisation</li>, <li>Database Design &amp; Development​</li>]\n",
      "Modern Data Architecture & Data Modelling\n",
      "Data Connectivity and Integration\n",
      "Cloud Data Warehouse and Lake Development\n",
      "DataOps\n",
      "Data Orchestration\n",
      "Data Streaming​\n",
      "Scalability & Performance Optimisation\n",
      "Database Design & Development​\n",
      "[<li>Data Governance Frameworks &amp; Policy</li>, <li>Policy-as-Code</li>, <li>Master Data &amp; Reference Data Management</li>, <li>Data Quality Management</li>, <li>Data Cataloging &amp; Lineage</li>, <li>Data Privacy &amp; Compliance</li>, <li>Data Domain Modelling</li>]\n",
      "Data Governance Frameworks & Policy\n",
      "Policy-as-Code\n",
      "Master Data & Reference Data Management\n",
      "Data Quality Management\n",
      "Data Cataloging & Lineage\n",
      "Data Privacy & Compliance\n",
      "Data Domain Modelling\n",
      "[<li>Data Analysis &amp; Insights​</li>, <li>Advanced Data Visualisation</li>, <li>Decision Intelligence​</li>, <li>Knowledge Graph Development​</li>, <li>Digital Twins​</li>, <li>Data Storytelling​</li>, <li>Self-service Enablement</li>]\n",
      "Data Analysis & Insights​\n",
      "Advanced Data Visualisation\n",
      "Decision Intelligence​\n",
      "Knowledge Graph Development​\n",
      "Digital Twins​\n",
      "Data Storytelling​\n",
      "Self-service Enablement\n",
      "[<li>Feature Engineering​</li>, <li>Model Development​</li>, <li>ML Engineering ​</li>, <li>LLMOps​</li>, <li>LLM Integration &amp; Fine Tuning​</li>, <li>Prompt Engineering​</li>, <li>AI Ethics &amp; Compliance</li>]\n",
      "Feature Engineering​\n",
      "Model Development​\n",
      "ML Engineering ​\n",
      "LLMOps​\n",
      "LLM Integration & Fine Tuning​\n",
      "Prompt Engineering​\n",
      "AI Ethics & Compliance\n",
      "[<li>Cloud Design &amp; Deployment​</li>, <li>Cloud Migration​</li>, <li>Cloud Infra Optimization​</li>, <li>CI/CD​</li>, <li>FinOps &amp; Sustainability​</li>, <li>Cloud Security &amp; Compliance​</li>, <li>SRE</li>]\n",
      "Cloud Design & Deployment​\n",
      "Cloud Migration​\n",
      "Cloud Infra Optimization​\n",
      "CI/CD​\n",
      "FinOps & Sustainability​\n",
      "Cloud Security & Compliance​\n",
      "SRE\n"
     ]
    }
   ],
   "source": [
    "for practice in practices_html:\n",
    "    print(practice.find_all('li'))\n",
    "    for service in practice.find_all('li'):\n",
    "        print(service.text)\n",
    "        print(practice)\n",
    "    #     print(f\"{service.find_all('h3')[0].text} ------- {service.text}\")"
   ]
  },
  {
   "cell_type": "code",
   "execution_count": 87,
   "metadata": {},
   "outputs": [
    {
     "data": {
      "text/plain": [
       "<div class=\"col-12\">\n",
       "\t<div class=\"accordianstep closed row\">\n",
       "\t\t<div class=\"top col-12\">\n",
       "\t\t\t<div class=\"inner\">\n",
       "\t\t\t\t<h3 class=\"headline\">Data Product Management</h3>\n",
       "\t\t\t\t<button class=\"toggle reset\"><svg name=\"button-circle\" viewBox=\"0 0 96 97\" xmlns=\"http://www.w3.org/2000/svg\">\n",
       "\t\t<use xlink:href=\"#button-circle\"></use>\n",
       "\t</svg></button>\n",
       "\t\t\t</div>\n",
       "\t\t</div>\n",
       "\t\t<div class=\"content col-10\">\n",
       "\t\t\t<p><strong>Leverage the power of end-to-end Agile product development, delivery, and management.</strong></p>\n",
       "<p>We specialise in crafting data-driven solutions and products tailored to your business needs, ensuring flexibility, rapid iterations, and collaborative development for enhanced decision-making and innovation.<br/></p>\n",
       "<p>Solutions include:</p>\n",
       "<ul><li>Business Analysis &amp; Business Process Mining</li><li>Requirements Engineering</li><li>Agile Product Management</li><li>Change &amp; Risk Management</li><li>Data Product Testing &amp; Validation</li><li>Data Product Launch &amp; Deployment</li><li>Data Product Lifecycle Management</li></ul>\n",
       "\t\t</div>\n",
       "\t</div>\n",
       "</div>"
      ]
     },
     "execution_count": 87,
     "metadata": {},
     "output_type": "execute_result"
    }
   ],
   "source": [
    "practices_html[0]"
   ]
  },
  {
   "cell_type": "code",
   "execution_count": 88,
   "metadata": {},
   "outputs": [
    {
     "data": {
      "text/plain": [
       "<div class=\"top col-12\">\n",
       "\t\t\t<div class=\"inner\">\n",
       "\t\t\t\t<h3 class=\"headline\">Data Product Management</h3>\n",
       "\t\t\t\t<button class=\"toggle reset\"><svg name=\"button-circle\" viewBox=\"0 0 96 97\" xmlns=\"http://www.w3.org/2000/svg\">\n",
       "\t\t<use xlink:href=\"#button-circle\"></use>\n",
       "\t</svg></button>\n",
       "\t\t\t</div>\n",
       "\t\t</div>"
      ]
     },
     "execution_count": 88,
     "metadata": {},
     "output_type": "execute_result"
    }
   ],
   "source": [
    "practices_html[1]"
   ]
  },
  {
   "cell_type": "code",
   "execution_count": 60,
   "metadata": {},
   "outputs": [
    {
     "name": "stdout",
     "output_type": "stream",
     "text": [
      "[<li>Business Analysis &amp; Business Process Mining</li>, <li>Requirements Engineering</li>, <li>Agile Product Management</li>, <li>Change &amp; Risk Management</li>, <li>Data Product Testing &amp; Validation</li>, <li>Data Product Launch &amp; Deployment</li>, <li>Data Product Lifecycle Management</li>]\n",
      "[]\n",
      "[<li>Modern Data Architecture &amp; Data Modelling</li>, <li>Data Connectivity and Integration</li>, <li>Cloud Data Warehouse and Lake Development</li>, <li>DataOps</li>, <li>Data Orchestration</li>, <li>Data Streaming​</li>, <li>Scalability &amp; Performance Optimisation</li>, <li>Database Design &amp; Development​</li>]\n",
      "[]\n",
      "[<li>Data Governance Frameworks &amp; Policy</li>, <li>Policy-as-Code</li>, <li>Master Data &amp; Reference Data Management</li>, <li>Data Quality Management</li>, <li>Data Cataloging &amp; Lineage</li>, <li>Data Privacy &amp; Compliance</li>, <li>Data Domain Modelling</li>]\n",
      "[]\n",
      "[<li>Data Analysis &amp; Insights​</li>, <li>Advanced Data Visualisation</li>, <li>Decision Intelligence​</li>, <li>Knowledge Graph Development​</li>, <li>Digital Twins​</li>, <li>Data Storytelling​</li>, <li>Self-service Enablement</li>]\n",
      "[]\n",
      "[<li>Feature Engineering​</li>, <li>Model Development​</li>, <li>ML Engineering ​</li>, <li>LLMOps​</li>, <li>LLM Integration &amp; Fine Tuning​</li>, <li>Prompt Engineering​</li>, <li>AI Ethics &amp; Compliance</li>]\n",
      "[]\n",
      "[<li>Cloud Design &amp; Deployment​</li>, <li>Cloud Migration​</li>, <li>Cloud Infra Optimization​</li>, <li>CI/CD​</li>, <li>FinOps &amp; Sustainability​</li>, <li>Cloud Security &amp; Compliance​</li>, <li>SRE</li>]\n",
      "[]\n"
     ]
    }
   ],
   "source": [
    "practices_html = soup.find_all('section', attrs = {'id' : \"our-practices\"})[0].find_all('div', {'class' : 'content col-10'}) # Each element in services html is a practice\n",
    "practices_html[0].find_all('li')\n",
    "for practice in practices_html:\n",
    "    print(practice.find_all('li'))\n",
    "    print(practice.find_all('h3'))"
   ]
  },
  {
   "cell_type": "code",
   "execution_count": 9,
   "metadata": {},
   "outputs": [],
   "source": [
    "from SupportFunctions import get_company_details\n",
    "import pandas as pd\n",
    "import json"
   ]
  },
  {
   "cell_type": "code",
   "execution_count": 5,
   "metadata": {},
   "outputs": [],
   "source": [
    "company_json = get_company_details('INFY')"
   ]
  },
  {
   "cell_type": "code",
   "execution_count": 17,
   "metadata": {},
   "outputs": [
    {
     "data": {
      "text/html": [
       "<div>\n",
       "<style scoped>\n",
       "    .dataframe tbody tr th:only-of-type {\n",
       "        vertical-align: middle;\n",
       "    }\n",
       "\n",
       "    .dataframe tbody tr th {\n",
       "        vertical-align: top;\n",
       "    }\n",
       "\n",
       "    .dataframe thead th {\n",
       "        text-align: right;\n",
       "    }\n",
       "</style>\n",
       "<table border=\"1\" class=\"dataframe\">\n",
       "  <thead>\n",
       "    <tr style=\"text-align: right;\">\n",
       "      <th></th>\n",
       "      <th>Public/Private</th>\n",
       "      <th>Previous Close</th>\n",
       "      <th>52 Week Range</th>\n",
       "      <th>Sector</th>\n",
       "      <th>Industry</th>\n",
       "      <th>Full Time Employees</th>\n",
       "      <th>Market Cap</th>\n",
       "      <th>Fiscal Year Ends</th>\n",
       "      <th>Revenue</th>\n",
       "      <th>EBITDA</th>\n",
       "    </tr>\n",
       "  </thead>\n",
       "  <tbody>\n",
       "    <tr>\n",
       "      <th>0</th>\n",
       "      <td>Public</td>\n",
       "      <td>17.13</td>\n",
       "      <td>N/A</td>\n",
       "      <td>Technology</td>\n",
       "      <td>Information Technology Services</td>\n",
       "      <td>317240</td>\n",
       "      <td>71729012736</td>\n",
       "      <td>N/A</td>\n",
       "      <td>18562000896</td>\n",
       "      <td>4206000128</td>\n",
       "    </tr>\n",
       "  </tbody>\n",
       "</table>\n",
       "</div>"
      ],
      "text/plain": [
       "  Public/Private  Previous Close 52 Week Range      Sector  \\\n",
       "0         Public           17.13           N/A  Technology   \n",
       "\n",
       "                          Industry  Full Time Employees   Market Cap  \\\n",
       "0  Information Technology Services               317240  71729012736   \n",
       "\n",
       "  Fiscal Year Ends      Revenue      EBITDA  \n",
       "0              N/A  18562000896  4206000128  "
      ]
     },
     "execution_count": 17,
     "metadata": {},
     "output_type": "execute_result"
    }
   ],
   "source": [
    "comp_dict = json.loads(company_json)\n",
    "\n",
    "pd.DataFrame(comp_dict, index=[0])\n"
   ]
  },
  {
   "cell_type": "code",
   "execution_count": 5,
   "metadata": {},
   "outputs": [
    {
     "name": "stderr",
     "output_type": "stream",
     "text": [
      "404 Client Error: Not Found for url: https://query2.finance.yahoo.com/v10/finance/quoteSummary/KUBRICK%20GROUP?modules=financialData%2CquoteType%2CdefaultKeyStatistics%2CassetProfile%2CsummaryDetail&corsDomain=finance.yahoo.com&formatted=false&symbol=KUBRICK+GROUP&crumb=g7Bc4pxK1.P\n"
     ]
    },
    {
     "data": {
      "text/plain": [
       "'{\"Public/Private\": \"Private\"}'"
      ]
     },
     "execution_count": 5,
     "metadata": {},
     "output_type": "execute_result"
    }
   ],
   "source": [
    "get_company_details('Kubrick Group')"
   ]
  },
  {
   "cell_type": "code",
   "execution_count": 7,
   "metadata": {},
   "outputs": [],
   "source": [
    "import pandas as pd\n",
    "\n"
   ]
  },
  {
   "cell_type": "code",
   "execution_count": 9,
   "metadata": {},
   "outputs": [],
   "source": [
    "df = pd.DataFrame({'col1' : [1,2,3]})"
   ]
  },
  {
   "cell_type": "code",
   "execution_count": 11,
   "metadata": {},
   "outputs": [
    {
     "name": "stdout",
     "output_type": "stream",
     "text": [
      "|    |   col1 |\n",
      "|---:|-------:|\n",
      "|  0 |      1 |\n",
      "|  1 |      2 |\n",
      "|  2 |      3 |\n"
     ]
    }
   ],
   "source": [
    "print(df.to_markdown())"
   ]
  }
 ],
 "metadata": {
  "kernelspec": {
   "display_name": "Python 3",
   "language": "python",
   "name": "python3"
  },
  "language_info": {
   "codemirror_mode": {
    "name": "ipython",
    "version": 3
   },
   "file_extension": ".py",
   "mimetype": "text/x-python",
   "name": "python",
   "nbconvert_exporter": "python",
   "pygments_lexer": "ipython3",
   "version": "3.10.11"
  }
 },
 "nbformat": 4,
 "nbformat_minor": 2
}
