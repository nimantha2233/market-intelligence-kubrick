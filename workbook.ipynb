{
 "cells": [
  {
   "cell_type": "code",
   "execution_count": 3,
   "metadata": {},
   "outputs": [],
   "source": [
    "import pandas as pd\n",
    "import SupportFunctions\n",
    "company_dict = {'company_name':['Capgemini SE', 'AND Digital', 'Dufrain', 'FDM Group (Holdings) Ltd', 'Slalom', 'Tata Consultancy Services Limited', 'Wipro Limited', 'Infosys Limited', 'Credera', 'Infinite Lambda', 'Mesh AI', 'Sparta Global', 'Ten10', 'Fjord Consulting Group', 'BetterGov', 'Cambridge Consultants Limited', 'Capco Limited', 'Cognizant Technology Solutions Corporation', 'IQVIA Holdings Inc', 'Kubrick Group Limited'],\n",
    "        'company_url':['https://www.capgemini.com/','https://www.and.digital/','https://www.dufrain.co.uk/','https://www.fdmgroup.com/','https://www.slalom.com/','https://www.tcs.com','https://www.wipro.com/', 'https://www.infosys.com/', 'https://www.credera.com/en-gb', 'https://infinitelambda.com', 'https://www.mesh-ai.com/', 'https://www.spartaglobal.com', 'https://ten10.com', 'https://fjordconsultinggroup.com', 'https://www.bettergov.co.uk/', 'https://www.cambridgeconsultants.com/', 'https://www.capco.com', 'https://www.cognizant.com', 'https://jobs.iqvia.com/en', 'https://www.kubrickgroup.com'],\n",
    "        'status':['Public','Private','Private','Public','Private','Public','Public', 'Public', 'Private', 'Private', 'Private', 'Private', 'Private', 'Private', 'Private', 'Private', 'Private', 'Public', 'Public', 'Private'],\n",
    "        'ticker':['CAP.PA', '', '', 'FDM.L', '','TCS.BO','WIT', 'INFY', '', '', '', '', '', '', '', '', '', 'CTSH', 'IQV', ''],\n",
    "        'scraper':['scraper_capgemini','scraper_digital','scraper_dufrain','scraper_fdmgroup','scraper_slalom','scraper_tcs','scraper_wipro', 'scraper_infosys', 'scraper_credera', 'scraper_infinitelambda', 'scraper_meshai', 'scraper_spartaglobal', 'scraper_ten10', 'scraper_fjord', 'scraper_bettergov', 'scraper_cambridge', 'scraper_capco', 'scraper_cognizant', 'scraper_iqvia', 'scraper_kubrick']}\n",
    "\n",
    "company_df = pd.DataFrame(company_dict)\n",
    "file_path = r'C:\\Users\\Jack\\Documents\\VS Code\\market-intelligence-kubrick\\Kubrick MI Data.xlsx'\n",
    "excel_file_path = r'C:\\Users\\Jack\\Documents\\VS Code\\market-intelligence-kubrick\\Kubrick MI Diff.xlsx'\n",
    "template_file_path = r'C:\\Users\\Jack\\Documents\\VS Code\\market-intelligence-kubrick\\Template.xlsx'"
   ]
  },
  {
   "cell_type": "code",
   "execution_count": 4,
   "metadata": {},
   "outputs": [
    {
     "name": "stdout",
     "output_type": "stream",
     "text": [
      "Capgemini SE\n"
     ]
    },
    {
     "name": "stderr",
     "output_type": "stream",
     "text": [
      "C:\\Users\\Jack\\AppData\\Local\\Packages\\PythonSoftwareFoundation.Python.3.11_qbz5n2kfra8p0\\LocalCache\\local-packages\\Python311\\site-packages\\openpyxl\\workbook\\child.py:99: UserWarning: Title is more than 31 characters. Some applications may not be able to read the file\n",
      "  warnings.warn(\"Title is more than 31 characters. Some applications may not be able to read the file\")\n",
      "C:\\Users\\Jack\\AppData\\Local\\Packages\\PythonSoftwareFoundation.Python.3.11_qbz5n2kfra8p0\\LocalCache\\local-packages\\Python311\\site-packages\\openpyxl\\workbook\\child.py:99: UserWarning: Title is more than 31 characters. Some applications may not be able to read the file\n",
      "  warnings.warn(\"Title is more than 31 characters. Some applications may not be able to read the file\")\n"
     ]
    },
    {
     "name": "stdout",
     "output_type": "stream",
     "text": [
      "AND Digital\n"
     ]
    },
    {
     "name": "stderr",
     "output_type": "stream",
     "text": [
      "C:\\Users\\Jack\\AppData\\Local\\Packages\\PythonSoftwareFoundation.Python.3.11_qbz5n2kfra8p0\\LocalCache\\local-packages\\Python311\\site-packages\\openpyxl\\workbook\\child.py:99: UserWarning: Title is more than 31 characters. Some applications may not be able to read the file\n",
      "  warnings.warn(\"Title is more than 31 characters. Some applications may not be able to read the file\")\n"
     ]
    },
    {
     "name": "stdout",
     "output_type": "stream",
     "text": [
      "Dufrain\n"
     ]
    },
    {
     "name": "stderr",
     "output_type": "stream",
     "text": [
      "C:\\Users\\Jack\\AppData\\Local\\Packages\\PythonSoftwareFoundation.Python.3.11_qbz5n2kfra8p0\\LocalCache\\local-packages\\Python311\\site-packages\\openpyxl\\workbook\\child.py:99: UserWarning: Title is more than 31 characters. Some applications may not be able to read the file\n",
      "  warnings.warn(\"Title is more than 31 characters. Some applications may not be able to read the file\")\n"
     ]
    },
    {
     "name": "stdout",
     "output_type": "stream",
     "text": [
      "FDM Group (Holdings) Ltd\n"
     ]
    },
    {
     "name": "stderr",
     "output_type": "stream",
     "text": [
      "C:\\Users\\Jack\\AppData\\Local\\Packages\\PythonSoftwareFoundation.Python.3.11_qbz5n2kfra8p0\\LocalCache\\local-packages\\Python311\\site-packages\\openpyxl\\workbook\\child.py:99: UserWarning: Title is more than 31 characters. Some applications may not be able to read the file\n",
      "  warnings.warn(\"Title is more than 31 characters. Some applications may not be able to read the file\")\n"
     ]
    },
    {
     "name": "stdout",
     "output_type": "stream",
     "text": [
      "Slalom\n"
     ]
    },
    {
     "name": "stderr",
     "output_type": "stream",
     "text": [
      "C:\\Users\\Jack\\AppData\\Local\\Packages\\PythonSoftwareFoundation.Python.3.11_qbz5n2kfra8p0\\LocalCache\\local-packages\\Python311\\site-packages\\openpyxl\\workbook\\child.py:99: UserWarning: Title is more than 31 characters. Some applications may not be able to read the file\n",
      "  warnings.warn(\"Title is more than 31 characters. Some applications may not be able to read the file\")\n"
     ]
    },
    {
     "name": "stdout",
     "output_type": "stream",
     "text": [
      "Tata Consultancy Services Limited\n"
     ]
    },
    {
     "name": "stderr",
     "output_type": "stream",
     "text": [
      "C:\\Users\\Jack\\AppData\\Local\\Packages\\PythonSoftwareFoundation.Python.3.11_qbz5n2kfra8p0\\LocalCache\\local-packages\\Python311\\site-packages\\openpyxl\\workbook\\child.py:99: UserWarning: Title is more than 31 characters. Some applications may not be able to read the file\n",
      "  warnings.warn(\"Title is more than 31 characters. Some applications may not be able to read the file\")\n",
      "C:\\Users\\Jack\\AppData\\Local\\Packages\\PythonSoftwareFoundation.Python.3.11_qbz5n2kfra8p0\\LocalCache\\local-packages\\Python311\\site-packages\\openpyxl\\workbook\\child.py:99: UserWarning: Title is more than 31 characters. Some applications may not be able to read the file\n",
      "  warnings.warn(\"Title is more than 31 characters. Some applications may not be able to read the file\")\n"
     ]
    },
    {
     "name": "stdout",
     "output_type": "stream",
     "text": [
      "Wipro Limited\n"
     ]
    },
    {
     "name": "stderr",
     "output_type": "stream",
     "text": [
      "C:\\Users\\Jack\\AppData\\Local\\Packages\\PythonSoftwareFoundation.Python.3.11_qbz5n2kfra8p0\\LocalCache\\local-packages\\Python311\\site-packages\\openpyxl\\workbook\\child.py:99: UserWarning: Title is more than 31 characters. Some applications may not be able to read the file\n",
      "  warnings.warn(\"Title is more than 31 characters. Some applications may not be able to read the file\")\n",
      "C:\\Users\\Jack\\AppData\\Local\\Packages\\PythonSoftwareFoundation.Python.3.11_qbz5n2kfra8p0\\LocalCache\\local-packages\\Python311\\site-packages\\openpyxl\\workbook\\child.py:99: UserWarning: Title is more than 31 characters. Some applications may not be able to read the file\n",
      "  warnings.warn(\"Title is more than 31 characters. Some applications may not be able to read the file\")\n"
     ]
    },
    {
     "name": "stdout",
     "output_type": "stream",
     "text": [
      "Infosys Limited\n"
     ]
    },
    {
     "name": "stderr",
     "output_type": "stream",
     "text": [
      "C:\\Users\\Jack\\AppData\\Local\\Packages\\PythonSoftwareFoundation.Python.3.11_qbz5n2kfra8p0\\LocalCache\\local-packages\\Python311\\site-packages\\openpyxl\\workbook\\child.py:99: UserWarning: Title is more than 31 characters. Some applications may not be able to read the file\n",
      "  warnings.warn(\"Title is more than 31 characters. Some applications may not be able to read the file\")\n",
      "C:\\Users\\Jack\\AppData\\Local\\Packages\\PythonSoftwareFoundation.Python.3.11_qbz5n2kfra8p0\\LocalCache\\local-packages\\Python311\\site-packages\\openpyxl\\workbook\\child.py:99: UserWarning: Title is more than 31 characters. Some applications may not be able to read the file\n",
      "  warnings.warn(\"Title is more than 31 characters. Some applications may not be able to read the file\")\n"
     ]
    },
    {
     "name": "stdout",
     "output_type": "stream",
     "text": [
      "Credera\n"
     ]
    },
    {
     "name": "stderr",
     "output_type": "stream",
     "text": [
      "C:\\Users\\Jack\\AppData\\Local\\Packages\\PythonSoftwareFoundation.Python.3.11_qbz5n2kfra8p0\\LocalCache\\local-packages\\Python311\\site-packages\\openpyxl\\workbook\\child.py:99: UserWarning: Title is more than 31 characters. Some applications may not be able to read the file\n",
      "  warnings.warn(\"Title is more than 31 characters. Some applications may not be able to read the file\")\n"
     ]
    },
    {
     "name": "stdout",
     "output_type": "stream",
     "text": [
      "Infinite Lambda\n"
     ]
    },
    {
     "name": "stderr",
     "output_type": "stream",
     "text": [
      "C:\\Users\\Jack\\AppData\\Local\\Packages\\PythonSoftwareFoundation.Python.3.11_qbz5n2kfra8p0\\LocalCache\\local-packages\\Python311\\site-packages\\openpyxl\\workbook\\child.py:99: UserWarning: Title is more than 31 characters. Some applications may not be able to read the file\n",
      "  warnings.warn(\"Title is more than 31 characters. Some applications may not be able to read the file\")\n"
     ]
    },
    {
     "name": "stdout",
     "output_type": "stream",
     "text": [
      "Mesh AI\n"
     ]
    },
    {
     "name": "stderr",
     "output_type": "stream",
     "text": [
      "C:\\Users\\Jack\\AppData\\Local\\Packages\\PythonSoftwareFoundation.Python.3.11_qbz5n2kfra8p0\\LocalCache\\local-packages\\Python311\\site-packages\\openpyxl\\workbook\\child.py:99: UserWarning: Title is more than 31 characters. Some applications may not be able to read the file\n",
      "  warnings.warn(\"Title is more than 31 characters. Some applications may not be able to read the file\")\n"
     ]
    },
    {
     "name": "stdout",
     "output_type": "stream",
     "text": [
      "Sparta Global\n"
     ]
    },
    {
     "name": "stderr",
     "output_type": "stream",
     "text": [
      "C:\\Users\\Jack\\AppData\\Local\\Packages\\PythonSoftwareFoundation.Python.3.11_qbz5n2kfra8p0\\LocalCache\\local-packages\\Python311\\site-packages\\openpyxl\\workbook\\child.py:99: UserWarning: Title is more than 31 characters. Some applications may not be able to read the file\n",
      "  warnings.warn(\"Title is more than 31 characters. Some applications may not be able to read the file\")\n"
     ]
    },
    {
     "name": "stdout",
     "output_type": "stream",
     "text": [
      "Ten10\n"
     ]
    },
    {
     "name": "stderr",
     "output_type": "stream",
     "text": [
      "C:\\Users\\Jack\\AppData\\Local\\Packages\\PythonSoftwareFoundation.Python.3.11_qbz5n2kfra8p0\\LocalCache\\local-packages\\Python311\\site-packages\\openpyxl\\workbook\\child.py:99: UserWarning: Title is more than 31 characters. Some applications may not be able to read the file\n",
      "  warnings.warn(\"Title is more than 31 characters. Some applications may not be able to read the file\")\n"
     ]
    },
    {
     "name": "stdout",
     "output_type": "stream",
     "text": [
      "Fjord Consulting Group\n"
     ]
    },
    {
     "name": "stderr",
     "output_type": "stream",
     "text": [
      "C:\\Users\\Jack\\AppData\\Local\\Packages\\PythonSoftwareFoundation.Python.3.11_qbz5n2kfra8p0\\LocalCache\\local-packages\\Python311\\site-packages\\openpyxl\\workbook\\child.py:99: UserWarning: Title is more than 31 characters. Some applications may not be able to read the file\n",
      "  warnings.warn(\"Title is more than 31 characters. Some applications may not be able to read the file\")\n"
     ]
    },
    {
     "name": "stdout",
     "output_type": "stream",
     "text": [
      "BetterGov\n"
     ]
    },
    {
     "name": "stderr",
     "output_type": "stream",
     "text": [
      "C:\\Users\\Jack\\AppData\\Local\\Packages\\PythonSoftwareFoundation.Python.3.11_qbz5n2kfra8p0\\LocalCache\\local-packages\\Python311\\site-packages\\openpyxl\\workbook\\child.py:99: UserWarning: Title is more than 31 characters. Some applications may not be able to read the file\n",
      "  warnings.warn(\"Title is more than 31 characters. Some applications may not be able to read the file\")\n"
     ]
    },
    {
     "name": "stdout",
     "output_type": "stream",
     "text": [
      "Cambridge Consultants Limited\n"
     ]
    },
    {
     "name": "stderr",
     "output_type": "stream",
     "text": [
      "C:\\Users\\Jack\\AppData\\Local\\Packages\\PythonSoftwareFoundation.Python.3.11_qbz5n2kfra8p0\\LocalCache\\local-packages\\Python311\\site-packages\\openpyxl\\workbook\\child.py:99: UserWarning: Title is more than 31 characters. Some applications may not be able to read the file\n",
      "  warnings.warn(\"Title is more than 31 characters. Some applications may not be able to read the file\")\n"
     ]
    },
    {
     "name": "stdout",
     "output_type": "stream",
     "text": [
      "Capco Limited\n"
     ]
    },
    {
     "name": "stderr",
     "output_type": "stream",
     "text": [
      "C:\\Users\\Jack\\AppData\\Local\\Packages\\PythonSoftwareFoundation.Python.3.11_qbz5n2kfra8p0\\LocalCache\\local-packages\\Python311\\site-packages\\openpyxl\\workbook\\child.py:99: UserWarning: Title is more than 31 characters. Some applications may not be able to read the file\n",
      "  warnings.warn(\"Title is more than 31 characters. Some applications may not be able to read the file\")\n"
     ]
    },
    {
     "name": "stdout",
     "output_type": "stream",
     "text": [
      "Cognizant Technology Solutions Corporation\n"
     ]
    },
    {
     "name": "stderr",
     "output_type": "stream",
     "text": [
      "C:\\Users\\Jack\\AppData\\Local\\Packages\\PythonSoftwareFoundation.Python.3.11_qbz5n2kfra8p0\\LocalCache\\local-packages\\Python311\\site-packages\\openpyxl\\workbook\\child.py:99: UserWarning: Title is more than 31 characters. Some applications may not be able to read the file\n",
      "  warnings.warn(\"Title is more than 31 characters. Some applications may not be able to read the file\")\n",
      "C:\\Users\\Jack\\AppData\\Local\\Packages\\PythonSoftwareFoundation.Python.3.11_qbz5n2kfra8p0\\LocalCache\\local-packages\\Python311\\site-packages\\openpyxl\\workbook\\child.py:99: UserWarning: Title is more than 31 characters. Some applications may not be able to read the file\n",
      "  warnings.warn(\"Title is more than 31 characters. Some applications may not be able to read the file\")\n"
     ]
    },
    {
     "name": "stdout",
     "output_type": "stream",
     "text": [
      "IQVIA Holdings Inc\n"
     ]
    },
    {
     "name": "stderr",
     "output_type": "stream",
     "text": [
      "C:\\Users\\Jack\\AppData\\Local\\Packages\\PythonSoftwareFoundation.Python.3.11_qbz5n2kfra8p0\\LocalCache\\local-packages\\Python311\\site-packages\\openpyxl\\workbook\\child.py:99: UserWarning: Title is more than 31 characters. Some applications may not be able to read the file\n",
      "  warnings.warn(\"Title is more than 31 characters. Some applications may not be able to read the file\")\n",
      "C:\\Users\\Jack\\AppData\\Local\\Packages\\PythonSoftwareFoundation.Python.3.11_qbz5n2kfra8p0\\LocalCache\\local-packages\\Python311\\site-packages\\openpyxl\\workbook\\child.py:99: UserWarning: Title is more than 31 characters. Some applications may not be able to read the file\n",
      "  warnings.warn(\"Title is more than 31 characters. Some applications may not be able to read the file\")\n"
     ]
    },
    {
     "name": "stdout",
     "output_type": "stream",
     "text": [
      "Kubrick Group Limited\n"
     ]
    },
    {
     "name": "stderr",
     "output_type": "stream",
     "text": [
      "C:\\Users\\Jack\\AppData\\Local\\Packages\\PythonSoftwareFoundation.Python.3.11_qbz5n2kfra8p0\\LocalCache\\local-packages\\Python311\\site-packages\\openpyxl\\workbook\\child.py:99: UserWarning: Title is more than 31 characters. Some applications may not be able to read the file\n",
      "  warnings.warn(\"Title is more than 31 characters. Some applications may not be able to read the file\")\n"
     ]
    }
   ],
   "source": [
    "for company_name in company_dict['company_name']:\n",
    "    print(company_name)\n",
    "    company_url, scraper, status, ticker = SupportFunctions.get_company_metadata(company_name, company_df)\n",
    "\n",
    "    scraped_data = SupportFunctions.get_scraped_company_data(scraper)\n",
    "    yahoo_json = SupportFunctions.get_company_details2(status, ticker)\n",
    "    final_df = SupportFunctions.create_final_df2(company_name, company_url, status, yahoo_json, scraped_data, template_file_path)\n",
    "\n",
    "    old_df = SupportFunctions.read_from_excel(file_path, company_name, template_file_path)\n",
    "\n",
    "    SupportFunctions.log_new_and_modified_rows2(final_df, old_df, company_name, excel_file_path)\n",
    "    SupportFunctions.write_to_excel(final_df, file_path, company_name)\n",
    "\n",
    "    price_report_data=SupportFunctions.get_company_info_pricereport(company_name, ticker, file_path)\n",
    "    SupportFunctions.update_excel(price_report_data, file_path)"
   ]
  },
  {
   "cell_type": "code",
   "execution_count": 78,
   "metadata": {},
   "outputs": [
    {
     "data": {
      "text/html": [
       "<div>\n",
       "<style scoped>\n",
       "    .dataframe tbody tr th:only-of-type {\n",
       "        vertical-align: middle;\n",
       "    }\n",
       "\n",
       "    .dataframe tbody tr th {\n",
       "        vertical-align: top;\n",
       "    }\n",
       "\n",
       "    .dataframe thead th {\n",
       "        text-align: right;\n",
       "    }\n",
       "</style>\n",
       "<table border=\"1\" class=\"dataframe\">\n",
       "  <thead>\n",
       "    <tr style=\"text-align: right;\">\n",
       "      <th></th>\n",
       "      <th>Status</th>\n",
       "      <th>Date of Collection</th>\n",
       "      <th>Company Name</th>\n",
       "      <th>Website_URL</th>\n",
       "      <th>Public/Private</th>\n",
       "      <th>Practices</th>\n",
       "      <th>Practices_URL</th>\n",
       "      <th>Services</th>\n",
       "      <th>Services_URL</th>\n",
       "      <th>Solutions</th>\n",
       "      <th>...</th>\n",
       "      <th>Potential Threats</th>\n",
       "      <th>Long-term Strategy</th>\n",
       "      <th>Recent Activities</th>\n",
       "      <th>Market Responsiveness</th>\n",
       "      <th>Key Executives</th>\n",
       "      <th>Company Culture</th>\n",
       "      <th>Compliance Requirements</th>\n",
       "      <th>Legal Issues/Pending Litigations</th>\n",
       "      <th>Environmental Impact</th>\n",
       "      <th>Social Initiatives</th>\n",
       "    </tr>\n",
       "  </thead>\n",
       "  <tbody>\n",
       "  </tbody>\n",
       "</table>\n",
       "<p>0 rows × 53 columns</p>\n",
       "</div>"
      ],
      "text/plain": [
       "Empty DataFrame\n",
       "Columns: [Status, Date of Collection, Company Name, Website_URL, Public/Private, Practices, Practices_URL, Services, Services_URL, Solutions, Solutions_URL, Previous Close, 52 Week Range, Sector, Industry, Full Time Employees, Market Cap, Fiscal Year Ends, Revenue, EBITDA, Company NPS, Company Glassdoor, MI Summary, Competitive Threat Level, Market Share, Pricing Strategy, Target Market_1, Target Market_2, Channels-to-Market_1 (Social Media), Channels-to-Market_2 (Sales), Channels-to-Market_3 (Promotions/Sponsorship), Market Differentiation (USP), Revenue Trends, Profitability, Growth Rate, Revenue per Employee, Customer Satisfaction, Reviews & Ratings, Customer Complaints, Innovation, Tech Advancements, Patents & Intellectual Property, Emerging Trends, Potential Threats, Long-term Strategy, Recent Activities, Market Responsiveness, Key Executives, Company Culture, Compliance Requirements, Legal Issues/Pending Litigations, Environmental Impact, Social Initiatives]\n",
       "Index: []\n",
       "\n",
       "[0 rows x 53 columns]"
      ]
     },
     "execution_count": 78,
     "metadata": {},
     "output_type": "execute_result"
    }
   ],
   "source": [
    "df1 = final_df.copy()\n",
    "df2 = old_df.copy()\n",
    "\n",
    "cols = list(df1.columns)\n",
    "for column in cols:\n",
    "    df1[column] = df1[column].astype(str)\n",
    "\n",
    "df1['Status'] = 'Added'\n",
    "\n",
    "for column in cols:\n",
    "    df2[column] = df2[column].astype(str)\n",
    "\n",
    "df2['Status'] = 'Removed'\n",
    "\n",
    "new_df = pd.concat([df1, df2]).reset_index(drop=True)\n",
    "new_df.set_index('Status', inplace=True)\n",
    "new_df['Date of Collection'] = pd.to_datetime(new_df['Date of Collection'])\n",
    "#df = pd.DataFrame(new_df.groupby(cols).value_counts())\n",
    "\n",
    "new_df.drop_duplicates(subset=cols, keep=False,inplace=True)\n",
    "new_df.reset_index(inplace=True)\n",
    "new_df\n",
    "\n"
   ]
  },
  {
   "cell_type": "code",
   "execution_count": 26,
   "metadata": {},
   "outputs": [],
   "source": [
    "from collections import defaultdict\n",
    "import requests\n",
    "from bs4 import BeautifulSoup\n",
    "\n",
    "def clean_url(url, home_url):\n",
    "    if home_url in url:\n",
    "        return url\n",
    "    else:\n",
    "        return home_url + url\n",
    "    \n",
    "def scraper_slalom():\n",
    "    company_dict = defaultdict(list)\n",
    "    home_url = 'https://www.slalom.com'\n",
    "    url = 'https://www.slalom.com/gb/en/services'\n",
    "    r = requests.get(url)\n",
    "\n",
    "    soup = BeautifulSoup(r.content, 'html5lib') # If this line causes an error, run 'pip install html5lib' or install html5lib \n",
    "\n",
    "    table_practises = soup.find('div', attrs = {'id':'services-overview-deaa04af28'})\n",
    "    practises = [row.span.text for row in table_practises.findAll('a', attrs = {'class':'cmp-image__link'})]\n",
    "    links = [clean_url(row.get('href'), home_url) for row in table_practises.findAll('a', attrs = {'class':'cmp-image__link'})]\n",
    "\n",
    "    for i in range(len(practises)):\n",
    "        url = links[i]\n",
    "        r = requests.get(url)\n",
    "        print(url)\n",
    "        soup = BeautifulSoup(r.content, 'html5lib') # If this line causes an error, run 'pip install html5lib' or install html5lib \n",
    "        table_expertise = soup.find('div', attrs = {'id':'expertise'})\n",
    "        expertise = [row.text for row in table_expertise.findAll('h4')]\n",
    "        solution = [row.text for row in table_expertise.findAll('p')]\n",
    "        for j in range(len(expertise)):\n",
    "            company_dict['Practices'].append(practises[i])\n",
    "            company_dict['Practices_URL'].append(url)\n",
    "            company_dict['Services'].append(expertise[j])\n",
    "            company_dict['Services_URL'].append(url)\n",
    "            company_dict['Solutions'].append(solution[j])\n",
    "            company_dict['Solutions_URL'].append(url)\n",
    "\n",
    "    return pd.DataFrame(company_dict)"
   ]
  },
  {
   "cell_type": "code",
   "execution_count": 14,
   "metadata": {},
   "outputs": [
    {
     "data": {
      "text/plain": [
       "{'https://www.partnerbase.com/capgemini-consulting': ['MySQL',\n",
       "  'Hewlett Packard Enterprise',\n",
       "  'Salesforce',\n",
       "  'Amazon Web Services',\n",
       "  'Oracle',\n",
       "  'Google',\n",
       "  'Adobe',\n",
       "  'Microsoft',\n",
       "  'Red Hat',\n",
       "  'VMware',\n",
       "  'Dell',\n",
       "  'Stripe',\n",
       "  'IBM',\n",
       "  'Esri',\n",
       "  'Fortinet',\n",
       "  'Magento',\n",
       "  'SAP',\n",
       "  'SAS',\n",
       "  'Intel',\n",
       "  'Tenable',\n",
       "  'Nutanix',\n",
       "  'ServiceNow',\n",
       "  'Cisco',\n",
       "  'Snowflake',\n",
       "  'Qlik'],\n",
       " 'https://www.partnerbase.com/fdm-group': ['Murex'],\n",
       " 'https://www.partnerbase.com/slalom': ['Salesforce',\n",
       "  'Amazon Web Services',\n",
       "  'Google',\n",
       "  'Adobe',\n",
       "  'Microsoft',\n",
       "  'Facebook',\n",
       "  'Stripe',\n",
       "  'SAS',\n",
       "  'Snowflake',\n",
       "  'Qlik',\n",
       "  'Acquia',\n",
       "  'AgilOne',\n",
       "  'Netsuite',\n",
       "  'Tableau Software',\n",
       "  'Workday',\n",
       "  'Optimizely',\n",
       "  'Looker',\n",
       "  'MuleSoft',\n",
       "  'Docusign',\n",
       "  'Drupal',\n",
       "  'Sitecore',\n",
       "  'Tealium',\n",
       "  'Veeva Systems',\n",
       "  'Box',\n",
       "  'Alteryx'],\n",
       " 'https://www.partnerbase.com/wipro-limited': ['MySQL',\n",
       "  'Hewlett Packard Enterprise',\n",
       "  'Salesforce',\n",
       "  'Amazon Web Services',\n",
       "  'Oracle',\n",
       "  'Google',\n",
       "  'HubSpot',\n",
       "  'Adobe',\n",
       "  'Microsoft',\n",
       "  'Red Hat',\n",
       "  'VMware',\n",
       "  'Dell',\n",
       "  'IBM',\n",
       "  'Esri',\n",
       "  'Fortinet',\n",
       "  'Magento',\n",
       "  'SAP',\n",
       "  'Symantec CloudSOC',\n",
       "  'SAS',\n",
       "  'Intel',\n",
       "  'Tenable',\n",
       "  'Nutanix',\n",
       "  'ServiceNow',\n",
       "  'Cisco',\n",
       "  'Snowflake'],\n",
       " 'https://www.partnerbase.com/tata-consultancy-services-ltd': ['MySQL',\n",
       "  'Hewlett Packard Enterprise',\n",
       "  'Salesforce',\n",
       "  'Amazon Web Services',\n",
       "  'Oracle',\n",
       "  'Google',\n",
       "  'Adobe',\n",
       "  'Microsoft',\n",
       "  'Red Hat',\n",
       "  'VMware',\n",
       "  'Dell',\n",
       "  'IBM',\n",
       "  'Fortinet',\n",
       "  'Magento',\n",
       "  'SAP',\n",
       "  'Symantec CloudSOC',\n",
       "  'SAS',\n",
       "  'Zendesk',\n",
       "  'Nutanix',\n",
       "  'ServiceNow',\n",
       "  'Cisco',\n",
       "  'Snowflake',\n",
       "  'Siemens PLM',\n",
       "  'Qlik',\n",
       "  'Quest Software']}"
      ]
     },
     "execution_count": 14,
     "metadata": {},
     "output_type": "execute_result"
    }
   ],
   "source": [
    "import requests\n",
    "from bs4 import BeautifulSoup\n",
    "company_names = ['Capgemini SE', 'FDM Group (Holdings) Ltd', 'Slalom', 'Tata Consultancy Services Limited', 'Wipro Limited']\n",
    "company_urls = ['https://www.capgemini.com/','https://www.fdmgroup.com/','https://www.slalom.com/','https://www.tcs.com','https://www.wipro.com/']\n",
    "glassdoor_reviews = ['3.8 on Glassdoor (66493 total reviews)','3.2 on Glassdoor (3350 total reviews)','3.9 on Glassdoor (2881 total reviews)','3.7 on Glassdoor (136742 total reviews)','3.7 on Glassdoor (57510 total reviews)']\n",
    "consultancy_rates = ['£312 a unit a day','£290 to £600 a unit a day','£636 to £1,938 a unit a day','£127 a unit a day','£120 to £1,300 a unit a day']\n",
    "my_dict = {}\n",
    "for url in ['https://www.partnerbase.com/capgemini-consulting','https://www.partnerbase.com/fdm-group','https://www.partnerbase.com/slalom','https://www.partnerbase.com/wipro-limited','https://www.partnerbase.com/tata-consultancy-services-ltd']:\n",
    "    r = requests.get(url)\n",
    "    soup = BeautifulSoup(r.content, 'html5lib') # If this line causes an error, run 'pip install html5lib' or install html5lib \n",
    "    table_partners = soup.findAll('td', attrs = {'class':'c-partnerships-table__company-cell'})\n",
    "    my_dict[url] = [partner.text.replace('  View Company ', '') for partner in table_partners]\n"
   ]
  },
  {
   "cell_type": "code",
   "execution_count": 48,
   "metadata": {},
   "outputs": [],
   "source": [
    "\n",
    "def company_intel_table(df, company_name, url, file_path=\"kubrick_mi_company_intel.csv\"):\n",
    "    import os\n",
    "    from datetime import datetime\n",
    "    from collections import defaultdict\n",
    "    if not os.path.exists(file_path):\n",
    "        empty_df = pd.DataFrame(columns=['Date Collected', 'Company Name', 'URL', 'Practice Ecosystems (Data, AI etc)', \n",
    "                                         'Practice List (delimited)', 'Training Program Duration', 'Tech Partnerships',\n",
    "                                         'Anecdotal Views of Quality', 'Consultant Pricing'])  # Assuming these are your column names\n",
    "        empty_df.to_csv(file_path, index=False)\n",
    "\n",
    "    #try:\n",
    "    data = pd.read_csv(file_path, encoding='utf-8')\n",
    "    #except UnicodeDecodeError:\n",
    "    #    data = pd.read_csv(file_path, encoding='ISO-8859-1')\n",
    "\n",
    "    data_as_dict = defaultdict(list)\n",
    "\n",
    "    company_names_column = data.iloc[:, 1]\n",
    "    company_exists = company_name in company_names_column.values\n",
    "\n",
    "    data_as_dict[\"Date Collected\"].append(datetime.now().strftime(\"%Y-%m-%d\"))\n",
    "    data_as_dict[\"Company Name\"].append(company_name)\n",
    "    data_as_dict[\"URL\"].append(url)\n",
    "\n",
    "    col_list = ['Practices', 'Services', 'Solutions']\n",
    "    col_list2 = ['Practices', 'Services', 'Solutions']\n",
    "    ecosystems_list = []\n",
    "    practices_list = []\n",
    "    \n",
    "    for column in col_list:\n",
    "        col_list2.pop(0)\n",
    "        set1 = set({data for data in df[column] if data != f'No {column} Data Available'})\n",
    "        if set1 != set():\n",
    "            ecosystems_list = list(set1)\n",
    "            break\n",
    "\n",
    "    for column in col_list2:\n",
    "        set2 = set({data for data in df[column] if data != f'No {column} Data Available'})\n",
    "        print(set2)\n",
    "        if set2 != set():\n",
    "            practices_list = list(set2)\n",
    "            break\n",
    "\n",
    "    data_as_dict[\"Practice Ecosystems (Data, AI etc)\"].append(ecosystems_list)\n",
    "    data_as_dict[\"Practice List (delimited)\"].append(practices_list)\n",
    "\n",
    "    training_duration_index = data.columns.get_loc(\"Training Program Duration\")\n",
    "\n",
    "    if company_exists:\n",
    "\n",
    "        company_index = company_names_column[company_names_column == company_name].index[0]\n",
    "\n",
    "        for col in data.columns[training_duration_index:]:\n",
    "            data_as_dict[col].append(data.at[company_index, col])\n",
    "        \n",
    "        for key, value in data_as_dict.items():\n",
    "            data.at[company_index, key] = value[0]\n",
    "        \n",
    "    else:\n",
    "        for col in data.columns[training_duration_index:]:\n",
    "            if col not in data_as_dict:\n",
    "                data_as_dict[col].append(\"To be completed manually\")\n",
    "        \n",
    "        new_data = pd.DataFrame(data_as_dict)\n",
    "        data = pd.concat([data, new_data], ignore_index=True)\n",
    "    \n",
    "    data.dropna(inplace=True)\n",
    "    data.reset_index(drop=True, inplace=True)\n",
    "    data.to_csv(file_path, index=False, encoding='utf-8')\n",
    "    return data"
   ]
  },
  {
   "cell_type": "code",
   "execution_count": 49,
   "metadata": {},
   "outputs": [
    {
     "name": "stdout",
     "output_type": "stream",
     "text": [
      "Capgemini SE\n",
      "{'Defend', 'Sustainability strategy and governance', 'Cloud for customer first', 'Enterprise service management', 'Intelligent operations', 'Customer experience', 'Application development and management', 'Enterprise transformation', 'Intelligent products and services', 'Sustainable operations', 'Cloud for enterprise management', 'Sap Customer Experience (cx)', 'Enterprise Sustainability Proposition', 'Define', 'Transform your organisation', 'Continuous business reinvention', 'Capgemini is platinum sponsor of the railway industry association’s innovation conference 2023', 'Sustainable technology', 'Get the data-powered advantage', 'Sustainable products', 'Protect', 'ESG management and reporting', 'Intelligent business operations', 'Cloud for intelligent industry', 'Digital core', 'People experience', 'Generative AI', 'Commit', 'Accelerate your industry'}\n",
      "AND Digital\n",
      "{'Solution architecture', 'LLM & NLP training', 'Platform engineering', 'Mobile app development (native & hybrid)', 'Cloud automation', 'User story creation', 'Machine learning', 'Cloud strategy', 'Content design', 'AI governance & security', 'User research', 'Data insights that drive action', 'Coding assistance', 'API & middleware development', 'Quality assurance', 'Agile data product development', 'Delivery', 'Mobile app interface design & build', 'Data', 'User experience prototyping', 'Performance engineering', 'Cloud security', 'Enablement', 'Propositions', 'Prototyping & design', 'Solution architecture & microservices', 'Efficiency', 'AI prototyping & proofs of concept', 'User interface design & build', 'Engineering data platforms for growth', 'Cloud migration', 'E-commerce', 'Mobile app prototyping & design', 'Service design', 'AI use case development', 'Business case development', 'Product-oriented ways of working', 'Websites & web apps', 'Customer & user testing', 'Data-driven strategy & transformation'}\n",
      "Dufrain\n",
      "set()\n",
      "{'Data Governance Solutions', 'Data Migration Services', 'Inference and Advanced Analytics in AWS', 'Data Warehousing Solutions', 'Data Capability Assessment', 'Architecture', 'Data Strategy Consulting Solutions', 'Data Quality Management Solutions', 'Regulatory Projects', 'Automated Reporting in Azure', 'Data Strategy', 'Data Dashboards & Visualisations', 'Data Pipelines', 'Data Engineering', 'Data Driven Culture', 'BI Analytics', 'Big Data Storage Solutions', 'Cloud Data Engineering Services', 'Analytics Maturity Assessment', 'Data Architecture Consulting Services', 'BI Reporting Tool Implementation', 'SaS Training'}\n",
      "FDM Group (Holdings) Ltd\n",
      "{'Anti-Financial Crime', 'Technical Operations & Security Operations \\xa0', 'Data Governance', 'Business Intelligence', 'Quality Control & Assurance\\xa0', 'Data Science', 'SRE', 'Portfolio, Programme & Project Management', 'Business Analysis', 'DevOps', 'Management', 'Development', 'Data Engineering', 'AWS', 'Change Management', 'Cloud Engineering', 'Operational Domain Holistic Analysis', 'Product Management', 'PMO', 'Risk Domain SME', 'Regulatory Change Management', 'Agile Delivery', 'Software testing'}\n",
      "Slalom\n",
      "{'Supply chain, manufacturing & procurement', 'Innovation & emerging technology strategy ', 'Data engineering & machine learning ', 'Product management ', 'Infrastructure', 'Optimization', 'Advertising & marketing transformation ', 'Strategy & impact tracking\\u202f', 'Business strategy', 'Talent development & learning', 'Mergers & acquisitions', 'Brand strategy', 'Business applications', 'Migration & modernization', 'Engineering & architecture', 'Customer applications', 'Data privacy', 'Machine learning ', 'Governance, risk & compliance', 'Technology strategy ', 'Lean portfolio management ', 'Security', 'ESG digital transformation\\u202f', 'Integration', 'Customer & employee experience ', 'Management & governance', 'Product strategy, design & innovation ', ' Change management', 'Operating model design', 'Agile delivery & coaching ', 'Generative AI ', 'Process improvement', 'Culture transformation', 'Business transformation', 'Platform engineering ', 'Contact center transformation', 'Literacy & analytics', 'Service design', 'Intelligent products ', 'Project & program management', 'Risk & governance\\u202f', ' Customer strategy', 'Product engineering ', 'Value chain decarbonization', 'Data strategy'}\n",
      "Tata Consultancy Services Limited\n",
      "{'No Services'}\n",
      "Wipro Limited\n",
      "{'Cloud Business Applications', 'Adobe', 'Banking', 'Integration', 'Consumer Packaged Good', 'Zuora', 'Pega', 'Wipro Digital Experience Platform', 'Life Sciences', 'Utilities', 'Healthcare', 'Digitalization and Automation', 'Supply Chain Management \\n  ', 'Next–Gen Application Management Services', 'Application Simplification', 'Digital Experience', 'Retail', 'Energy', 'Finance & Accounting \\n  ', 'Telecom'}\n",
      "Infosys Limited\n",
      "{'Enterprise Agile', 'Ariba', 'Infosys Superbot', 'Energy Transition', 'Infosys Supply Chain Intelligence Cloud', 'Realize the vision of Autonomous Operations with Infosys Data Operations Workbench', 'Infosys Employee Experience Solution', 'Infosys Transformer Model', 'Qualtrics', 'FinXEdge', 'Re-imagine the Platform', 'REF-OR-M Solution for Facility Management as a Service', 'After Market Services and MRO Operations', 'Smart Fault Tree', 'Infosys Simplified Supply Planning', 'Intelligent RPA', 'Infosys REF-OR-M Smart Spaces solutions', 'Retail KPI Dashboard', 'Intelligent Supply Chain Planning: Blue Yonder Solution', 'Integrated Workplace Management: IBM Tririga', 'Real time data insight, ingestion and intelligence acceleration', 'SAP SuccessFactors', 'Infosys Language Neutralization', 'Infosys Cobalt', 'Infosys Information Grid', 'Test Data Management', 'REF-OR-M Solution for Smart Living', 'Digital Adoption & Learning', 'Sustainable Transportation', 'Infosys Supply Chain Distributed Application', 'Sygnia', 'Infosys Blockchain Testing Framework', 'Infosys Workplace Suite', 'Industrial Manufacturing: Robotic Automation', 'Accelerating Fluidity with Low Code', 'Oracle EPM Cloud', 'Oracle JD Edwards', 'Intelligent Applications', 'Agile / DevOps Testing', 'Finacle Digital Banking Solution', 'AI driven Automation Life Sciences', 'Mainframe Modernization', 'Infosys Pharma Manufacturing Insights', 'Enterprise Resource Planning', 'Cognitive Solutions', 'Retail Cloud Transformation by Infosys and Oracle', 'Infosys Polycloud Platform', 'Eco-o-Capture', 'Emerging Technologies', 'REF-OR-M Solution for Housing Management', 'Infosys 5G and Network Engineering Services', 'Supply Chain & Operations', 'Infosys Snowflake Offerings', 'REF-OR-M Modern CX for Airlines Solution', 'Infosys Value Management', 'Professional Services: Smart Contracts', 'Pega', 'Ambient Intelligence', 'Infosys AIOps Insights', 'Leads and Proposals Solution', 'Managed Security Services', 'Infosys Quantum Living Labs', 'Infosys Manufacturing Execution Systems', 'Infosys API Marketplace', 'Infosys Field Service Management', 'Contact Center Services', 'Infosys Logistics Industry Solution', 'Cloud Data', 'Data for Digital', 'Infosys Digital Sustainability', 'Data & Analytics', 'Infosys Application Modernization Platform', 'REF-OR-M Solution – Smart Hospitals', 'REF-OR-M Solution for Modern CX', 'Digital Agriculture', 'Edge Suite', 'SAFE Security', 'Infosys AI Testing Platform', 'Infosys SmartMove – Dynamics AX Upgrade Solution', 'Hybrid Workplace', 'Infosys Cobalt Cloud Community', 'Cloud Migration and Modernization', 'REF-OR-M Solution for Smart Retail on Microsoft Dynamics 365', 'Infosys REF-OR-M Supplier Connect Solution', 'Customer Experience Validation', 'Infosys Live Enterprise with SAP', 'AI in Testing', 'AI Consulting', 'Low-code No-code Applications Testing services', 'Return to Workplace', 'Travel & Hospitality: Customer Self-Service', 'Infrastructure Security', 'Agency Relationship Management Solution', 'Employee Experience', 'Automation', 'SAP on Google Cloud', 'Industrial Manufacturing: Cognitive Computing', 'Infosys Loan Calculators', 'Saviynt', 'Infosys Applied AI', 'Infosys DigiTran', 'Infosys Digital Telecom CRM Solution', 'Talent, Governance and Ethics', 'Oracle Logistics Cloud', 'Palo Alto Networks', 'Infosys NIA', 'Infosys Life Sciences Commercial Insights Platform', 'Cyber Advisory', 'Infosys SIEBEL2D365CRM Solution', 'REF-OR-M Personalized Healthcare Solution', 'Infosys Store Modernization Solution', 'Oracle HCM Cloud', 'Threat Detection and Response', 'Technology Consulting', 'Contact Center and Unified Communication Services', 'Infosys Extended Store', 'Green Building and Smart Spaces', 'Next-Gen Omni Order Management Solution- Extensible Pre-configured Omni Channel Hub', 'Living Labs', 'Infosys Pharma Supply Chain Distributed Application', 'Applied AI Maturity Assessment', 'Automotive: Connected Vehicles', 'Google Analytics offerings', 'Oracle CX Cloud', 'Microsoft', 'Internet of Things (IoT)', 'Redshift migration with AWS', 'Infosys Blockchain Assessment Framework', 'Infosys AI Maturity Assessment Framework', 'Infosys Smart Move – Dynamics NAV Upgrade Solution', 'AI & Automation', 'Responsible AI', 'B2B and EDI Modernization with Integrate Plus for Azure', 'Microsoft Digital Workplace Services', 'Listening Post-as-a-Service', 'Infosys SAP Modernization Solution', 'SAP Analytics', 'Cloud Security', 'Infosys Gen AI Living Labs', 'Change Management', 'Agile and Devops', 'Mining: AI Driven Automation', 'Digital Marketing', 'Dynamics Oil Field Services Solution', 'REF-OR-M Solution – Modern CX for Insurance', 'REF-OR-M Solution for Connected Field Service Management', 'Infosys Digital Brain', 'Data Privacy and Protection', 'Governance, Risk and Compliance', 'Azure Services', 'REF-OR-M Solution for Modern CX in Banking', 'Cloud Testing', 'Secure Access Service Edge', 'Domain Consulting', 'Oracle ERP Cloud', 'Infosys Healthcare \"Provider Data Management\" Distributed Application', 'Infosys Copilot ReadyAssist', 'Infosys Living Labs', 'Zscaler Security Solution', 'Infosys BASE – Big and Smart Ecosystem', 'High Technology: AI & Blockchain', 'Human Resource Service Delivery', 'Experience', 'Infosys Return to Workplace', 'Eco Watch Sustainability Solutions Across Industries', 'Industrialized Cloud Native Development with PaaS Platforms', 'NextGen Application Management Services', 'AWS Topaz', 'Infosys Energy Management Solution', 'Infosys Data and Analytics Platform', 'Application Development', 'Procurement Cost Automation Solution', 'Utilities: Enterprise Analytics', 'REF-OR-M for Smart Telecom Retail Solution', 'Infosys Insurance Distributed Application', 'Infosys Contract Management Solution', 'REF-OR-M EduSmart Solution', 'Store Onboarding App', 'ARIS', 'Infosys Immersive Workspaces', 'Infosys Health Insights Platform', 'API / Service / Microservice Testing', 'Infosys Genome', 'Infosys HELIX', 'Business Spend Management – Coupa', 'API Speed Layer for agility in digital data, propositions and moments', 'Infosys Transformer Models', 'Business Intelligence and Analytics', 'Infosys XR Platform', 'Infosys CarePlus, a preventive care-as-a-service platform', 'Infosys Cognitive Automation Studio', 'Practical Sustainability', 'Media Services', 'Omni- channel Commerce', 'Inventory Management', 'Modern Endpoints', 'Demand Forecasting Solution', 'Infosys Code Coverage Manager', 'Infosys Helix', 'Infosys Channel Partner Solution', 'Renewables and Storage', 'Next generation integration for Hyper-Agile, cloud-scale connectivity', 'Cloud FinOps', 'Infosys Revenue Management Platform for Banking', 'TradeEdge', 'Infosys Live Supply Chain Innovation Hub', 'Infosys ValuePLUS for SAP Application Management Service', 'CuOne for Insurance', 'Infosys X-PACT - eXperience Platform Analyzer and Controller Tool', 'Connected Workspaces', 'Low-code/No-code', 'Infosys Discrete Manufacturing Solution', 'Legacy Modernization', 'Smart Asset Management with IBM Maximo', 'Infosys Complaints Management', 'Smart Procurement with SAP Ariba', '5G and Metaverse Services', 'Infosys Government Services Distributed Application', 'Supply Chain Management', 'Infosys REF-OR-M LendRight Solution', 'Infosys Data Operations Workbench', 'Infosys Data Wizard Solution', 'Infosys Powerhouse – CoE Governance', 'Modern Endpoint & Device Management', 'Infosys Analytics Workbench', 'AIOps', 'Travel & Hospitality: Aircraft Maintenance', 'Infosys Cognitive Email Workbench', 'CRM and Customer Experience', 'Infosys Microservices Acceleration Platform', 'Infosys Quality Engineering Platform', 'Re-imagine the Processes', 'Identity and Access Management', 'SRE Testing', 'Testing as a Service (TaaS)', 'Infosys Patient Care Solution', 'Quality Engineering and Process Consulting', 'Infosys Data Analytics', 'Digital Interactions', 'Aerospace & Defense: Robotic Automation', 'Infosys Quantum Computing', 'Experience Transformation & Innovation (XTI)', 'Talent & Organization', 'Infosys Live Enterprise Application Management Platform', 'Service Integration and Management', 'Re-imagine the Experience', 'Mobility Testing', 'Digital Twin Services', 'Intelligent Supply Chain Planning', 'Infosys Meridian', 'Infosys Site Reliability Engineering', 'Software-as-a-Service', 'Infosys Virtual Living Labs', 'Celonis', 'Infosys Genome Powered Experience for Adobe Cloud (GenExA)', 'SAP BO to Power BI', 'Supply Chain Optimization', 'Open Source Development and Migration', 'Infosys REF-OR-M SEGWAY SOLUTION', 'Conversational AI Suite', 'REF-OR-M – Smart Campus Solution', 'KRTI 4.0 - AI Framework for Operational Excellence', 'Advanced Omni Channel Fulfillment Powered by IBM Sterling', 'Infosys AI Operations Solution', 'Infosys Quality Assurance Workbench', 'Service Management for Electricity Distributors', 'Net Zero and Sustainability', 'Infosys Smart Solution for Water', 'Infosys Enterprise Service Management Cafe', 'Infosys Supply Chain Early Warning Solution', 'MuleSoft Migration Suite by Infosys', 'Clinical Trial Supply Management Solution', 'Infosys Mainframe Scan', 'REF-OR-M Solution – Citizen Safety Services', 'Infosys SFDC2D365CRM Solution', 'SAP Customer Experience', 'Infosys Salesforce Consumer Goods, Retail and Logistics Offerings', 'High Technology: Cognitive Automation', 'Digital Engagement', 'Aerospace & Defense: Predictive & Cognitive Modeling', 'Infosys Stratos', 'Plant Operation Management', 'ERP & Platforms', 'Transform Revenue Management in Healthcare with Infosys and Oracle', 'Infosys Generative AI', 'Hybrid Cloud Security', 'NextGen DevOps', 'Workplace Service Delivery', 'Infosys Enterprise Agile Consulting', 'Infosys Applied AI Cloud', 'Sustainability Services', 'Infosys Infrastructure Management Suite', 'Infosys REF-OR-M ChargeIT Solution', 'Infosys Digital Foundry', 'B2B Digisure Solution', 'Infosys Blockchain Skills Verification Solution', 'Life Sciences Platforms on AWS', 'Global Inventory Management Platform', 'ESG Intelligence cloud', 'Product Cost Optimization', 'Infosys Accessibility Living Labs', 'Infosys Revenue Management Platform', 'Microsoft Business Applications Services', 'Data and Analytics Testing', 'Robotics and Autonomous Systems', 'Infosys CarePlus', 'Warehouse of the Future: Blue Yonder WMS and Manhattan WMS', 'Carbon Management', 'Store Associate App', 'Open Source', 'Infosys ESG Reporting Solution', 'Infosys Live Enterprise Application Development Platform', 'Data and AI Exchange', 'Continuous Testing Platform for SAP S/4HANA', 'Medical Device Engineering', 'Infosys Business Resilience Testing Services', 'Cyber Next', 'Oil and Gas Rig Remote Equipment Monitoring', 'Configure - Price - Quote (CPQ) Solution in the Digital World', 'Infosys Media Platform', 'SAP New Technology Services', 'SAP on Azure', 'Computer Vision and AI on EDGE', 'Unified Communications and Collaboration Services', 'Modern Collaboration', 'Identity and Endpoint Security', 'Bizagi', 'Infosys DevOps Platform', 'Digital Commerce', 'Infosys Solar Panel Robot Platform', 'AI@Work', 'CPG: Autonomous Supply Chain', 'Appian', 'Infosys Customer Advocacy', 'Blockchain Consulting', 'Oracle IAAS Cloud', 'Value Chain Navigator', 'Telecommunication Industry Solution by Infosys', 'Infosys AgilePro- A smart development platform', 'Infosys Media AI Cloud', 'Adaptive Systems', 'AI powered Smart Insights Solution', 'Microsoft Business & Architectural Consulting Community', 'Infosys AgilePro', 'Infosys applied AI cloud', 'Infosys Identity Management Platform (Blockchain)', 'Public Cloud', 'Drug 360 App', 'Workplace Security', 'Infosys LaborForce', 'ESG for Financial Services', 'Infosys Sandbox Manager', 'Infosys Social Care Solution', 'IBM', 'Infosys Enterprise Service Management Café', 'Infosys applied AI Cloud', 'Hadoop migration with AWS', 'Infosys Engineering Cloud', 'ESG Opportunity', 'REF-OR-M Solution – Modern CX for Utilities', 'REF-OR-M Solution for Procure to Pay', 'REF-OR-M Solution for HR Help-Desk', 'Industrial Manufacturing Solution', 'Digitize end-to-end workflow of communications between Backoffice & Store Associates', 'Infosys Video Analytics', 'S/4HANA', 'Infosys Autonomous Store', 'Infosys Cortex', 'Infosys Omnichannel Intelligence Cloud Solution', 'Oracle PAAS Cloud', 'AI & Automation Services', 'Oracle Analytics Cloud', 'Smart Spaces', 'Digital Collaboration', 'XR Consulting', 'Infosys Vision Analytics Solution', 'Infosys Innovation Network', 'SAP on AWS', 'SnowMirror', 'Next-generation Grid', 'Infosys Document Digitization', 'Infosys Customer Intelligence Platform', 'Infosys Customer Services 360 for Manufacturing', 'Rapidly Implement Infosys FinOps Workbench with AWS Native Services', 'REF-OR-M Eco Watch - Sustainability Solution', 'Predictive Analytics for Logistics', 'Infosys Connected Marketplace', 'REF-OR-M Digital Marketing & CX Solution for Mortgage', 'Data analytics specialization from GCP', 'Infosys Information Grid Solution', 'Connected Device Testing', 'Infosys Wingspan', 'Infosys DevSecOps Platform', 'Explainable AI', 'Private Cloud and Infrastructure', 'AssistEdge Discover', 'Human Capital Management', 'CIO Advisory', 'Infosys Turbomachinery and Propulsion', 'Smart Buildings and Spaces', 'Vulnerability Management', 'Oracle SCM Cloud', 'Infosys Enterprise Cognitive Platform', 'ERP Package Testing'}\n",
      "Credera\n",
      "{'Data architecture', 'Cloud native development', 'User experience strategy', 'Platform engineering', 'AI products', 'Front-end engineering', 'AI models', 'Ecommerce enablement', 'Strategic alignment', 'Innovation strategy', 'Cloud advisory', 'Data products', 'AI strategy', 'Cloud migration & app modernization', 'Cloud data & AI', 'Ecommerce strategy', 'Product management', 'Data democratization', 'Business transformation', 'MarTech enablement', 'Product & service ideation', 'MarTech optimization', 'Operational excellence', 'Product & service incubation', 'Digital design', 'Data analytics', 'AI everywhere', 'Ecommerce optimization', 'MarTech strategy', 'Data strategy'}\n",
      "Infinite Lambda\n",
      "set()\n",
      "set()\n"
     ]
    },
    {
     "ename": "UnboundLocalError",
     "evalue": "cannot access local variable 'practices_list' where it is not associated with a value",
     "output_type": "error",
     "traceback": [
      "\u001b[1;31m---------------------------------------------------------------------------\u001b[0m",
      "\u001b[1;31mUnboundLocalError\u001b[0m                         Traceback (most recent call last)",
      "Cell \u001b[1;32mIn[49], line 8\u001b[0m\n\u001b[0;32m      6\u001b[0m yahoo_json \u001b[38;5;241m=\u001b[39m SupportFunctions\u001b[38;5;241m.\u001b[39mget_company_details2(status, ticker)\n\u001b[0;32m      7\u001b[0m final_df \u001b[38;5;241m=\u001b[39m SupportFunctions\u001b[38;5;241m.\u001b[39mcreate_final_df2(company_name, company_url, status, yahoo_json, scraped_data)\n\u001b[1;32m----> 8\u001b[0m \u001b[43mcompany_intel_table\u001b[49m\u001b[43m(\u001b[49m\u001b[43mfinal_df\u001b[49m\u001b[43m,\u001b[49m\u001b[43m \u001b[49m\u001b[43mcompany_name\u001b[49m\u001b[43m,\u001b[49m\u001b[43m \u001b[49m\u001b[43mcompany_url\u001b[49m\u001b[43m)\u001b[49m\n",
      "Cell \u001b[1;32mIn[48], line 42\u001b[0m, in \u001b[0;36mcompany_intel_table\u001b[1;34m(df, company_name, url, file_path)\u001b[0m\n\u001b[0;32m     39\u001b[0m         \u001b[38;5;28;01mbreak\u001b[39;00m\n\u001b[0;32m     41\u001b[0m data_as_dict[\u001b[38;5;124m\"\u001b[39m\u001b[38;5;124mPractice Ecosystems (Data, AI etc)\u001b[39m\u001b[38;5;124m\"\u001b[39m]\u001b[38;5;241m.\u001b[39mappend(ecosystems_list)\n\u001b[1;32m---> 42\u001b[0m data_as_dict[\u001b[38;5;124m\"\u001b[39m\u001b[38;5;124mPractice List (delimited)\u001b[39m\u001b[38;5;124m\"\u001b[39m]\u001b[38;5;241m.\u001b[39mappend(\u001b[43mpractices_list\u001b[49m)\n\u001b[0;32m     44\u001b[0m training_duration_index \u001b[38;5;241m=\u001b[39m data\u001b[38;5;241m.\u001b[39mcolumns\u001b[38;5;241m.\u001b[39mget_loc(\u001b[38;5;124m\"\u001b[39m\u001b[38;5;124mTraining Program Duration\u001b[39m\u001b[38;5;124m\"\u001b[39m)\n\u001b[0;32m     46\u001b[0m \u001b[38;5;28;01mif\u001b[39;00m company_exists:\n",
      "\u001b[1;31mUnboundLocalError\u001b[0m: cannot access local variable 'practices_list' where it is not associated with a value"
     ]
    }
   ],
   "source": [
    "for company_name in company_dict['company_name']:\n",
    "    print(company_name)\n",
    "    company_url, scraper, status, ticker = SupportFunctions.get_company_metadata(company_name, company_df)\n",
    "\n",
    "    scraped_data = SupportFunctions.get_scraped_company_data(scraper)\n",
    "    yahoo_json = SupportFunctions.get_company_details2(status, ticker)\n",
    "    final_df = SupportFunctions.create_final_df2(company_name, company_url, status, yahoo_json, scraped_data)\n",
    "    company_intel_table(final_df, company_name, company_url)\n"
   ]
  },
  {
   "cell_type": "code",
   "execution_count": 39,
   "metadata": {},
   "outputs": [
    {
     "data": {
      "text/html": [
       "<div>\n",
       "<style scoped>\n",
       "    .dataframe tbody tr th:only-of-type {\n",
       "        vertical-align: middle;\n",
       "    }\n",
       "\n",
       "    .dataframe tbody tr th {\n",
       "        vertical-align: top;\n",
       "    }\n",
       "\n",
       "    .dataframe thead th {\n",
       "        text-align: right;\n",
       "    }\n",
       "</style>\n",
       "<table border=\"1\" class=\"dataframe\">\n",
       "  <thead>\n",
       "    <tr style=\"text-align: right;\">\n",
       "      <th></th>\n",
       "      <th>Date Collected</th>\n",
       "      <th>Company Name</th>\n",
       "      <th>URL</th>\n",
       "      <th>Practice Ecosystems (Data, AI etc)</th>\n",
       "      <th>Practice List (delimited)</th>\n",
       "      <th>Training Program Duration</th>\n",
       "      <th>Tech Partnerships</th>\n",
       "      <th>Anecdotal Views of Quality</th>\n",
       "      <th>Consultant Pricing</th>\n",
       "    </tr>\n",
       "  </thead>\n",
       "  <tbody>\n",
       "    <tr>\n",
       "      <th>0</th>\n",
       "      <td>2024-05-29</td>\n",
       "      <td>Capgemini SE</td>\n",
       "      <td>https://www.capgemini.com/</td>\n",
       "      <td>Cloud, Customer first, Cybersecurity, Data and...</td>\n",
       "      <td>Cloud for enterprise management, Cloud for int...</td>\n",
       "      <td>To be completed manually</td>\n",
       "      <td>To be completed manually</td>\n",
       "      <td>To be completed manually</td>\n",
       "      <td>To be completed manually</td>\n",
       "    </tr>\n",
       "    <tr>\n",
       "      <th>1</th>\n",
       "      <td>2024-05-29</td>\n",
       "      <td>AND Digital</td>\n",
       "      <td>https://www.and.digital/</td>\n",
       "      <td>[Data, Software Engineering, AI &amp; Tools, Consu...</td>\n",
       "      <td>[Data, Software Engineering, AI &amp; Tools, Consu...</td>\n",
       "      <td>To be completed manually</td>\n",
       "      <td>To be completed manually</td>\n",
       "      <td>To be completed manually</td>\n",
       "      <td>To be completed manually</td>\n",
       "    </tr>\n",
       "  </tbody>\n",
       "</table>\n",
       "</div>"
      ],
      "text/plain": [
       "  Date Collected  Company Name                         URL  \\\n",
       "0     2024-05-29  Capgemini SE  https://www.capgemini.com/   \n",
       "1     2024-05-29   AND Digital    https://www.and.digital/   \n",
       "\n",
       "                  Practice Ecosystems (Data, AI etc)  \\\n",
       "0  Cloud, Customer first, Cybersecurity, Data and...   \n",
       "1  [Data, Software Engineering, AI & Tools, Consu...   \n",
       "\n",
       "                           Practice List (delimited)  \\\n",
       "0  Cloud for enterprise management, Cloud for int...   \n",
       "1  [Data, Software Engineering, AI & Tools, Consu...   \n",
       "\n",
       "  Training Program Duration         Tech Partnerships  \\\n",
       "0  To be completed manually  To be completed manually   \n",
       "1  To be completed manually  To be completed manually   \n",
       "\n",
       "  Anecdotal Views of Quality        Consultant Pricing  \n",
       "0   To be completed manually  To be completed manually  \n",
       "1   To be completed manually  To be completed manually  "
      ]
     },
     "execution_count": 39,
     "metadata": {},
     "output_type": "execute_result"
    }
   ],
   "source": [
    "company_intel_table(scraped_data, company_name, company_url)"
   ]
  },
  {
   "cell_type": "code",
   "execution_count": 47,
   "metadata": {},
   "outputs": [
    {
     "data": {
      "text/plain": [
       "set()"
      ]
     },
     "execution_count": 47,
     "metadata": {},
     "output_type": "execute_result"
    }
   ],
   "source": [
    "set()"
   ]
  }
 ],
 "metadata": {
  "kernelspec": {
   "display_name": "Python 3",
   "language": "python",
   "name": "python3"
  },
  "language_info": {
   "codemirror_mode": {
    "name": "ipython",
    "version": 3
   },
   "file_extension": ".py",
   "mimetype": "text/x-python",
   "name": "python",
   "nbconvert_exporter": "python",
   "pygments_lexer": "ipython3",
   "version": "3.11.9"
  }
 },
 "nbformat": 4,
 "nbformat_minor": 2
}
